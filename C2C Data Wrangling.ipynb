{
 "cells": [
  {
   "cell_type": "markdown",
   "metadata": {},
   "source": [
    "# Company 2 Company Business Analytics\n"
   ]
  },
  {
   "cell_type": "markdown",
   "metadata": {},
   "source": [
    "This project will work on a fashion customer-to-customer (C2C) e-commerce platform that\n",
    "enables users to sell products to other users on the platform. The performance of a seller on the\n",
    "platform does not only depend on the user interface of the C2C platform, but it is also a function\n",
    "of the type of products uploaded by the seller, the image quality of the product, its description,\n",
    "customer service and social engagement of sellers (The factors are not limited to those stated).\n",
    "The following insights will be drawn from the available data:\n",
    "• Factors that contribute to sellers being able to generate good sales from the e-commerce\n",
    "platform\n",
    "• What is the typical lifetime value of a customer on the platform?\n",
    "• What is the average retention rate of buyers on the e-commerce platform?\n",
    "• Considering that the platform is situated in France, what is the tendency that other users\n",
    "from other countries will sign up on the platform.\n",
    "• How active are users generally on the e-commerce platform?"
   ]
  },
  {
   "cell_type": "markdown",
   "metadata": {},
   "source": [
    "## Data Wrangling\n",
    "### Steps that will be involved in this data wrangling stage include the following:\n",
    "### 1. Data Collection\n",
    "    * Locating the data\n",
    "    * Data loading\n",
    "    * Data joining\n",
    "2. Data Organization\n",
    "    * File structure\n",
    "    * Git & Github\n",
    "3. Data Definition\n",
    "    * Column names\n",
    "    * Data types (numeric, categorical, timestamp, etc.)\n",
    "    * Description of the columns\n",
    "    * Count or percent per unique values or codes (including NA)\n",
    "    * The range of values or codes\n",
    "4. Data Cleaning\n",
    "    * NA or missing data\n",
    "    * Duplicates"
   ]
  },
  {
   "cell_type": "markdown",
   "metadata": {},
   "source": [
    "### Importing Packages"
   ]
  },
  {
   "cell_type": "code",
   "execution_count": 1,
   "metadata": {},
   "outputs": [],
   "source": [
    "import os\n",
    "import pandas as pd\n",
    "import numpy as np\n",
    "import matplotlib.pyplot as plt\n",
    "import datetime\n",
    "from langdetect import detect, DetectorFactory\n",
    "from textblob import TextBlob\n",
    "from collections import Counter\n",
    "from sklearn.feature_extraction.text import TfidfVectorizer"
   ]
  },
  {
   "cell_type": "code",
   "execution_count": 2,
   "metadata": {},
   "outputs": [
    {
     "data": {
      "text/plain": [
       "'/Users/oluwafemibabatunde'"
      ]
     },
     "execution_count": 2,
     "metadata": {},
     "output_type": "execute_result"
    }
   ],
   "source": [
    "os.getcwd()"
   ]
  },
  {
   "cell_type": "code",
   "execution_count": 3,
   "metadata": {},
   "outputs": [],
   "source": [
    "path = '/Users/oluwafemibabatunde/Desktop/Springboard/C2C Business France'\n",
    "os.chdir(path)\n",
    "df = pd.read_csv('6M-0K-99K.users.dataset.public.csv')"
   ]
  },
  {
   "cell_type": "code",
   "execution_count": 4,
   "metadata": {},
   "outputs": [
    {
     "data": {
      "text/html": [
       "<div>\n",
       "<style scoped>\n",
       "    .dataframe tbody tr th:only-of-type {\n",
       "        vertical-align: middle;\n",
       "    }\n",
       "\n",
       "    .dataframe tbody tr th {\n",
       "        vertical-align: top;\n",
       "    }\n",
       "\n",
       "    .dataframe thead th {\n",
       "        text-align: right;\n",
       "    }\n",
       "</style>\n",
       "<table border=\"1\" class=\"dataframe\">\n",
       "  <thead>\n",
       "    <tr style=\"text-align: right;\">\n",
       "      <th></th>\n",
       "      <th>identifierHash</th>\n",
       "      <th>type</th>\n",
       "      <th>country</th>\n",
       "      <th>language</th>\n",
       "      <th>socialNbFollowers</th>\n",
       "      <th>socialNbFollows</th>\n",
       "      <th>socialProductsLiked</th>\n",
       "      <th>productsListed</th>\n",
       "      <th>productsSold</th>\n",
       "      <th>productsPassRate</th>\n",
       "      <th>...</th>\n",
       "      <th>civilityTitle</th>\n",
       "      <th>hasAnyApp</th>\n",
       "      <th>hasAndroidApp</th>\n",
       "      <th>hasIosApp</th>\n",
       "      <th>hasProfilePicture</th>\n",
       "      <th>daysSinceLastLogin</th>\n",
       "      <th>seniority</th>\n",
       "      <th>seniorityAsMonths</th>\n",
       "      <th>seniorityAsYears</th>\n",
       "      <th>countryCode</th>\n",
       "    </tr>\n",
       "  </thead>\n",
       "  <tbody>\n",
       "    <tr>\n",
       "      <td>0</td>\n",
       "      <td>-1097895247965112460</td>\n",
       "      <td>user</td>\n",
       "      <td>Royaume-Uni</td>\n",
       "      <td>en</td>\n",
       "      <td>147</td>\n",
       "      <td>10</td>\n",
       "      <td>77</td>\n",
       "      <td>26</td>\n",
       "      <td>174</td>\n",
       "      <td>74.0</td>\n",
       "      <td>...</td>\n",
       "      <td>mr</td>\n",
       "      <td>True</td>\n",
       "      <td>False</td>\n",
       "      <td>True</td>\n",
       "      <td>True</td>\n",
       "      <td>11</td>\n",
       "      <td>3196</td>\n",
       "      <td>106.53</td>\n",
       "      <td>8.88</td>\n",
       "      <td>gb</td>\n",
       "    </tr>\n",
       "    <tr>\n",
       "      <td>1</td>\n",
       "      <td>2347567364561867620</td>\n",
       "      <td>user</td>\n",
       "      <td>Monaco</td>\n",
       "      <td>en</td>\n",
       "      <td>167</td>\n",
       "      <td>8</td>\n",
       "      <td>2</td>\n",
       "      <td>19</td>\n",
       "      <td>170</td>\n",
       "      <td>99.0</td>\n",
       "      <td>...</td>\n",
       "      <td>mrs</td>\n",
       "      <td>True</td>\n",
       "      <td>False</td>\n",
       "      <td>True</td>\n",
       "      <td>True</td>\n",
       "      <td>12</td>\n",
       "      <td>3204</td>\n",
       "      <td>106.80</td>\n",
       "      <td>8.90</td>\n",
       "      <td>mc</td>\n",
       "    </tr>\n",
       "    <tr>\n",
       "      <td>2</td>\n",
       "      <td>6870940546848049750</td>\n",
       "      <td>user</td>\n",
       "      <td>France</td>\n",
       "      <td>fr</td>\n",
       "      <td>137</td>\n",
       "      <td>13</td>\n",
       "      <td>60</td>\n",
       "      <td>33</td>\n",
       "      <td>163</td>\n",
       "      <td>94.0</td>\n",
       "      <td>...</td>\n",
       "      <td>mrs</td>\n",
       "      <td>True</td>\n",
       "      <td>False</td>\n",
       "      <td>True</td>\n",
       "      <td>False</td>\n",
       "      <td>11</td>\n",
       "      <td>3203</td>\n",
       "      <td>106.77</td>\n",
       "      <td>8.90</td>\n",
       "      <td>fr</td>\n",
       "    </tr>\n",
       "    <tr>\n",
       "      <td>3</td>\n",
       "      <td>-4640272621319568052</td>\n",
       "      <td>user</td>\n",
       "      <td>Etats-Unis</td>\n",
       "      <td>en</td>\n",
       "      <td>131</td>\n",
       "      <td>10</td>\n",
       "      <td>14</td>\n",
       "      <td>122</td>\n",
       "      <td>152</td>\n",
       "      <td>92.0</td>\n",
       "      <td>...</td>\n",
       "      <td>mrs</td>\n",
       "      <td>True</td>\n",
       "      <td>False</td>\n",
       "      <td>True</td>\n",
       "      <td>False</td>\n",
       "      <td>12</td>\n",
       "      <td>3198</td>\n",
       "      <td>106.60</td>\n",
       "      <td>8.88</td>\n",
       "      <td>us</td>\n",
       "    </tr>\n",
       "    <tr>\n",
       "      <td>4</td>\n",
       "      <td>-5175830994878542658</td>\n",
       "      <td>user</td>\n",
       "      <td>Etats-Unis</td>\n",
       "      <td>en</td>\n",
       "      <td>167</td>\n",
       "      <td>8</td>\n",
       "      <td>0</td>\n",
       "      <td>25</td>\n",
       "      <td>125</td>\n",
       "      <td>100.0</td>\n",
       "      <td>...</td>\n",
       "      <td>mrs</td>\n",
       "      <td>False</td>\n",
       "      <td>False</td>\n",
       "      <td>False</td>\n",
       "      <td>True</td>\n",
       "      <td>22</td>\n",
       "      <td>2854</td>\n",
       "      <td>95.13</td>\n",
       "      <td>7.93</td>\n",
       "      <td>us</td>\n",
       "    </tr>\n",
       "  </tbody>\n",
       "</table>\n",
       "<p>5 rows × 24 columns</p>\n",
       "</div>"
      ],
      "text/plain": [
       "        identifierHash  type      country language  socialNbFollowers  \\\n",
       "0 -1097895247965112460  user  Royaume-Uni       en                147   \n",
       "1  2347567364561867620  user       Monaco       en                167   \n",
       "2  6870940546848049750  user       France       fr                137   \n",
       "3 -4640272621319568052  user   Etats-Unis       en                131   \n",
       "4 -5175830994878542658  user   Etats-Unis       en                167   \n",
       "\n",
       "   socialNbFollows  socialProductsLiked  productsListed  productsSold  \\\n",
       "0               10                   77              26           174   \n",
       "1                8                    2              19           170   \n",
       "2               13                   60              33           163   \n",
       "3               10                   14             122           152   \n",
       "4                8                    0              25           125   \n",
       "\n",
       "   productsPassRate  ...  civilityTitle  hasAnyApp hasAndroidApp  hasIosApp  \\\n",
       "0              74.0  ...             mr       True         False       True   \n",
       "1              99.0  ...            mrs       True         False       True   \n",
       "2              94.0  ...            mrs       True         False       True   \n",
       "3              92.0  ...            mrs       True         False       True   \n",
       "4             100.0  ...            mrs      False         False      False   \n",
       "\n",
       "  hasProfilePicture  daysSinceLastLogin  seniority  seniorityAsMonths  \\\n",
       "0              True                  11       3196             106.53   \n",
       "1              True                  12       3204             106.80   \n",
       "2             False                  11       3203             106.77   \n",
       "3             False                  12       3198             106.60   \n",
       "4              True                  22       2854              95.13   \n",
       "\n",
       "   seniorityAsYears  countryCode  \n",
       "0              8.88           gb  \n",
       "1              8.90           mc  \n",
       "2              8.90           fr  \n",
       "3              8.88           us  \n",
       "4              7.93           us  \n",
       "\n",
       "[5 rows x 24 columns]"
      ]
     },
     "execution_count": 4,
     "metadata": {},
     "output_type": "execute_result"
    }
   ],
   "source": [
    "df.head()"
   ]
  },
  {
   "cell_type": "markdown",
   "metadata": {},
   "source": [
    "Creating file structure for data organization"
   ]
  },
  {
   "cell_type": "code",
   "execution_count": 5,
   "metadata": {},
   "outputs": [],
   "source": [
    "datapath = \"/Users/oluwafemibabatunde/Desktop/Springboard/capstone_three/C2C Business Analytics/data\"\n",
    "if not os.path.isdir(datapath):\n",
    "   os.makedirs(datapath)"
   ]
  },
  {
   "cell_type": "code",
   "execution_count": 6,
   "metadata": {},
   "outputs": [],
   "source": [
    "figpath = \"/Users/oluwafemibabatunde/Desktop/Springboard/capstone_three/C2C Business Analytics/figures\"\n",
    "if not os.path.isdir(figpath):\n",
    "   os.makedirs(figpath)"
   ]
  },
  {
   "cell_type": "code",
   "execution_count": 7,
   "metadata": {},
   "outputs": [],
   "source": [
    "modelpath = \"/Users/oluwafemibabatunde/Desktop/Springboard/capstone_three/C2C Business Analytics/model\"\n",
    "if not os.path.isdir(modelpath):\n",
    "   os.makedirs(modelpath)"
   ]
  },
  {
   "cell_type": "markdown",
   "metadata": {},
   "source": [
    "Data Definition "
   ]
  },
  {
   "cell_type": "markdown",
   "metadata": {},
   "source": [
    "Column Names "
   ]
  },
  {
   "cell_type": "code",
   "execution_count": 8,
   "metadata": {
    "scrolled": true
   },
   "outputs": [
    {
     "data": {
      "text/plain": [
       "Index(['identifierHash', 'type', 'country', 'language', 'socialNbFollowers',\n",
       "       'socialNbFollows', 'socialProductsLiked', 'productsListed',\n",
       "       'productsSold', 'productsPassRate', 'productsWished', 'productsBought',\n",
       "       'gender', 'civilityGenderId', 'civilityTitle', 'hasAnyApp',\n",
       "       'hasAndroidApp', 'hasIosApp', 'hasProfilePicture', 'daysSinceLastLogin',\n",
       "       'seniority', 'seniorityAsMonths', 'seniorityAsYears', 'countryCode'],\n",
       "      dtype='object')"
      ]
     },
     "execution_count": 8,
     "metadata": {},
     "output_type": "execute_result"
    }
   ],
   "source": [
    "df.columns"
   ]
  },
  {
   "cell_type": "markdown",
   "metadata": {},
   "source": [
    "Dataframe shape"
   ]
  },
  {
   "cell_type": "code",
   "execution_count": 9,
   "metadata": {},
   "outputs": [
    {
     "data": {
      "text/plain": [
       "(98913, 24)"
      ]
     },
     "execution_count": 9,
     "metadata": {},
     "output_type": "execute_result"
    }
   ],
   "source": [
    "df.shape"
   ]
  },
  {
   "cell_type": "markdown",
   "metadata": {},
   "source": [
    "Field's Description "
   ]
  },
  {
   "cell_type": "code",
   "execution_count": 10,
   "metadata": {},
   "outputs": [
    {
     "data": {
      "text/html": [
       "<div>\n",
       "<style scoped>\n",
       "    .dataframe tbody tr th:only-of-type {\n",
       "        vertical-align: middle;\n",
       "    }\n",
       "\n",
       "    .dataframe tbody tr th {\n",
       "        vertical-align: top;\n",
       "    }\n",
       "\n",
       "    .dataframe thead th {\n",
       "        text-align: right;\n",
       "    }\n",
       "</style>\n",
       "<table border=\"1\" class=\"dataframe\">\n",
       "  <thead>\n",
       "    <tr style=\"text-align: right;\">\n",
       "      <th></th>\n",
       "      <th>Description</th>\n",
       "    </tr>\n",
       "    <tr>\n",
       "      <th>Fields</th>\n",
       "      <th></th>\n",
       "    </tr>\n",
       "  </thead>\n",
       "  <tbody>\n",
       "    <tr>\n",
       "      <td>identifierHash</td>\n",
       "      <td>Hash of User ID</td>\n",
       "    </tr>\n",
       "    <tr>\n",
       "      <td>type</td>\n",
       "      <td>The entity type</td>\n",
       "    </tr>\n",
       "    <tr>\n",
       "      <td>country</td>\n",
       "      <td>User's Country (written in French)</td>\n",
       "    </tr>\n",
       "    <tr>\n",
       "      <td>language</td>\n",
       "      <td>The User's Preferred language</td>\n",
       "    </tr>\n",
       "    <tr>\n",
       "      <td>socialNBFollowers</td>\n",
       "      <td>Number of users who subscribed to this user's ...</td>\n",
       "    </tr>\n",
       "    <tr>\n",
       "      <td>socialNbFollows</td>\n",
       "      <td>Number of user account this user follows. New ...</td>\n",
       "    </tr>\n",
       "    <tr>\n",
       "      <td>socialProductsLiked</td>\n",
       "      <td>Number of products this user liked</td>\n",
       "    </tr>\n",
       "    <tr>\n",
       "      <td>productsListed</td>\n",
       "      <td>Number of currently unsold products that this ...</td>\n",
       "    </tr>\n",
       "    <tr>\n",
       "      <td>productsSold</td>\n",
       "      <td>Number of products this user has sold</td>\n",
       "    </tr>\n",
       "    <tr>\n",
       "      <td>productsPassRate</td>\n",
       "      <td>% of products meeting the product description....</td>\n",
       "    </tr>\n",
       "    <tr>\n",
       "      <td>productsWished</td>\n",
       "      <td>Number of products this user added to his/her ...</td>\n",
       "    </tr>\n",
       "    <tr>\n",
       "      <td>productsBought</td>\n",
       "      <td>Number of products this user bought</td>\n",
       "    </tr>\n",
       "    <tr>\n",
       "      <td>gender</td>\n",
       "      <td>user's gender</td>\n",
       "    </tr>\n",
       "    <tr>\n",
       "      <td>civilityGenderId</td>\n",
       "      <td>civility as integer</td>\n",
       "    </tr>\n",
       "    <tr>\n",
       "      <td>civilityTitle</td>\n",
       "      <td>Civility Title</td>\n",
       "    </tr>\n",
       "    <tr>\n",
       "      <td>hasAnyApp</td>\n",
       "      <td>user has ever used any of the store's official...</td>\n",
       "    </tr>\n",
       "    <tr>\n",
       "      <td>hasAndroidApp</td>\n",
       "      <td>user has ever used the official Android app</td>\n",
       "    </tr>\n",
       "    <tr>\n",
       "      <td>hasIosApp</td>\n",
       "      <td>user has ever used the official iOS app</td>\n",
       "    </tr>\n",
       "    <tr>\n",
       "      <td>hasProfilePicture</td>\n",
       "      <td>user has a custom profile picture</td>\n",
       "    </tr>\n",
       "    <tr>\n",
       "      <td>daysSinceLastLogin</td>\n",
       "      <td>Number of days since the last login</td>\n",
       "    </tr>\n",
       "    <tr>\n",
       "      <td>seniority</td>\n",
       "      <td>Number of days since the user registered</td>\n",
       "    </tr>\n",
       "    <tr>\n",
       "      <td>seniorityAsMonths</td>\n",
       "      <td>See seniority in months</td>\n",
       "    </tr>\n",
       "    <tr>\n",
       "      <td>seniorityAsYears</td>\n",
       "      <td>See seniority in years</td>\n",
       "    </tr>\n",
       "    <tr>\n",
       "      <td>countryCode</td>\n",
       "      <td>user's country (ISO-3166-1)</td>\n",
       "    </tr>\n",
       "  </tbody>\n",
       "</table>\n",
       "</div>"
      ],
      "text/plain": [
       "                                                           Description\n",
       "Fields                                                                \n",
       "identifierHash                                         Hash of User ID\n",
       "type                                                   The entity type\n",
       "country                             User's Country (written in French)\n",
       "language                                 The User's Preferred language\n",
       "socialNBFollowers    Number of users who subscribed to this user's ...\n",
       "socialNbFollows      Number of user account this user follows. New ...\n",
       "socialProductsLiked                 Number of products this user liked\n",
       "productsListed       Number of currently unsold products that this ...\n",
       "productsSold                     Number of products this user has sold\n",
       "productsPassRate     % of products meeting the product description....\n",
       "productsWished       Number of products this user added to his/her ...\n",
       "productsBought                     Number of products this user bought\n",
       "gender                                                   user's gender\n",
       "civilityGenderId                                   civility as integer\n",
       "civilityTitle                                           Civility Title\n",
       "hasAnyApp            user has ever used any of the store's official...\n",
       "hasAndroidApp              user has ever used the official Android app\n",
       "hasIosApp                      user has ever used the official iOS app\n",
       "hasProfilePicture                    user has a custom profile picture\n",
       "daysSinceLastLogin                 Number of days since the last login\n",
       "seniority                     Number of days since the user registered\n",
       "seniorityAsMonths                              See seniority in months\n",
       "seniorityAsYears                                See seniority in years\n",
       "countryCode                                user's country (ISO-3166-1)"
      ]
     },
     "execution_count": 10,
     "metadata": {},
     "output_type": "execute_result"
    }
   ],
   "source": [
    "field_description = {'identifierHash': 'Hash of User ID', 'type': 'The entity type',\n",
    "'country': 'User\\'s Country (written in French)', 'language': 'The User\\'s Preferred language',\n",
    "'socialNBFollowers': 'Number of users who subscribed to this user\\'s activity. New accounts are automatically followed by the store\\'s official',\n",
    "'socialNbFollows': 'Number of user account this user follows. New accounts are automatically assigned to follow the official partners',\n",
    "'socialProductsLiked': 'Number of products this user liked',\n",
    "'productsListed': 'Number of currently unsold products that this user has uploaded.',\n",
    "'productsSold': 'Number of products this user has sold',\n",
    "'productsPassRate': '% of products meeting the product description. (Sold products are reviewed by the store\\'s team before being shipped to the',\n",
    "'productsWished': 'Number of products this user added to his/her wishlist.',\n",
    "'productsBought': 'Number of products this user bought',\n",
    "'gender': 'user\\'s gender',\n",
    "'civilityGenderId': 'civility as integer',\n",
    "'civilityTitle': 'Civility Title', 'hasAnyApp': 'user has ever used any of the store\\'s official app',\n",
    "       'hasAndroidApp': 'user has ever used the official Android app', 'hasIosApp': 'user has ever used the official iOS app', 'hasProfilePicture':'user has a custom profile picture', 'daysSinceLastLogin':'Number of days since the last login',\n",
    "       'seniority':'Number of days since the user registered', 'seniorityAsMonths': 'See seniority in months', 'seniorityAsYears':'See seniority in years', 'countryCode':'user\\'s country (ISO-3166-1)'}\n",
    "fields = pd.DataFrame.from_dict(field_description, orient = 'Index')\n",
    "fields.index.name = 'Fields'\n",
    "fields = fields.rename(columns={0:'Description'})\n",
    "fields"
   ]
  },
  {
   "cell_type": "markdown",
   "metadata": {},
   "source": [
    "Check the data types and other info of the dataframe fields"
   ]
  },
  {
   "cell_type": "code",
   "execution_count": 11,
   "metadata": {
    "scrolled": false
   },
   "outputs": [
    {
     "data": {
      "text/plain": [
       "identifierHash           int64\n",
       "type                    object\n",
       "country                 object\n",
       "language                object\n",
       "socialNbFollowers        int64\n",
       "socialNbFollows          int64\n",
       "socialProductsLiked      int64\n",
       "productsListed           int64\n",
       "productsSold             int64\n",
       "productsPassRate       float64\n",
       "productsWished           int64\n",
       "productsBought           int64\n",
       "gender                  object\n",
       "civilityGenderId         int64\n",
       "civilityTitle           object\n",
       "hasAnyApp                 bool\n",
       "hasAndroidApp             bool\n",
       "hasIosApp                 bool\n",
       "hasProfilePicture         bool\n",
       "daysSinceLastLogin       int64\n",
       "seniority                int64\n",
       "seniorityAsMonths      float64\n",
       "seniorityAsYears       float64\n",
       "countryCode             object\n",
       "dtype: object"
      ]
     },
     "execution_count": 11,
     "metadata": {},
     "output_type": "execute_result"
    }
   ],
   "source": [
    "df.dtypes"
   ]
  },
  {
   "cell_type": "code",
   "execution_count": 12,
   "metadata": {},
   "outputs": [
    {
     "name": "stdout",
     "output_type": "stream",
     "text": [
      "<class 'pandas.core.frame.DataFrame'>\n",
      "RangeIndex: 98913 entries, 0 to 98912\n",
      "Data columns (total 24 columns):\n",
      "identifierHash         98913 non-null int64\n",
      "type                   98913 non-null object\n",
      "country                98913 non-null object\n",
      "language               98913 non-null object\n",
      "socialNbFollowers      98913 non-null int64\n",
      "socialNbFollows        98913 non-null int64\n",
      "socialProductsLiked    98913 non-null int64\n",
      "productsListed         98913 non-null int64\n",
      "productsSold           98913 non-null int64\n",
      "productsPassRate       98913 non-null float64\n",
      "productsWished         98913 non-null int64\n",
      "productsBought         98913 non-null int64\n",
      "gender                 98913 non-null object\n",
      "civilityGenderId       98913 non-null int64\n",
      "civilityTitle          98913 non-null object\n",
      "hasAnyApp              98913 non-null bool\n",
      "hasAndroidApp          98913 non-null bool\n",
      "hasIosApp              98913 non-null bool\n",
      "hasProfilePicture      98913 non-null bool\n",
      "daysSinceLastLogin     98913 non-null int64\n",
      "seniority              98913 non-null int64\n",
      "seniorityAsMonths      98913 non-null float64\n",
      "seniorityAsYears       98913 non-null float64\n",
      "countryCode            98913 non-null object\n",
      "dtypes: bool(4), float64(3), int64(11), object(6)\n",
      "memory usage: 15.5+ MB\n"
     ]
    }
   ],
   "source": [
    "df.info()"
   ]
  },
  {
   "cell_type": "markdown",
   "metadata": {},
   "source": [
    "Number of unique entries in each field"
   ]
  },
  {
   "cell_type": "code",
   "execution_count": 13,
   "metadata": {},
   "outputs": [
    {
     "data": {
      "text/plain": [
       "identifierHash         98913\n",
       "type                       1\n",
       "country                  200\n",
       "language                   5\n",
       "socialNbFollowers         90\n",
       "socialNbFollows           85\n",
       "socialProductsLiked      420\n",
       "productsListed            65\n",
       "productsSold              75\n",
       "productsPassRate          72\n",
       "productsWished           279\n",
       "productsBought            70\n",
       "gender                     2\n",
       "civilityGenderId           3\n",
       "civilityTitle              3\n",
       "hasAnyApp                  2\n",
       "hasAndroidApp              2\n",
       "hasIosApp                  2\n",
       "hasProfilePicture          2\n",
       "daysSinceLastLogin       699\n",
       "seniority                 19\n",
       "seniorityAsMonths         19\n",
       "seniorityAsYears           6\n",
       "countryCode              199\n",
       "dtype: int64"
      ]
     },
     "execution_count": 13,
     "metadata": {},
     "output_type": "execute_result"
    }
   ],
   "source": [
    "df.nunique()"
   ]
  },
  {
   "cell_type": "markdown",
   "metadata": {},
   "source": [
    "Check for % of fields in dataframe"
   ]
  },
  {
   "cell_type": "code",
   "execution_count": 14,
   "metadata": {},
   "outputs": [
    {
     "name": "stdout",
     "output_type": "stream",
     "text": [
      "identifierHash         4.166667\n",
      "type                   0.000042\n",
      "country                0.008425\n",
      "language               0.000211\n",
      "socialNbFollowers      0.003791\n",
      "socialNbFollows        0.003581\n",
      "socialProductsLiked    0.017692\n",
      "productsListed         0.002738\n",
      "productsSold           0.003159\n",
      "productsPassRate       0.003033\n",
      "productsWished         0.011753\n",
      "productsBought         0.002949\n",
      "gender                 0.000084\n",
      "civilityGenderId       0.000126\n",
      "civilityTitle          0.000126\n",
      "hasAnyApp              0.000084\n",
      "hasAndroidApp          0.000084\n",
      "hasIosApp              0.000084\n",
      "hasProfilePicture      0.000084\n",
      "daysSinceLastLogin     0.029445\n",
      "seniority              0.000800\n",
      "seniorityAsMonths      0.000800\n",
      "seniorityAsYears       0.000253\n",
      "countryCode            0.008383\n",
      "dtype: float64\n"
     ]
    }
   ],
   "source": [
    "df1 = df.nunique()\n",
    "dfSize = df.size\n",
    "percentage_df1 = (df1/dfSize)*100\n",
    "print(percentage_df1)"
   ]
  },
  {
   "cell_type": "markdown",
   "metadata": {},
   "source": [
    "Check duplicate rows in df"
   ]
  },
  {
   "cell_type": "code",
   "execution_count": 15,
   "metadata": {},
   "outputs": [
    {
     "data": {
      "text/html": [
       "<div>\n",
       "<style scoped>\n",
       "    .dataframe tbody tr th:only-of-type {\n",
       "        vertical-align: middle;\n",
       "    }\n",
       "\n",
       "    .dataframe tbody tr th {\n",
       "        vertical-align: top;\n",
       "    }\n",
       "\n",
       "    .dataframe thead th {\n",
       "        text-align: right;\n",
       "    }\n",
       "</style>\n",
       "<table border=\"1\" class=\"dataframe\">\n",
       "  <thead>\n",
       "    <tr style=\"text-align: right;\">\n",
       "      <th></th>\n",
       "      <th>identifierHash</th>\n",
       "      <th>type</th>\n",
       "      <th>country</th>\n",
       "      <th>language</th>\n",
       "      <th>socialNbFollowers</th>\n",
       "      <th>socialNbFollows</th>\n",
       "      <th>socialProductsLiked</th>\n",
       "      <th>productsListed</th>\n",
       "      <th>productsSold</th>\n",
       "      <th>productsPassRate</th>\n",
       "      <th>...</th>\n",
       "      <th>civilityTitle</th>\n",
       "      <th>hasAnyApp</th>\n",
       "      <th>hasAndroidApp</th>\n",
       "      <th>hasIosApp</th>\n",
       "      <th>hasProfilePicture</th>\n",
       "      <th>daysSinceLastLogin</th>\n",
       "      <th>seniority</th>\n",
       "      <th>seniorityAsMonths</th>\n",
       "      <th>seniorityAsYears</th>\n",
       "      <th>countryCode</th>\n",
       "    </tr>\n",
       "  </thead>\n",
       "  <tbody>\n",
       "  </tbody>\n",
       "</table>\n",
       "<p>0 rows × 24 columns</p>\n",
       "</div>"
      ],
      "text/plain": [
       "Empty DataFrame\n",
       "Columns: [identifierHash, type, country, language, socialNbFollowers, socialNbFollows, socialProductsLiked, productsListed, productsSold, productsPassRate, productsWished, productsBought, gender, civilityGenderId, civilityTitle, hasAnyApp, hasAndroidApp, hasIosApp, hasProfilePicture, daysSinceLastLogin, seniority, seniorityAsMonths, seniorityAsYears, countryCode]\n",
       "Index: []\n",
       "\n",
       "[0 rows x 24 columns]"
      ]
     },
     "execution_count": 15,
     "metadata": {},
     "output_type": "execute_result"
    }
   ],
   "source": [
    "duplicateRowsDF = df[df.duplicated()]\n",
    "duplicateRowsDF"
   ]
  },
  {
   "cell_type": "markdown",
   "metadata": {},
   "source": [
    "Check the number of missing data in fileds"
   ]
  },
  {
   "cell_type": "code",
   "execution_count": 16,
   "metadata": {},
   "outputs": [
    {
     "data": {
      "text/plain": [
       "identifierHash         0\n",
       "type                   0\n",
       "country                0\n",
       "language               0\n",
       "socialNbFollowers      0\n",
       "socialNbFollows        0\n",
       "socialProductsLiked    0\n",
       "productsListed         0\n",
       "productsSold           0\n",
       "productsPassRate       0\n",
       "productsWished         0\n",
       "productsBought         0\n",
       "gender                 0\n",
       "civilityGenderId       0\n",
       "civilityTitle          0\n",
       "hasAnyApp              0\n",
       "hasAndroidApp          0\n",
       "hasIosApp              0\n",
       "hasProfilePicture      0\n",
       "daysSinceLastLogin     0\n",
       "seniority              0\n",
       "seniorityAsMonths      0\n",
       "seniorityAsYears       0\n",
       "countryCode            0\n",
       "dtype: int64"
      ]
     },
     "execution_count": 16,
     "metadata": {},
     "output_type": "execute_result"
    }
   ],
   "source": [
    "df.isnull().sum()"
   ]
  },
  {
   "cell_type": "code",
   "execution_count": 17,
   "metadata": {
    "scrolled": true
   },
   "outputs": [
    {
     "data": {
      "text/plain": [
       "identifierHash         0\n",
       "type                   0\n",
       "country                0\n",
       "language               0\n",
       "socialNbFollowers      0\n",
       "socialNbFollows        0\n",
       "socialProductsLiked    0\n",
       "productsListed         0\n",
       "productsSold           0\n",
       "productsPassRate       0\n",
       "productsWished         0\n",
       "productsBought         0\n",
       "gender                 0\n",
       "civilityGenderId       0\n",
       "civilityTitle          0\n",
       "hasAnyApp              0\n",
       "hasAndroidApp          0\n",
       "hasIosApp              0\n",
       "hasProfilePicture      0\n",
       "daysSinceLastLogin     0\n",
       "seniority              0\n",
       "seniorityAsMonths      0\n",
       "seniorityAsYears       0\n",
       "countryCode            0\n",
       "dtype: int64"
      ]
     },
     "execution_count": 17,
     "metadata": {},
     "output_type": "execute_result"
    }
   ],
   "source": [
    "df.isna().sum()"
   ]
  },
  {
   "cell_type": "code",
   "execution_count": 18,
   "metadata": {
    "scrolled": true
   },
   "outputs": [
    {
     "data": {
      "text/plain": [
       "France                                    25135\n",
       "Etats-Unis                                20602\n",
       "Royaume-Uni                               11310\n",
       "Italie                                     8015\n",
       "Allemagne                                  6567\n",
       "                                          ...  \n",
       "Mayotte                                       1\n",
       "Swaziland                                     1\n",
       "Iles mineures éloignées des États-Unis        1\n",
       "Sri Lanka                                     1\n",
       "Saint Vincent et les Grenadines               1\n",
       "Name: country, Length: 200, dtype: int64"
      ]
     },
     "execution_count": 18,
     "metadata": {},
     "output_type": "execute_result"
    }
   ],
   "source": [
    "df.country.value_counts()"
   ]
  },
  {
   "cell_type": "code",
   "execution_count": 19,
   "metadata": {
    "scrolled": true
   },
   "outputs": [
    {
     "data": {
      "text/plain": [
       "F    76121\n",
       "M    22792\n",
       "Name: gender, dtype: int64"
      ]
     },
     "execution_count": 19,
     "metadata": {},
     "output_type": "execute_result"
    }
   ],
   "source": [
    "df.gender.value_counts()"
   ]
  },
  {
   "cell_type": "code",
   "execution_count": 20,
   "metadata": {
    "scrolled": true
   },
   "outputs": [
    {
     "name": "stdout",
     "output_type": "stream",
     "text": [
      "Requirement already satisfied: translate in /opt/anaconda3/lib/python3.7/site-packages (3.5.0)\n",
      "Requirement already satisfied: requests in /opt/anaconda3/lib/python3.7/site-packages (from translate) (2.22.0)\n",
      "Requirement already satisfied: pre-commit in /opt/anaconda3/lib/python3.7/site-packages (from translate) (2.9.3)\n",
      "Requirement already satisfied: lxml in /opt/anaconda3/lib/python3.7/site-packages (from translate) (4.4.1)\n",
      "Requirement already satisfied: click in /opt/anaconda3/lib/python3.7/site-packages (from translate) (7.0)\n",
      "Requirement already satisfied: tox in /opt/anaconda3/lib/python3.7/site-packages (from translate) (3.20.1)\n",
      "Requirement already satisfied: virtualenv>=20.0.8 in /opt/anaconda3/lib/python3.7/site-packages (from pre-commit->translate) (20.2.2)\n",
      "Requirement already satisfied: cfgv>=2.0.0 in /opt/anaconda3/lib/python3.7/site-packages (from pre-commit->translate) (3.2.0)\n",
      "Requirement already satisfied: importlib-metadata in /opt/anaconda3/lib/python3.7/site-packages (from pre-commit->translate) (0.23)\n",
      "Requirement already satisfied: pyyaml>=5.1 in /opt/anaconda3/lib/python3.7/site-packages (from pre-commit->translate) (5.1.2)\n",
      "Requirement already satisfied: nodeenv>=0.11.1 in /opt/anaconda3/lib/python3.7/site-packages (from pre-commit->translate) (1.5.0)\n",
      "Requirement already satisfied: toml in /opt/anaconda3/lib/python3.7/site-packages (from pre-commit->translate) (0.10.2)\n",
      "Requirement already satisfied: identify>=1.0.0 in /opt/anaconda3/lib/python3.7/site-packages (from pre-commit->translate) (1.5.10)\n",
      "Requirement already satisfied: six<2,>=1.9.0 in /opt/anaconda3/lib/python3.7/site-packages (from virtualenv>=20.0.8->pre-commit->translate) (1.15.0)\n",
      "Requirement already satisfied: distlib<1,>=0.3.1 in /opt/anaconda3/lib/python3.7/site-packages (from virtualenv>=20.0.8->pre-commit->translate) (0.3.1)\n",
      "Requirement already satisfied: appdirs<2,>=1.4.3 in /opt/anaconda3/lib/python3.7/site-packages (from virtualenv>=20.0.8->pre-commit->translate) (1.4.4)\n",
      "Requirement already satisfied: filelock<4,>=3.0.0 in /opt/anaconda3/lib/python3.7/site-packages (from virtualenv>=20.0.8->pre-commit->translate) (3.0.12)\n",
      "Requirement already satisfied: zipp>=0.5 in /opt/anaconda3/lib/python3.7/site-packages (from importlib-metadata->pre-commit->translate) (0.6.0)\n",
      "Requirement already satisfied: more-itertools in /opt/anaconda3/lib/python3.7/site-packages (from zipp>=0.5->importlib-metadata->pre-commit->translate) (7.2.0)\n",
      "Requirement already satisfied: idna<2.9,>=2.5 in /opt/anaconda3/lib/python3.7/site-packages (from requests->translate) (2.8)\n",
      "Requirement already satisfied: urllib3!=1.25.0,!=1.25.1,<1.26,>=1.21.1 in /opt/anaconda3/lib/python3.7/site-packages (from requests->translate) (1.24.2)\n",
      "Requirement already satisfied: chardet<3.1.0,>=3.0.2 in /opt/anaconda3/lib/python3.7/site-packages (from requests->translate) (3.0.4)\n",
      "Requirement already satisfied: certifi>=2017.4.17 in /opt/anaconda3/lib/python3.7/site-packages (from requests->translate) (2019.9.11)\n",
      "Requirement already satisfied: pluggy>=0.12.0 in /opt/anaconda3/lib/python3.7/site-packages (from tox->translate) (0.13.0)\n",
      "Requirement already satisfied: py>=1.4.17 in /opt/anaconda3/lib/python3.7/site-packages (from tox->translate) (1.8.0)\n",
      "Requirement already satisfied: packaging>=14 in /opt/anaconda3/lib/python3.7/site-packages (from tox->translate) (19.2)\n",
      "Requirement already satisfied: pyparsing>=2.0.2 in /opt/anaconda3/lib/python3.7/site-packages (from packaging>=14->tox->translate) (2.4.2)\n"
     ]
    }
   ],
   "source": [
    "!pip install translate\n",
    "from translate import Translator"
   ]
  },
  {
   "cell_type": "code",
   "execution_count": 21,
   "metadata": {
    "scrolled": true
   },
   "outputs": [
    {
     "data": {
      "text/plain": [
       "'United Kingdom'"
      ]
     },
     "execution_count": 21,
     "metadata": {},
     "output_type": "execute_result"
    }
   ],
   "source": [
    "translator = Translator(to_lang=\"English\", from_lang = \"French\")\n",
    "translation1 = translator.translate(\"Royaume-Uni\")\n",
    "translation1\n",
    "#Using this translator to translate the whole column was time consuming. I started running the tranlator for\n",
    "#the whole column by 10:33am and as at 5:29pm it was still running.\n",
    "#I will use French for the One hot code transformation and use it in the model."
   ]
  },
  {
   "cell_type": "code",
   "execution_count": 22,
   "metadata": {},
   "outputs": [
    {
     "data": {
      "text/plain": [
       "'United States'"
      ]
     },
     "execution_count": 22,
     "metadata": {},
     "output_type": "execute_result"
    }
   ],
   "source": [
    "translation2 = translator.translate(\"Etats-Unis\")\n",
    "translation2"
   ]
  },
  {
   "cell_type": "code",
   "execution_count": 23,
   "metadata": {},
   "outputs": [],
   "source": [
    "df = pd.concat([df,pd.get_dummies(df['country'], prefix='country')],axis=1)"
   ]
  },
  {
   "cell_type": "code",
   "execution_count": 24,
   "metadata": {},
   "outputs": [],
   "source": [
    "df = pd.concat([df,pd.get_dummies(df['gender'], prefix='gender')],axis=1)"
   ]
  },
  {
   "cell_type": "code",
   "execution_count": 25,
   "metadata": {},
   "outputs": [],
   "source": [
    "df = pd.concat([df,pd.get_dummies(df['civilityTitle'], prefix='civilityTitle')],axis=1)"
   ]
  },
  {
   "cell_type": "code",
   "execution_count": 26,
   "metadata": {},
   "outputs": [
    {
     "data": {
      "text/html": [
       "<div>\n",
       "<style scoped>\n",
       "    .dataframe tbody tr th:only-of-type {\n",
       "        vertical-align: middle;\n",
       "    }\n",
       "\n",
       "    .dataframe tbody tr th {\n",
       "        vertical-align: top;\n",
       "    }\n",
       "\n",
       "    .dataframe thead th {\n",
       "        text-align: right;\n",
       "    }\n",
       "</style>\n",
       "<table border=\"1\" class=\"dataframe\">\n",
       "  <thead>\n",
       "    <tr style=\"text-align: right;\">\n",
       "      <th></th>\n",
       "      <th>identifierHash</th>\n",
       "      <th>type</th>\n",
       "      <th>country</th>\n",
       "      <th>language</th>\n",
       "      <th>socialNbFollowers</th>\n",
       "      <th>socialNbFollows</th>\n",
       "      <th>socialProductsLiked</th>\n",
       "      <th>productsListed</th>\n",
       "      <th>productsSold</th>\n",
       "      <th>productsPassRate</th>\n",
       "      <th>...</th>\n",
       "      <th>gender_F</th>\n",
       "      <th>gender_M</th>\n",
       "      <th>civilityTitle_miss</th>\n",
       "      <th>civilityTitle_mr</th>\n",
       "      <th>civilityTitle_mrs</th>\n",
       "      <th>lang_de</th>\n",
       "      <th>lang_en</th>\n",
       "      <th>lang_es</th>\n",
       "      <th>lang_fr</th>\n",
       "      <th>lang_it</th>\n",
       "    </tr>\n",
       "  </thead>\n",
       "  <tbody>\n",
       "    <tr>\n",
       "      <td>0</td>\n",
       "      <td>-1097895247965112460</td>\n",
       "      <td>user</td>\n",
       "      <td>Royaume-Uni</td>\n",
       "      <td>en</td>\n",
       "      <td>147</td>\n",
       "      <td>10</td>\n",
       "      <td>77</td>\n",
       "      <td>26</td>\n",
       "      <td>174</td>\n",
       "      <td>74.0</td>\n",
       "      <td>...</td>\n",
       "      <td>0</td>\n",
       "      <td>1</td>\n",
       "      <td>0</td>\n",
       "      <td>1</td>\n",
       "      <td>0</td>\n",
       "      <td>0</td>\n",
       "      <td>1</td>\n",
       "      <td>0</td>\n",
       "      <td>0</td>\n",
       "      <td>0</td>\n",
       "    </tr>\n",
       "    <tr>\n",
       "      <td>1</td>\n",
       "      <td>2347567364561867620</td>\n",
       "      <td>user</td>\n",
       "      <td>Monaco</td>\n",
       "      <td>en</td>\n",
       "      <td>167</td>\n",
       "      <td>8</td>\n",
       "      <td>2</td>\n",
       "      <td>19</td>\n",
       "      <td>170</td>\n",
       "      <td>99.0</td>\n",
       "      <td>...</td>\n",
       "      <td>1</td>\n",
       "      <td>0</td>\n",
       "      <td>0</td>\n",
       "      <td>0</td>\n",
       "      <td>1</td>\n",
       "      <td>0</td>\n",
       "      <td>1</td>\n",
       "      <td>0</td>\n",
       "      <td>0</td>\n",
       "      <td>0</td>\n",
       "    </tr>\n",
       "    <tr>\n",
       "      <td>2</td>\n",
       "      <td>6870940546848049750</td>\n",
       "      <td>user</td>\n",
       "      <td>France</td>\n",
       "      <td>fr</td>\n",
       "      <td>137</td>\n",
       "      <td>13</td>\n",
       "      <td>60</td>\n",
       "      <td>33</td>\n",
       "      <td>163</td>\n",
       "      <td>94.0</td>\n",
       "      <td>...</td>\n",
       "      <td>1</td>\n",
       "      <td>0</td>\n",
       "      <td>0</td>\n",
       "      <td>0</td>\n",
       "      <td>1</td>\n",
       "      <td>0</td>\n",
       "      <td>0</td>\n",
       "      <td>0</td>\n",
       "      <td>1</td>\n",
       "      <td>0</td>\n",
       "    </tr>\n",
       "    <tr>\n",
       "      <td>3</td>\n",
       "      <td>-4640272621319568052</td>\n",
       "      <td>user</td>\n",
       "      <td>Etats-Unis</td>\n",
       "      <td>en</td>\n",
       "      <td>131</td>\n",
       "      <td>10</td>\n",
       "      <td>14</td>\n",
       "      <td>122</td>\n",
       "      <td>152</td>\n",
       "      <td>92.0</td>\n",
       "      <td>...</td>\n",
       "      <td>1</td>\n",
       "      <td>0</td>\n",
       "      <td>0</td>\n",
       "      <td>0</td>\n",
       "      <td>1</td>\n",
       "      <td>0</td>\n",
       "      <td>1</td>\n",
       "      <td>0</td>\n",
       "      <td>0</td>\n",
       "      <td>0</td>\n",
       "    </tr>\n",
       "    <tr>\n",
       "      <td>4</td>\n",
       "      <td>-5175830994878542658</td>\n",
       "      <td>user</td>\n",
       "      <td>Etats-Unis</td>\n",
       "      <td>en</td>\n",
       "      <td>167</td>\n",
       "      <td>8</td>\n",
       "      <td>0</td>\n",
       "      <td>25</td>\n",
       "      <td>125</td>\n",
       "      <td>100.0</td>\n",
       "      <td>...</td>\n",
       "      <td>1</td>\n",
       "      <td>0</td>\n",
       "      <td>0</td>\n",
       "      <td>0</td>\n",
       "      <td>1</td>\n",
       "      <td>0</td>\n",
       "      <td>1</td>\n",
       "      <td>0</td>\n",
       "      <td>0</td>\n",
       "      <td>0</td>\n",
       "    </tr>\n",
       "  </tbody>\n",
       "</table>\n",
       "<p>5 rows × 234 columns</p>\n",
       "</div>"
      ],
      "text/plain": [
       "        identifierHash  type      country language  socialNbFollowers  \\\n",
       "0 -1097895247965112460  user  Royaume-Uni       en                147   \n",
       "1  2347567364561867620  user       Monaco       en                167   \n",
       "2  6870940546848049750  user       France       fr                137   \n",
       "3 -4640272621319568052  user   Etats-Unis       en                131   \n",
       "4 -5175830994878542658  user   Etats-Unis       en                167   \n",
       "\n",
       "   socialNbFollows  socialProductsLiked  productsListed  productsSold  \\\n",
       "0               10                   77              26           174   \n",
       "1                8                    2              19           170   \n",
       "2               13                   60              33           163   \n",
       "3               10                   14             122           152   \n",
       "4                8                    0              25           125   \n",
       "\n",
       "   productsPassRate  ...  gender_F  gender_M civilityTitle_miss  \\\n",
       "0              74.0  ...         0         1                  0   \n",
       "1              99.0  ...         1         0                  0   \n",
       "2              94.0  ...         1         0                  0   \n",
       "3              92.0  ...         1         0                  0   \n",
       "4             100.0  ...         1         0                  0   \n",
       "\n",
       "   civilityTitle_mr civilityTitle_mrs  lang_de  lang_en  lang_es  lang_fr  \\\n",
       "0                 1                 0        0        1        0        0   \n",
       "1                 0                 1        0        1        0        0   \n",
       "2                 0                 1        0        0        0        1   \n",
       "3                 0                 1        0        1        0        0   \n",
       "4                 0                 1        0        1        0        0   \n",
       "\n",
       "   lang_it  \n",
       "0        0  \n",
       "1        0  \n",
       "2        0  \n",
       "3        0  \n",
       "4        0  \n",
       "\n",
       "[5 rows x 234 columns]"
      ]
     },
     "execution_count": 26,
     "metadata": {},
     "output_type": "execute_result"
    }
   ],
   "source": [
    "df = pd.concat([df,pd.get_dummies(df['language'], prefix='lang')],axis=1)\n",
    "df.head()"
   ]
  },
  {
   "cell_type": "markdown",
   "metadata": {},
   "source": [
    "Converted Boolean Fields to Integer Type for Analysis purpose."
   ]
  },
  {
   "cell_type": "code",
   "execution_count": 27,
   "metadata": {},
   "outputs": [],
   "source": [
    "df['hasAnyApp'] = df['hasAnyApp'].astype(int)\n",
    "df['hasAndroidApp'] = df['hasAndroidApp'].astype(int)\n",
    "df['hasIosApp'] = df['hasIosApp'].astype(int)\n",
    "df['hasProfilePicture'] = df['hasProfilePicture'].astype(int)"
   ]
  },
  {
   "cell_type": "markdown",
   "metadata": {},
   "source": [
    "The original columns of country, gender, civilityTitle and language will be dropped"
   ]
  },
  {
   "cell_type": "code",
   "execution_count": 28,
   "metadata": {},
   "outputs": [],
   "source": [
    "df = df.drop(['country', 'gender', 'civilityTitle', 'language'], axis = 1)"
   ]
  },
  {
   "cell_type": "markdown",
   "metadata": {},
   "source": [
    "The type column will be dropped because it has only one entry. It will not be relevant to the model "
   ]
  },
  {
   "cell_type": "code",
   "execution_count": 29,
   "metadata": {},
   "outputs": [],
   "source": [
    "df = df.drop(['type'], axis = 1)"
   ]
  },
  {
   "cell_type": "code",
   "execution_count": 30,
   "metadata": {},
   "outputs": [
    {
     "data": {
      "text/html": [
       "<div>\n",
       "<style scoped>\n",
       "    .dataframe tbody tr th:only-of-type {\n",
       "        vertical-align: middle;\n",
       "    }\n",
       "\n",
       "    .dataframe tbody tr th {\n",
       "        vertical-align: top;\n",
       "    }\n",
       "\n",
       "    .dataframe thead th {\n",
       "        text-align: right;\n",
       "    }\n",
       "</style>\n",
       "<table border=\"1\" class=\"dataframe\">\n",
       "  <thead>\n",
       "    <tr style=\"text-align: right;\">\n",
       "      <th></th>\n",
       "      <th>identifierHash</th>\n",
       "      <th>socialNbFollowers</th>\n",
       "      <th>socialNbFollows</th>\n",
       "      <th>socialProductsLiked</th>\n",
       "      <th>productsListed</th>\n",
       "      <th>productsSold</th>\n",
       "      <th>productsPassRate</th>\n",
       "      <th>productsWished</th>\n",
       "      <th>productsBought</th>\n",
       "      <th>civilityGenderId</th>\n",
       "      <th>...</th>\n",
       "      <th>gender_F</th>\n",
       "      <th>gender_M</th>\n",
       "      <th>civilityTitle_miss</th>\n",
       "      <th>civilityTitle_mr</th>\n",
       "      <th>civilityTitle_mrs</th>\n",
       "      <th>lang_de</th>\n",
       "      <th>lang_en</th>\n",
       "      <th>lang_es</th>\n",
       "      <th>lang_fr</th>\n",
       "      <th>lang_it</th>\n",
       "    </tr>\n",
       "  </thead>\n",
       "  <tbody>\n",
       "    <tr>\n",
       "      <td>count</td>\n",
       "      <td>9.891300e+04</td>\n",
       "      <td>98913.000000</td>\n",
       "      <td>98913.000000</td>\n",
       "      <td>98913.000000</td>\n",
       "      <td>98913.000000</td>\n",
       "      <td>98913.000000</td>\n",
       "      <td>98913.000000</td>\n",
       "      <td>98913.000000</td>\n",
       "      <td>98913.000000</td>\n",
       "      <td>98913.000000</td>\n",
       "      <td>...</td>\n",
       "      <td>98913.000000</td>\n",
       "      <td>98913.000000</td>\n",
       "      <td>98913.000000</td>\n",
       "      <td>98913.000000</td>\n",
       "      <td>98913.000000</td>\n",
       "      <td>98913.000000</td>\n",
       "      <td>98913.000000</td>\n",
       "      <td>98913.000000</td>\n",
       "      <td>98913.000000</td>\n",
       "      <td>98913.000000</td>\n",
       "    </tr>\n",
       "    <tr>\n",
       "      <td>mean</td>\n",
       "      <td>-6.692039e+15</td>\n",
       "      <td>3.432269</td>\n",
       "      <td>8.425677</td>\n",
       "      <td>4.420743</td>\n",
       "      <td>0.093304</td>\n",
       "      <td>0.121592</td>\n",
       "      <td>0.812303</td>\n",
       "      <td>1.562595</td>\n",
       "      <td>0.171929</td>\n",
       "      <td>1.773993</td>\n",
       "      <td>...</td>\n",
       "      <td>0.769575</td>\n",
       "      <td>0.230425</td>\n",
       "      <td>0.004418</td>\n",
       "      <td>0.230425</td>\n",
       "      <td>0.765157</td>\n",
       "      <td>0.072569</td>\n",
       "      <td>0.521307</td>\n",
       "      <td>0.060993</td>\n",
       "      <td>0.266618</td>\n",
       "      <td>0.078513</td>\n",
       "    </tr>\n",
       "    <tr>\n",
       "      <td>std</td>\n",
       "      <td>5.330807e+18</td>\n",
       "      <td>3.882383</td>\n",
       "      <td>52.839572</td>\n",
       "      <td>181.030569</td>\n",
       "      <td>2.050144</td>\n",
       "      <td>2.126895</td>\n",
       "      <td>8.500205</td>\n",
       "      <td>25.192793</td>\n",
       "      <td>2.332266</td>\n",
       "      <td>0.428679</td>\n",
       "      <td>...</td>\n",
       "      <td>0.421107</td>\n",
       "      <td>0.421107</td>\n",
       "      <td>0.066322</td>\n",
       "      <td>0.421107</td>\n",
       "      <td>0.423903</td>\n",
       "      <td>0.259429</td>\n",
       "      <td>0.499548</td>\n",
       "      <td>0.239319</td>\n",
       "      <td>0.442193</td>\n",
       "      <td>0.268979</td>\n",
       "    </tr>\n",
       "    <tr>\n",
       "      <td>min</td>\n",
       "      <td>-9.223101e+18</td>\n",
       "      <td>3.000000</td>\n",
       "      <td>0.000000</td>\n",
       "      <td>0.000000</td>\n",
       "      <td>0.000000</td>\n",
       "      <td>0.000000</td>\n",
       "      <td>0.000000</td>\n",
       "      <td>0.000000</td>\n",
       "      <td>0.000000</td>\n",
       "      <td>1.000000</td>\n",
       "      <td>...</td>\n",
       "      <td>0.000000</td>\n",
       "      <td>0.000000</td>\n",
       "      <td>0.000000</td>\n",
       "      <td>0.000000</td>\n",
       "      <td>0.000000</td>\n",
       "      <td>0.000000</td>\n",
       "      <td>0.000000</td>\n",
       "      <td>0.000000</td>\n",
       "      <td>0.000000</td>\n",
       "      <td>0.000000</td>\n",
       "    </tr>\n",
       "    <tr>\n",
       "      <td>25%</td>\n",
       "      <td>-4.622895e+18</td>\n",
       "      <td>3.000000</td>\n",
       "      <td>8.000000</td>\n",
       "      <td>0.000000</td>\n",
       "      <td>0.000000</td>\n",
       "      <td>0.000000</td>\n",
       "      <td>0.000000</td>\n",
       "      <td>0.000000</td>\n",
       "      <td>0.000000</td>\n",
       "      <td>2.000000</td>\n",
       "      <td>...</td>\n",
       "      <td>1.000000</td>\n",
       "      <td>0.000000</td>\n",
       "      <td>0.000000</td>\n",
       "      <td>0.000000</td>\n",
       "      <td>1.000000</td>\n",
       "      <td>0.000000</td>\n",
       "      <td>0.000000</td>\n",
       "      <td>0.000000</td>\n",
       "      <td>0.000000</td>\n",
       "      <td>0.000000</td>\n",
       "    </tr>\n",
       "    <tr>\n",
       "      <td>50%</td>\n",
       "      <td>-1.337989e+15</td>\n",
       "      <td>3.000000</td>\n",
       "      <td>8.000000</td>\n",
       "      <td>0.000000</td>\n",
       "      <td>0.000000</td>\n",
       "      <td>0.000000</td>\n",
       "      <td>0.000000</td>\n",
       "      <td>0.000000</td>\n",
       "      <td>0.000000</td>\n",
       "      <td>2.000000</td>\n",
       "      <td>...</td>\n",
       "      <td>1.000000</td>\n",
       "      <td>0.000000</td>\n",
       "      <td>0.000000</td>\n",
       "      <td>0.000000</td>\n",
       "      <td>1.000000</td>\n",
       "      <td>0.000000</td>\n",
       "      <td>1.000000</td>\n",
       "      <td>0.000000</td>\n",
       "      <td>0.000000</td>\n",
       "      <td>0.000000</td>\n",
       "    </tr>\n",
       "    <tr>\n",
       "      <td>75%</td>\n",
       "      <td>4.616388e+18</td>\n",
       "      <td>3.000000</td>\n",
       "      <td>8.000000</td>\n",
       "      <td>0.000000</td>\n",
       "      <td>0.000000</td>\n",
       "      <td>0.000000</td>\n",
       "      <td>0.000000</td>\n",
       "      <td>0.000000</td>\n",
       "      <td>0.000000</td>\n",
       "      <td>2.000000</td>\n",
       "      <td>...</td>\n",
       "      <td>1.000000</td>\n",
       "      <td>0.000000</td>\n",
       "      <td>0.000000</td>\n",
       "      <td>0.000000</td>\n",
       "      <td>1.000000</td>\n",
       "      <td>0.000000</td>\n",
       "      <td>1.000000</td>\n",
       "      <td>0.000000</td>\n",
       "      <td>1.000000</td>\n",
       "      <td>0.000000</td>\n",
       "    </tr>\n",
       "    <tr>\n",
       "      <td>max</td>\n",
       "      <td>9.223331e+18</td>\n",
       "      <td>744.000000</td>\n",
       "      <td>13764.000000</td>\n",
       "      <td>51671.000000</td>\n",
       "      <td>244.000000</td>\n",
       "      <td>174.000000</td>\n",
       "      <td>100.000000</td>\n",
       "      <td>2635.000000</td>\n",
       "      <td>405.000000</td>\n",
       "      <td>3.000000</td>\n",
       "      <td>...</td>\n",
       "      <td>1.000000</td>\n",
       "      <td>1.000000</td>\n",
       "      <td>1.000000</td>\n",
       "      <td>1.000000</td>\n",
       "      <td>1.000000</td>\n",
       "      <td>1.000000</td>\n",
       "      <td>1.000000</td>\n",
       "      <td>1.000000</td>\n",
       "      <td>1.000000</td>\n",
       "      <td>1.000000</td>\n",
       "    </tr>\n",
       "  </tbody>\n",
       "</table>\n",
       "<p>8 rows × 228 columns</p>\n",
       "</div>"
      ],
      "text/plain": [
       "       identifierHash  socialNbFollowers  socialNbFollows  \\\n",
       "count    9.891300e+04       98913.000000     98913.000000   \n",
       "mean    -6.692039e+15           3.432269         8.425677   \n",
       "std      5.330807e+18           3.882383        52.839572   \n",
       "min     -9.223101e+18           3.000000         0.000000   \n",
       "25%     -4.622895e+18           3.000000         8.000000   \n",
       "50%     -1.337989e+15           3.000000         8.000000   \n",
       "75%      4.616388e+18           3.000000         8.000000   \n",
       "max      9.223331e+18         744.000000     13764.000000   \n",
       "\n",
       "       socialProductsLiked  productsListed  productsSold  productsPassRate  \\\n",
       "count         98913.000000    98913.000000  98913.000000      98913.000000   \n",
       "mean              4.420743        0.093304      0.121592          0.812303   \n",
       "std             181.030569        2.050144      2.126895          8.500205   \n",
       "min               0.000000        0.000000      0.000000          0.000000   \n",
       "25%               0.000000        0.000000      0.000000          0.000000   \n",
       "50%               0.000000        0.000000      0.000000          0.000000   \n",
       "75%               0.000000        0.000000      0.000000          0.000000   \n",
       "max           51671.000000      244.000000    174.000000        100.000000   \n",
       "\n",
       "       productsWished  productsBought  civilityGenderId  ...      gender_F  \\\n",
       "count    98913.000000    98913.000000      98913.000000  ...  98913.000000   \n",
       "mean         1.562595        0.171929          1.773993  ...      0.769575   \n",
       "std         25.192793        2.332266          0.428679  ...      0.421107   \n",
       "min          0.000000        0.000000          1.000000  ...      0.000000   \n",
       "25%          0.000000        0.000000          2.000000  ...      1.000000   \n",
       "50%          0.000000        0.000000          2.000000  ...      1.000000   \n",
       "75%          0.000000        0.000000          2.000000  ...      1.000000   \n",
       "max       2635.000000      405.000000          3.000000  ...      1.000000   \n",
       "\n",
       "           gender_M  civilityTitle_miss  civilityTitle_mr  civilityTitle_mrs  \\\n",
       "count  98913.000000        98913.000000      98913.000000       98913.000000   \n",
       "mean       0.230425            0.004418          0.230425           0.765157   \n",
       "std        0.421107            0.066322          0.421107           0.423903   \n",
       "min        0.000000            0.000000          0.000000           0.000000   \n",
       "25%        0.000000            0.000000          0.000000           1.000000   \n",
       "50%        0.000000            0.000000          0.000000           1.000000   \n",
       "75%        0.000000            0.000000          0.000000           1.000000   \n",
       "max        1.000000            1.000000          1.000000           1.000000   \n",
       "\n",
       "            lang_de       lang_en       lang_es       lang_fr       lang_it  \n",
       "count  98913.000000  98913.000000  98913.000000  98913.000000  98913.000000  \n",
       "mean       0.072569      0.521307      0.060993      0.266618      0.078513  \n",
       "std        0.259429      0.499548      0.239319      0.442193      0.268979  \n",
       "min        0.000000      0.000000      0.000000      0.000000      0.000000  \n",
       "25%        0.000000      0.000000      0.000000      0.000000      0.000000  \n",
       "50%        0.000000      1.000000      0.000000      0.000000      0.000000  \n",
       "75%        0.000000      1.000000      0.000000      1.000000      0.000000  \n",
       "max        1.000000      1.000000      1.000000      1.000000      1.000000  \n",
       "\n",
       "[8 rows x 228 columns]"
      ]
     },
     "execution_count": 30,
     "metadata": {},
     "output_type": "execute_result"
    }
   ],
   "source": [
    "df.describe()"
   ]
  },
  {
   "cell_type": "code",
   "execution_count": null,
   "metadata": {},
   "outputs": [],
   "source": [
    "df.to_csv(r'/Users/oluwafemibabatunde/Desktop/Springboard/capstone_three/C2C Business Analytics/data/step1DF_output.csv')"
   ]
  },
  {
   "cell_type": "markdown",
   "metadata": {},
   "source": [
    "It should be noted that this dataset was cleaned from source. Some steps were not done because of the clean nature of the dataset. The dataset will be explored visually to enable us gain more insight on the relationships that exist within the dataset. Segmentation will also be caried out on the dataset to know the proportion of the dataset that can be categorized as seller and buyers respectively"
   ]
  },
  {
   "cell_type": "code",
   "execution_count": null,
   "metadata": {},
   "outputs": [],
   "source": []
  }
 ],
 "metadata": {
  "kernelspec": {
   "display_name": "Python 3",
   "language": "python",
   "name": "python3"
  },
  "language_info": {
   "codemirror_mode": {
    "name": "ipython",
    "version": 3
   },
   "file_extension": ".py",
   "mimetype": "text/x-python",
   "name": "python",
   "nbconvert_exporter": "python",
   "pygments_lexer": "ipython3",
   "version": "3.7.4"
  }
 },
 "nbformat": 4,
 "nbformat_minor": 2
}
