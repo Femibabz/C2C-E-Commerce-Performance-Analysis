{
 "cells": [
  {
   "cell_type": "markdown",
   "metadata": {},
   "source": [
    "# Company 2 Company Business Analysis"
   ]
  },
  {
   "cell_type": "markdown",
   "metadata": {},
   "source": [
    "This project will work on a fashion customer-to-customer (C2C) e-commerce platform that enables users to sell products to other users on the platform. The performance of a seller on the platform does not only depend on the user interface of the C2C platform, but it is also a function of the type of products uploaded by the seller, the image quality of the product, its description, customer service and social engagement of sellers (The factors are not limited to those stated). The following insights will be drawn from the available data: • Factors that contribute to sellers being able to generate good sales from the e-commerce platform • What is the typical lifetime value of a customer on the platform? • What is the average retention rate of buyers on the e-commerce platform? • Considering that the platform is situated in France, what is the tendency that other users from other countries will sign up on the platform. • How active are users generally on the e-commerce platform?"
   ]
  },
  {
   "cell_type": "markdown",
   "metadata": {},
   "source": [
    "## Modeling\n",
    "* Fit Models with Training Data Set\n",
    "* Review Model Outcomes — Iterate over additional models as needed.\n",
    "* Identify the Final Model"
   ]
  },
  {
   "cell_type": "code",
   "execution_count": 1,
   "metadata": {},
   "outputs": [],
   "source": [
    "import os\n",
    "import pandas as pd\n",
    "import numpy as np\n",
    "import matplotlib.pyplot as plt\n",
    "import seaborn as sns\n",
    "import datetime\n",
    "from sklearn.cluster import KMeans\n",
    "%matplotlib inline\n",
    "from sklearn import preprocessing\n",
    "# Import the train_test_split function from the sklearn.model_selection utility.  \n",
    "from sklearn.model_selection import train_test_split\n",
    "import pickle \n",
    "from sklearn.metrics import explained_variance_score,mean_absolute_error"
   ]
  },
  {
   "cell_type": "markdown",
   "metadata": {},
   "source": [
    "Import dataset for seller"
   ]
  },
  {
   "cell_type": "markdown",
   "metadata": {},
   "source": [
    "The dataset used for this modelling have been normalized and scaled during the preprocessing stage of this project"
   ]
  },
  {
   "cell_type": "code",
   "execution_count": 2,
   "metadata": {},
   "outputs": [],
   "source": [
    "path = '/Users/oluwafemibabatunde/Desktop/Springboard/capstone_three/C2C Business Analytics/data'\n",
    "os.chdir(path)\n",
    "yseller_train = pd.read_csv('yseller_train.csv')\n",
    "yseller_test = pd.read_csv('yseller_test.csv')\n",
    "Xseller_train = pd.read_csv('Xseller_train.csv')\n",
    "Xseller_test = pd.read_csv('Xseller_test.csv')"
   ]
  },
  {
   "cell_type": "code",
   "execution_count": 3,
   "metadata": {
    "scrolled": true
   },
   "outputs": [
    {
     "data": {
      "text/html": [
       "<div>\n",
       "<style scoped>\n",
       "    .dataframe tbody tr th:only-of-type {\n",
       "        vertical-align: middle;\n",
       "    }\n",
       "\n",
       "    .dataframe tbody tr th {\n",
       "        vertical-align: top;\n",
       "    }\n",
       "\n",
       "    .dataframe thead th {\n",
       "        text-align: right;\n",
       "    }\n",
       "</style>\n",
       "<table border=\"1\" class=\"dataframe\">\n",
       "  <thead>\n",
       "    <tr style=\"text-align: right;\">\n",
       "      <th></th>\n",
       "      <th>Unnamed: 0</th>\n",
       "      <th>ScproductsSold</th>\n",
       "    </tr>\n",
       "  </thead>\n",
       "  <tbody>\n",
       "    <tr>\n",
       "      <td>0</td>\n",
       "      <td>52379</td>\n",
       "      <td>-0.121688</td>\n",
       "    </tr>\n",
       "    <tr>\n",
       "      <td>1</td>\n",
       "      <td>38164</td>\n",
       "      <td>-0.121688</td>\n",
       "    </tr>\n",
       "    <tr>\n",
       "      <td>2</td>\n",
       "      <td>88130</td>\n",
       "      <td>-0.121688</td>\n",
       "    </tr>\n",
       "    <tr>\n",
       "      <td>3</td>\n",
       "      <td>56584</td>\n",
       "      <td>-0.121688</td>\n",
       "    </tr>\n",
       "    <tr>\n",
       "      <td>4</td>\n",
       "      <td>85503</td>\n",
       "      <td>-0.121688</td>\n",
       "    </tr>\n",
       "    <tr>\n",
       "      <td>5</td>\n",
       "      <td>16078</td>\n",
       "      <td>-0.121688</td>\n",
       "    </tr>\n",
       "    <tr>\n",
       "      <td>6</td>\n",
       "      <td>66502</td>\n",
       "      <td>-0.121688</td>\n",
       "    </tr>\n",
       "    <tr>\n",
       "      <td>7</td>\n",
       "      <td>22275</td>\n",
       "      <td>-0.121688</td>\n",
       "    </tr>\n",
       "    <tr>\n",
       "      <td>8</td>\n",
       "      <td>38470</td>\n",
       "      <td>-0.121688</td>\n",
       "    </tr>\n",
       "    <tr>\n",
       "      <td>9</td>\n",
       "      <td>66713</td>\n",
       "      <td>-0.121688</td>\n",
       "    </tr>\n",
       "  </tbody>\n",
       "</table>\n",
       "</div>"
      ],
      "text/plain": [
       "   Unnamed: 0  ScproductsSold\n",
       "0       52379       -0.121688\n",
       "1       38164       -0.121688\n",
       "2       88130       -0.121688\n",
       "3       56584       -0.121688\n",
       "4       85503       -0.121688\n",
       "5       16078       -0.121688\n",
       "6       66502       -0.121688\n",
       "7       22275       -0.121688\n",
       "8       38470       -0.121688\n",
       "9       66713       -0.121688"
      ]
     },
     "execution_count": 3,
     "metadata": {},
     "output_type": "execute_result"
    }
   ],
   "source": [
    "yseller_train.head(10)"
   ]
  },
  {
   "cell_type": "code",
   "execution_count": 4,
   "metadata": {},
   "outputs": [
    {
     "data": {
      "text/plain": [
       "(74184, 225)"
      ]
     },
     "execution_count": 4,
     "metadata": {},
     "output_type": "execute_result"
    }
   ],
   "source": [
    "Xseller_train.shape"
   ]
  },
  {
   "cell_type": "code",
   "execution_count": 5,
   "metadata": {},
   "outputs": [],
   "source": [
    "yseller_train = yseller_train.drop(['Unnamed: 0'], axis=1)\n",
    "yseller_test = yseller_test.drop(['Unnamed: 0'], axis=1)\n",
    "Xseller_train = Xseller_train.drop(['Unnamed: 0'], axis=1)\n",
    "Xseller_test = Xseller_test.drop(['Unnamed: 0'], axis=1)"
   ]
  },
  {
   "cell_type": "markdown",
   "metadata": {},
   "source": [
    "Import dataset for buyer"
   ]
  },
  {
   "cell_type": "code",
   "execution_count": 6,
   "metadata": {},
   "outputs": [],
   "source": [
    "ybuyer_train = pd.read_csv('ybuyer_train.csv')\n",
    "ybuyer_test = pd.read_csv('ybuyer_test.csv')\n",
    "Xbuyer_train = pd.read_csv('Xbuyer_train.csv')\n",
    "Xbuyer_test = pd.read_csv('Xbuyer_test.csv')"
   ]
  },
  {
   "cell_type": "code",
   "execution_count": 7,
   "metadata": {},
   "outputs": [],
   "source": [
    "ybuyer_train = ybuyer_train.drop(['Unnamed: 0'], axis=1)\n",
    "ybuyer_test = ybuyer_test.drop(['Unnamed: 0'], axis=1)\n",
    "Xbuyer_train = Xbuyer_train.drop(['Unnamed: 0'], axis=1)\n",
    "Xbuyer_test = Xbuyer_test.drop(['Unnamed: 0'], axis=1)"
   ]
  },
  {
   "cell_type": "markdown",
   "metadata": {},
   "source": [
    "Import dataset for Unscaled dataframe"
   ]
  },
  {
   "cell_type": "code",
   "execution_count": 8,
   "metadata": {},
   "outputs": [],
   "source": [
    "yPseller_train = pd.read_csv('yPseller_train.csv')\n",
    "yPseller_test = pd.read_csv('yPseller_test.csv')\n",
    "XPseller_train = pd.read_csv('XPseller_train.csv')\n",
    "XPseller_test = pd.read_csv('XPseller_test.csv')"
   ]
  },
  {
   "cell_type": "code",
   "execution_count": 9,
   "metadata": {},
   "outputs": [
    {
     "data": {
      "text/html": [
       "<div>\n",
       "<style scoped>\n",
       "    .dataframe tbody tr th:only-of-type {\n",
       "        vertical-align: middle;\n",
       "    }\n",
       "\n",
       "    .dataframe tbody tr th {\n",
       "        vertical-align: top;\n",
       "    }\n",
       "\n",
       "    .dataframe thead th {\n",
       "        text-align: right;\n",
       "    }\n",
       "</style>\n",
       "<table border=\"1\" class=\"dataframe\">\n",
       "  <thead>\n",
       "    <tr style=\"text-align: right;\">\n",
       "      <th></th>\n",
       "      <th>Unnamed: 0</th>\n",
       "      <th>productsSold</th>\n",
       "    </tr>\n",
       "  </thead>\n",
       "  <tbody>\n",
       "    <tr>\n",
       "      <td>0</td>\n",
       "      <td>52379</td>\n",
       "      <td>0</td>\n",
       "    </tr>\n",
       "    <tr>\n",
       "      <td>1</td>\n",
       "      <td>38164</td>\n",
       "      <td>0</td>\n",
       "    </tr>\n",
       "    <tr>\n",
       "      <td>2</td>\n",
       "      <td>88130</td>\n",
       "      <td>0</td>\n",
       "    </tr>\n",
       "    <tr>\n",
       "      <td>3</td>\n",
       "      <td>56584</td>\n",
       "      <td>0</td>\n",
       "    </tr>\n",
       "    <tr>\n",
       "      <td>4</td>\n",
       "      <td>85503</td>\n",
       "      <td>0</td>\n",
       "    </tr>\n",
       "  </tbody>\n",
       "</table>\n",
       "</div>"
      ],
      "text/plain": [
       "   Unnamed: 0  productsSold\n",
       "0       52379             0\n",
       "1       38164             0\n",
       "2       88130             0\n",
       "3       56584             0\n",
       "4       85503             0"
      ]
     },
     "execution_count": 9,
     "metadata": {},
     "output_type": "execute_result"
    }
   ],
   "source": [
    "yPseller_train.head()"
   ]
  },
  {
   "cell_type": "code",
   "execution_count": 10,
   "metadata": {},
   "outputs": [],
   "source": [
    "yPseller_train = yPseller_train.drop(['Unnamed: 0'], axis=1)\n",
    "yPseller_test = yPseller_test.drop(['Unnamed: 0'], axis=1)\n",
    "XPseller_train = XPseller_train.drop(['Unnamed: 0'], axis=1)\n",
    "XPseller_test = XPseller_test.drop(['Unnamed: 0'], axis=1)"
   ]
  },
  {
   "cell_type": "code",
   "execution_count": 11,
   "metadata": {},
   "outputs": [],
   "source": [
    "yPbuyer_train = pd.read_csv('yPbuyer_train.csv')\n",
    "yPbuyer_test = pd.read_csv('yPbuyer_test.csv')\n",
    "XPbuyer_train = pd.read_csv('XPbuyer_train.csv')\n",
    "XPbuyer_test = pd.read_csv('XPbuyer_test.csv')"
   ]
  },
  {
   "cell_type": "code",
   "execution_count": 12,
   "metadata": {},
   "outputs": [],
   "source": [
    "yPbuyer_train = yPbuyer_train.drop(['Unnamed: 0'], axis=1)\n",
    "yPbuyer_test = yPbuyer_test.drop(['Unnamed: 0'], axis=1)\n",
    "XPbuyer_train = XPbuyer_train.drop(['Unnamed: 0'], axis=1)\n",
    "XPbuyer_test = XPbuyer_test.drop(['Unnamed: 0'], axis=1)"
   ]
  },
  {
   "cell_type": "markdown",
   "metadata": {},
   "source": [
    "Import main X dataframes"
   ]
  },
  {
   "cell_type": "code",
   "execution_count": 13,
   "metadata": {},
   "outputs": [],
   "source": [
    "Xseller = pd.read_csv('Xseller.csv')\n",
    "Xbuyer = pd.read_csv('Xbuyer.csv')\n",
    "XPseller = pd.read_csv('XPseller.csv')\n",
    "XPbuyer = pd.read_csv('XPbuyer.csv')"
   ]
  },
  {
   "cell_type": "code",
   "execution_count": 14,
   "metadata": {},
   "outputs": [],
   "source": [
    "Xseller = Xseller.drop(['Unnamed: 0'], axis=1)\n",
    "Xbuyer = Xbuyer.drop(['Unnamed: 0'], axis=1)\n",
    "XPseller = XPseller.drop(['Unnamed: 0'], axis=1)\n",
    "XPbuyer = XPbuyer.drop(['Unnamed: 0'], axis=1)"
   ]
  },
  {
   "cell_type": "code",
   "execution_count": 15,
   "metadata": {},
   "outputs": [],
   "source": [
    "yseller = pd.read_csv('yseller.csv', header = None)\n",
    "ybuyer = pd.read_csv('ybuyer.csv',header = None)\n",
    "yPseller = pd.read_csv('yPseller.csv',header = None)\n",
    "yPbuyer = pd.read_csv('yPbuyer.csv',header = None)"
   ]
  },
  {
   "cell_type": "code",
   "execution_count": 16,
   "metadata": {},
   "outputs": [],
   "source": [
    "yseller = yseller.drop([0], axis=1)\n",
    "ybuyer = ybuyer.drop([0], axis=1)\n",
    "yPseller = yPseller.drop([0], axis=1)\n",
    "yPbuyer = yPbuyer.drop([0], axis=1)"
   ]
  },
  {
   "cell_type": "markdown",
   "metadata": {},
   "source": [
    "Feature Selection "
   ]
  },
  {
   "cell_type": "code",
   "execution_count": 17,
   "metadata": {},
   "outputs": [],
   "source": [
    "from sklearn.feature_selection import SelectKBest\n",
    "from sklearn.feature_selection import f_regression\n",
    "from matplotlib import pyplot\n",
    "from sklearn.dummy import DummyRegressor"
   ]
  },
  {
   "cell_type": "markdown",
   "metadata": {},
   "source": [
    "### Using the Dummy Regressor to determine the baseline performance for other models "
   ]
  },
  {
   "cell_type": "code",
   "execution_count": 18,
   "metadata": {},
   "outputs": [
    {
     "name": "stdout",
     "output_type": "stream",
     "text": [
      "MAE: 0.233\n"
     ]
    }
   ],
   "source": [
    " from sklearn.dummy import DummyRegressor\n",
    "\n",
    "# feature selection\n",
    "def select_features(X_train, y_train, X_test):\n",
    "\t# configure to select a subset of features\n",
    "\tnp.seterr(divide='ignore', invalid='ignore')\n",
    "\tfs = SelectKBest(score_func=f_regression, k=10)\n",
    "\t# learn relationship from training data\n",
    "\tfs.fit(Xseller_train, yseller_train.values.ravel())\n",
    "\t# transform train input data\n",
    "\tX_train_fs = fs.transform(Xseller_train)\n",
    "\t# transform test input data\n",
    "\tX_test_fs = fs.transform(Xseller_test)\n",
    "\treturn X_train_fs, X_test_fs, fs\n",
    "\n",
    "# feature selection\n",
    "X_train_fs, X_test_fs, fs = select_features(Xseller_train, yseller_train, Xseller_test)\n",
    "# fit the model\n",
    "dummy_regr = DummyRegressor(strategy=\"mean\")\n",
    "dummy_regr.fit(X_train_fs, yseller_train)\n",
    "# evaluate the model\n",
    "yhat = dummy_regr.predict(X_test_fs)\n",
    "# evaluate predictions\n",
    "mae = mean_absolute_error(yseller_test,yhat)\n",
    "print('MAE: %.3f' % mae)\n"
   ]
  },
  {
   "cell_type": "code",
   "execution_count": 19,
   "metadata": {},
   "outputs": [
    {
     "data": {
      "text/plain": [
       "0.0"
      ]
     },
     "execution_count": 19,
     "metadata": {},
     "output_type": "execute_result"
    }
   ],
   "source": [
    "dummy_regr.score(X_train_fs, yseller_train)"
   ]
  },
  {
   "cell_type": "code",
   "execution_count": 20,
   "metadata": {
    "scrolled": true
   },
   "outputs": [
    {
     "data": {
      "text/plain": [
       "-0.0001326124669798201"
      ]
     },
     "execution_count": 20,
     "metadata": {},
     "output_type": "execute_result"
    }
   ],
   "source": [
    "dummy_regr.score(X_test_fs,yseller_test)"
   ]
  },
  {
   "cell_type": "markdown",
   "metadata": {},
   "source": [
    "#### Multiple Linear Regression for Sellers"
   ]
  },
  {
   "cell_type": "code",
   "execution_count": 21,
   "metadata": {
    "scrolled": false
   },
   "outputs": [
    {
     "name": "stdout",
     "output_type": "stream",
     "text": [
      "MAE: 0.113\n"
     ]
    }
   ],
   "source": [
    "\n",
    "from sklearn.linear_model import LinearRegression\n",
    "from sklearn.metrics import mean_absolute_error\n",
    "\n",
    "# feature selection\n",
    "def select_features(X_train, y_train, X_test):\n",
    "\t# configure to select a subset of features\n",
    "\tnp.seterr(divide='ignore', invalid='ignore')\n",
    "\tfs = SelectKBest(score_func=f_regression, k=20)\n",
    "\t# learn relationship from training data\n",
    "\tfs.fit(Xseller_train, yseller_train.values.ravel())\n",
    "\tcols = fs.get_support(indices=True)\n",
    "    # transform train input data\n",
    "\tX_train_fs = fs.transform(Xseller_train)\n",
    "\tX_train_fs = Xseller_train.iloc[:,cols]\n",
    "    # transform test input data\n",
    "\tX_test_fs = fs.transform(Xseller_test)\n",
    "\tX_test_fs = Xseller_test.iloc[:,cols]\n",
    "\treturn X_train_fs, X_test_fs, fs\n",
    "\n",
    "\n",
    "# feature selection\n",
    "X_train_fs, X_test_fs, fs = select_features(Xseller_train, yseller_train, Xseller_test)\n",
    "# fit the model\n",
    "model = LinearRegression()\n",
    "model.fit(X_train_fs, yseller_train)\n",
    "# evaluate the model\n",
    "yhat = model.predict(X_test_fs)\n",
    "# evaluate predictions\n",
    "mae = mean_absolute_error(yseller_test,yhat)\n",
    "print('MAE: %.3f' % mae)"
   ]
  },
  {
   "cell_type": "code",
   "execution_count": 22,
   "metadata": {},
   "outputs": [
    {
     "data": {
      "text/plain": [
       "0.7943288722212916"
      ]
     },
     "execution_count": 22,
     "metadata": {},
     "output_type": "execute_result"
    }
   ],
   "source": [
    "explained_variance_score(yseller_test,yhat)"
   ]
  },
  {
   "cell_type": "code",
   "execution_count": 23,
   "metadata": {},
   "outputs": [
    {
     "data": {
      "text/plain": [
       "81.60825819126237"
      ]
     },
     "execution_count": 23,
     "metadata": {},
     "output_type": "execute_result"
    }
   ],
   "source": [
    "LR_Train = model.score(X_train_fs, yseller_train)*100\n",
    "\n",
    "LR_Train"
   ]
  },
  {
   "cell_type": "code",
   "execution_count": 24,
   "metadata": {},
   "outputs": [
    {
     "data": {
      "text/plain": [
       "79.42886652956831"
      ]
     },
     "execution_count": 24,
     "metadata": {},
     "output_type": "execute_result"
    }
   ],
   "source": [
    "LR_Test = model.score(X_test_fs,yseller_test)*100\n",
    "\n",
    "LR_Test"
   ]
  },
  {
   "cell_type": "code",
   "execution_count": 25,
   "metadata": {
    "scrolled": true
   },
   "outputs": [
    {
     "data": {
      "text/html": [
       "<div>\n",
       "<style scoped>\n",
       "    .dataframe tbody tr th:only-of-type {\n",
       "        vertical-align: middle;\n",
       "    }\n",
       "\n",
       "    .dataframe tbody tr th {\n",
       "        vertical-align: top;\n",
       "    }\n",
       "\n",
       "    .dataframe thead th {\n",
       "        text-align: right;\n",
       "    }\n",
       "</style>\n",
       "<table border=\"1\" class=\"dataframe\">\n",
       "  <thead>\n",
       "    <tr style=\"text-align: right;\">\n",
       "      <th></th>\n",
       "      <th>Coefficient</th>\n",
       "    </tr>\n",
       "  </thead>\n",
       "  <tbody>\n",
       "    <tr>\n",
       "      <td>ScproductsPassRate</td>\n",
       "      <td>0.585766</td>\n",
       "    </tr>\n",
       "    <tr>\n",
       "      <td>ScproductsListed</td>\n",
       "      <td>0.278973</td>\n",
       "    </tr>\n",
       "    <tr>\n",
       "      <td>country_Bulgarie</td>\n",
       "      <td>0.236275</td>\n",
       "    </tr>\n",
       "    <tr>\n",
       "      <td>ScSocialNbFollowers</td>\n",
       "      <td>0.203112</td>\n",
       "    </tr>\n",
       "    <tr>\n",
       "      <td>country_Croatie</td>\n",
       "      <td>0.194417</td>\n",
       "    </tr>\n",
       "    <tr>\n",
       "      <td>country_Monaco</td>\n",
       "      <td>0.184291</td>\n",
       "    </tr>\n",
       "    <tr>\n",
       "      <td>civilityTitle_miss</td>\n",
       "      <td>0.165388</td>\n",
       "    </tr>\n",
       "    <tr>\n",
       "      <td>hasAnyApp</td>\n",
       "      <td>0.101891</td>\n",
       "    </tr>\n",
       "    <tr>\n",
       "      <td>hasProfilePicture</td>\n",
       "      <td>0.094784</td>\n",
       "    </tr>\n",
       "    <tr>\n",
       "      <td>hasAndroidApp</td>\n",
       "      <td>0.093345</td>\n",
       "    </tr>\n",
       "    <tr>\n",
       "      <td>hasIosApp</td>\n",
       "      <td>0.087368</td>\n",
       "    </tr>\n",
       "    <tr>\n",
       "      <td>ScdaysSinceLastLogin</td>\n",
       "      <td>0.030866</td>\n",
       "    </tr>\n",
       "    <tr>\n",
       "      <td>country_Italie</td>\n",
       "      <td>0.029496</td>\n",
       "    </tr>\n",
       "    <tr>\n",
       "      <td>lang_it</td>\n",
       "      <td>0.029126</td>\n",
       "    </tr>\n",
       "    <tr>\n",
       "      <td>ScsocialProductsLiked</td>\n",
       "      <td>0.025535</td>\n",
       "    </tr>\n",
       "    <tr>\n",
       "      <td>ScsocialNbFollows</td>\n",
       "      <td>0.017874</td>\n",
       "    </tr>\n",
       "    <tr>\n",
       "      <td>lang_en</td>\n",
       "      <td>0.015548</td>\n",
       "    </tr>\n",
       "    <tr>\n",
       "      <td>ScproductsWished</td>\n",
       "      <td>0.015066</td>\n",
       "    </tr>\n",
       "    <tr>\n",
       "      <td>ScproductsBought</td>\n",
       "      <td>0.014553</td>\n",
       "    </tr>\n",
       "    <tr>\n",
       "      <td>country_Etats-Unis</td>\n",
       "      <td>0.001906</td>\n",
       "    </tr>\n",
       "  </tbody>\n",
       "</table>\n",
       "</div>"
      ],
      "text/plain": [
       "                       Coefficient\n",
       "ScproductsPassRate        0.585766\n",
       "ScproductsListed          0.278973\n",
       "country_Bulgarie          0.236275\n",
       "ScSocialNbFollowers       0.203112\n",
       "country_Croatie           0.194417\n",
       "country_Monaco            0.184291\n",
       "civilityTitle_miss        0.165388\n",
       "hasAnyApp                 0.101891\n",
       "hasProfilePicture         0.094784\n",
       "hasAndroidApp             0.093345\n",
       "hasIosApp                 0.087368\n",
       "ScdaysSinceLastLogin      0.030866\n",
       "country_Italie            0.029496\n",
       "lang_it                   0.029126\n",
       "ScsocialProductsLiked     0.025535\n",
       "ScsocialNbFollows         0.017874\n",
       "lang_en                   0.015548\n",
       "ScproductsWished          0.015066\n",
       "ScproductsBought          0.014553\n",
       "country_Etats-Unis        0.001906"
      ]
     },
     "execution_count": 25,
     "metadata": {},
     "output_type": "execute_result"
    }
   ],
   "source": [
    "pd.DataFrame(abs(model.coef_).T, X_train_fs.columns, columns=['Coefficient']).sort_values(by='Coefficient', ascending= False).head(20)"
   ]
  },
  {
   "cell_type": "markdown",
   "metadata": {},
   "source": [
    "The features' ranking is absurd as the first three coefficients displayed had figures that do not support the underlying distribution of the features. For instance, the civilityGenderId feature is a boolean feature before transformation but it gave a coefficient that do not support the expected impact it should have on the dependent variable. As a result, cross validation will be carried out to confirm if the score gotten is right."
   ]
  },
  {
   "cell_type": "code",
   "execution_count": 26,
   "metadata": {},
   "outputs": [
    {
     "data": {
      "text/plain": [
       "array([0.8140221 , 0.83904265, 0.81464461, 0.797932  , 0.80915349])"
      ]
     },
     "execution_count": 26,
     "metadata": {},
     "output_type": "execute_result"
    }
   ],
   "source": [
    "from sklearn.model_selection import RepeatedKFold\n",
    "from sklearn.model_selection import cross_val_score\n",
    "from scipy.stats import sem\n",
    "from sklearn.model_selection import KFold\n",
    "from sklearn.model_selection import GridSearchCV\n",
    "from matplotlib import pyplot\n",
    "\n",
    "lm = LinearRegression()\n",
    "# create a KFold object with 5 splits \n",
    "folds = KFold(n_splits = 5, shuffle = True, random_state = 100)\n",
    "scores = cross_val_score(lm, X_train_fs, yseller_train, scoring='r2', cv=folds)\n",
    "scores "
   ]
  },
  {
   "cell_type": "markdown",
   "metadata": {},
   "source": [
    "The scores gotten from the cross validation process above are in the range of the initial model done for the seller dataframe. To affirm the performance of the linear model, GridsearchCV will be carried out the datset"
   ]
  },
  {
   "cell_type": "markdown",
   "metadata": {},
   "source": [
    "### Using GridSearch on Seller Dataset"
   ]
  },
  {
   "cell_type": "code",
   "execution_count": 27,
   "metadata": {
    "scrolled": true
   },
   "outputs": [
    {
     "name": "stdout",
     "output_type": "stream",
     "text": [
      "Fitting 5 folds for each of 19 candidates, totalling 95 fits\n"
     ]
    },
    {
     "data": {
      "text/plain": [
       "GridSearchCV(cv=KFold(n_splits=5, random_state=100, shuffle=True),\n",
       "             estimator=RFE(estimator=LinearRegression()),\n",
       "             param_grid=[{'n_features_to_select': [1, 2, 3, 4, 5, 6, 7, 8, 9,\n",
       "                                                   10, 11, 12, 13, 14, 15, 16,\n",
       "                                                   17, 18, 19]}],\n",
       "             return_train_score=True, scoring='r2', verbose=1)"
      ]
     },
     "execution_count": 27,
     "metadata": {},
     "output_type": "execute_result"
    }
   ],
   "source": [
    "from sklearn.feature_selection import RFE\n",
    "# step-1: create a cross-validation scheme\n",
    "folds = KFold(n_splits = 5, shuffle = True, random_state = 100)\n",
    "\n",
    "# step-2: specify range of hyperparameters to tune\n",
    "hyper_params = [{'n_features_to_select': list(range(1, 20))}]\n",
    "\n",
    "\n",
    "# step-3: perform grid search\n",
    "# 3.1 specify model\n",
    "lm = LinearRegression()\n",
    "lm.fit(X_train_fs, yseller_train.values.ravel())\n",
    "rfe = RFE(lm)             \n",
    "\n",
    "# 3.2 call GridSearchCV()\n",
    "model_cv = GridSearchCV(estimator = rfe, \n",
    "                        param_grid = hyper_params, \n",
    "                        scoring= 'r2', \n",
    "                        cv = folds, \n",
    "                        verbose = 1,\n",
    "                        return_train_score=True)      \n",
    "\n",
    "# fit the model\n",
    "model_cv.fit(X_train_fs, yseller_train.values.ravel())  "
   ]
  },
  {
   "cell_type": "code",
   "execution_count": 28,
   "metadata": {
    "scrolled": true
   },
   "outputs": [
    {
     "data": {
      "text/html": [
       "<div>\n",
       "<style scoped>\n",
       "    .dataframe tbody tr th:only-of-type {\n",
       "        vertical-align: middle;\n",
       "    }\n",
       "\n",
       "    .dataframe tbody tr th {\n",
       "        vertical-align: top;\n",
       "    }\n",
       "\n",
       "    .dataframe thead th {\n",
       "        text-align: right;\n",
       "    }\n",
       "</style>\n",
       "<table border=\"1\" class=\"dataframe\">\n",
       "  <thead>\n",
       "    <tr style=\"text-align: right;\">\n",
       "      <th></th>\n",
       "      <th>mean_fit_time</th>\n",
       "      <th>std_fit_time</th>\n",
       "      <th>mean_score_time</th>\n",
       "      <th>std_score_time</th>\n",
       "      <th>param_n_features_to_select</th>\n",
       "      <th>params</th>\n",
       "      <th>split0_test_score</th>\n",
       "      <th>split1_test_score</th>\n",
       "      <th>split2_test_score</th>\n",
       "      <th>split3_test_score</th>\n",
       "      <th>...</th>\n",
       "      <th>mean_test_score</th>\n",
       "      <th>std_test_score</th>\n",
       "      <th>rank_test_score</th>\n",
       "      <th>split0_train_score</th>\n",
       "      <th>split1_train_score</th>\n",
       "      <th>split2_train_score</th>\n",
       "      <th>split3_train_score</th>\n",
       "      <th>split4_train_score</th>\n",
       "      <th>mean_train_score</th>\n",
       "      <th>std_train_score</th>\n",
       "    </tr>\n",
       "  </thead>\n",
       "  <tbody>\n",
       "    <tr>\n",
       "      <td>0</td>\n",
       "      <td>0.284188</td>\n",
       "      <td>0.016798</td>\n",
       "      <td>0.004276</td>\n",
       "      <td>0.000114</td>\n",
       "      <td>1</td>\n",
       "      <td>{'n_features_to_select': 1}</td>\n",
       "      <td>0.730823</td>\n",
       "      <td>0.750827</td>\n",
       "      <td>0.717511</td>\n",
       "      <td>0.719100</td>\n",
       "      <td>...</td>\n",
       "      <td>0.726277</td>\n",
       "      <td>0.013599</td>\n",
       "      <td>19</td>\n",
       "      <td>0.725151</td>\n",
       "      <td>0.720285</td>\n",
       "      <td>0.728370</td>\n",
       "      <td>0.727966</td>\n",
       "      <td>0.730131</td>\n",
       "      <td>0.726381</td>\n",
       "      <td>0.003441</td>\n",
       "    </tr>\n",
       "    <tr>\n",
       "      <td>1</td>\n",
       "      <td>0.270979</td>\n",
       "      <td>0.004315</td>\n",
       "      <td>0.004804</td>\n",
       "      <td>0.000134</td>\n",
       "      <td>2</td>\n",
       "      <td>{'n_features_to_select': 2}</td>\n",
       "      <td>0.730522</td>\n",
       "      <td>0.750641</td>\n",
       "      <td>0.793847</td>\n",
       "      <td>0.718625</td>\n",
       "      <td>...</td>\n",
       "      <td>0.741329</td>\n",
       "      <td>0.029255</td>\n",
       "      <td>18</td>\n",
       "      <td>0.725265</td>\n",
       "      <td>0.720495</td>\n",
       "      <td>0.792963</td>\n",
       "      <td>0.728094</td>\n",
       "      <td>0.730337</td>\n",
       "      <td>0.739431</td>\n",
       "      <td>0.026967</td>\n",
       "    </tr>\n",
       "    <tr>\n",
       "      <td>2</td>\n",
       "      <td>0.264168</td>\n",
       "      <td>0.001435</td>\n",
       "      <td>0.005635</td>\n",
       "      <td>0.000089</td>\n",
       "      <td>3</td>\n",
       "      <td>{'n_features_to_select': 3}</td>\n",
       "      <td>0.730369</td>\n",
       "      <td>0.822866</td>\n",
       "      <td>0.793957</td>\n",
       "      <td>0.768413</td>\n",
       "      <td>...</td>\n",
       "      <td>0.780420</td>\n",
       "      <td>0.030565</td>\n",
       "      <td>17</td>\n",
       "      <td>0.725477</td>\n",
       "      <td>0.785848</td>\n",
       "      <td>0.793035</td>\n",
       "      <td>0.798545</td>\n",
       "      <td>0.795094</td>\n",
       "      <td>0.779600</td>\n",
       "      <td>0.027378</td>\n",
       "    </tr>\n",
       "    <tr>\n",
       "      <td>3</td>\n",
       "      <td>0.262872</td>\n",
       "      <td>0.003054</td>\n",
       "      <td>0.006637</td>\n",
       "      <td>0.001085</td>\n",
       "      <td>4</td>\n",
       "      <td>{'n_features_to_select': 4}</td>\n",
       "      <td>0.790603</td>\n",
       "      <td>0.822850</td>\n",
       "      <td>0.794047</td>\n",
       "      <td>0.768332</td>\n",
       "      <td>...</td>\n",
       "      <td>0.792457</td>\n",
       "      <td>0.017594</td>\n",
       "      <td>16</td>\n",
       "      <td>0.793962</td>\n",
       "      <td>0.785884</td>\n",
       "      <td>0.793089</td>\n",
       "      <td>0.798635</td>\n",
       "      <td>0.795422</td>\n",
       "      <td>0.793399</td>\n",
       "      <td>0.004204</td>\n",
       "    </tr>\n",
       "    <tr>\n",
       "      <td>4</td>\n",
       "      <td>0.282221</td>\n",
       "      <td>0.034833</td>\n",
       "      <td>0.004188</td>\n",
       "      <td>0.000297</td>\n",
       "      <td>5</td>\n",
       "      <td>{'n_features_to_select': 5}</td>\n",
       "      <td>0.790625</td>\n",
       "      <td>0.822390</td>\n",
       "      <td>0.812383</td>\n",
       "      <td>0.796013</td>\n",
       "      <td>...</td>\n",
       "      <td>0.805890</td>\n",
       "      <td>0.011399</td>\n",
       "      <td>14</td>\n",
       "      <td>0.794275</td>\n",
       "      <td>0.786292</td>\n",
       "      <td>0.814553</td>\n",
       "      <td>0.818073</td>\n",
       "      <td>0.815961</td>\n",
       "      <td>0.805831</td>\n",
       "      <td>0.012991</td>\n",
       "    </tr>\n",
       "    <tr>\n",
       "      <td>5</td>\n",
       "      <td>0.306422</td>\n",
       "      <td>0.040796</td>\n",
       "      <td>0.005013</td>\n",
       "      <td>0.001656</td>\n",
       "      <td>6</td>\n",
       "      <td>{'n_features_to_select': 6}</td>\n",
       "      <td>0.790714</td>\n",
       "      <td>0.822322</td>\n",
       "      <td>0.812426</td>\n",
       "      <td>0.796004</td>\n",
       "      <td>...</td>\n",
       "      <td>0.805874</td>\n",
       "      <td>0.011356</td>\n",
       "      <td>15</td>\n",
       "      <td>0.794330</td>\n",
       "      <td>0.786384</td>\n",
       "      <td>0.814562</td>\n",
       "      <td>0.818080</td>\n",
       "      <td>0.815967</td>\n",
       "      <td>0.805865</td>\n",
       "      <td>0.012957</td>\n",
       "    </tr>\n",
       "    <tr>\n",
       "      <td>6</td>\n",
       "      <td>0.284387</td>\n",
       "      <td>0.040463</td>\n",
       "      <td>0.004018</td>\n",
       "      <td>0.000131</td>\n",
       "      <td>7</td>\n",
       "      <td>{'n_features_to_select': 7}</td>\n",
       "      <td>0.812296</td>\n",
       "      <td>0.838384</td>\n",
       "      <td>0.812439</td>\n",
       "      <td>0.795999</td>\n",
       "      <td>...</td>\n",
       "      <td>0.813427</td>\n",
       "      <td>0.013843</td>\n",
       "      <td>12</td>\n",
       "      <td>0.814824</td>\n",
       "      <td>0.808290</td>\n",
       "      <td>0.814565</td>\n",
       "      <td>0.818081</td>\n",
       "      <td>0.815986</td>\n",
       "      <td>0.814349</td>\n",
       "      <td>0.003274</td>\n",
       "    </tr>\n",
       "    <tr>\n",
       "      <td>7</td>\n",
       "      <td>0.234627</td>\n",
       "      <td>0.002637</td>\n",
       "      <td>0.004123</td>\n",
       "      <td>0.000053</td>\n",
       "      <td>8</td>\n",
       "      <td>{'n_features_to_select': 8}</td>\n",
       "      <td>0.812300</td>\n",
       "      <td>0.838321</td>\n",
       "      <td>0.812436</td>\n",
       "      <td>0.795998</td>\n",
       "      <td>...</td>\n",
       "      <td>0.813400</td>\n",
       "      <td>0.013826</td>\n",
       "      <td>13</td>\n",
       "      <td>0.814995</td>\n",
       "      <td>0.808299</td>\n",
       "      <td>0.814565</td>\n",
       "      <td>0.818116</td>\n",
       "      <td>0.816180</td>\n",
       "      <td>0.814431</td>\n",
       "      <td>0.003304</td>\n",
       "    </tr>\n",
       "    <tr>\n",
       "      <td>8</td>\n",
       "      <td>0.226132</td>\n",
       "      <td>0.000983</td>\n",
       "      <td>0.004217</td>\n",
       "      <td>0.000108</td>\n",
       "      <td>9</td>\n",
       "      <td>{'n_features_to_select': 9}</td>\n",
       "      <td>0.812303</td>\n",
       "      <td>0.838313</td>\n",
       "      <td>0.812399</td>\n",
       "      <td>0.796287</td>\n",
       "      <td>...</td>\n",
       "      <td>0.813450</td>\n",
       "      <td>0.013751</td>\n",
       "      <td>11</td>\n",
       "      <td>0.815006</td>\n",
       "      <td>0.808308</td>\n",
       "      <td>0.814607</td>\n",
       "      <td>0.818186</td>\n",
       "      <td>0.816190</td>\n",
       "      <td>0.814459</td>\n",
       "      <td>0.003318</td>\n",
       "    </tr>\n",
       "    <tr>\n",
       "      <td>9</td>\n",
       "      <td>0.215340</td>\n",
       "      <td>0.006737</td>\n",
       "      <td>0.004792</td>\n",
       "      <td>0.000475</td>\n",
       "      <td>10</td>\n",
       "      <td>{'n_features_to_select': 10}</td>\n",
       "      <td>0.812295</td>\n",
       "      <td>0.838333</td>\n",
       "      <td>0.812748</td>\n",
       "      <td>0.796674</td>\n",
       "      <td>...</td>\n",
       "      <td>0.813601</td>\n",
       "      <td>0.013657</td>\n",
       "      <td>10</td>\n",
       "      <td>0.815006</td>\n",
       "      <td>0.808336</td>\n",
       "      <td>0.814645</td>\n",
       "      <td>0.818259</td>\n",
       "      <td>0.816191</td>\n",
       "      <td>0.814488</td>\n",
       "      <td>0.003325</td>\n",
       "    </tr>\n",
       "    <tr>\n",
       "      <td>10</td>\n",
       "      <td>0.201953</td>\n",
       "      <td>0.002839</td>\n",
       "      <td>0.005186</td>\n",
       "      <td>0.000293</td>\n",
       "      <td>11</td>\n",
       "      <td>{'n_features_to_select': 11}</td>\n",
       "      <td>0.812357</td>\n",
       "      <td>0.838476</td>\n",
       "      <td>0.812900</td>\n",
       "      <td>0.796734</td>\n",
       "      <td>...</td>\n",
       "      <td>0.813696</td>\n",
       "      <td>0.013686</td>\n",
       "      <td>9</td>\n",
       "      <td>0.815021</td>\n",
       "      <td>0.808476</td>\n",
       "      <td>0.814782</td>\n",
       "      <td>0.818260</td>\n",
       "      <td>0.816204</td>\n",
       "      <td>0.814549</td>\n",
       "      <td>0.003276</td>\n",
       "    </tr>\n",
       "    <tr>\n",
       "      <td>11</td>\n",
       "      <td>0.193385</td>\n",
       "      <td>0.008515</td>\n",
       "      <td>0.005205</td>\n",
       "      <td>0.000343</td>\n",
       "      <td>12</td>\n",
       "      <td>{'n_features_to_select': 12}</td>\n",
       "      <td>0.813561</td>\n",
       "      <td>0.838859</td>\n",
       "      <td>0.812890</td>\n",
       "      <td>0.796636</td>\n",
       "      <td>...</td>\n",
       "      <td>0.813895</td>\n",
       "      <td>0.013876</td>\n",
       "      <td>8</td>\n",
       "      <td>0.815325</td>\n",
       "      <td>0.809039</td>\n",
       "      <td>0.814799</td>\n",
       "      <td>0.818291</td>\n",
       "      <td>0.816812</td>\n",
       "      <td>0.814853</td>\n",
       "      <td>0.003152</td>\n",
       "    </tr>\n",
       "    <tr>\n",
       "      <td>12</td>\n",
       "      <td>0.184710</td>\n",
       "      <td>0.009983</td>\n",
       "      <td>0.005664</td>\n",
       "      <td>0.000585</td>\n",
       "      <td>13</td>\n",
       "      <td>{'n_features_to_select': 13}</td>\n",
       "      <td>0.813829</td>\n",
       "      <td>0.839191</td>\n",
       "      <td>0.812861</td>\n",
       "      <td>0.796601</td>\n",
       "      <td>...</td>\n",
       "      <td>0.814086</td>\n",
       "      <td>0.013966</td>\n",
       "      <td>7</td>\n",
       "      <td>0.815740</td>\n",
       "      <td>0.809435</td>\n",
       "      <td>0.814807</td>\n",
       "      <td>0.818299</td>\n",
       "      <td>0.817223</td>\n",
       "      <td>0.815101</td>\n",
       "      <td>0.003077</td>\n",
       "    </tr>\n",
       "    <tr>\n",
       "      <td>13</td>\n",
       "      <td>0.165755</td>\n",
       "      <td>0.006586</td>\n",
       "      <td>0.005412</td>\n",
       "      <td>0.000405</td>\n",
       "      <td>14</td>\n",
       "      <td>{'n_features_to_select': 14}</td>\n",
       "      <td>0.813369</td>\n",
       "      <td>0.839013</td>\n",
       "      <td>0.813139</td>\n",
       "      <td>0.796524</td>\n",
       "      <td>...</td>\n",
       "      <td>0.814087</td>\n",
       "      <td>0.013883</td>\n",
       "      <td>6</td>\n",
       "      <td>0.816171</td>\n",
       "      <td>0.809792</td>\n",
       "      <td>0.815384</td>\n",
       "      <td>0.818948</td>\n",
       "      <td>0.817583</td>\n",
       "      <td>0.815575</td>\n",
       "      <td>0.003138</td>\n",
       "    </tr>\n",
       "    <tr>\n",
       "      <td>14</td>\n",
       "      <td>0.149580</td>\n",
       "      <td>0.003794</td>\n",
       "      <td>0.005642</td>\n",
       "      <td>0.000426</td>\n",
       "      <td>15</td>\n",
       "      <td>{'n_features_to_select': 15}</td>\n",
       "      <td>0.813379</td>\n",
       "      <td>0.838772</td>\n",
       "      <td>0.813683</td>\n",
       "      <td>0.796900</td>\n",
       "      <td>...</td>\n",
       "      <td>0.814305</td>\n",
       "      <td>0.013662</td>\n",
       "      <td>5</td>\n",
       "      <td>0.816180</td>\n",
       "      <td>0.810015</td>\n",
       "      <td>0.815728</td>\n",
       "      <td>0.819334</td>\n",
       "      <td>0.817752</td>\n",
       "      <td>0.815802</td>\n",
       "      <td>0.003160</td>\n",
       "    </tr>\n",
       "    <tr>\n",
       "      <td>15</td>\n",
       "      <td>0.130986</td>\n",
       "      <td>0.002748</td>\n",
       "      <td>0.005584</td>\n",
       "      <td>0.000440</td>\n",
       "      <td>16</td>\n",
       "      <td>{'n_features_to_select': 16}</td>\n",
       "      <td>0.813384</td>\n",
       "      <td>0.838782</td>\n",
       "      <td>0.813816</td>\n",
       "      <td>0.797123</td>\n",
       "      <td>...</td>\n",
       "      <td>0.814427</td>\n",
       "      <td>0.013588</td>\n",
       "      <td>4</td>\n",
       "      <td>0.816181</td>\n",
       "      <td>0.810020</td>\n",
       "      <td>0.816016</td>\n",
       "      <td>0.819581</td>\n",
       "      <td>0.817854</td>\n",
       "      <td>0.815930</td>\n",
       "      <td>0.003226</td>\n",
       "    </tr>\n",
       "    <tr>\n",
       "      <td>16</td>\n",
       "      <td>0.110582</td>\n",
       "      <td>0.000634</td>\n",
       "      <td>0.005737</td>\n",
       "      <td>0.000505</td>\n",
       "      <td>17</td>\n",
       "      <td>{'n_features_to_select': 17}</td>\n",
       "      <td>0.813391</td>\n",
       "      <td>0.838788</td>\n",
       "      <td>0.813905</td>\n",
       "      <td>0.797168</td>\n",
       "      <td>...</td>\n",
       "      <td>0.814483</td>\n",
       "      <td>0.013567</td>\n",
       "      <td>3</td>\n",
       "      <td>0.816251</td>\n",
       "      <td>0.810021</td>\n",
       "      <td>0.816165</td>\n",
       "      <td>0.819641</td>\n",
       "      <td>0.817886</td>\n",
       "      <td>0.815993</td>\n",
       "      <td>0.003245</td>\n",
       "    </tr>\n",
       "    <tr>\n",
       "      <td>17</td>\n",
       "      <td>0.089279</td>\n",
       "      <td>0.001340</td>\n",
       "      <td>0.005696</td>\n",
       "      <td>0.000538</td>\n",
       "      <td>18</td>\n",
       "      <td>{'n_features_to_select': 18}</td>\n",
       "      <td>0.813713</td>\n",
       "      <td>0.838765</td>\n",
       "      <td>0.813993</td>\n",
       "      <td>0.797663</td>\n",
       "      <td>...</td>\n",
       "      <td>0.814657</td>\n",
       "      <td>0.013429</td>\n",
       "      <td>2</td>\n",
       "      <td>0.816442</td>\n",
       "      <td>0.810095</td>\n",
       "      <td>0.816213</td>\n",
       "      <td>0.819823</td>\n",
       "      <td>0.817889</td>\n",
       "      <td>0.816092</td>\n",
       "      <td>0.003263</td>\n",
       "    </tr>\n",
       "    <tr>\n",
       "      <td>18</td>\n",
       "      <td>0.065293</td>\n",
       "      <td>0.000779</td>\n",
       "      <td>0.005764</td>\n",
       "      <td>0.000646</td>\n",
       "      <td>19</td>\n",
       "      <td>{'n_features_to_select': 19}</td>\n",
       "      <td>0.814023</td>\n",
       "      <td>0.839043</td>\n",
       "      <td>0.814656</td>\n",
       "      <td>0.797935</td>\n",
       "      <td>...</td>\n",
       "      <td>0.814961</td>\n",
       "      <td>0.013450</td>\n",
       "      <td>1</td>\n",
       "      <td>0.816517</td>\n",
       "      <td>0.810303</td>\n",
       "      <td>0.816280</td>\n",
       "      <td>0.819914</td>\n",
       "      <td>0.817890</td>\n",
       "      <td>0.816181</td>\n",
       "      <td>0.003210</td>\n",
       "    </tr>\n",
       "  </tbody>\n",
       "</table>\n",
       "<p>19 rows × 21 columns</p>\n",
       "</div>"
      ],
      "text/plain": [
       "    mean_fit_time  std_fit_time  mean_score_time  std_score_time  \\\n",
       "0        0.284188      0.016798         0.004276        0.000114   \n",
       "1        0.270979      0.004315         0.004804        0.000134   \n",
       "2        0.264168      0.001435         0.005635        0.000089   \n",
       "3        0.262872      0.003054         0.006637        0.001085   \n",
       "4        0.282221      0.034833         0.004188        0.000297   \n",
       "5        0.306422      0.040796         0.005013        0.001656   \n",
       "6        0.284387      0.040463         0.004018        0.000131   \n",
       "7        0.234627      0.002637         0.004123        0.000053   \n",
       "8        0.226132      0.000983         0.004217        0.000108   \n",
       "9        0.215340      0.006737         0.004792        0.000475   \n",
       "10       0.201953      0.002839         0.005186        0.000293   \n",
       "11       0.193385      0.008515         0.005205        0.000343   \n",
       "12       0.184710      0.009983         0.005664        0.000585   \n",
       "13       0.165755      0.006586         0.005412        0.000405   \n",
       "14       0.149580      0.003794         0.005642        0.000426   \n",
       "15       0.130986      0.002748         0.005584        0.000440   \n",
       "16       0.110582      0.000634         0.005737        0.000505   \n",
       "17       0.089279      0.001340         0.005696        0.000538   \n",
       "18       0.065293      0.000779         0.005764        0.000646   \n",
       "\n",
       "   param_n_features_to_select                        params  \\\n",
       "0                           1   {'n_features_to_select': 1}   \n",
       "1                           2   {'n_features_to_select': 2}   \n",
       "2                           3   {'n_features_to_select': 3}   \n",
       "3                           4   {'n_features_to_select': 4}   \n",
       "4                           5   {'n_features_to_select': 5}   \n",
       "5                           6   {'n_features_to_select': 6}   \n",
       "6                           7   {'n_features_to_select': 7}   \n",
       "7                           8   {'n_features_to_select': 8}   \n",
       "8                           9   {'n_features_to_select': 9}   \n",
       "9                          10  {'n_features_to_select': 10}   \n",
       "10                         11  {'n_features_to_select': 11}   \n",
       "11                         12  {'n_features_to_select': 12}   \n",
       "12                         13  {'n_features_to_select': 13}   \n",
       "13                         14  {'n_features_to_select': 14}   \n",
       "14                         15  {'n_features_to_select': 15}   \n",
       "15                         16  {'n_features_to_select': 16}   \n",
       "16                         17  {'n_features_to_select': 17}   \n",
       "17                         18  {'n_features_to_select': 18}   \n",
       "18                         19  {'n_features_to_select': 19}   \n",
       "\n",
       "    split0_test_score  split1_test_score  split2_test_score  \\\n",
       "0            0.730823           0.750827           0.717511   \n",
       "1            0.730522           0.750641           0.793847   \n",
       "2            0.730369           0.822866           0.793957   \n",
       "3            0.790603           0.822850           0.794047   \n",
       "4            0.790625           0.822390           0.812383   \n",
       "5            0.790714           0.822322           0.812426   \n",
       "6            0.812296           0.838384           0.812439   \n",
       "7            0.812300           0.838321           0.812436   \n",
       "8            0.812303           0.838313           0.812399   \n",
       "9            0.812295           0.838333           0.812748   \n",
       "10           0.812357           0.838476           0.812900   \n",
       "11           0.813561           0.838859           0.812890   \n",
       "12           0.813829           0.839191           0.812861   \n",
       "13           0.813369           0.839013           0.813139   \n",
       "14           0.813379           0.838772           0.813683   \n",
       "15           0.813384           0.838782           0.813816   \n",
       "16           0.813391           0.838788           0.813905   \n",
       "17           0.813713           0.838765           0.813993   \n",
       "18           0.814023           0.839043           0.814656   \n",
       "\n",
       "    split3_test_score  ...  mean_test_score  std_test_score  rank_test_score  \\\n",
       "0            0.719100  ...         0.726277        0.013599               19   \n",
       "1            0.718625  ...         0.741329        0.029255               18   \n",
       "2            0.768413  ...         0.780420        0.030565               17   \n",
       "3            0.768332  ...         0.792457        0.017594               16   \n",
       "4            0.796013  ...         0.805890        0.011399               14   \n",
       "5            0.796004  ...         0.805874        0.011356               15   \n",
       "6            0.795999  ...         0.813427        0.013843               12   \n",
       "7            0.795998  ...         0.813400        0.013826               13   \n",
       "8            0.796287  ...         0.813450        0.013751               11   \n",
       "9            0.796674  ...         0.813601        0.013657               10   \n",
       "10           0.796734  ...         0.813696        0.013686                9   \n",
       "11           0.796636  ...         0.813895        0.013876                8   \n",
       "12           0.796601  ...         0.814086        0.013966                7   \n",
       "13           0.796524  ...         0.814087        0.013883                6   \n",
       "14           0.796900  ...         0.814305        0.013662                5   \n",
       "15           0.797123  ...         0.814427        0.013588                4   \n",
       "16           0.797168  ...         0.814483        0.013567                3   \n",
       "17           0.797663  ...         0.814657        0.013429                2   \n",
       "18           0.797935  ...         0.814961        0.013450                1   \n",
       "\n",
       "    split0_train_score  split1_train_score  split2_train_score  \\\n",
       "0             0.725151            0.720285            0.728370   \n",
       "1             0.725265            0.720495            0.792963   \n",
       "2             0.725477            0.785848            0.793035   \n",
       "3             0.793962            0.785884            0.793089   \n",
       "4             0.794275            0.786292            0.814553   \n",
       "5             0.794330            0.786384            0.814562   \n",
       "6             0.814824            0.808290            0.814565   \n",
       "7             0.814995            0.808299            0.814565   \n",
       "8             0.815006            0.808308            0.814607   \n",
       "9             0.815006            0.808336            0.814645   \n",
       "10            0.815021            0.808476            0.814782   \n",
       "11            0.815325            0.809039            0.814799   \n",
       "12            0.815740            0.809435            0.814807   \n",
       "13            0.816171            0.809792            0.815384   \n",
       "14            0.816180            0.810015            0.815728   \n",
       "15            0.816181            0.810020            0.816016   \n",
       "16            0.816251            0.810021            0.816165   \n",
       "17            0.816442            0.810095            0.816213   \n",
       "18            0.816517            0.810303            0.816280   \n",
       "\n",
       "    split3_train_score  split4_train_score  mean_train_score  std_train_score  \n",
       "0             0.727966            0.730131          0.726381         0.003441  \n",
       "1             0.728094            0.730337          0.739431         0.026967  \n",
       "2             0.798545            0.795094          0.779600         0.027378  \n",
       "3             0.798635            0.795422          0.793399         0.004204  \n",
       "4             0.818073            0.815961          0.805831         0.012991  \n",
       "5             0.818080            0.815967          0.805865         0.012957  \n",
       "6             0.818081            0.815986          0.814349         0.003274  \n",
       "7             0.818116            0.816180          0.814431         0.003304  \n",
       "8             0.818186            0.816190          0.814459         0.003318  \n",
       "9             0.818259            0.816191          0.814488         0.003325  \n",
       "10            0.818260            0.816204          0.814549         0.003276  \n",
       "11            0.818291            0.816812          0.814853         0.003152  \n",
       "12            0.818299            0.817223          0.815101         0.003077  \n",
       "13            0.818948            0.817583          0.815575         0.003138  \n",
       "14            0.819334            0.817752          0.815802         0.003160  \n",
       "15            0.819581            0.817854          0.815930         0.003226  \n",
       "16            0.819641            0.817886          0.815993         0.003245  \n",
       "17            0.819823            0.817889          0.816092         0.003263  \n",
       "18            0.819914            0.817890          0.816181         0.003210  \n",
       "\n",
       "[19 rows x 21 columns]"
      ]
     },
     "execution_count": 28,
     "metadata": {},
     "output_type": "execute_result"
    }
   ],
   "source": [
    "# cv results\n",
    "cv_results = pd.DataFrame(model_cv.cv_results_)\n",
    "cv_results"
   ]
  },
  {
   "cell_type": "markdown",
   "metadata": {},
   "source": [
    "The performance of the gridsearch using the RFE feature selection shows that features above 4 might be too optimistic with performance as perfect scores of 1 was achieved with both train and test datasets. The graph below shows a perfectly fit model at every feature level selected. The optimal number of feature based on the r-square scores is 4. "
   ]
  },
  {
   "cell_type": "code",
   "execution_count": 29,
   "metadata": {
    "scrolled": true
   },
   "outputs": [
    {
     "data": {
      "text/plain": [
       "<matplotlib.legend.Legend at 0x7f993b508d10>"
      ]
     },
     "execution_count": 29,
     "metadata": {},
     "output_type": "execute_result"
    },
    {
     "data": {
      "image/png": "[encoded data removed]",
      "text/plain": [
       "<Figure size 1152x432 with 1 Axes>"
      ]
     },
     "metadata": {
      "needs_background": "light"
     },
     "output_type": "display_data"
    }
   ],
   "source": [
    "# plotting cv results\n",
    "plt.figure(figsize=(16,6))\n",
    "\n",
    "plt.plot(cv_results[\"param_n_features_to_select\"], cv_results[\"mean_test_score\"])\n",
    "plt.plot(cv_results[\"param_n_features_to_select\"], cv_results[\"mean_train_score\"])\n",
    "plt.xlabel('number of features')\n",
    "plt.ylabel('r-squared')\n",
    "plt.title(\"Optimal Number of Features\")\n",
    "plt.legend(['test score', 'train score'], loc='upper left')"
   ]
  },
  {
   "cell_type": "markdown",
   "metadata": {},
   "source": [
    "Lasso Regression for the seller dataset will be done to select the features that best impact sales on the C2C platform."
   ]
  },
  {
   "cell_type": "markdown",
   "metadata": {},
   "source": [
    "## Dummy regression for buyer's dataset"
   ]
  },
  {
   "cell_type": "code",
   "execution_count": 30,
   "metadata": {},
   "outputs": [
    {
     "name": "stdout",
     "output_type": "stream",
     "text": [
      "MAE: 0.392\n"
     ]
    }
   ],
   "source": [
    " from sklearn.dummy import DummyRegressor\n",
    "\n",
    "# feature selection\n",
    "def select_features(X_train, y_train, X_test):\n",
    "\t# configure to select a subset of features\n",
    "\tnp.seterr(divide='ignore', invalid='ignore')\n",
    "\tfs = SelectKBest(score_func=f_regression, k=10)\n",
    "\t# learn relationship from training data\n",
    "\tfs.fit(Xbuyer_train, ybuyer_train.values.ravel())\n",
    "\t# transform train input data\n",
    "\tX_train_fs = fs.transform(Xbuyer_train)\n",
    "\t# transform test input data\n",
    "\tX_test_fs = fs.transform(Xbuyer_test)\n",
    "\treturn X_train_fs, X_test_fs, fs\n",
    "\n",
    "# feature selection\n",
    "X_train_fsm, X_test_fsm, fs = select_features(Xbuyer_train, ybuyer_train, Xbuyer_test)\n",
    "# fit the model\n",
    "dummy_regr1 = DummyRegressor(strategy=\"mean\")\n",
    "dummy_regr1.fit(X_train_fsm, ybuyer_train)\n",
    "# evaluate the model\n",
    "yhat = dummy_regr1.predict(X_test_fsm)\n",
    "# evaluate predictions\n",
    "mae = mean_absolute_error(ybuyer_test,yhat)\n",
    "print('MAE: %.3f' % mae)\n",
    "\n"
   ]
  },
  {
   "cell_type": "code",
   "execution_count": 31,
   "metadata": {},
   "outputs": [
    {
     "data": {
      "text/plain": [
       "0.0"
      ]
     },
     "execution_count": 31,
     "metadata": {},
     "output_type": "execute_result"
    }
   ],
   "source": [
    "dummy_regr1.score(X_train_fsm, ybuyer_train)"
   ]
  },
  {
   "cell_type": "code",
   "execution_count": 32,
   "metadata": {},
   "outputs": [
    {
     "data": {
      "text/plain": [
       "-4.911952073727299e-05"
      ]
     },
     "execution_count": 32,
     "metadata": {},
     "output_type": "execute_result"
    }
   ],
   "source": [
    "dummy_regr1.score(X_test_fsm,ybuyer_test)"
   ]
  },
  {
   "cell_type": "markdown",
   "metadata": {},
   "source": [
    "The scores above serve as the baseline scores for the models to be used for the buyer dataset."
   ]
  },
  {
   "cell_type": "markdown",
   "metadata": {},
   "source": [
    "### Multiple Linear Regression for buyers"
   ]
  },
  {
   "cell_type": "code",
   "execution_count": 33,
   "metadata": {},
   "outputs": [
    {
     "name": "stdout",
     "output_type": "stream",
     "text": [
      "MAE: 0.317\n"
     ]
    }
   ],
   "source": [
    "\n",
    "from sklearn.linear_model import LinearRegression\n",
    "from sklearn.metrics import mean_absolute_error\n",
    "\n",
    "# feature selection\n",
    "def select_features(X_train, y_train, X_test):\n",
    "\t# configure to select a subset of features\n",
    "\tnp.seterr(divide='ignore', invalid='ignore')\n",
    "\tfs = SelectKBest(score_func=f_regression, k=25)\n",
    "\t# learn relationship from training data\n",
    "\tfs.fit(Xbuyer_train, ybuyer_train.values.ravel())\n",
    "\tcols = fs.get_support(indices=True)\n",
    "    # transform train input data\n",
    "\tX_train_fs = fs.transform(Xbuyer_train)\n",
    "\tX_train_fs = Xbuyer_train.iloc[:,cols]\n",
    "    # transform test input data\n",
    "\tX_test_fs = fs.transform(Xbuyer_test)\n",
    "\tX_test_fs = Xbuyer_test.iloc[:,cols]\n",
    "\treturn X_train_fs, X_test_fs, fs\n",
    "\n",
    "\n",
    "# feature selection\n",
    "X_train_fsb, X_test_fsb, fsb = select_features(Xbuyer_train, ybuyer_train, Xbuyer_test)\n",
    "# fit the model\n",
    "model1 = LinearRegression()\n",
    "model1.fit(X_train_fsb, ybuyer_train)\n",
    "# evaluate the model\n",
    "yhatb = model1.predict(X_test_fsb)\n",
    "# evaluate predictions\n",
    "mae = mean_absolute_error(ybuyer_test,yhatb)\n",
    "print('MAE: %.3f' % mae)"
   ]
  },
  {
   "cell_type": "code",
   "execution_count": 34,
   "metadata": {},
   "outputs": [
    {
     "data": {
      "text/plain": [
       "0.34410985053352094"
      ]
     },
     "execution_count": 34,
     "metadata": {},
     "output_type": "execute_result"
    }
   ],
   "source": [
    "explained_variance_score(ybuyer_test,yhatb)"
   ]
  },
  {
   "cell_type": "code",
   "execution_count": 35,
   "metadata": {
    "scrolled": true
   },
   "outputs": [
    {
     "data": {
      "text/plain": [
       "32.26029935407181"
      ]
     },
     "execution_count": 35,
     "metadata": {},
     "output_type": "execute_result"
    }
   ],
   "source": [
    "LRB_Train = model1.score(X_train_fsb, ybuyer_train) * 100\n",
    "\n",
    "LRB_Train"
   ]
  },
  {
   "cell_type": "code",
   "execution_count": 36,
   "metadata": {},
   "outputs": [
    {
     "data": {
      "text/plain": [
       "34.410982834051474"
      ]
     },
     "execution_count": 36,
     "metadata": {},
     "output_type": "execute_result"
    }
   ],
   "source": [
    "LRB_Test = model1.score(X_test_fsb,ybuyer_test) * 100\n",
    "\n",
    "LRB_Test"
   ]
  },
  {
   "cell_type": "markdown",
   "metadata": {},
   "source": [
    "The linear regression performed better than the baseline model. Out of the 224 features in the buyer dataset, to best 100 were selected for the model."
   ]
  },
  {
   "cell_type": "code",
   "execution_count": 37,
   "metadata": {
    "scrolled": false
   },
   "outputs": [
    {
     "data": {
      "text/html": [
       "<div>\n",
       "<style scoped>\n",
       "    .dataframe tbody tr th:only-of-type {\n",
       "        vertical-align: middle;\n",
       "    }\n",
       "\n",
       "    .dataframe tbody tr th {\n",
       "        vertical-align: top;\n",
       "    }\n",
       "\n",
       "    .dataframe thead th {\n",
       "        text-align: right;\n",
       "    }\n",
       "</style>\n",
       "<table border=\"1\" class=\"dataframe\">\n",
       "  <thead>\n",
       "    <tr style=\"text-align: right;\">\n",
       "      <th></th>\n",
       "      <th>Coefficient</th>\n",
       "    </tr>\n",
       "  </thead>\n",
       "  <tbody>\n",
       "    <tr>\n",
       "      <td>civilityTitle_mrs</td>\n",
       "      <td>2.427179e+11</td>\n",
       "    </tr>\n",
       "    <tr>\n",
       "      <td>civilityTitle_miss</td>\n",
       "      <td>2.427179e+11</td>\n",
       "    </tr>\n",
       "    <tr>\n",
       "      <td>gender_F</td>\n",
       "      <td>8.193871e+10</td>\n",
       "    </tr>\n",
       "    <tr>\n",
       "      <td>civilityTitle_mr</td>\n",
       "      <td>8.058523e+10</td>\n",
       "    </tr>\n",
       "    <tr>\n",
       "      <td>gender_M</td>\n",
       "      <td>8.019395e+10</td>\n",
       "    </tr>\n",
       "    <tr>\n",
       "      <td>hasAnyApp</td>\n",
       "      <td>4.573222e-01</td>\n",
       "    </tr>\n",
       "    <tr>\n",
       "      <td>hasAndroidApp</td>\n",
       "      <td>4.225866e-01</td>\n",
       "    </tr>\n",
       "    <tr>\n",
       "      <td>country_Luxembourg</td>\n",
       "      <td>3.889980e-01</td>\n",
       "    </tr>\n",
       "    <tr>\n",
       "      <td>hasIosApp</td>\n",
       "      <td>3.601939e-01</td>\n",
       "    </tr>\n",
       "    <tr>\n",
       "      <td>ScproductsWished</td>\n",
       "      <td>2.785624e-01</td>\n",
       "    </tr>\n",
       "    <tr>\n",
       "      <td>ScSocialNbFollowers</td>\n",
       "      <td>2.178092e-01</td>\n",
       "    </tr>\n",
       "    <tr>\n",
       "      <td>country_Pologne</td>\n",
       "      <td>1.963959e-01</td>\n",
       "    </tr>\n",
       "    <tr>\n",
       "      <td>ScdaysSinceLastLogin</td>\n",
       "      <td>1.955940e-01</td>\n",
       "    </tr>\n",
       "    <tr>\n",
       "      <td>hasProfilePicture</td>\n",
       "      <td>1.114429e-01</td>\n",
       "    </tr>\n",
       "    <tr>\n",
       "      <td>ScsocialProductsLiked</td>\n",
       "      <td>9.907250e-02</td>\n",
       "    </tr>\n",
       "    <tr>\n",
       "      <td>country_Pays-Bas</td>\n",
       "      <td>9.464030e-02</td>\n",
       "    </tr>\n",
       "    <tr>\n",
       "      <td>country_Finlande</td>\n",
       "      <td>7.944093e-02</td>\n",
       "    </tr>\n",
       "    <tr>\n",
       "      <td>country_Allemagne</td>\n",
       "      <td>7.252431e-02</td>\n",
       "    </tr>\n",
       "    <tr>\n",
       "      <td>ScproductsSold</td>\n",
       "      <td>5.129675e-02</td>\n",
       "    </tr>\n",
       "    <tr>\n",
       "      <td>ScproductsListed</td>\n",
       "      <td>4.454244e-02</td>\n",
       "    </tr>\n",
       "  </tbody>\n",
       "</table>\n",
       "</div>"
      ],
      "text/plain": [
       "                        Coefficient\n",
       "civilityTitle_mrs      2.427179e+11\n",
       "civilityTitle_miss     2.427179e+11\n",
       "gender_F               8.193871e+10\n",
       "civilityTitle_mr       8.058523e+10\n",
       "gender_M               8.019395e+10\n",
       "hasAnyApp              4.573222e-01\n",
       "hasAndroidApp          4.225866e-01\n",
       "country_Luxembourg     3.889980e-01\n",
       "hasIosApp              3.601939e-01\n",
       "ScproductsWished       2.785624e-01\n",
       "ScSocialNbFollowers    2.178092e-01\n",
       "country_Pologne        1.963959e-01\n",
       "ScdaysSinceLastLogin   1.955940e-01\n",
       "hasProfilePicture      1.114429e-01\n",
       "ScsocialProductsLiked  9.907250e-02\n",
       "country_Pays-Bas       9.464030e-02\n",
       "country_Finlande       7.944093e-02\n",
       "country_Allemagne      7.252431e-02\n",
       "ScproductsSold         5.129675e-02\n",
       "ScproductsListed       4.454244e-02"
      ]
     },
     "execution_count": 37,
     "metadata": {},
     "output_type": "execute_result"
    }
   ],
   "source": [
    "pd.DataFrame(abs(model1.coef_).T, X_train_fsb.columns, columns=['Coefficient']).sort_values(by='Coefficient', ascending= False).head(20)"
   ]
  },
  {
   "cell_type": "markdown",
   "metadata": {},
   "source": [
    "Languages topped important features' raking with respect to determining the features that influnce buyers most on the platform. Other high ranking features are gender, and type of mobile operating system. However, judging by the score of these top ranking features, the coefficient scores came out spurious. These scores cannot be possible as the underlying distribution cannot support the figures generated by the model. As a result, cross validation will be done on the linear model"
   ]
  },
  {
   "cell_type": "code",
   "execution_count": 38,
   "metadata": {},
   "outputs": [
    {
     "data": {
      "text/plain": [
       "array([0.33036927, 0.32200925, 0.30510173, 0.326811  , 0.31892875])"
      ]
     },
     "execution_count": 38,
     "metadata": {},
     "output_type": "execute_result"
    }
   ],
   "source": [
    "from sklearn.model_selection import RepeatedKFold\n",
    "from sklearn.model_selection import cross_val_score\n",
    "from scipy.stats import sem\n",
    "from sklearn.model_selection import KFold\n",
    "from sklearn.model_selection import GridSearchCV\n",
    "from matplotlib import pyplot\n",
    "\n",
    "lm = LinearRegression()\n",
    "# create a KFold object with 5 splits \n",
    "folds = KFold(n_splits = 5, shuffle = True, random_state = 100)\n",
    "scores = cross_val_score(lm, X_train_fsb, ybuyer_train, scoring='r2', cv=folds)\n",
    "scores "
   ]
  },
  {
   "cell_type": "markdown",
   "metadata": {},
   "source": [
    "The scores above are very similar to the scores generated from the linear regression above. To further confirm the suitability of the linear regression model for the dataframe, gridsearchcv will be done to view performance of the model with respect to different number of features"
   ]
  },
  {
   "cell_type": "code",
   "execution_count": 39,
   "metadata": {
    "scrolled": true
   },
   "outputs": [
    {
     "name": "stdout",
     "output_type": "stream",
     "text": [
      "Fitting 5 folds for each of 20 candidates, totalling 100 fits\n"
     ]
    },
    {
     "data": {
      "text/plain": [
       "GridSearchCV(cv=KFold(n_splits=5, random_state=100, shuffle=True),\n",
       "             estimator=RFE(estimator=LinearRegression()),\n",
       "             param_grid=[{'n_features_to_select': [1, 2, 3, 4, 5, 6, 7, 8, 9,\n",
       "                                                   10, 11, 12, 13, 14, 15, 16,\n",
       "                                                   17, 18, 19, 20]}],\n",
       "             return_train_score=True, scoring='r2', verbose=1)"
      ]
     },
     "execution_count": 39,
     "metadata": {},
     "output_type": "execute_result"
    }
   ],
   "source": [
    "from sklearn.feature_selection import RFE\n",
    "# step-1: create a cross-validation scheme\n",
    "folds = KFold(n_splits = 5, shuffle = True, random_state = 100)\n",
    "\n",
    "# step-2: specify range of hyperparameters to tune\n",
    "hyper_params = [{'n_features_to_select': list(range(1, 21))}]\n",
    "\n",
    "\n",
    "# step-3: perform grid search\n",
    "# 3.1 specify model\n",
    "lm = LinearRegression()\n",
    "lm.fit(X_train_fsb, ybuyer_train.values.ravel())\n",
    "rfe = RFE(lm)             \n",
    "\n",
    "# 3.2 call GridSearchCV()\n",
    "model_cv = GridSearchCV(estimator = rfe, \n",
    "                        param_grid = hyper_params, \n",
    "                        scoring= 'r2', \n",
    "                        cv = folds, \n",
    "                        verbose = 1,\n",
    "                        return_train_score=True)      \n",
    "\n",
    "# fit the model\n",
    "model_cv.fit(X_train_fsb, ybuyer_train.values.ravel())  "
   ]
  },
  {
   "cell_type": "code",
   "execution_count": 40,
   "metadata": {
    "scrolled": true
   },
   "outputs": [
    {
     "data": {
      "text/html": [
       "<div>\n",
       "<style scoped>\n",
       "    .dataframe tbody tr th:only-of-type {\n",
       "        vertical-align: middle;\n",
       "    }\n",
       "\n",
       "    .dataframe tbody tr th {\n",
       "        vertical-align: top;\n",
       "    }\n",
       "\n",
       "    .dataframe thead th {\n",
       "        text-align: right;\n",
       "    }\n",
       "</style>\n",
       "<table border=\"1\" class=\"dataframe\">\n",
       "  <thead>\n",
       "    <tr style=\"text-align: right;\">\n",
       "      <th></th>\n",
       "      <th>mean_fit_time</th>\n",
       "      <th>std_fit_time</th>\n",
       "      <th>mean_score_time</th>\n",
       "      <th>std_score_time</th>\n",
       "      <th>param_n_features_to_select</th>\n",
       "      <th>params</th>\n",
       "      <th>split0_test_score</th>\n",
       "      <th>split1_test_score</th>\n",
       "      <th>split2_test_score</th>\n",
       "      <th>split3_test_score</th>\n",
       "      <th>...</th>\n",
       "      <th>mean_test_score</th>\n",
       "      <th>std_test_score</th>\n",
       "      <th>rank_test_score</th>\n",
       "      <th>split0_train_score</th>\n",
       "      <th>split1_train_score</th>\n",
       "      <th>split2_train_score</th>\n",
       "      <th>split3_train_score</th>\n",
       "      <th>split4_train_score</th>\n",
       "      <th>mean_train_score</th>\n",
       "      <th>std_train_score</th>\n",
       "    </tr>\n",
       "  </thead>\n",
       "  <tbody>\n",
       "    <tr>\n",
       "      <td>0</td>\n",
       "      <td>0.480699</td>\n",
       "      <td>0.037823</td>\n",
       "      <td>0.005737</td>\n",
       "      <td>0.000771</td>\n",
       "      <td>1</td>\n",
       "      <td>{'n_features_to_select': 1}</td>\n",
       "      <td>0.000521</td>\n",
       "      <td>0.000735</td>\n",
       "      <td>0.001106</td>\n",
       "      <td>0.000948</td>\n",
       "      <td>...</td>\n",
       "      <td>0.000787</td>\n",
       "      <td>0.000213</td>\n",
       "      <td>20</td>\n",
       "      <td>0.000752</td>\n",
       "      <td>0.000704</td>\n",
       "      <td>0.000603</td>\n",
       "      <td>0.000647</td>\n",
       "      <td>0.000418</td>\n",
       "      <td>0.000625</td>\n",
       "      <td>0.000115</td>\n",
       "    </tr>\n",
       "    <tr>\n",
       "      <td>1</td>\n",
       "      <td>0.452323</td>\n",
       "      <td>0.019864</td>\n",
       "      <td>0.006458</td>\n",
       "      <td>0.001365</td>\n",
       "      <td>2</td>\n",
       "      <td>{'n_features_to_select': 2}</td>\n",
       "      <td>0.000987</td>\n",
       "      <td>0.001315</td>\n",
       "      <td>0.001064</td>\n",
       "      <td>0.000973</td>\n",
       "      <td>...</td>\n",
       "      <td>0.000982</td>\n",
       "      <td>0.000239</td>\n",
       "      <td>16</td>\n",
       "      <td>0.001056</td>\n",
       "      <td>0.000970</td>\n",
       "      <td>0.001028</td>\n",
       "      <td>0.001056</td>\n",
       "      <td>0.001151</td>\n",
       "      <td>0.001052</td>\n",
       "      <td>0.000059</td>\n",
       "    </tr>\n",
       "    <tr>\n",
       "      <td>2</td>\n",
       "      <td>0.414733</td>\n",
       "      <td>0.010171</td>\n",
       "      <td>0.006675</td>\n",
       "      <td>0.000283</td>\n",
       "      <td>3</td>\n",
       "      <td>{'n_features_to_select': 3}</td>\n",
       "      <td>0.000775</td>\n",
       "      <td>0.001312</td>\n",
       "      <td>0.001196</td>\n",
       "      <td>0.000959</td>\n",
       "      <td>...</td>\n",
       "      <td>0.000888</td>\n",
       "      <td>0.000392</td>\n",
       "      <td>17</td>\n",
       "      <td>0.000970</td>\n",
       "      <td>0.000969</td>\n",
       "      <td>0.000940</td>\n",
       "      <td>0.000961</td>\n",
       "      <td>0.001064</td>\n",
       "      <td>0.000981</td>\n",
       "      <td>0.000043</td>\n",
       "    </tr>\n",
       "    <tr>\n",
       "      <td>3</td>\n",
       "      <td>0.405676</td>\n",
       "      <td>0.000832</td>\n",
       "      <td>0.006358</td>\n",
       "      <td>0.000173</td>\n",
       "      <td>4</td>\n",
       "      <td>{'n_features_to_select': 4}</td>\n",
       "      <td>0.000953</td>\n",
       "      <td>0.001334</td>\n",
       "      <td>0.000766</td>\n",
       "      <td>0.000696</td>\n",
       "      <td>...</td>\n",
       "      <td>0.000870</td>\n",
       "      <td>0.000260</td>\n",
       "      <td>19</td>\n",
       "      <td>0.000945</td>\n",
       "      <td>0.000969</td>\n",
       "      <td>0.000940</td>\n",
       "      <td>0.000965</td>\n",
       "      <td>0.001060</td>\n",
       "      <td>0.000976</td>\n",
       "      <td>0.000043</td>\n",
       "    </tr>\n",
       "    <tr>\n",
       "      <td>4</td>\n",
       "      <td>0.413826</td>\n",
       "      <td>0.016094</td>\n",
       "      <td>0.005685</td>\n",
       "      <td>0.000195</td>\n",
       "      <td>5</td>\n",
       "      <td>{'n_features_to_select': 5}</td>\n",
       "      <td>0.000967</td>\n",
       "      <td>0.001332</td>\n",
       "      <td>0.000764</td>\n",
       "      <td>0.000704</td>\n",
       "      <td>...</td>\n",
       "      <td>0.000879</td>\n",
       "      <td>0.000253</td>\n",
       "      <td>18</td>\n",
       "      <td>0.000970</td>\n",
       "      <td>0.000970</td>\n",
       "      <td>0.000940</td>\n",
       "      <td>0.000968</td>\n",
       "      <td>0.001068</td>\n",
       "      <td>0.000983</td>\n",
       "      <td>0.000044</td>\n",
       "    </tr>\n",
       "    <tr>\n",
       "      <td>5</td>\n",
       "      <td>0.397522</td>\n",
       "      <td>0.003326</td>\n",
       "      <td>0.004573</td>\n",
       "      <td>0.000368</td>\n",
       "      <td>6</td>\n",
       "      <td>{'n_features_to_select': 6}</td>\n",
       "      <td>0.000610</td>\n",
       "      <td>0.006036</td>\n",
       "      <td>0.002474</td>\n",
       "      <td>0.002949</td>\n",
       "      <td>...</td>\n",
       "      <td>0.002428</td>\n",
       "      <td>0.002104</td>\n",
       "      <td>15</td>\n",
       "      <td>0.003126</td>\n",
       "      <td>0.009048</td>\n",
       "      <td>0.002697</td>\n",
       "      <td>0.002592</td>\n",
       "      <td>0.001794</td>\n",
       "      <td>0.003851</td>\n",
       "      <td>0.002634</td>\n",
       "    </tr>\n",
       "    <tr>\n",
       "      <td>6</td>\n",
       "      <td>0.391185</td>\n",
       "      <td>0.002540</td>\n",
       "      <td>0.004495</td>\n",
       "      <td>0.000068</td>\n",
       "      <td>7</td>\n",
       "      <td>{'n_features_to_select': 7}</td>\n",
       "      <td>0.009305</td>\n",
       "      <td>0.008653</td>\n",
       "      <td>0.011159</td>\n",
       "      <td>0.011259</td>\n",
       "      <td>...</td>\n",
       "      <td>0.053629</td>\n",
       "      <td>0.087076</td>\n",
       "      <td>14</td>\n",
       "      <td>0.011227</td>\n",
       "      <td>0.011445</td>\n",
       "      <td>0.010796</td>\n",
       "      <td>0.010790</td>\n",
       "      <td>0.230540</td>\n",
       "      <td>0.054960</td>\n",
       "      <td>0.087791</td>\n",
       "    </tr>\n",
       "    <tr>\n",
       "      <td>7</td>\n",
       "      <td>0.384404</td>\n",
       "      <td>0.002717</td>\n",
       "      <td>0.004444</td>\n",
       "      <td>0.000025</td>\n",
       "      <td>8</td>\n",
       "      <td>{'n_features_to_select': 8}</td>\n",
       "      <td>0.007967</td>\n",
       "      <td>0.010350</td>\n",
       "      <td>0.010685</td>\n",
       "      <td>0.012763</td>\n",
       "      <td>...</td>\n",
       "      <td>0.063318</td>\n",
       "      <td>0.105764</td>\n",
       "      <td>13</td>\n",
       "      <td>0.014391</td>\n",
       "      <td>0.013998</td>\n",
       "      <td>0.013876</td>\n",
       "      <td>0.013383</td>\n",
       "      <td>0.284098</td>\n",
       "      <td>0.067949</td>\n",
       "      <td>0.108075</td>\n",
       "    </tr>\n",
       "    <tr>\n",
       "      <td>8</td>\n",
       "      <td>0.376204</td>\n",
       "      <td>0.001107</td>\n",
       "      <td>0.004478</td>\n",
       "      <td>0.000015</td>\n",
       "      <td>9</td>\n",
       "      <td>{'n_features_to_select': 9}</td>\n",
       "      <td>0.007179</td>\n",
       "      <td>0.243953</td>\n",
       "      <td>0.010438</td>\n",
       "      <td>0.241754</td>\n",
       "      <td>...</td>\n",
       "      <td>0.155616</td>\n",
       "      <td>0.120439</td>\n",
       "      <td>12</td>\n",
       "      <td>0.015008</td>\n",
       "      <td>0.228486</td>\n",
       "      <td>0.014414</td>\n",
       "      <td>0.229219</td>\n",
       "      <td>0.284188</td>\n",
       "      <td>0.154263</td>\n",
       "      <td>0.115722</td>\n",
       "    </tr>\n",
       "    <tr>\n",
       "      <td>9</td>\n",
       "      <td>0.368929</td>\n",
       "      <td>0.002181</td>\n",
       "      <td>0.004595</td>\n",
       "      <td>0.000128</td>\n",
       "      <td>10</td>\n",
       "      <td>{'n_features_to_select': 10}</td>\n",
       "      <td>0.237906</td>\n",
       "      <td>0.244465</td>\n",
       "      <td>0.200118</td>\n",
       "      <td>0.291468</td>\n",
       "      <td>...</td>\n",
       "      <td>0.254371</td>\n",
       "      <td>0.036286</td>\n",
       "      <td>11</td>\n",
       "      <td>0.230476</td>\n",
       "      <td>0.228635</td>\n",
       "      <td>0.240036</td>\n",
       "      <td>0.280642</td>\n",
       "      <td>0.313816</td>\n",
       "      <td>0.258721</td>\n",
       "      <td>0.033371</td>\n",
       "    </tr>\n",
       "    <tr>\n",
       "      <td>10</td>\n",
       "      <td>0.361391</td>\n",
       "      <td>0.006948</td>\n",
       "      <td>0.004555</td>\n",
       "      <td>0.000172</td>\n",
       "      <td>11</td>\n",
       "      <td>{'n_features_to_select': 11}</td>\n",
       "      <td>0.295803</td>\n",
       "      <td>0.287421</td>\n",
       "      <td>0.260113</td>\n",
       "      <td>0.291311</td>\n",
       "      <td>...</td>\n",
       "      <td>0.286538</td>\n",
       "      <td>0.013712</td>\n",
       "      <td>10</td>\n",
       "      <td>0.279828</td>\n",
       "      <td>0.281718</td>\n",
       "      <td>0.288701</td>\n",
       "      <td>0.280746</td>\n",
       "      <td>0.314306</td>\n",
       "      <td>0.289060</td>\n",
       "      <td>0.013006</td>\n",
       "    </tr>\n",
       "    <tr>\n",
       "      <td>11</td>\n",
       "      <td>0.345627</td>\n",
       "      <td>0.002343</td>\n",
       "      <td>0.004572</td>\n",
       "      <td>0.000044</td>\n",
       "      <td>12</td>\n",
       "      <td>{'n_features_to_select': 12}</td>\n",
       "      <td>0.322634</td>\n",
       "      <td>0.318033</td>\n",
       "      <td>0.295566</td>\n",
       "      <td>0.317251</td>\n",
       "      <td>...</td>\n",
       "      <td>0.310353</td>\n",
       "      <td>0.011151</td>\n",
       "      <td>8</td>\n",
       "      <td>0.308728</td>\n",
       "      <td>0.309693</td>\n",
       "      <td>0.315361</td>\n",
       "      <td>0.309933</td>\n",
       "      <td>0.314381</td>\n",
       "      <td>0.311619</td>\n",
       "      <td>0.002703</td>\n",
       "    </tr>\n",
       "    <tr>\n",
       "      <td>12</td>\n",
       "      <td>0.325589</td>\n",
       "      <td>0.002079</td>\n",
       "      <td>0.005761</td>\n",
       "      <td>0.000163</td>\n",
       "      <td>13</td>\n",
       "      <td>{'n_features_to_select': 13}</td>\n",
       "      <td>0.321177</td>\n",
       "      <td>0.317304</td>\n",
       "      <td>0.295664</td>\n",
       "      <td>0.317588</td>\n",
       "      <td>...</td>\n",
       "      <td>0.310166</td>\n",
       "      <td>0.010584</td>\n",
       "      <td>9</td>\n",
       "      <td>0.309225</td>\n",
       "      <td>0.310088</td>\n",
       "      <td>0.315424</td>\n",
       "      <td>0.309952</td>\n",
       "      <td>0.314425</td>\n",
       "      <td>0.311822</td>\n",
       "      <td>0.002569</td>\n",
       "    </tr>\n",
       "    <tr>\n",
       "      <td>13</td>\n",
       "      <td>0.311030</td>\n",
       "      <td>0.001554</td>\n",
       "      <td>0.005972</td>\n",
       "      <td>0.000418</td>\n",
       "      <td>14</td>\n",
       "      <td>{'n_features_to_select': 14}</td>\n",
       "      <td>0.321296</td>\n",
       "      <td>0.317489</td>\n",
       "      <td>0.301686</td>\n",
       "      <td>0.321256</td>\n",
       "      <td>...</td>\n",
       "      <td>0.312184</td>\n",
       "      <td>0.009720</td>\n",
       "      <td>7</td>\n",
       "      <td>0.309280</td>\n",
       "      <td>0.310116</td>\n",
       "      <td>0.321591</td>\n",
       "      <td>0.316682</td>\n",
       "      <td>0.314641</td>\n",
       "      <td>0.314462</td>\n",
       "      <td>0.004506</td>\n",
       "    </tr>\n",
       "    <tr>\n",
       "      <td>14</td>\n",
       "      <td>0.293036</td>\n",
       "      <td>0.000698</td>\n",
       "      <td>0.006115</td>\n",
       "      <td>0.000490</td>\n",
       "      <td>15</td>\n",
       "      <td>{'n_features_to_select': 15}</td>\n",
       "      <td>0.328368</td>\n",
       "      <td>0.319137</td>\n",
       "      <td>0.301690</td>\n",
       "      <td>0.321297</td>\n",
       "      <td>...</td>\n",
       "      <td>0.316195</td>\n",
       "      <td>0.009229</td>\n",
       "      <td>6</td>\n",
       "      <td>0.315352</td>\n",
       "      <td>0.317531</td>\n",
       "      <td>0.321722</td>\n",
       "      <td>0.316728</td>\n",
       "      <td>0.319538</td>\n",
       "      <td>0.318174</td>\n",
       "      <td>0.002232</td>\n",
       "    </tr>\n",
       "    <tr>\n",
       "      <td>15</td>\n",
       "      <td>0.279655</td>\n",
       "      <td>0.005223</td>\n",
       "      <td>0.006208</td>\n",
       "      <td>0.000678</td>\n",
       "      <td>16</td>\n",
       "      <td>{'n_features_to_select': 16}</td>\n",
       "      <td>0.328303</td>\n",
       "      <td>0.319085</td>\n",
       "      <td>0.301749</td>\n",
       "      <td>0.321459</td>\n",
       "      <td>...</td>\n",
       "      <td>0.316274</td>\n",
       "      <td>0.009172</td>\n",
       "      <td>5</td>\n",
       "      <td>0.315503</td>\n",
       "      <td>0.317598</td>\n",
       "      <td>0.321768</td>\n",
       "      <td>0.316830</td>\n",
       "      <td>0.319922</td>\n",
       "      <td>0.318324</td>\n",
       "      <td>0.002242</td>\n",
       "    </tr>\n",
       "    <tr>\n",
       "      <td>16</td>\n",
       "      <td>0.262048</td>\n",
       "      <td>0.005238</td>\n",
       "      <td>0.006148</td>\n",
       "      <td>0.000472</td>\n",
       "      <td>17</td>\n",
       "      <td>{'n_features_to_select': 17}</td>\n",
       "      <td>0.328284</td>\n",
       "      <td>0.319134</td>\n",
       "      <td>0.302291</td>\n",
       "      <td>0.321363</td>\n",
       "      <td>...</td>\n",
       "      <td>0.316432</td>\n",
       "      <td>0.008951</td>\n",
       "      <td>4</td>\n",
       "      <td>0.315562</td>\n",
       "      <td>0.317723</td>\n",
       "      <td>0.322118</td>\n",
       "      <td>0.317337</td>\n",
       "      <td>0.319998</td>\n",
       "      <td>0.318548</td>\n",
       "      <td>0.002277</td>\n",
       "    </tr>\n",
       "    <tr>\n",
       "      <td>17</td>\n",
       "      <td>0.238997</td>\n",
       "      <td>0.008112</td>\n",
       "      <td>0.006309</td>\n",
       "      <td>0.000557</td>\n",
       "      <td>18</td>\n",
       "      <td>{'n_features_to_select': 18}</td>\n",
       "      <td>0.328200</td>\n",
       "      <td>0.319431</td>\n",
       "      <td>0.303992</td>\n",
       "      <td>0.324288</td>\n",
       "      <td>...</td>\n",
       "      <td>0.318682</td>\n",
       "      <td>0.008243</td>\n",
       "      <td>3</td>\n",
       "      <td>0.319536</td>\n",
       "      <td>0.318137</td>\n",
       "      <td>0.325853</td>\n",
       "      <td>0.320378</td>\n",
       "      <td>0.322333</td>\n",
       "      <td>0.321247</td>\n",
       "      <td>0.002674</td>\n",
       "    </tr>\n",
       "    <tr>\n",
       "      <td>18</td>\n",
       "      <td>0.211245</td>\n",
       "      <td>0.002917</td>\n",
       "      <td>0.006360</td>\n",
       "      <td>0.000729</td>\n",
       "      <td>19</td>\n",
       "      <td>{'n_features_to_select': 19}</td>\n",
       "      <td>0.328897</td>\n",
       "      <td>0.321337</td>\n",
       "      <td>0.304454</td>\n",
       "      <td>0.324957</td>\n",
       "      <td>...</td>\n",
       "      <td>0.319438</td>\n",
       "      <td>0.008386</td>\n",
       "      <td>2</td>\n",
       "      <td>0.319808</td>\n",
       "      <td>0.321330</td>\n",
       "      <td>0.325879</td>\n",
       "      <td>0.320447</td>\n",
       "      <td>0.322345</td>\n",
       "      <td>0.321962</td>\n",
       "      <td>0.002137</td>\n",
       "    </tr>\n",
       "    <tr>\n",
       "      <td>19</td>\n",
       "      <td>0.187059</td>\n",
       "      <td>0.001358</td>\n",
       "      <td>0.006396</td>\n",
       "      <td>0.000753</td>\n",
       "      <td>20</td>\n",
       "      <td>{'n_features_to_select': 20}</td>\n",
       "      <td>0.328842</td>\n",
       "      <td>0.322367</td>\n",
       "      <td>0.304897</td>\n",
       "      <td>0.324867</td>\n",
       "      <td>...</td>\n",
       "      <td>0.319715</td>\n",
       "      <td>0.008257</td>\n",
       "      <td>1</td>\n",
       "      <td>0.319846</td>\n",
       "      <td>0.322141</td>\n",
       "      <td>0.326534</td>\n",
       "      <td>0.320489</td>\n",
       "      <td>0.322377</td>\n",
       "      <td>0.322278</td>\n",
       "      <td>0.002335</td>\n",
       "    </tr>\n",
       "  </tbody>\n",
       "</table>\n",
       "<p>20 rows × 21 columns</p>\n",
       "</div>"
      ],
      "text/plain": [
       "    mean_fit_time  std_fit_time  mean_score_time  std_score_time  \\\n",
       "0        0.480699      0.037823         0.005737        0.000771   \n",
       "1        0.452323      0.019864         0.006458        0.001365   \n",
       "2        0.414733      0.010171         0.006675        0.000283   \n",
       "3        0.405676      0.000832         0.006358        0.000173   \n",
       "4        0.413826      0.016094         0.005685        0.000195   \n",
       "5        0.397522      0.003326         0.004573        0.000368   \n",
       "6        0.391185      0.002540         0.004495        0.000068   \n",
       "7        0.384404      0.002717         0.004444        0.000025   \n",
       "8        0.376204      0.001107         0.004478        0.000015   \n",
       "9        0.368929      0.002181         0.004595        0.000128   \n",
       "10       0.361391      0.006948         0.004555        0.000172   \n",
       "11       0.345627      0.002343         0.004572        0.000044   \n",
       "12       0.325589      0.002079         0.005761        0.000163   \n",
       "13       0.311030      0.001554         0.005972        0.000418   \n",
       "14       0.293036      0.000698         0.006115        0.000490   \n",
       "15       0.279655      0.005223         0.006208        0.000678   \n",
       "16       0.262048      0.005238         0.006148        0.000472   \n",
       "17       0.238997      0.008112         0.006309        0.000557   \n",
       "18       0.211245      0.002917         0.006360        0.000729   \n",
       "19       0.187059      0.001358         0.006396        0.000753   \n",
       "\n",
       "   param_n_features_to_select                        params  \\\n",
       "0                           1   {'n_features_to_select': 1}   \n",
       "1                           2   {'n_features_to_select': 2}   \n",
       "2                           3   {'n_features_to_select': 3}   \n",
       "3                           4   {'n_features_to_select': 4}   \n",
       "4                           5   {'n_features_to_select': 5}   \n",
       "5                           6   {'n_features_to_select': 6}   \n",
       "6                           7   {'n_features_to_select': 7}   \n",
       "7                           8   {'n_features_to_select': 8}   \n",
       "8                           9   {'n_features_to_select': 9}   \n",
       "9                          10  {'n_features_to_select': 10}   \n",
       "10                         11  {'n_features_to_select': 11}   \n",
       "11                         12  {'n_features_to_select': 12}   \n",
       "12                         13  {'n_features_to_select': 13}   \n",
       "13                         14  {'n_features_to_select': 14}   \n",
       "14                         15  {'n_features_to_select': 15}   \n",
       "15                         16  {'n_features_to_select': 16}   \n",
       "16                         17  {'n_features_to_select': 17}   \n",
       "17                         18  {'n_features_to_select': 18}   \n",
       "18                         19  {'n_features_to_select': 19}   \n",
       "19                         20  {'n_features_to_select': 20}   \n",
       "\n",
       "    split0_test_score  split1_test_score  split2_test_score  \\\n",
       "0            0.000521           0.000735           0.001106   \n",
       "1            0.000987           0.001315           0.001064   \n",
       "2            0.000775           0.001312           0.001196   \n",
       "3            0.000953           0.001334           0.000766   \n",
       "4            0.000967           0.001332           0.000764   \n",
       "5            0.000610           0.006036           0.002474   \n",
       "6            0.009305           0.008653           0.011159   \n",
       "7            0.007967           0.010350           0.010685   \n",
       "8            0.007179           0.243953           0.010438   \n",
       "9            0.237906           0.244465           0.200118   \n",
       "10           0.295803           0.287421           0.260113   \n",
       "11           0.322634           0.318033           0.295566   \n",
       "12           0.321177           0.317304           0.295664   \n",
       "13           0.321296           0.317489           0.301686   \n",
       "14           0.328368           0.319137           0.301690   \n",
       "15           0.328303           0.319085           0.301749   \n",
       "16           0.328284           0.319134           0.302291   \n",
       "17           0.328200           0.319431           0.303992   \n",
       "18           0.328897           0.321337           0.304454   \n",
       "19           0.328842           0.322367           0.304897   \n",
       "\n",
       "    split3_test_score  ...  mean_test_score  std_test_score  rank_test_score  \\\n",
       "0            0.000948  ...         0.000787        0.000213               20   \n",
       "1            0.000973  ...         0.000982        0.000239               16   \n",
       "2            0.000959  ...         0.000888        0.000392               17   \n",
       "3            0.000696  ...         0.000870        0.000260               19   \n",
       "4            0.000704  ...         0.000879        0.000253               18   \n",
       "5            0.002949  ...         0.002428        0.002104               15   \n",
       "6            0.011259  ...         0.053629        0.087076               14   \n",
       "7            0.012763  ...         0.063318        0.105764               13   \n",
       "8            0.241754  ...         0.155616        0.120439               12   \n",
       "9            0.291468  ...         0.254371        0.036286               11   \n",
       "10           0.291311  ...         0.286538        0.013712               10   \n",
       "11           0.317251  ...         0.310353        0.011151                8   \n",
       "12           0.317588  ...         0.310166        0.010584                9   \n",
       "13           0.321256  ...         0.312184        0.009720                7   \n",
       "14           0.321297  ...         0.316195        0.009229                6   \n",
       "15           0.321459  ...         0.316274        0.009172                5   \n",
       "16           0.321363  ...         0.316432        0.008951                4   \n",
       "17           0.324288  ...         0.318682        0.008243                3   \n",
       "18           0.324957  ...         0.319438        0.008386                2   \n",
       "19           0.324867  ...         0.319715        0.008257                1   \n",
       "\n",
       "    split0_train_score  split1_train_score  split2_train_score  \\\n",
       "0             0.000752            0.000704            0.000603   \n",
       "1             0.001056            0.000970            0.001028   \n",
       "2             0.000970            0.000969            0.000940   \n",
       "3             0.000945            0.000969            0.000940   \n",
       "4             0.000970            0.000970            0.000940   \n",
       "5             0.003126            0.009048            0.002697   \n",
       "6             0.011227            0.011445            0.010796   \n",
       "7             0.014391            0.013998            0.013876   \n",
       "8             0.015008            0.228486            0.014414   \n",
       "9             0.230476            0.228635            0.240036   \n",
       "10            0.279828            0.281718            0.288701   \n",
       "11            0.308728            0.309693            0.315361   \n",
       "12            0.309225            0.310088            0.315424   \n",
       "13            0.309280            0.310116            0.321591   \n",
       "14            0.315352            0.317531            0.321722   \n",
       "15            0.315503            0.317598            0.321768   \n",
       "16            0.315562            0.317723            0.322118   \n",
       "17            0.319536            0.318137            0.325853   \n",
       "18            0.319808            0.321330            0.325879   \n",
       "19            0.319846            0.322141            0.326534   \n",
       "\n",
       "    split3_train_score  split4_train_score  mean_train_score  std_train_score  \n",
       "0             0.000647            0.000418          0.000625         0.000115  \n",
       "1             0.001056            0.001151          0.001052         0.000059  \n",
       "2             0.000961            0.001064          0.000981         0.000043  \n",
       "3             0.000965            0.001060          0.000976         0.000043  \n",
       "4             0.000968            0.001068          0.000983         0.000044  \n",
       "5             0.002592            0.001794          0.003851         0.002634  \n",
       "6             0.010790            0.230540          0.054960         0.087791  \n",
       "7             0.013383            0.284098          0.067949         0.108075  \n",
       "8             0.229219            0.284188          0.154263         0.115722  \n",
       "9             0.280642            0.313816          0.258721         0.033371  \n",
       "10            0.280746            0.314306          0.289060         0.013006  \n",
       "11            0.309933            0.314381          0.311619         0.002703  \n",
       "12            0.309952            0.314425          0.311822         0.002569  \n",
       "13            0.316682            0.314641          0.314462         0.004506  \n",
       "14            0.316728            0.319538          0.318174         0.002232  \n",
       "15            0.316830            0.319922          0.318324         0.002242  \n",
       "16            0.317337            0.319998          0.318548         0.002277  \n",
       "17            0.320378            0.322333          0.321247         0.002674  \n",
       "18            0.320447            0.322345          0.321962         0.002137  \n",
       "19            0.320489            0.322377          0.322278         0.002335  \n",
       "\n",
       "[20 rows x 21 columns]"
      ]
     },
     "execution_count": 40,
     "metadata": {},
     "output_type": "execute_result"
    }
   ],
   "source": [
    "# cv results\n",
    "cv_results = pd.DataFrame(model_cv.cv_results_)\n",
    "cv_results"
   ]
  },
  {
   "cell_type": "markdown",
   "metadata": {},
   "source": [
    "Contrary to the scores generated by the linear model with and without cross_validation, the gridsearch scores performed worse. An obvious trend is that both the train and test scores increased with increasing number of features. Although, this is expected to be the case and the best score was notched with 20 features selected. Perhaps, the score could reach that gotten from the linear model above but it will be a trade off with time as the total taken to complete 100 iterations was 2.5hrs"
   ]
  },
  {
   "cell_type": "code",
   "execution_count": 41,
   "metadata": {},
   "outputs": [
    {
     "data": {
      "text/plain": [
       "<matplotlib.legend.Legend at 0x7f998c1f8510>"
      ]
     },
     "execution_count": 41,
     "metadata": {},
     "output_type": "execute_result"
    },
    {
     "data": {
      "image/png": "[encoded data removed]",
      "text/plain": [
       "<Figure size 1152x432 with 1 Axes>"
      ]
     },
     "metadata": {
      "needs_background": "light"
     },
     "output_type": "display_data"
    }
   ],
   "source": [
    "# plotting cv results\n",
    "plt.figure(figsize=(16,6))\n",
    "\n",
    "plt.plot(cv_results[\"param_n_features_to_select\"], cv_results[\"mean_test_score\"])\n",
    "plt.plot(cv_results[\"param_n_features_to_select\"], cv_results[\"mean_train_score\"])\n",
    "plt.xlabel('number of features')\n",
    "plt.ylabel('r-squared')\n",
    "plt.title(\"Optimal Number of Features\")\n",
    "plt.legend(['test score', 'train score'], loc='upper left')"
   ]
  },
  {
   "cell_type": "markdown",
   "metadata": {},
   "source": [
    "## Using Lasso Regression for Sellers"
   ]
  },
  {
   "cell_type": "code",
   "execution_count": 42,
   "metadata": {},
   "outputs": [],
   "source": [
    "from sklearn.linear_model import Lasso"
   ]
  },
  {
   "cell_type": "code",
   "execution_count": 43,
   "metadata": {},
   "outputs": [
    {
     "data": {
      "text/plain": [
       "Lasso(alpha=0.5)"
      ]
     },
     "execution_count": 43,
     "metadata": {},
     "output_type": "execute_result"
    }
   ],
   "source": [
    "reg = Lasso(alpha=0.5)\n",
    "reg.fit(Xseller_train, yseller_train)"
   ]
  },
  {
   "cell_type": "code",
   "execution_count": 44,
   "metadata": {},
   "outputs": [
    {
     "data": {
      "text/plain": [
       "51.00300952798034"
      ]
     },
     "execution_count": 44,
     "metadata": {},
     "output_type": "execute_result"
    }
   ],
   "source": [
    "reg.score(Xseller_train, yseller_train)*100"
   ]
  },
  {
   "cell_type": "code",
   "execution_count": 45,
   "metadata": {},
   "outputs": [
    {
     "data": {
      "text/plain": [
       "53.06857269959675"
      ]
     },
     "execution_count": 45,
     "metadata": {},
     "output_type": "execute_result"
    }
   ],
   "source": [
    "reg.score(Xseller_test, yseller_test)*100"
   ]
  },
  {
   "cell_type": "markdown",
   "metadata": {},
   "source": [
    "With alpha set at 0.5, the Lasso regression performs worse than linear regression. Lambda will be varied to get the best alpha for the lasso regression model"
   ]
  },
  {
   "cell_type": "code",
   "execution_count": 46,
   "metadata": {},
   "outputs": [],
   "source": [
    "lambdas = (0.001, 0.01, 0.1, 0.5, 1, 2, 10)\n",
    "l_num = 7\n",
    "pred_num = Xseller.shape[1]\n",
    "\n",
    "# prepare data for enumerate\n",
    "coeff_a = np.zeros((l_num, pred_num))\n",
    "train_r_squared = np.zeros(l_num)\n",
    "test_r_squared = np.zeros(l_num)"
   ]
  },
  {
   "cell_type": "code",
   "execution_count": 47,
   "metadata": {},
   "outputs": [],
   "source": [
    "# enumerate through lambdas with index and i\n",
    "for ind, i in enumerate(lambdas):    \n",
    "    reg = Lasso(alpha = i)\n",
    "    reg.fit(Xseller_train, yseller_train)\n",
    "\n",
    "    coeff_a[ind,:] = reg.coef_\n",
    "    train_r_squared[ind] = reg.score(Xseller_train, yseller_train)\n",
    "    test_r_squared[ind] = reg.score(Xseller_test, yseller_test)"
   ]
  },
  {
   "cell_type": "code",
   "execution_count": 48,
   "metadata": {},
   "outputs": [
    {
     "data": {
      "image/png": "[encoded data removed]",
      "text/plain": [
       "<Figure size 1296x576 with 1 Axes>"
      ]
     },
     "metadata": {
      "needs_background": "light"
     },
     "output_type": "display_data"
    }
   ],
   "source": [
    "# Plotting\n",
    "plt.figure(figsize=(18, 8))\n",
    "plt.plot(train_r_squared, 'bo-', label=r'$R^2$ Training set', color=\"darkblue\", alpha=0.6, linewidth=3)\n",
    "plt.plot(test_r_squared, 'bo-', label=r'$R^2$ Test set', color=\"darkred\", alpha=0.6, linewidth=3)\n",
    "plt.xlabel('Lamda index'); plt.ylabel(r'$R^2$')\n",
    "plt.xlim(0, 6)\n",
    "plt.title(r'Evaluate lasso regression with lamdas: 0 = 0.001, 1= 0.01, 2 = 0.1, 3 = 0.5, 4= 1, 5= 2, 6 = 10')\n",
    "plt.legend(loc='best')\n",
    "plt.grid()"
   ]
  },
  {
   "cell_type": "code",
   "execution_count": 49,
   "metadata": {
    "scrolled": true
   },
   "outputs": [
    {
     "data": {
      "text/plain": [
       "R_squared    79.598508\n",
       "lambda        0.010000\n",
       "Name: 1, dtype: float64"
      ]
     },
     "execution_count": 49,
     "metadata": {},
     "output_type": "execute_result"
    }
   ],
   "source": [
    "df_lam = pd.DataFrame(test_r_squared*100, columns=['R_squared'])\n",
    "df_lam['lambda'] = (lambdas)\n",
    "# returns the index of the row where column has maximum value.\n",
    "df_lam.loc[df_lam['R_squared'].idxmax()]"
   ]
  },
  {
   "cell_type": "markdown",
   "metadata": {},
   "source": [
    "At alpha of 0.01, the model scored better than 0.5 and the scores came close to that gotten when 4 features were selected using GridSearchCV with linear regression model"
   ]
  },
  {
   "cell_type": "code",
   "execution_count": 50,
   "metadata": {},
   "outputs": [
    {
     "data": {
      "text/html": [
       "<div>\n",
       "<style scoped>\n",
       "    .dataframe tbody tr th:only-of-type {\n",
       "        vertical-align: middle;\n",
       "    }\n",
       "\n",
       "    .dataframe tbody tr th {\n",
       "        vertical-align: top;\n",
       "    }\n",
       "\n",
       "    .dataframe thead th {\n",
       "        text-align: right;\n",
       "    }\n",
       "</style>\n",
       "<table border=\"1\" class=\"dataframe\">\n",
       "  <thead>\n",
       "    <tr style=\"text-align: right;\">\n",
       "      <th></th>\n",
       "      <th>Coefficient</th>\n",
       "    </tr>\n",
       "  </thead>\n",
       "  <tbody>\n",
       "    <tr>\n",
       "      <td>ScproductsPassRate</td>\n",
       "      <td>0.584807</td>\n",
       "    </tr>\n",
       "    <tr>\n",
       "      <td>ScproductsListed</td>\n",
       "      <td>0.279057</td>\n",
       "    </tr>\n",
       "    <tr>\n",
       "      <td>ScSocialNbFollowers</td>\n",
       "      <td>0.178960</td>\n",
       "    </tr>\n",
       "    <tr>\n",
       "      <td>ScdaysSinceLastLogin</td>\n",
       "      <td>0.007862</td>\n",
       "    </tr>\n",
       "    <tr>\n",
       "      <td>ScsocialProductsLiked</td>\n",
       "      <td>0.007760</td>\n",
       "    </tr>\n",
       "    <tr>\n",
       "      <td>ScproductsWished</td>\n",
       "      <td>0.007479</td>\n",
       "    </tr>\n",
       "    <tr>\n",
       "      <td>ScsocialNbFollows</td>\n",
       "      <td>0.003936</td>\n",
       "    </tr>\n",
       "    <tr>\n",
       "      <td>ScproductsBought</td>\n",
       "      <td>0.001035</td>\n",
       "    </tr>\n",
       "    <tr>\n",
       "      <td>civilityGenderId</td>\n",
       "      <td>0.000000</td>\n",
       "    </tr>\n",
       "    <tr>\n",
       "      <td>country_Portugal</td>\n",
       "      <td>0.000000</td>\n",
       "    </tr>\n",
       "  </tbody>\n",
       "</table>\n",
       "</div>"
      ],
      "text/plain": [
       "                       Coefficient\n",
       "ScproductsPassRate        0.584807\n",
       "ScproductsListed          0.279057\n",
       "ScSocialNbFollowers       0.178960\n",
       "ScdaysSinceLastLogin      0.007862\n",
       "ScsocialProductsLiked     0.007760\n",
       "ScproductsWished          0.007479\n",
       "ScsocialNbFollows         0.003936\n",
       "ScproductsBought          0.001035\n",
       "civilityGenderId          0.000000\n",
       "country_Portugal          0.000000"
      ]
     },
     "execution_count": 50,
     "metadata": {},
     "output_type": "execute_result"
    }
   ],
   "source": [
    "columns = Xseller_train.columns\n",
    "# Coefficients of best model\n",
    "reg_best = Lasso(alpha = 0.01)\n",
    "reg_best.fit(Xseller_train, yseller_train)\n",
    "pd.DataFrame(abs(reg_best.coef_), Xseller_train.columns, columns=['Coefficient']).sort_values(by='Coefficient', ascending= False).head(10)"
   ]
  },
  {
   "cell_type": "code",
   "execution_count": 51,
   "metadata": {},
   "outputs": [
    {
     "data": {
      "text/plain": [
       "0.17540501993357652"
      ]
     },
     "execution_count": 51,
     "metadata": {},
     "output_type": "execute_result"
    }
   ],
   "source": [
    "from sklearn.metrics import mean_squared_error\n",
    "mean_squared_error(yseller_test, reg_best.predict(Xseller_test))"
   ]
  },
  {
   "cell_type": "code",
   "execution_count": 52,
   "metadata": {},
   "outputs": [],
   "source": [
    "l_min = 0.001\n",
    "l_max = 0.5\n",
    "l_num = 20\n",
    "lambdas = np.linspace(l_min,l_max, l_num)\n",
    "\n",
    "train_r_squared = np.zeros(l_num)\n",
    "test_r_squared = np.zeros(l_num)\n",
    "\n",
    "pred_num = Xseller.shape[1]\n",
    "coeff_a = np.zeros((l_num, pred_num))"
   ]
  },
  {
   "cell_type": "code",
   "execution_count": 53,
   "metadata": {},
   "outputs": [],
   "source": [
    "from sklearn.model_selection import cross_val_score\n",
    "\n",
    "for ind, i in enumerate(lambdas):    \n",
    "    reg = Lasso(alpha = i)\n",
    "    reg.fit(Xseller_train, yseller_train)\n",
    "    results = cross_val_score(reg, Xseller, yseller, cv=5, scoring=\"r2\")\n",
    "\n",
    "    train_r_squared[ind] = reg.score(Xseller_train, yseller_train)    \n",
    "    test_r_squared[ind] = reg.score(Xseller_test, yseller_test)"
   ]
  },
  {
   "cell_type": "code",
   "execution_count": 54,
   "metadata": {},
   "outputs": [
    {
     "data": {
      "image/png": "[encoded data removed]",
      "text/plain": [
       "<Figure size 1296x576 with 1 Axes>"
      ]
     },
     "metadata": {
      "needs_background": "light"
     },
     "output_type": "display_data"
    }
   ],
   "source": [
    "# Plotting\n",
    "plt.figure(figsize=(18, 8))\n",
    "plt.plot(train_r_squared, 'bo-', label=r'$R^2$ Training set', color=\"darkblue\", alpha=0.6, linewidth=3)\n",
    "plt.plot(test_r_squared, 'bo-', label=r'$R^2$ Test set', color=\"darkred\", alpha=0.6, linewidth=3)\n",
    "plt.xlabel('Lamda value'); plt.ylabel(r'$R^2$')\n",
    "plt.xlim(0, 19)\n",
    "plt.title(r'Evaluate 5-fold cv with different lamdas')\n",
    "plt.legend(loc='best')\n",
    "plt.grid()"
   ]
  },
  {
   "cell_type": "code",
   "execution_count": 55,
   "metadata": {},
   "outputs": [
    {
     "data": {
      "text/plain": [
       "R_squared    79.726225\n",
       "lambda        0.053526\n",
       "Name: 2, dtype: float64"
      ]
     },
     "execution_count": 55,
     "metadata": {},
     "output_type": "execute_result"
    }
   ],
   "source": [
    "df_lam = pd.DataFrame(test_r_squared*100, columns=['R_squared'])\n",
    "df_lam['lambda'] = (lambdas)\n",
    "# returns the index of the row where column has maximum value.\n",
    "df_lam.loc[df_lam['R_squared'].idxmax()]"
   ]
  },
  {
   "cell_type": "code",
   "execution_count": 56,
   "metadata": {},
   "outputs": [
    {
     "data": {
      "text/plain": [
       "Lasso(alpha=0.05)"
      ]
     },
     "execution_count": 56,
     "metadata": {},
     "output_type": "execute_result"
    }
   ],
   "source": [
    "# Best Model\n",
    "reg_best = Lasso(alpha = 0.05)\n",
    "reg_best.fit(Xseller_train, yseller_train)"
   ]
  },
  {
   "cell_type": "code",
   "execution_count": 57,
   "metadata": {},
   "outputs": [
    {
     "data": {
      "text/plain": [
       "0.17423834682862116"
      ]
     },
     "execution_count": 57,
     "metadata": {},
     "output_type": "execute_result"
    }
   ],
   "source": [
    "from sklearn.metrics import mean_squared_error\n",
    "\n",
    "mean_squared_error(yseller_test, reg_best.predict(Xseller_test))"
   ]
  },
  {
   "cell_type": "code",
   "execution_count": 58,
   "metadata": {},
   "outputs": [
    {
     "data": {
      "text/plain": [
       "81.07393187540852"
      ]
     },
     "execution_count": 58,
     "metadata": {},
     "output_type": "execute_result"
    }
   ],
   "source": [
    "Lasso_Train = reg_best.score(Xseller_train, yseller_train) * 100\n",
    "\n",
    "Lasso_Train"
   ]
  },
  {
   "cell_type": "code",
   "execution_count": 59,
   "metadata": {
    "scrolled": true
   },
   "outputs": [
    {
     "data": {
      "text/plain": [
       "79.73420449153453"
      ]
     },
     "execution_count": 59,
     "metadata": {},
     "output_type": "execute_result"
    }
   ],
   "source": [
    "Lasso_Test = reg_best.score(Xseller_test, yseller_test)*100\n",
    "\n",
    "Lasso_Test"
   ]
  },
  {
   "cell_type": "markdown",
   "metadata": {},
   "source": [
    "The scores for both train and test datasets for sellers are equal to those gotten from Linear regression model. The performance above was gotten after cross_validation was done on the dataset using Lasso Regression and the best lambda for R_squared was selected to be 0.0535"
   ]
  },
  {
   "cell_type": "code",
   "execution_count": 60,
   "metadata": {
    "scrolled": true
   },
   "outputs": [
    {
     "data": {
      "text/html": [
       "<div>\n",
       "<style scoped>\n",
       "    .dataframe tbody tr th:only-of-type {\n",
       "        vertical-align: middle;\n",
       "    }\n",
       "\n",
       "    .dataframe tbody tr th {\n",
       "        vertical-align: top;\n",
       "    }\n",
       "\n",
       "    .dataframe thead th {\n",
       "        text-align: right;\n",
       "    }\n",
       "</style>\n",
       "<table border=\"1\" class=\"dataframe\">\n",
       "  <thead>\n",
       "    <tr style=\"text-align: right;\">\n",
       "      <th></th>\n",
       "      <th>Coefficient</th>\n",
       "    </tr>\n",
       "  </thead>\n",
       "  <tbody>\n",
       "    <tr>\n",
       "      <td>ScproductsPassRate</td>\n",
       "      <td>0.568701</td>\n",
       "    </tr>\n",
       "    <tr>\n",
       "      <td>ScproductsListed</td>\n",
       "      <td>0.264111</td>\n",
       "    </tr>\n",
       "    <tr>\n",
       "      <td>ScSocialNbFollowers</td>\n",
       "      <td>0.150374</td>\n",
       "    </tr>\n",
       "    <tr>\n",
       "      <td>civilityGenderId</td>\n",
       "      <td>0.000000</td>\n",
       "    </tr>\n",
       "    <tr>\n",
       "      <td>country_Rwanda</td>\n",
       "      <td>0.000000</td>\n",
       "    </tr>\n",
       "    <tr>\n",
       "      <td>country_Pays-Bas</td>\n",
       "      <td>0.000000</td>\n",
       "    </tr>\n",
       "    <tr>\n",
       "      <td>country_Philippines</td>\n",
       "      <td>0.000000</td>\n",
       "    </tr>\n",
       "    <tr>\n",
       "      <td>country_Pologne</td>\n",
       "      <td>0.000000</td>\n",
       "    </tr>\n",
       "    <tr>\n",
       "      <td>country_Polynésie Française</td>\n",
       "      <td>0.000000</td>\n",
       "    </tr>\n",
       "    <tr>\n",
       "      <td>country_Portugal</td>\n",
       "      <td>0.000000</td>\n",
       "    </tr>\n",
       "  </tbody>\n",
       "</table>\n",
       "</div>"
      ],
      "text/plain": [
       "                             Coefficient\n",
       "ScproductsPassRate              0.568701\n",
       "ScproductsListed                0.264111\n",
       "ScSocialNbFollowers             0.150374\n",
       "civilityGenderId                0.000000\n",
       "country_Rwanda                  0.000000\n",
       "country_Pays-Bas                0.000000\n",
       "country_Philippines             0.000000\n",
       "country_Pologne                 0.000000\n",
       "country_Polynésie Française     0.000000\n",
       "country_Portugal                0.000000"
      ]
     },
     "execution_count": 60,
     "metadata": {},
     "output_type": "execute_result"
    }
   ],
   "source": [
    "pd.DataFrame(abs(reg_best.coef_), Xseller_train.columns, columns=['Coefficient']).sort_values(by='Coefficient', ascending= False).head(10)"
   ]
  },
  {
   "cell_type": "markdown",
   "metadata": {},
   "source": [
    "For both seller models, the Lasso regression results will be used. The linear regression model had good R-squared scores but the coefficients generated for the top 3 features were absurdly hgih. The grid search results for the seller dataframe looked too optimistic as the perfect scores of 1 were scored for variables greater than 4. For features lower than lower than 5, the best most reasonable scores were attained when 4 features were selected. The scores for the train dataset was 80.2% while the test score was 80.1%  On the flip side, lasso regression for the seller dataframe had good  r-squre scores for both train and test datasets. 81% score was attained for train dataset using CV and 79.7% for test score with alpha at 0.05. \n",
    "\n",
    "Using the 3 best features from Lasso regression, productsPassRate had coefficient of 0.569, productsListed had a score of 0.26411 and socialNbFollowers was 0.1503. Because of the Lasso regression's inner workings of reducing features that do not contribute much to the performance of the dependent variable, the other features selected from the original 224 features were reduced to 0. \n",
    "\n",
    "As a result, a seller has more chance of getting products sold with higher product pass rate. Also, the higher the number of products listed by sellers, the greater the chance of making sales on the platform. Finally, due to the platform being structured as a social e-commerce one where users can follow each other, the more users follow an individual categorized as seller, the better it is for such individual to make sales on the platform."
   ]
  },
  {
   "cell_type": "markdown",
   "metadata": {},
   "source": [
    "## Lasso Regression on Buyer Dataset"
   ]
  },
  {
   "cell_type": "code",
   "execution_count": 61,
   "metadata": {
    "scrolled": true
   },
   "outputs": [
    {
     "data": {
      "text/plain": [
       "Lasso(alpha=0.01)"
      ]
     },
     "execution_count": 61,
     "metadata": {},
     "output_type": "execute_result"
    }
   ],
   "source": [
    "regb = Lasso(alpha=0.01)\n",
    "regb.fit(Xbuyer_train, ybuyer_train)"
   ]
  },
  {
   "cell_type": "markdown",
   "metadata": {},
   "source": [
    "alpha 0.5 gave poor R-square scores for bothtrain and test dataset. It was adjusted to 0.01 and better score was gotten"
   ]
  },
  {
   "cell_type": "code",
   "execution_count": 62,
   "metadata": {},
   "outputs": [
    {
     "data": {
      "text/plain": [
       "31.89612419473775"
      ]
     },
     "execution_count": 62,
     "metadata": {},
     "output_type": "execute_result"
    }
   ],
   "source": [
    "regb.score(Xbuyer_train, ybuyer_train)*100"
   ]
  },
  {
   "cell_type": "code",
   "execution_count": 63,
   "metadata": {
    "scrolled": true
   },
   "outputs": [
    {
     "data": {
      "text/plain": [
       "34.03659082358275"
      ]
     },
     "execution_count": 63,
     "metadata": {},
     "output_type": "execute_result"
    }
   ],
   "source": [
    "regb.score(Xbuyer_test, ybuyer_test)*100"
   ]
  },
  {
   "cell_type": "markdown",
   "metadata": {},
   "source": [
    "The R-square for both train and test datasets above came out similar to the origial one from the linear regression above. To determine if better performance can be gotten from Lasso regression, lambda will be varied."
   ]
  },
  {
   "cell_type": "code",
   "execution_count": 64,
   "metadata": {},
   "outputs": [],
   "source": [
    "lambdas = (0.001, 0.01, 0.1, 0.5, 1, 2, 10)\n",
    "l_num = 7\n",
    "pred_num = Xseller.shape[1]\n",
    "\n",
    "# prepare data for enumerate\n",
    "coeff_b = np.zeros((l_num, pred_num))\n",
    "train_r_squaredb = np.zeros(l_num)\n",
    "test_r_squaredb = np.zeros(l_num)"
   ]
  },
  {
   "cell_type": "code",
   "execution_count": 65,
   "metadata": {},
   "outputs": [],
   "source": [
    "# enumerate through lambdas with index and i\n",
    "for ind, i in enumerate(lambdas):    \n",
    "    regb = Lasso(alpha = i)\n",
    "    regb.fit(Xseller_train, yseller_train)\n",
    "\n",
    "    coeff_b[ind,:] = regb.coef_\n",
    "    train_r_squaredb[ind] = regb.score(Xseller_train, yseller_train)\n",
    "    test_r_squaredb[ind] = regb.score(Xseller_test, yseller_test)"
   ]
  },
  {
   "cell_type": "code",
   "execution_count": 66,
   "metadata": {},
   "outputs": [
    {
     "data": {
      "image/png": "[encoded data removed]",
      "text/plain": [
       "<Figure size 1296x576 with 1 Axes>"
      ]
     },
     "metadata": {
      "needs_background": "light"
     },
     "output_type": "display_data"
    }
   ],
   "source": [
    "# Plotting\n",
    "plt.figure(figsize=(18, 8))\n",
    "plt.plot(train_r_squared, 'bo-', label=r'$R^2$ Training set', color=\"darkblue\", alpha=0.6, linewidth=3)\n",
    "plt.plot(test_r_squared, 'bo-', label=r'$R^2$ Test set', color=\"darkred\", alpha=0.6, linewidth=3)\n",
    "plt.xlabel('Lamda index'); plt.ylabel(r'$R^2$')\n",
    "plt.xlim(0, 6)\n",
    "plt.title(r'Evaluate lasso regression with lamdas: 0 = 0.001, 1= 0.01, 2 = 0.1, 3 = 0.5, 4= 1, 5= 2, 6 = 10')\n",
    "plt.legend(loc='best')\n",
    "plt.grid()"
   ]
  },
  {
   "cell_type": "code",
   "execution_count": 67,
   "metadata": {
    "scrolled": true
   },
   "outputs": [
    {
     "data": {
      "text/plain": [
       "R_squared    79.598508\n",
       "lambda        0.010000\n",
       "Name: 1, dtype: float64"
      ]
     },
     "execution_count": 67,
     "metadata": {},
     "output_type": "execute_result"
    }
   ],
   "source": [
    "df_lam = pd.DataFrame(test_r_squaredb*100, columns=['R_squared'])\n",
    "df_lam['lambda'] = (lambdas)\n",
    "# returns the index of the row where column has maximum value.\n",
    "df_lam.loc[df_lam['R_squared'].idxmax()]"
   ]
  },
  {
   "cell_type": "markdown",
   "metadata": {},
   "source": [
    "At lambda 0.01, a better R_squared of 79.6% was gotten. This is obiviously better than the score from linear regression."
   ]
  },
  {
   "cell_type": "code",
   "execution_count": 68,
   "metadata": {
    "scrolled": true
   },
   "outputs": [
    {
     "data": {
      "text/html": [
       "<div>\n",
       "<style scoped>\n",
       "    .dataframe tbody tr th:only-of-type {\n",
       "        vertical-align: middle;\n",
       "    }\n",
       "\n",
       "    .dataframe tbody tr th {\n",
       "        vertical-align: top;\n",
       "    }\n",
       "\n",
       "    .dataframe thead th {\n",
       "        text-align: right;\n",
       "    }\n",
       "</style>\n",
       "<table border=\"1\" class=\"dataframe\">\n",
       "  <thead>\n",
       "    <tr style=\"text-align: right;\">\n",
       "      <th></th>\n",
       "      <th>Coefficient</th>\n",
       "    </tr>\n",
       "  </thead>\n",
       "  <tbody>\n",
       "    <tr>\n",
       "      <td>ScproductsWished</td>\n",
       "      <td>0.279322</td>\n",
       "    </tr>\n",
       "    <tr>\n",
       "      <td>ScSocialNbFollowers</td>\n",
       "      <td>0.190072</td>\n",
       "    </tr>\n",
       "    <tr>\n",
       "      <td>ScdaysSinceLastLogin</td>\n",
       "      <td>0.181460</td>\n",
       "    </tr>\n",
       "    <tr>\n",
       "      <td>ScsocialProductsLiked</td>\n",
       "      <td>0.090362</td>\n",
       "    </tr>\n",
       "    <tr>\n",
       "      <td>civilityGenderId</td>\n",
       "      <td>0.044107</td>\n",
       "    </tr>\n",
       "    <tr>\n",
       "      <td>ScproductsListed</td>\n",
       "      <td>0.035308</td>\n",
       "    </tr>\n",
       "    <tr>\n",
       "      <td>ScproductsSold</td>\n",
       "      <td>0.019976</td>\n",
       "    </tr>\n",
       "    <tr>\n",
       "      <td>hasAnyApp</td>\n",
       "      <td>0.011291</td>\n",
       "    </tr>\n",
       "    <tr>\n",
       "      <td>ScsocialNbFollows</td>\n",
       "      <td>0.007979</td>\n",
       "    </tr>\n",
       "    <tr>\n",
       "      <td>hasIosApp</td>\n",
       "      <td>0.000646</td>\n",
       "    </tr>\n",
       "    <tr>\n",
       "      <td>country_Russie</td>\n",
       "      <td>0.000000</td>\n",
       "    </tr>\n",
       "    <tr>\n",
       "      <td>country_Paraguay</td>\n",
       "      <td>0.000000</td>\n",
       "    </tr>\n",
       "    <tr>\n",
       "      <td>country_Pays-Bas</td>\n",
       "      <td>0.000000</td>\n",
       "    </tr>\n",
       "    <tr>\n",
       "      <td>country_Philippines</td>\n",
       "      <td>0.000000</td>\n",
       "    </tr>\n",
       "    <tr>\n",
       "      <td>country_Pologne</td>\n",
       "      <td>0.000000</td>\n",
       "    </tr>\n",
       "    <tr>\n",
       "      <td>country_Polynésie Française</td>\n",
       "      <td>0.000000</td>\n",
       "    </tr>\n",
       "    <tr>\n",
       "      <td>country_Portugal</td>\n",
       "      <td>0.000000</td>\n",
       "    </tr>\n",
       "    <tr>\n",
       "      <td>country_Puerto Rico</td>\n",
       "      <td>0.000000</td>\n",
       "    </tr>\n",
       "    <tr>\n",
       "      <td>country_Pérou</td>\n",
       "      <td>0.000000</td>\n",
       "    </tr>\n",
       "    <tr>\n",
       "      <td>country_Qatar</td>\n",
       "      <td>0.000000</td>\n",
       "    </tr>\n",
       "  </tbody>\n",
       "</table>\n",
       "</div>"
      ],
      "text/plain": [
       "                             Coefficient\n",
       "ScproductsWished                0.279322\n",
       "ScSocialNbFollowers             0.190072\n",
       "ScdaysSinceLastLogin            0.181460\n",
       "ScsocialProductsLiked           0.090362\n",
       "civilityGenderId                0.044107\n",
       "ScproductsListed                0.035308\n",
       "ScproductsSold                  0.019976\n",
       "hasAnyApp                       0.011291\n",
       "ScsocialNbFollows               0.007979\n",
       "hasIosApp                       0.000646\n",
       "country_Russie                  0.000000\n",
       "country_Paraguay                0.000000\n",
       "country_Pays-Bas                0.000000\n",
       "country_Philippines             0.000000\n",
       "country_Pologne                 0.000000\n",
       "country_Polynésie Française     0.000000\n",
       "country_Portugal                0.000000\n",
       "country_Puerto Rico             0.000000\n",
       "country_Pérou                   0.000000\n",
       "country_Qatar                   0.000000"
      ]
     },
     "execution_count": 68,
     "metadata": {},
     "output_type": "execute_result"
    }
   ],
   "source": [
    "columns = Xbuyer_train.columns\n",
    "# Coefficients of best model\n",
    "reg_bestb = Lasso(alpha = 0.01)\n",
    "reg_bestb.fit(Xbuyer_train, ybuyer_train)\n",
    "pd.DataFrame(abs(reg_bestb.coef_), Xbuyer_train.columns, columns=['Coefficient']).sort_values(by='Coefficient', ascending= False).head(20)"
   ]
  },
  {
   "cell_type": "markdown",
   "metadata": {},
   "source": [
    "Ten coefficients were selected from 224 to impact buyers' behaviors on the C2C platform. If a buyer marks a listed product of a seller as product wish, the buyer might eventually purchase such product.The other features to make the top 5 list are number of followers, last log in time (how frequent a buyer is on the platform), products liked, and gender. Some features peculiar to sellers came out important also. Products listed and products sold. As seen below, the mean error is low which shows that there is no much difference between the predicted values and the original test set."
   ]
  },
  {
   "cell_type": "code",
   "execution_count": 69,
   "metadata": {
    "scrolled": true
   },
   "outputs": [
    {
     "data": {
      "text/plain": [
       "0.6971675895376435"
      ]
     },
     "execution_count": 69,
     "metadata": {},
     "output_type": "execute_result"
    }
   ],
   "source": [
    "from sklearn.metrics import mean_squared_error\n",
    "mean_squared_error(ybuyer_test, reg_bestb.predict(Xbuyer_test))"
   ]
  },
  {
   "cell_type": "markdown",
   "metadata": {},
   "source": [
    "The affirm the perfomance of the Lasso regression above, cross_validation will be done at different lambda marks and best lambda will be used to get the best scores and the best features"
   ]
  },
  {
   "cell_type": "code",
   "execution_count": 70,
   "metadata": {},
   "outputs": [],
   "source": [
    "l_min = 0.001\n",
    "l_max = 0.5\n",
    "l_num = 20\n",
    "lambdas = np.linspace(l_min,l_max, l_num)\n",
    "\n",
    "train_r_squaredb = np.zeros(l_num)\n",
    "test_r_squaredb = np.zeros(l_num)\n",
    "\n",
    "pred_numb = Xbuyer.shape[1]\n",
    "coeff_b = np.zeros((l_num, pred_numb))"
   ]
  },
  {
   "cell_type": "code",
   "execution_count": 71,
   "metadata": {},
   "outputs": [],
   "source": [
    "from sklearn.model_selection import cross_val_score\n",
    "\n",
    "for ind, i in enumerate(lambdas):    \n",
    "    regb = Lasso(alpha = i)\n",
    "    regb.fit(Xbuyer_train, ybuyer_train)\n",
    "    results = cross_val_score(regb, Xbuyer, ybuyer, cv=5, scoring=\"r2\")\n",
    "\n",
    "    train_r_squaredb[ind] = regb.score(Xbuyer_train, ybuyer_train)    \n",
    "    test_r_squaredb[ind] = regb.score(Xbuyer_test, ybuyer_test)"
   ]
  },
  {
   "cell_type": "code",
   "execution_count": 72,
   "metadata": {},
   "outputs": [
    {
     "data": {
      "image/png": "[encoded data removed]",
      "text/plain": [
       "<Figure size 1296x576 with 1 Axes>"
      ]
     },
     "metadata": {
      "needs_background": "light"
     },
     "output_type": "display_data"
    }
   ],
   "source": [
    "# Plotting\n",
    "plt.figure(figsize=(18, 8))\n",
    "plt.plot(train_r_squaredb, 'bo-', label=r'$R^2$ Training set', color=\"darkblue\", alpha=0.6, linewidth=3)\n",
    "plt.plot(test_r_squaredb, 'bo-', label=r'$R^2$ Test set', color=\"darkred\", alpha=0.6, linewidth=3)\n",
    "plt.xlabel('Lamda value'); plt.ylabel(r'$R^2$')\n",
    "plt.xlim(0, 19)\n",
    "plt.title(r'Evaluate 5-fold cv with different lamdas')\n",
    "plt.legend(loc='best')\n",
    "plt.grid()"
   ]
  },
  {
   "cell_type": "code",
   "execution_count": 73,
   "metadata": {
    "scrolled": true
   },
   "outputs": [
    {
     "data": {
      "text/plain": [
       "R_squared    34.402929\n",
       "lambda        0.001000\n",
       "Name: 0, dtype: float64"
      ]
     },
     "execution_count": 73,
     "metadata": {},
     "output_type": "execute_result"
    }
   ],
   "source": [
    "df_lam = pd.DataFrame(test_r_squaredb*100, columns=['R_squared'])\n",
    "df_lam['lambda'] = (lambdas)\n",
    "# returns the index of the row where column has maximum value.\n",
    "df_lam.loc[df_lam['R_squared'].idxmax()]"
   ]
  },
  {
   "cell_type": "markdown",
   "metadata": {},
   "source": [
    "At 0.001, the R-square of 34.4% came out similar to the score from linear regression "
   ]
  },
  {
   "cell_type": "code",
   "execution_count": 74,
   "metadata": {},
   "outputs": [
    {
     "data": {
      "text/plain": [
       "Lasso(alpha=0.001)"
      ]
     },
     "execution_count": 74,
     "metadata": {},
     "output_type": "execute_result"
    }
   ],
   "source": [
    "# Best Model\n",
    "reg_bestb = Lasso(alpha = 0.001)\n",
    "reg_bestb.fit(Xbuyer_train, ybuyer_train)"
   ]
  },
  {
   "cell_type": "code",
   "execution_count": 75,
   "metadata": {},
   "outputs": [
    {
     "data": {
      "text/plain": [
       "0.6932957626448616"
      ]
     },
     "execution_count": 75,
     "metadata": {},
     "output_type": "execute_result"
    }
   ],
   "source": [
    "from sklearn.metrics import mean_squared_error\n",
    "\n",
    "mean_squared_error(ybuyer_test, reg_bestb.predict(Xbuyer_test))"
   ]
  },
  {
   "cell_type": "code",
   "execution_count": 76,
   "metadata": {},
   "outputs": [
    {
     "data": {
      "text/plain": [
       "32.24327525306004"
      ]
     },
     "execution_count": 76,
     "metadata": {},
     "output_type": "execute_result"
    }
   ],
   "source": [
    "LassoB_Train = reg_bestb.score(Xbuyer_train, ybuyer_train) * 100\n",
    "\n",
    "LassoB_Train"
   ]
  },
  {
   "cell_type": "code",
   "execution_count": 77,
   "metadata": {},
   "outputs": [
    {
     "data": {
      "text/plain": [
       "34.402928710514935"
      ]
     },
     "execution_count": 77,
     "metadata": {},
     "output_type": "execute_result"
    }
   ],
   "source": [
    "LassoB_Test = reg_bestb.score(Xbuyer_test, ybuyer_test)*100\n",
    "\n",
    "LassoB_Test"
   ]
  },
  {
   "cell_type": "code",
   "execution_count": 78,
   "metadata": {
    "scrolled": true
   },
   "outputs": [
    {
     "data": {
      "text/html": [
       "<div>\n",
       "<style scoped>\n",
       "    .dataframe tbody tr th:only-of-type {\n",
       "        vertical-align: middle;\n",
       "    }\n",
       "\n",
       "    .dataframe tbody tr th {\n",
       "        vertical-align: top;\n",
       "    }\n",
       "\n",
       "    .dataframe thead th {\n",
       "        text-align: right;\n",
       "    }\n",
       "</style>\n",
       "<table border=\"1\" class=\"dataframe\">\n",
       "  <thead>\n",
       "    <tr style=\"text-align: right;\">\n",
       "      <th></th>\n",
       "      <th>Coefficient</th>\n",
       "    </tr>\n",
       "  </thead>\n",
       "  <tbody>\n",
       "    <tr>\n",
       "      <td>ScproductsWished</td>\n",
       "      <td>0.276850</td>\n",
       "    </tr>\n",
       "    <tr>\n",
       "      <td>ScSocialNbFollowers</td>\n",
       "      <td>0.212661</td>\n",
       "    </tr>\n",
       "    <tr>\n",
       "      <td>ScdaysSinceLastLogin</td>\n",
       "      <td>0.194245</td>\n",
       "    </tr>\n",
       "    <tr>\n",
       "      <td>ScsocialProductsLiked</td>\n",
       "      <td>0.097570</td>\n",
       "    </tr>\n",
       "    <tr>\n",
       "      <td>ScproductsSold</td>\n",
       "      <td>0.045731</td>\n",
       "    </tr>\n",
       "    <tr>\n",
       "      <td>ScproductsListed</td>\n",
       "      <td>0.045138</td>\n",
       "    </tr>\n",
       "    <tr>\n",
       "      <td>civilityGenderId</td>\n",
       "      <td>0.042661</td>\n",
       "    </tr>\n",
       "    <tr>\n",
       "      <td>hasIosApp</td>\n",
       "      <td>0.021687</td>\n",
       "    </tr>\n",
       "    <tr>\n",
       "      <td>country_Allemagne</td>\n",
       "      <td>0.013740</td>\n",
       "    </tr>\n",
       "    <tr>\n",
       "      <td>ScsocialNbFollows</td>\n",
       "      <td>0.013010</td>\n",
       "    </tr>\n",
       "    <tr>\n",
       "      <td>hasAnyApp</td>\n",
       "      <td>0.012558</td>\n",
       "    </tr>\n",
       "    <tr>\n",
       "      <td>country_Royaume-Uni</td>\n",
       "      <td>0.011051</td>\n",
       "    </tr>\n",
       "    <tr>\n",
       "      <td>ScproductsPassRate</td>\n",
       "      <td>0.009598</td>\n",
       "    </tr>\n",
       "    <tr>\n",
       "      <td>lang_it</td>\n",
       "      <td>0.008046</td>\n",
       "    </tr>\n",
       "    <tr>\n",
       "      <td>Scseniority</td>\n",
       "      <td>0.007278</td>\n",
       "    </tr>\n",
       "    <tr>\n",
       "      <td>country_Italie</td>\n",
       "      <td>0.006553</td>\n",
       "    </tr>\n",
       "    <tr>\n",
       "      <td>hasProfilePicture</td>\n",
       "      <td>0.005341</td>\n",
       "    </tr>\n",
       "    <tr>\n",
       "      <td>lang_fr</td>\n",
       "      <td>0.004136</td>\n",
       "    </tr>\n",
       "    <tr>\n",
       "      <td>country_Pays-Bas</td>\n",
       "      <td>0.002472</td>\n",
       "    </tr>\n",
       "    <tr>\n",
       "      <td>country_Etats-Unis</td>\n",
       "      <td>0.002347</td>\n",
       "    </tr>\n",
       "    <tr>\n",
       "      <td>lang_de</td>\n",
       "      <td>0.001394</td>\n",
       "    </tr>\n",
       "    <tr>\n",
       "      <td>country_Hong Kong</td>\n",
       "      <td>0.000574</td>\n",
       "    </tr>\n",
       "    <tr>\n",
       "      <td>country_Canada</td>\n",
       "      <td>0.000472</td>\n",
       "    </tr>\n",
       "    <tr>\n",
       "      <td>country_Antilles néerlandaises</td>\n",
       "      <td>0.000000</td>\n",
       "    </tr>\n",
       "    <tr>\n",
       "      <td>country_République tchèque</td>\n",
       "      <td>0.000000</td>\n",
       "    </tr>\n",
       "    <tr>\n",
       "      <td>country_République centrafricaine</td>\n",
       "      <td>0.000000</td>\n",
       "    </tr>\n",
       "    <tr>\n",
       "      <td>country_République dominicaine</td>\n",
       "      <td>0.000000</td>\n",
       "    </tr>\n",
       "    <tr>\n",
       "      <td>country_Saint Kitts et Nevis</td>\n",
       "      <td>0.000000</td>\n",
       "    </tr>\n",
       "    <tr>\n",
       "      <td>country_Rwanda</td>\n",
       "      <td>0.000000</td>\n",
       "    </tr>\n",
       "    <tr>\n",
       "      <td>country_Russie</td>\n",
       "      <td>0.000000</td>\n",
       "    </tr>\n",
       "    <tr>\n",
       "      <td>country_Antarctique</td>\n",
       "      <td>0.000000</td>\n",
       "    </tr>\n",
       "    <tr>\n",
       "      <td>country_Réunion</td>\n",
       "      <td>0.000000</td>\n",
       "    </tr>\n",
       "    <tr>\n",
       "      <td>country_Samoa</td>\n",
       "      <td>0.000000</td>\n",
       "    </tr>\n",
       "    <tr>\n",
       "      <td>country_Saint Vincent et les Grenadines</td>\n",
       "      <td>0.000000</td>\n",
       "    </tr>\n",
       "    <tr>\n",
       "      <td>country_Sainte Lucie</td>\n",
       "      <td>0.000000</td>\n",
       "    </tr>\n",
       "    <tr>\n",
       "      <td>country_Qatar</td>\n",
       "      <td>0.000000</td>\n",
       "    </tr>\n",
       "    <tr>\n",
       "      <td>country_Samoa américaines</td>\n",
       "      <td>0.000000</td>\n",
       "    </tr>\n",
       "    <tr>\n",
       "      <td>country_Serbie</td>\n",
       "      <td>0.000000</td>\n",
       "    </tr>\n",
       "    <tr>\n",
       "      <td>country_Singapour</td>\n",
       "      <td>0.000000</td>\n",
       "    </tr>\n",
       "    <tr>\n",
       "      <td>country_Slovaquie</td>\n",
       "      <td>0.000000</td>\n",
       "    </tr>\n",
       "  </tbody>\n",
       "</table>\n",
       "</div>"
      ],
      "text/plain": [
       "                                         Coefficient\n",
       "ScproductsWished                            0.276850\n",
       "ScSocialNbFollowers                         0.212661\n",
       "ScdaysSinceLastLogin                        0.194245\n",
       "ScsocialProductsLiked                       0.097570\n",
       "ScproductsSold                              0.045731\n",
       "ScproductsListed                            0.045138\n",
       "civilityGenderId                            0.042661\n",
       "hasIosApp                                   0.021687\n",
       "country_Allemagne                           0.013740\n",
       "ScsocialNbFollows                           0.013010\n",
       "hasAnyApp                                   0.012558\n",
       "country_Royaume-Uni                         0.011051\n",
       "ScproductsPassRate                          0.009598\n",
       "lang_it                                     0.008046\n",
       "Scseniority                                 0.007278\n",
       "country_Italie                              0.006553\n",
       "hasProfilePicture                           0.005341\n",
       "lang_fr                                     0.004136\n",
       "country_Pays-Bas                            0.002472\n",
       "country_Etats-Unis                          0.002347\n",
       "lang_de                                     0.001394\n",
       "country_Hong Kong                           0.000574\n",
       "country_Canada                              0.000472\n",
       "country_Antilles néerlandaises              0.000000\n",
       "country_République tchèque                  0.000000\n",
       "country_République centrafricaine           0.000000\n",
       "country_République dominicaine              0.000000\n",
       "country_Saint Kitts et Nevis                0.000000\n",
       "country_Rwanda                              0.000000\n",
       "country_Russie                              0.000000\n",
       "country_Antarctique                         0.000000\n",
       "country_Réunion                             0.000000\n",
       "country_Samoa                               0.000000\n",
       "country_Saint Vincent et les Grenadines     0.000000\n",
       "country_Sainte Lucie                        0.000000\n",
       "country_Qatar                               0.000000\n",
       "country_Samoa américaines                   0.000000\n",
       "country_Serbie                              0.000000\n",
       "country_Singapour                           0.000000\n",
       "country_Slovaquie                           0.000000"
      ]
     },
     "execution_count": 78,
     "metadata": {},
     "output_type": "execute_result"
    }
   ],
   "source": [
    "pd.DataFrame((abs(reg_bestb.coef_)*(Xbuyer_train.std())), Xbuyer_train.columns, columns=['Coefficient']).sort_values(by='Coefficient', ascending= False).head(40)"
   ]
  },
  {
   "cell_type": "markdown",
   "metadata": {},
   "source": [
    "For the buyer models, the Lasso regression results will be used. The linear regression model had similar R-squared scores but the coefficients generated for the top 10 features were absurdly hgih. The grid search results for the buyer dataframe performed with increasing number of features. The best score was gotten when 20 features were selected. The train score of 24.3% and test score of 24% scored way lower than the scores at gotten from Lasso regression. Lasso regression for the buyer dataframe had r-square scores similar to the original buyer linear regression for both train and test datasets . 32.24% score was attained for train dataset using CV and 34.4% for test score with alpha at 0.001. \n",
    "\n",
    "Using the 3 best features from Lasso regression, productsWished had coefficient of 0.277, social number of followers had a score of 0.213 and days since last log in was 0.194. Because of the Lasso regression's inner workings of reducing features that do not contribute much to the performance of the dependent variable, the other features 201 selected from the original 224 features were reduced to 0. \n",
    "\n",
    "As a result, a buyer will likely buy products he has selected as wished products and the freuency of buyer on the platform will contribute to buying products also. Since it is a C2C platform, sellers that a using the application often also are likely to buy products on the platform."
   ]
  },
  {
   "cell_type": "markdown",
   "metadata": {},
   "source": [
    "## Using Ensemble Models"
   ]
  },
  {
   "cell_type": "markdown",
   "metadata": {},
   "source": [
    "Predict Using Seller Dataset"
   ]
  },
  {
   "cell_type": "markdown",
   "metadata": {},
   "source": [
    "### ADABOOST"
   ]
  },
  {
   "cell_type": "code",
   "execution_count": 79,
   "metadata": {
    "scrolled": true
   },
   "outputs": [
    {
     "data": {
      "text/plain": [
       "-84.02593623535142"
      ]
     },
     "execution_count": 79,
     "metadata": {},
     "output_type": "execute_result"
    }
   ],
   "source": [
    "from sklearn.ensemble import AdaBoostRegressor\n",
    "model = AdaBoostRegressor(random_state=0, learning_rate=1, n_estimators=100)\n",
    "model.fit(X_train_fs, yseller_train.values.ravel())\n",
    "yhat = model.predict(X_test_fs)\n",
    "\n",
    "Adatrain_score = model.score(X_train_fs,yseller_train)*100\n",
    "\n",
    "#test_score = model.score(X_test_fs,yseller_test)\n",
    "\n",
    "Adatrain_score\n",
    "\n",
    "\n",
    "\n",
    "#X_train_fs, X_test_fs"
   ]
  },
  {
   "cell_type": "code",
   "execution_count": 80,
   "metadata": {},
   "outputs": [
    {
     "data": {
      "text/plain": [
       "-129.70968944061804"
      ]
     },
     "execution_count": 80,
     "metadata": {},
     "output_type": "execute_result"
    }
   ],
   "source": [
    "Adatest_score = model.score(X_test_fs,yseller_test) * 100\n",
    "\n",
    "Adatest_score"
   ]
  },
  {
   "cell_type": "markdown",
   "metadata": {},
   "source": [
    "## GradientBoost"
   ]
  },
  {
   "cell_type": "code",
   "execution_count": 81,
   "metadata": {},
   "outputs": [
    {
     "data": {
      "text/plain": [
       "85.67321792561262"
      ]
     },
     "execution_count": 81,
     "metadata": {},
     "output_type": "execute_result"
    }
   ],
   "source": [
    "from sklearn.ensemble import GradientBoostingRegressor\n",
    "model= GradientBoostingRegressor(max_features=10,max_depth=5)\n",
    "#model.fit(X_train_fs, yseller_train.values.ravel())\n",
    "#model.score(X_train_fs,yseller_train)\n",
    "\n",
    "folds = KFold(n_splits = 5, shuffle = True, random_state = 100)\n",
    "scores = cross_val_score(model, X_train_fs, yseller_train.values.ravel(), scoring='r2', cv=folds)\n",
    "scores.mean() * 100\n"
   ]
  },
  {
   "cell_type": "code",
   "execution_count": 82,
   "metadata": {},
   "outputs": [
    {
     "data": {
      "text/plain": [
       "90.16329210316965"
      ]
     },
     "execution_count": 82,
     "metadata": {},
     "output_type": "execute_result"
    }
   ],
   "source": [
    "model= GradientBoostingRegressor(max_features=10,max_depth=5)\n",
    "model.fit(X_train_fs, yseller_train.values.ravel())\n",
    "GB_train = model.score(X_train_fs,yseller_train)*100\n",
    "GB_train"
   ]
  },
  {
   "cell_type": "code",
   "execution_count": 83,
   "metadata": {},
   "outputs": [
    {
     "data": {
      "text/plain": [
       "83.46508895213628"
      ]
     },
     "execution_count": 83,
     "metadata": {},
     "output_type": "execute_result"
    }
   ],
   "source": [
    "GB_test = model.score(X_test_fs,yseller_test)*100\n",
    "GB_test"
   ]
  },
  {
   "cell_type": "code",
   "execution_count": 84,
   "metadata": {},
   "outputs": [
    {
     "data": {
      "text/html": [
       "<div>\n",
       "<style scoped>\n",
       "    .dataframe tbody tr th:only-of-type {\n",
       "        vertical-align: middle;\n",
       "    }\n",
       "\n",
       "    .dataframe tbody tr th {\n",
       "        vertical-align: top;\n",
       "    }\n",
       "\n",
       "    .dataframe thead th {\n",
       "        text-align: right;\n",
       "    }\n",
       "</style>\n",
       "<table border=\"1\" class=\"dataframe\">\n",
       "  <thead>\n",
       "    <tr style=\"text-align: right;\">\n",
       "      <th></th>\n",
       "      <th>Coefficient</th>\n",
       "    </tr>\n",
       "  </thead>\n",
       "  <tbody>\n",
       "    <tr>\n",
       "      <td>ScproductsPassRate</td>\n",
       "      <td>0.660306</td>\n",
       "    </tr>\n",
       "    <tr>\n",
       "      <td>ScproductsListed</td>\n",
       "      <td>0.189246</td>\n",
       "    </tr>\n",
       "    <tr>\n",
       "      <td>ScSocialNbFollowers</td>\n",
       "      <td>0.101497</td>\n",
       "    </tr>\n",
       "    <tr>\n",
       "      <td>ScdaysSinceLastLogin</td>\n",
       "      <td>0.016673</td>\n",
       "    </tr>\n",
       "    <tr>\n",
       "      <td>hasProfilePicture</td>\n",
       "      <td>0.006528</td>\n",
       "    </tr>\n",
       "    <tr>\n",
       "      <td>ScsocialProductsLiked</td>\n",
       "      <td>0.006478</td>\n",
       "    </tr>\n",
       "    <tr>\n",
       "      <td>ScsocialNbFollows</td>\n",
       "      <td>0.004969</td>\n",
       "    </tr>\n",
       "    <tr>\n",
       "      <td>ScproductsBought</td>\n",
       "      <td>0.003743</td>\n",
       "    </tr>\n",
       "    <tr>\n",
       "      <td>ScproductsWished</td>\n",
       "      <td>0.003350</td>\n",
       "    </tr>\n",
       "    <tr>\n",
       "      <td>civilityTitle_miss</td>\n",
       "      <td>0.001706</td>\n",
       "    </tr>\n",
       "  </tbody>\n",
       "</table>\n",
       "</div>"
      ],
      "text/plain": [
       "                       Coefficient\n",
       "ScproductsPassRate        0.660306\n",
       "ScproductsListed          0.189246\n",
       "ScSocialNbFollowers       0.101497\n",
       "ScdaysSinceLastLogin      0.016673\n",
       "hasProfilePicture         0.006528\n",
       "ScsocialProductsLiked     0.006478\n",
       "ScsocialNbFollows         0.004969\n",
       "ScproductsBought          0.003743\n",
       "ScproductsWished          0.003350\n",
       "civilityTitle_miss        0.001706"
      ]
     },
     "execution_count": 84,
     "metadata": {},
     "output_type": "execute_result"
    }
   ],
   "source": [
    "pd.DataFrame(abs(model.feature_importances_), X_train_fs.columns, columns=['Coefficient']).sort_values(by='Coefficient', ascending= False).head(10)"
   ]
  },
  {
   "cell_type": "markdown",
   "metadata": {},
   "source": [
    "## XGBOOST"
   ]
  },
  {
   "cell_type": "code",
   "execution_count": 85,
   "metadata": {
    "scrolled": true
   },
   "outputs": [
    {
     "name": "stdout",
     "output_type": "stream",
     "text": [
      "[22:35:43] WARNING: src/objective/regression_obj.cu:152: reg:linear is now deprecated in favor of reg:squarederror.\n",
      "[22:35:47] WARNING: src/objective/regression_obj.cu:152: reg:linear is now deprecated in favor of reg:squarederror.\n",
      "[22:35:51] WARNING: src/objective/regression_obj.cu:152: reg:linear is now deprecated in favor of reg:squarederror.\n",
      "[22:35:55] WARNING: src/objective/regression_obj.cu:152: reg:linear is now deprecated in favor of reg:squarederror.\n",
      "[22:35:58] WARNING: src/objective/regression_obj.cu:152: reg:linear is now deprecated in favor of reg:squarederror.\n"
     ]
    },
    {
     "data": {
      "text/plain": [
       "71.81971043573718"
      ]
     },
     "execution_count": 85,
     "metadata": {},
     "output_type": "execute_result"
    }
   ],
   "source": [
    "import xgboost as xgb\n",
    "model=xgb.XGBRegressor(booster = 'gblinear', subsample=0.1,colsample_bytree=0.1)\n",
    "#model.fit(X_train_fs, yseller_train.values.ravel())\n",
    "#model.score(X_test_fs,yseller_test)\n",
    "\n",
    "folds = KFold(n_splits = 5, shuffle = True, random_state = 100)\n",
    "scores = cross_val_score(model, X_train_fs, yseller_train.values.ravel(), scoring='r2', cv=folds)\n",
    "scores.mean() * 100"
   ]
  },
  {
   "cell_type": "code",
   "execution_count": 86,
   "metadata": {},
   "outputs": [
    {
     "name": "stdout",
     "output_type": "stream",
     "text": [
      "[22:36:03] WARNING: src/objective/regression_obj.cu:152: reg:linear is now deprecated in favor of reg:squarederror.\n"
     ]
    },
    {
     "data": {
      "text/plain": [
       "71.90897627676233"
      ]
     },
     "execution_count": 86,
     "metadata": {},
     "output_type": "execute_result"
    }
   ],
   "source": [
    "model=xgb.XGBRegressor(booster = 'gblinear', subsample=0.1,colsample_bytree=0.1)\n",
    "model.fit(X_train_fs, yseller_train.values.ravel())\n",
    "xgboost_train = model.score(X_train_fs,yseller_train)*100\n",
    "\n",
    "xgboost_train\n"
   ]
  },
  {
   "cell_type": "code",
   "execution_count": 87,
   "metadata": {},
   "outputs": [
    {
     "data": {
      "text/plain": [
       "71.07079472607982"
      ]
     },
     "execution_count": 87,
     "metadata": {},
     "output_type": "execute_result"
    }
   ],
   "source": [
    "xgboost_test = model.score(X_test_fs,yseller_test)*100\n",
    "\n",
    "xgboost_test"
   ]
  },
  {
   "cell_type": "code",
   "execution_count": 88,
   "metadata": {
    "scrolled": false
   },
   "outputs": [
    {
     "data": {
      "text/html": [
       "<div>\n",
       "<style scoped>\n",
       "    .dataframe tbody tr th:only-of-type {\n",
       "        vertical-align: middle;\n",
       "    }\n",
       "\n",
       "    .dataframe tbody tr th {\n",
       "        vertical-align: top;\n",
       "    }\n",
       "\n",
       "    .dataframe thead th {\n",
       "        text-align: right;\n",
       "    }\n",
       "</style>\n",
       "<table border=\"1\" class=\"dataframe\">\n",
       "  <thead>\n",
       "    <tr style=\"text-align: right;\">\n",
       "      <th></th>\n",
       "      <th>Coefficient</th>\n",
       "    </tr>\n",
       "  </thead>\n",
       "  <tbody>\n",
       "    <tr>\n",
       "      <td>ScproductsPassRate</td>\n",
       "      <td>0.309088</td>\n",
       "    </tr>\n",
       "    <tr>\n",
       "      <td>ScproductsListed</td>\n",
       "      <td>0.227316</td>\n",
       "    </tr>\n",
       "    <tr>\n",
       "      <td>ScSocialNbFollowers</td>\n",
       "      <td>0.159683</td>\n",
       "    </tr>\n",
       "    <tr>\n",
       "      <td>ScdaysSinceLastLogin</td>\n",
       "      <td>0.055237</td>\n",
       "    </tr>\n",
       "    <tr>\n",
       "      <td>hasProfilePicture</td>\n",
       "      <td>0.017787</td>\n",
       "    </tr>\n",
       "    <tr>\n",
       "      <td>ScsocialNbFollows</td>\n",
       "      <td>0.014666</td>\n",
       "    </tr>\n",
       "    <tr>\n",
       "      <td>lang_en</td>\n",
       "      <td>0.009024</td>\n",
       "    </tr>\n",
       "    <tr>\n",
       "      <td>ScproductsBought</td>\n",
       "      <td>0.008830</td>\n",
       "    </tr>\n",
       "    <tr>\n",
       "      <td>ScsocialProductsLiked</td>\n",
       "      <td>0.007155</td>\n",
       "    </tr>\n",
       "    <tr>\n",
       "      <td>hasAnyApp</td>\n",
       "      <td>0.006662</td>\n",
       "    </tr>\n",
       "    <tr>\n",
       "      <td>hasIosApp</td>\n",
       "      <td>0.005887</td>\n",
       "    </tr>\n",
       "    <tr>\n",
       "      <td>country_Etats-Unis</td>\n",
       "      <td>0.004480</td>\n",
       "    </tr>\n",
       "    <tr>\n",
       "      <td>country_Italie</td>\n",
       "      <td>0.003922</td>\n",
       "    </tr>\n",
       "    <tr>\n",
       "      <td>lang_it</td>\n",
       "      <td>0.003495</td>\n",
       "    </tr>\n",
       "    <tr>\n",
       "      <td>civilityTitle_miss</td>\n",
       "      <td>0.002273</td>\n",
       "    </tr>\n",
       "    <tr>\n",
       "      <td>ScproductsWished</td>\n",
       "      <td>0.001214</td>\n",
       "    </tr>\n",
       "    <tr>\n",
       "      <td>hasAndroidApp</td>\n",
       "      <td>0.001162</td>\n",
       "    </tr>\n",
       "    <tr>\n",
       "      <td>country_Bulgarie</td>\n",
       "      <td>0.000449</td>\n",
       "    </tr>\n",
       "    <tr>\n",
       "      <td>country_Croatie</td>\n",
       "      <td>0.000370</td>\n",
       "    </tr>\n",
       "    <tr>\n",
       "      <td>country_Monaco</td>\n",
       "      <td>0.000201</td>\n",
       "    </tr>\n",
       "  </tbody>\n",
       "</table>\n",
       "</div>"
      ],
      "text/plain": [
       "                       Coefficient\n",
       "ScproductsPassRate        0.309088\n",
       "ScproductsListed          0.227316\n",
       "ScSocialNbFollowers       0.159683\n",
       "ScdaysSinceLastLogin      0.055237\n",
       "hasProfilePicture         0.017787\n",
       "ScsocialNbFollows         0.014666\n",
       "lang_en                   0.009024\n",
       "ScproductsBought          0.008830\n",
       "ScsocialProductsLiked     0.007155\n",
       "hasAnyApp                 0.006662\n",
       "hasIosApp                 0.005887\n",
       "country_Etats-Unis        0.004480\n",
       "country_Italie            0.003922\n",
       "lang_it                   0.003495\n",
       "civilityTitle_miss        0.002273\n",
       "ScproductsWished          0.001214\n",
       "hasAndroidApp             0.001162\n",
       "country_Bulgarie          0.000449\n",
       "country_Croatie           0.000370\n",
       "country_Monaco            0.000201"
      ]
     },
     "execution_count": 88,
     "metadata": {},
     "output_type": "execute_result"
    }
   ],
   "source": [
    "pd.DataFrame(abs(model.coef_).T, X_train_fs.columns, columns=['Coefficient']).sort_values(by='Coefficient', ascending= False).head(20)"
   ]
  },
  {
   "cell_type": "markdown",
   "metadata": {},
   "source": [
    "## Buyer's Prediction using Ensemble Model"
   ]
  },
  {
   "cell_type": "markdown",
   "metadata": {},
   "source": [
    "## Gradient Boost"
   ]
  },
  {
   "cell_type": "code",
   "execution_count": 89,
   "metadata": {},
   "outputs": [
    {
     "data": {
      "text/plain": [
       "38.680319319486784"
      ]
     },
     "execution_count": 89,
     "metadata": {},
     "output_type": "execute_result"
    }
   ],
   "source": [
    "from sklearn.ensemble import GradientBoostingRegressor\n",
    "model= GradientBoostingRegressor(n_estimators = 500,\n",
    "          max_depth = 4,\n",
    "          min_samples_split = 5,\n",
    "          learning_rate = 0.01,\n",
    "          loss = 'ls')\n",
    "#model.fit(X_train_fsb, yseller_train.values.ravel())\n",
    "#model.score(X_train_fsb,yseller_train)\n",
    "\n",
    "folds = KFold(n_splits = 5, shuffle = True, random_state = 100)\n",
    "scores = cross_val_score(model, X_train_fsb, ybuyer_train.values.ravel(), scoring='r2', cv=folds)\n",
    "scores.mean() * 100"
   ]
  },
  {
   "cell_type": "code",
   "execution_count": 90,
   "metadata": {},
   "outputs": [
    {
     "data": {
      "text/plain": [
       "45.038246859620386"
      ]
     },
     "execution_count": 90,
     "metadata": {},
     "output_type": "execute_result"
    }
   ],
   "source": [
    "model.fit(X_train_fsb, ybuyer_train.values.ravel())\n",
    "gradient_Train = model.score(X_train_fsb,ybuyer_train.values.ravel())*100\n",
    "gradient_Train"
   ]
  },
  {
   "cell_type": "code",
   "execution_count": 91,
   "metadata": {},
   "outputs": [
    {
     "data": {
      "text/plain": [
       "41.59303665659865"
      ]
     },
     "execution_count": 91,
     "metadata": {},
     "output_type": "execute_result"
    }
   ],
   "source": [
    "gradient_Test = model.score(X_test_fsb,ybuyer_test.values.ravel())*100\n",
    "gradient_Test"
   ]
  },
  {
   "cell_type": "code",
   "execution_count": 92,
   "metadata": {
    "scrolled": true
   },
   "outputs": [
    {
     "data": {
      "text/html": [
       "<div>\n",
       "<style scoped>\n",
       "    .dataframe tbody tr th:only-of-type {\n",
       "        vertical-align: middle;\n",
       "    }\n",
       "\n",
       "    .dataframe tbody tr th {\n",
       "        vertical-align: top;\n",
       "    }\n",
       "\n",
       "    .dataframe thead th {\n",
       "        text-align: right;\n",
       "    }\n",
       "</style>\n",
       "<table border=\"1\" class=\"dataframe\">\n",
       "  <thead>\n",
       "    <tr style=\"text-align: right;\">\n",
       "      <th></th>\n",
       "      <th>Coefficient</th>\n",
       "    </tr>\n",
       "  </thead>\n",
       "  <tbody>\n",
       "    <tr>\n",
       "      <td>ScproductsWished</td>\n",
       "      <td>0.441480</td>\n",
       "    </tr>\n",
       "    <tr>\n",
       "      <td>ScdaysSinceLastLogin</td>\n",
       "      <td>0.194885</td>\n",
       "    </tr>\n",
       "    <tr>\n",
       "      <td>ScSocialNbFollowers</td>\n",
       "      <td>0.166343</td>\n",
       "    </tr>\n",
       "    <tr>\n",
       "      <td>ScsocialProductsLiked</td>\n",
       "      <td>0.085829</td>\n",
       "    </tr>\n",
       "    <tr>\n",
       "      <td>ScsocialNbFollows</td>\n",
       "      <td>0.034103</td>\n",
       "    </tr>\n",
       "    <tr>\n",
       "      <td>ScproductsSold</td>\n",
       "      <td>0.031180</td>\n",
       "    </tr>\n",
       "    <tr>\n",
       "      <td>ScproductsListed</td>\n",
       "      <td>0.010422</td>\n",
       "    </tr>\n",
       "    <tr>\n",
       "      <td>ScproductsPassRate</td>\n",
       "      <td>0.007753</td>\n",
       "    </tr>\n",
       "    <tr>\n",
       "      <td>gender_F</td>\n",
       "      <td>0.004808</td>\n",
       "    </tr>\n",
       "    <tr>\n",
       "      <td>country_Etats-Unis</td>\n",
       "      <td>0.003976</td>\n",
       "    </tr>\n",
       "  </tbody>\n",
       "</table>\n",
       "</div>"
      ],
      "text/plain": [
       "                       Coefficient\n",
       "ScproductsWished          0.441480\n",
       "ScdaysSinceLastLogin      0.194885\n",
       "ScSocialNbFollowers       0.166343\n",
       "ScsocialProductsLiked     0.085829\n",
       "ScsocialNbFollows         0.034103\n",
       "ScproductsSold            0.031180\n",
       "ScproductsListed          0.010422\n",
       "ScproductsPassRate        0.007753\n",
       "gender_F                  0.004808\n",
       "country_Etats-Unis        0.003976"
      ]
     },
     "execution_count": 92,
     "metadata": {},
     "output_type": "execute_result"
    }
   ],
   "source": [
    "pd.DataFrame(abs(model.feature_importances_), X_train_fsb.columns, columns=['Coefficient']).sort_values(by='Coefficient', ascending= False).head(10)"
   ]
  },
  {
   "cell_type": "markdown",
   "metadata": {},
   "source": [
    "## XGBOOST"
   ]
  },
  {
   "cell_type": "code",
   "execution_count": 93,
   "metadata": {},
   "outputs": [
    {
     "name": "stdout",
     "output_type": "stream",
     "text": [
      "[22:38:53] WARNING: src/objective/regression_obj.cu:152: reg:linear is now deprecated in favor of reg:squarederror.\n",
      "[22:38:57] WARNING: src/objective/regression_obj.cu:152: reg:linear is now deprecated in favor of reg:squarederror.\n",
      "[22:39:02] WARNING: src/objective/regression_obj.cu:152: reg:linear is now deprecated in favor of reg:squarederror.\n",
      "[22:39:06] WARNING: src/objective/regression_obj.cu:152: reg:linear is now deprecated in favor of reg:squarederror.\n",
      "[22:39:12] WARNING: src/objective/regression_obj.cu:152: reg:linear is now deprecated in favor of reg:squarederror.\n"
     ]
    },
    {
     "data": {
      "text/plain": [
       "28.233609453379998"
      ]
     },
     "execution_count": 93,
     "metadata": {},
     "output_type": "execute_result"
    }
   ],
   "source": [
    "import xgboost as xgb\n",
    "model=xgb.XGBRegressor(booster = 'gblinear', subsample=1,colsample_bytree=1)\n",
    "#model.fit(X_train_fs, yseller_train.values.ravel())\n",
    "#model.score(X_test_fs,yseller_test)\n",
    "\n",
    "folds = KFold(n_splits = 5, shuffle = True, random_state = 100)\n",
    "scores = cross_val_score(model, X_train_fsb, ybuyer_train.values.ravel(), scoring='r2', cv=folds)\n",
    "scores.mean() * 100"
   ]
  },
  {
   "cell_type": "code",
   "execution_count": 94,
   "metadata": {},
   "outputs": [
    {
     "name": "stdout",
     "output_type": "stream",
     "text": [
      "[22:39:17] WARNING: src/objective/regression_obj.cu:152: reg:linear is now deprecated in favor of reg:squarederror.\n"
     ]
    },
    {
     "data": {
      "text/plain": [
       "28.26545275782022"
      ]
     },
     "execution_count": 94,
     "metadata": {},
     "output_type": "execute_result"
    }
   ],
   "source": [
    "modelb=xgb.XGBRegressor(booster = 'gblinear', subsample=1,colsample_bytree=1)\n",
    "modelb.fit(X_train_fsb, ybuyer_train.values.ravel())\n",
    "xgboostB_Train = modelb.score(X_train_fsb,ybuyer_train)*100\n",
    "xgboostB_Train"
   ]
  },
  {
   "cell_type": "code",
   "execution_count": 95,
   "metadata": {},
   "outputs": [
    {
     "data": {
      "text/plain": [
       "29.279594846144818"
      ]
     },
     "execution_count": 95,
     "metadata": {},
     "output_type": "execute_result"
    }
   ],
   "source": [
    "xgboostB_Test = modelb.score(X_test_fsb,ybuyer_test)*100\n",
    "xgboostB_Test"
   ]
  },
  {
   "cell_type": "code",
   "execution_count": 96,
   "metadata": {
    "scrolled": true
   },
   "outputs": [
    {
     "data": {
      "text/html": [
       "<div>\n",
       "<style scoped>\n",
       "    .dataframe tbody tr th:only-of-type {\n",
       "        vertical-align: middle;\n",
       "    }\n",
       "\n",
       "    .dataframe tbody tr th {\n",
       "        vertical-align: top;\n",
       "    }\n",
       "\n",
       "    .dataframe thead th {\n",
       "        text-align: right;\n",
       "    }\n",
       "</style>\n",
       "<table border=\"1\" class=\"dataframe\">\n",
       "  <thead>\n",
       "    <tr style=\"text-align: right;\">\n",
       "      <th></th>\n",
       "      <th>Coefficient</th>\n",
       "    </tr>\n",
       "  </thead>\n",
       "  <tbody>\n",
       "    <tr>\n",
       "      <td>ScproductsWished</td>\n",
       "      <td>0.157994</td>\n",
       "    </tr>\n",
       "    <tr>\n",
       "      <td>ScdaysSinceLastLogin</td>\n",
       "      <td>0.116070</td>\n",
       "    </tr>\n",
       "    <tr>\n",
       "      <td>ScsocialProductsLiked</td>\n",
       "      <td>0.106573</td>\n",
       "    </tr>\n",
       "    <tr>\n",
       "      <td>ScSocialNbFollowers</td>\n",
       "      <td>0.101904</td>\n",
       "    </tr>\n",
       "    <tr>\n",
       "      <td>ScsocialNbFollows</td>\n",
       "      <td>0.036696</td>\n",
       "    </tr>\n",
       "    <tr>\n",
       "      <td>hasProfilePicture</td>\n",
       "      <td>0.015952</td>\n",
       "    </tr>\n",
       "    <tr>\n",
       "      <td>gender_F</td>\n",
       "      <td>0.015249</td>\n",
       "    </tr>\n",
       "    <tr>\n",
       "      <td>civilityTitle_mrs</td>\n",
       "      <td>0.014962</td>\n",
       "    </tr>\n",
       "    <tr>\n",
       "      <td>ScproductsSold</td>\n",
       "      <td>0.010446</td>\n",
       "    </tr>\n",
       "    <tr>\n",
       "      <td>ScproductsPassRate</td>\n",
       "      <td>0.008960</td>\n",
       "    </tr>\n",
       "  </tbody>\n",
       "</table>\n",
       "</div>"
      ],
      "text/plain": [
       "                       Coefficient\n",
       "ScproductsWished          0.157994\n",
       "ScdaysSinceLastLogin      0.116070\n",
       "ScsocialProductsLiked     0.106573\n",
       "ScSocialNbFollowers       0.101904\n",
       "ScsocialNbFollows         0.036696\n",
       "hasProfilePicture         0.015952\n",
       "gender_F                  0.015249\n",
       "civilityTitle_mrs         0.014962\n",
       "ScproductsSold            0.010446\n",
       "ScproductsPassRate        0.008960"
      ]
     },
     "execution_count": 96,
     "metadata": {},
     "output_type": "execute_result"
    }
   ],
   "source": [
    "pd.DataFrame(abs(modelb.coef_), X_train_fsb.columns, columns=['Coefficient']).sort_values(by='Coefficient', ascending= False).head(10)"
   ]
  },
  {
   "cell_type": "markdown",
   "metadata": {},
   "source": [
    "## Model Comparison For Sellers"
   ]
  },
  {
   "cell_type": "code",
   "execution_count": 97,
   "metadata": {},
   "outputs": [
    {
     "data": {
      "text/html": [
       "<div>\n",
       "<style scoped>\n",
       "    .dataframe tbody tr th:only-of-type {\n",
       "        vertical-align: middle;\n",
       "    }\n",
       "\n",
       "    .dataframe tbody tr th {\n",
       "        vertical-align: top;\n",
       "    }\n",
       "\n",
       "    .dataframe thead th {\n",
       "        text-align: right;\n",
       "    }\n",
       "</style>\n",
       "<table border=\"1\" class=\"dataframe\">\n",
       "  <thead>\n",
       "    <tr style=\"text-align: right;\">\n",
       "      <th></th>\n",
       "      <th>Algorithm</th>\n",
       "      <th>RSquare train score</th>\n",
       "      <th>RSquare test score</th>\n",
       "    </tr>\n",
       "  </thead>\n",
       "  <tbody>\n",
       "    <tr>\n",
       "      <td>0</td>\n",
       "      <td>Linear Regression</td>\n",
       "      <td>81.608258</td>\n",
       "      <td>79.428867</td>\n",
       "    </tr>\n",
       "    <tr>\n",
       "      <td>1</td>\n",
       "      <td>Lasso Regression</td>\n",
       "      <td>81.073932</td>\n",
       "      <td>79.734204</td>\n",
       "    </tr>\n",
       "    <tr>\n",
       "      <td>2</td>\n",
       "      <td>Gradient Boost</td>\n",
       "      <td>90.163292</td>\n",
       "      <td>83.465089</td>\n",
       "    </tr>\n",
       "    <tr>\n",
       "      <td>3</td>\n",
       "      <td>XGBOOST</td>\n",
       "      <td>71.908976</td>\n",
       "      <td>71.070795</td>\n",
       "    </tr>\n",
       "  </tbody>\n",
       "</table>\n",
       "</div>"
      ],
      "text/plain": [
       "           Algorithm  RSquare train score  RSquare test score\n",
       "0  Linear Regression            81.608258           79.428867\n",
       "1   Lasso Regression            81.073932           79.734204\n",
       "2     Gradient Boost            90.163292           83.465089\n",
       "3            XGBOOST            71.908976           71.070795"
      ]
     },
     "execution_count": 97,
     "metadata": {},
     "output_type": "execute_result"
    }
   ],
   "source": [
    "myLabels = [ 'Linear Regression','Lasso Regression','Gradient Boost', 'XGBOOST']\n",
    "RSquare_test= [ LR_Test, Lasso_Test, GB_test, xgboost_test ]\n",
    "RSquare_train= [ LR_Train, Lasso_Train, GB_train, xgboost_train ]\n",
    "\n",
    "\n",
    "score_tab = pd.DataFrame(list(zip(myLabels, RSquare_train, RSquare_test)), \n",
    "               columns =['Algorithm', 'RSquare train score', 'RSquare test score' ]) \n",
    "\n",
    "score_tab"
   ]
  },
  {
   "cell_type": "code",
   "execution_count": 98,
   "metadata": {
    "scrolled": false
   },
   "outputs": [
    {
     "data": {
      "image/png": "[encoded data removed]",
      "text/plain": [
       "<Figure size 720x360 with 1 Axes>"
      ]
     },
     "metadata": {
      "needs_background": "light"
     },
     "output_type": "display_data"
    }
   ],
   "source": [
    "\n",
    "index=[1,2,3,4]\n",
    "index_acc=[1.2,2.2,3.2,4.2]\n",
    "plt.figure(figsize=(10,5))\n",
    "plt.xlabel('Models',fontsize=15)\n",
    "plt.ylabel ('R-Square',fontsize=15)\n",
    "plt.title('Comparison of the algorithms',fontsize=15)\n",
    "_=plt.bar(index,RSquare_train,color='b',alpha=0.6,label='Training score',edgecolor='k',width=0.2)\n",
    "_=plt.bar(index_acc,RSquare_test,color='cyan',alpha=0.8,label='Test score',edgecolor='k',width=0.2)\n",
    "plt.xticks([1, 2,3,4,5], myLabels)\n",
    "plt.legend()\n",
    "plt.savefig(\"ModelsSeller.png\")\n",
    "plt.show()"
   ]
  },
  {
   "cell_type": "markdown",
   "metadata": {},
   "source": [
    "The gradient boost performed best on the seller's dataset. \n",
    "\n",
    "From the gradient boost model, the features that best predict sellers on the platform are productsPassRate, productsListed, number of social followers, days since last login on the platform, if the seller has profile picture. The xgboost model ranked these 5 features in that order. "
   ]
  },
  {
   "cell_type": "markdown",
   "metadata": {},
   "source": [
    "## Model Comparison For Buyers"
   ]
  },
  {
   "cell_type": "code",
   "execution_count": 99,
   "metadata": {},
   "outputs": [
    {
     "data": {
      "text/html": [
       "<div>\n",
       "<style scoped>\n",
       "    .dataframe tbody tr th:only-of-type {\n",
       "        vertical-align: middle;\n",
       "    }\n",
       "\n",
       "    .dataframe tbody tr th {\n",
       "        vertical-align: top;\n",
       "    }\n",
       "\n",
       "    .dataframe thead th {\n",
       "        text-align: right;\n",
       "    }\n",
       "</style>\n",
       "<table border=\"1\" class=\"dataframe\">\n",
       "  <thead>\n",
       "    <tr style=\"text-align: right;\">\n",
       "      <th></th>\n",
       "      <th>Algorithm</th>\n",
       "      <th>RSquare train score</th>\n",
       "      <th>RSquare test score</th>\n",
       "    </tr>\n",
       "  </thead>\n",
       "  <tbody>\n",
       "    <tr>\n",
       "      <td>0</td>\n",
       "      <td>Linear Regression</td>\n",
       "      <td>32.260299</td>\n",
       "      <td>34.410983</td>\n",
       "    </tr>\n",
       "    <tr>\n",
       "      <td>1</td>\n",
       "      <td>Lasso Regression</td>\n",
       "      <td>32.243275</td>\n",
       "      <td>34.402929</td>\n",
       "    </tr>\n",
       "    <tr>\n",
       "      <td>2</td>\n",
       "      <td>Gradient Boost</td>\n",
       "      <td>45.038247</td>\n",
       "      <td>41.593037</td>\n",
       "    </tr>\n",
       "    <tr>\n",
       "      <td>3</td>\n",
       "      <td>XGBOOST</td>\n",
       "      <td>28.265453</td>\n",
       "      <td>29.279595</td>\n",
       "    </tr>\n",
       "  </tbody>\n",
       "</table>\n",
       "</div>"
      ],
      "text/plain": [
       "           Algorithm  RSquare train score  RSquare test score\n",
       "0  Linear Regression            32.260299           34.410983\n",
       "1   Lasso Regression            32.243275           34.402929\n",
       "2     Gradient Boost            45.038247           41.593037\n",
       "3            XGBOOST            28.265453           29.279595"
      ]
     },
     "execution_count": 99,
     "metadata": {},
     "output_type": "execute_result"
    }
   ],
   "source": [
    "myLabels = [ 'Linear Regression','Lasso Regression','Gradient Boost', 'XGBOOST']\n",
    "RSquare_testb = [ LRB_Test, LassoB_Test, gradient_Test, xgboostB_Test ]\n",
    "RSquare_trainb = [ LRB_Train, LassoB_Train, gradient_Train, xgboostB_Train ]\n",
    "\n",
    "\n",
    "score_taB = pd.DataFrame(list(zip(myLabels, RSquare_trainb, RSquare_testb)), \n",
    "               columns =['Algorithm', 'RSquare train score', 'RSquare test score' ]) \n",
    "\n",
    "score_taB"
   ]
  },
  {
   "cell_type": "code",
   "execution_count": 100,
   "metadata": {},
   "outputs": [
    {
     "data": {
      "image/png": "[encoded data removed]",
      "text/plain": [
       "<Figure size 720x360 with 1 Axes>"
      ]
     },
     "metadata": {
      "needs_background": "light"
     },
     "output_type": "display_data"
    }
   ],
   "source": [
    "\n",
    "index=[1,2,3,4]\n",
    "index_acc=[1.2,2.2,3.2,4.2]\n",
    "plt.figure(figsize=(10,5))\n",
    "plt.xlabel('Models',fontsize=15)\n",
    "plt.ylabel ('R-Square',fontsize=15)\n",
    "plt.title('Comparison of the algorithms',fontsize=15)\n",
    "_=plt.bar(index,RSquare_trainb,color='b',alpha=0.6,label='Training score',edgecolor='k',width=0.2)\n",
    "_=plt.bar(index_acc,RSquare_testb,color='cyan',alpha=0.8,label='Test score',edgecolor='k',width=0.2)\n",
    "plt.xticks([1, 2,3,4], myLabels)\n",
    "plt.legend()\n",
    "plt.savefig(\"ModelsBuyer.png\")\n",
    "plt.show()"
   ]
  },
  {
   "cell_type": "markdown",
   "metadata": {},
   "source": [
    "The gradient boost performed best on the buyer's dataset also. \n",
    "\n",
    "From the gradient boost model, the features that best predict buyers' behavior on the platform are productsWished, days since last login on the platform, number of social followers, productsLiked, and number of users followed by buyer. These 5 features formed the top 5 features with xgboost model."
   ]
  },
  {
   "cell_type": "markdown",
   "metadata": {},
   "source": [
    "## HYPOTHESIS TESTING FOR TOP FEATURES FOR BOTH SELLER AND BUYER"
   ]
  },
  {
   "cell_type": "markdown",
   "metadata": {},
   "source": [
    "### SELLERS' TEST"
   ]
  },
  {
   "cell_type": "markdown",
   "metadata": {},
   "source": [
    "Using Spearman's correlation ranking for the top three features for the seller's model\n",
    "\n",
    "Assumptions\n",
    "\n",
    "* Observations in each sample are independent and identically distributed (iid).\n",
    "* Observations in each sample can be ranked.\n",
    "\n",
    "Interpretation\n",
    "\n",
    "H0: the two samples are independent.\n",
    "H1: there is a dependency between the samples."
   ]
  },
  {
   "cell_type": "code",
   "execution_count": 101,
   "metadata": {},
   "outputs": [
    {
     "name": "stdout",
     "output_type": "stream",
     "text": [
      "stat=0.681, p=0.000\n",
      "Probably dependent\n"
     ]
    }
   ],
   "source": [
    "from scipy.stats import spearmanr\n",
    "data1 = Xseller_train['ScproductsPassRate']\n",
    "data2 = yseller_train\n",
    "stat, p = spearmanr(data1, data2)\n",
    "print('stat=%.3f, p=%.3f' % (stat, p))\n",
    "if p > 0.05:\n",
    "\tprint('Probably independent')\n",
    "else:\n",
    "\tprint('Probably dependent')"
   ]
  },
  {
   "cell_type": "code",
   "execution_count": 102,
   "metadata": {},
   "outputs": [
    {
     "name": "stdout",
     "output_type": "stream",
     "text": [
      "stat=0.557, p=0.000\n",
      "Probably dependent\n"
     ]
    }
   ],
   "source": [
    "from scipy.stats import spearmanr\n",
    "data1 = Xseller_train['ScproductsListed']\n",
    "data2 = yseller_train\n",
    "stat, p = spearmanr(data1, data2)\n",
    "print('stat=%.3f, p=%.3f' % (stat, p))\n",
    "if p > 0.05:\n",
    "\tprint('Probably independent')\n",
    "else:\n",
    "\tprint('Probably dependent')"
   ]
  },
  {
   "cell_type": "code",
   "execution_count": 103,
   "metadata": {},
   "outputs": [
    {
     "name": "stdout",
     "output_type": "stream",
     "text": [
      "stat=0.325, p=0.000\n",
      "Probably dependent\n"
     ]
    }
   ],
   "source": [
    "from scipy.stats import spearmanr\n",
    "data1 = Xseller_train['ScSocialNbFollowers']\n",
    "data2 = yseller_train\n",
    "stat, p = spearmanr(data1, data2)\n",
    "print('stat=%.3f, p=%.3f' % (stat, p))\n",
    "if p > 0.05:\n",
    "\tprint('Probably independent')\n",
    "else:\n",
    "\tprint('Probably dependent')"
   ]
  },
  {
   "cell_type": "markdown",
   "metadata": {},
   "source": [
    "The three features (productsPassRate, productsListed & SocialNbFollowers) have been confirmed to have relationships with number of sales generated on the platform."
   ]
  },
  {
   "cell_type": "markdown",
   "metadata": {},
   "source": [
    "## BUYER'S TEST"
   ]
  },
  {
   "cell_type": "markdown",
   "metadata": {},
   "source": [
    "Spearman's correlation rankling will also be used for this hypothesis testing."
   ]
  },
  {
   "cell_type": "code",
   "execution_count": 104,
   "metadata": {},
   "outputs": [
    {
     "name": "stdout",
     "output_type": "stream",
     "text": [
      "stat=0.343, p=0.000\n",
      "Probably dependent\n"
     ]
    }
   ],
   "source": [
    "from scipy.stats import spearmanr\n",
    "data1 = Xbuyer_train['ScproductsWished']\n",
    "data2 = ybuyer_train\n",
    "stat, p = spearmanr(data1, data2)\n",
    "print('stat=%.3f, p=%.3f' % (stat, p))\n",
    "if p > 0.05:\n",
    "\tprint('Probably independent')\n",
    "else:\n",
    "\tprint('Probably dependent')"
   ]
  },
  {
   "cell_type": "code",
   "execution_count": 105,
   "metadata": {},
   "outputs": [
    {
     "name": "stdout",
     "output_type": "stream",
     "text": [
      "stat=0.303, p=0.000\n",
      "Probably dependent\n"
     ]
    }
   ],
   "source": [
    "from scipy.stats import spearmanr\n",
    "data1 = Xbuyer_train['ScSocialNbFollowers']\n",
    "data2 = ybuyer_train\n",
    "stat, p = spearmanr(data1, data2)\n",
    "print('stat=%.3f, p=%.3f' % (stat, p))\n",
    "if p > 0.05:\n",
    "\tprint('Probably independent')\n",
    "else:\n",
    "\tprint('Probably dependent')"
   ]
  },
  {
   "cell_type": "code",
   "execution_count": 106,
   "metadata": {},
   "outputs": [
    {
     "name": "stdout",
     "output_type": "stream",
     "text": [
      "stat=-0.261, p=0.000\n",
      "Probably dependent\n"
     ]
    }
   ],
   "source": [
    "from scipy.stats import spearmanr\n",
    "data1 = Xbuyer_train['ScdaysSinceLastLogin']\n",
    "data2 = ybuyer_train\n",
    "stat, p = spearmanr(data1, data2)\n",
    "print('stat=%.3f, p=%.3f' % (stat, p))\n",
    "if p > 0.05:\n",
    "\tprint('Probably independent')\n",
    "else:\n",
    "\tprint('Probably dependent')"
   ]
  },
  {
   "cell_type": "markdown",
   "metadata": {},
   "source": [
    "The three features (productsWished, daysSinceLastLogin & SocialNbFollowers) have been confirmed to have relationships with predicting if a user can will buy on the platform or not."
   ]
  }
 ],
 "metadata": {
  "kernelspec": {
   "display_name": "Python 3",
   "language": "python",
   "name": "python3"
  },
  "language_info": {
   "codemirror_mode": {
    "name": "ipython",
    "version": 3
   },
   "file_extension": ".py",
   "mimetype": "text/x-python",
   "name": "python",
   "nbconvert_exporter": "python",
   "pygments_lexer": "ipython3",
   "version": "3.7.4"
  }
 },
 "nbformat": 4,
 "nbformat_minor": 2
}
