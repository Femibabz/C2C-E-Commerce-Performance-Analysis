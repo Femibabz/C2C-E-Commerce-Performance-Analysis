{
 "cells": [
  {
   "cell_type": "markdown",
   "metadata": {},
   "source": [
    "# Company 2 Company Business Analysis"
   ]
  },
  {
   "cell_type": "markdown",
   "metadata": {},
   "source": [
    "This project will work on a fashion customer-to-customer (C2C) e-commerce platform that enables users to sell products to other users on the platform. The performance of a seller on the platform does not only depend on the user interface of the C2C platform, but it is also a function of the type of products uploaded by the seller, the image quality of the product, its description, customer service and social engagement of sellers (The factors are not limited to those stated). The following insights will be drawn from the available data: • Factors that contribute to sellers being able to generate good sales from the e-commerce platform • What is the typical lifetime value of a customer on the platform? • What is the average retention rate of buyers on the e-commerce platform? • Considering that the platform is situated in France, what is the tendency that other users from other countries will sign up on the platform. • How active are users generally on the e-commerce platform?"
   ]
  },
  {
   "cell_type": "markdown",
   "metadata": {},
   "source": [
    "## Modeling\n",
    "* Fit Models with Training Data Set\n",
    "* Review Model Outcomes — Iterate over additional models as needed.\n",
    "* Identify the Final Model"
   ]
  },
  {
   "cell_type": "code",
   "execution_count": 1,
   "metadata": {},
   "outputs": [],
   "source": [
    "import os\n",
    "import pandas as pd\n",
    "import numpy as np\n",
    "import matplotlib.pyplot as plt\n",
    "import seaborn as sns\n",
    "import datetime\n",
    "from sklearn.cluster import KMeans\n",
    "%matplotlib inline\n",
    "from sklearn import preprocessing\n",
    "# Import the train_test_split function from the sklearn.model_selection utility.  \n",
    "from sklearn.model_selection import train_test_split\n",
    "import pickle \n",
    "from sklearn.metrics import explained_variance_score,mean_absolute_error"
   ]
  },
  {
   "cell_type": "markdown",
   "metadata": {},
   "source": [
    "Import dataset for seller"
   ]
  },
  {
   "cell_type": "code",
   "execution_count": 2,
   "metadata": {},
   "outputs": [],
   "source": [
    "path = '/Users/oluwafemibabatunde/Desktop/Springboard/capstone_three/C2C Business Analytics/data'\n",
    "os.chdir(path)\n",
    "yseller_train = pd.read_csv('yseller_train.csv')\n",
    "yseller_test = pd.read_csv('yseller_test.csv')\n",
    "Xseller_train = pd.read_csv('Xseller_train.csv')\n",
    "Xseller_test = pd.read_csv('Xseller_test.csv')"
   ]
  },
  {
   "cell_type": "code",
   "execution_count": 3,
   "metadata": {
    "scrolled": true
   },
   "outputs": [
    {
     "data": {
      "text/html": [
       "<div>\n",
       "<style scoped>\n",
       "    .dataframe tbody tr th:only-of-type {\n",
       "        vertical-align: middle;\n",
       "    }\n",
       "\n",
       "    .dataframe tbody tr th {\n",
       "        vertical-align: top;\n",
       "    }\n",
       "\n",
       "    .dataframe thead th {\n",
       "        text-align: right;\n",
       "    }\n",
       "</style>\n",
       "<table border=\"1\" class=\"dataframe\">\n",
       "  <thead>\n",
       "    <tr style=\"text-align: right;\">\n",
       "      <th></th>\n",
       "      <th>Unnamed: 0</th>\n",
       "      <th>ScproductsSold</th>\n",
       "    </tr>\n",
       "  </thead>\n",
       "  <tbody>\n",
       "    <tr>\n",
       "      <td>0</td>\n",
       "      <td>52379</td>\n",
       "      <td>-0.121688</td>\n",
       "    </tr>\n",
       "    <tr>\n",
       "      <td>1</td>\n",
       "      <td>38164</td>\n",
       "      <td>-0.121688</td>\n",
       "    </tr>\n",
       "    <tr>\n",
       "      <td>2</td>\n",
       "      <td>88130</td>\n",
       "      <td>-0.121688</td>\n",
       "    </tr>\n",
       "    <tr>\n",
       "      <td>3</td>\n",
       "      <td>56584</td>\n",
       "      <td>-0.121688</td>\n",
       "    </tr>\n",
       "    <tr>\n",
       "      <td>4</td>\n",
       "      <td>85503</td>\n",
       "      <td>-0.121688</td>\n",
       "    </tr>\n",
       "    <tr>\n",
       "      <td>5</td>\n",
       "      <td>16078</td>\n",
       "      <td>-0.121688</td>\n",
       "    </tr>\n",
       "    <tr>\n",
       "      <td>6</td>\n",
       "      <td>66502</td>\n",
       "      <td>-0.121688</td>\n",
       "    </tr>\n",
       "    <tr>\n",
       "      <td>7</td>\n",
       "      <td>22275</td>\n",
       "      <td>-0.121688</td>\n",
       "    </tr>\n",
       "    <tr>\n",
       "      <td>8</td>\n",
       "      <td>38470</td>\n",
       "      <td>-0.121688</td>\n",
       "    </tr>\n",
       "    <tr>\n",
       "      <td>9</td>\n",
       "      <td>66713</td>\n",
       "      <td>-0.121688</td>\n",
       "    </tr>\n",
       "  </tbody>\n",
       "</table>\n",
       "</div>"
      ],
      "text/plain": [
       "   Unnamed: 0  ScproductsSold\n",
       "0       52379       -0.121688\n",
       "1       38164       -0.121688\n",
       "2       88130       -0.121688\n",
       "3       56584       -0.121688\n",
       "4       85503       -0.121688\n",
       "5       16078       -0.121688\n",
       "6       66502       -0.121688\n",
       "7       22275       -0.121688\n",
       "8       38470       -0.121688\n",
       "9       66713       -0.121688"
      ]
     },
     "execution_count": 3,
     "metadata": {},
     "output_type": "execute_result"
    }
   ],
   "source": [
    "yseller_train.head(10)"
   ]
  },
  {
   "cell_type": "code",
   "execution_count": 4,
   "metadata": {},
   "outputs": [
    {
     "data": {
      "text/plain": [
       "(74184, 225)"
      ]
     },
     "execution_count": 4,
     "metadata": {},
     "output_type": "execute_result"
    }
   ],
   "source": [
    "Xseller_train.shape"
   ]
  },
  {
   "cell_type": "code",
   "execution_count": 5,
   "metadata": {},
   "outputs": [],
   "source": [
    "yseller_train = yseller_train.drop(['Unnamed: 0'], axis=1)\n",
    "yseller_test = yseller_test.drop(['Unnamed: 0'], axis=1)\n",
    "Xseller_train = Xseller_train.drop(['Unnamed: 0'], axis=1)\n",
    "Xseller_test = Xseller_test.drop(['Unnamed: 0'], axis=1)"
   ]
  },
  {
   "cell_type": "markdown",
   "metadata": {},
   "source": [
    "Import dataset for buyer"
   ]
  },
  {
   "cell_type": "code",
   "execution_count": 6,
   "metadata": {},
   "outputs": [],
   "source": [
    "ybuyer_train = pd.read_csv('ybuyer_train.csv')\n",
    "ybuyer_test = pd.read_csv('ybuyer_test.csv')\n",
    "Xbuyer_train = pd.read_csv('Xbuyer_train.csv')\n",
    "Xbuyer_test = pd.read_csv('Xbuyer_test.csv')"
   ]
  },
  {
   "cell_type": "code",
   "execution_count": 7,
   "metadata": {},
   "outputs": [],
   "source": [
    "ybuyer_train = ybuyer_train.drop(['Unnamed: 0'], axis=1)\n",
    "ybuyer_test = ybuyer_test.drop(['Unnamed: 0'], axis=1)\n",
    "Xbuyer_train = Xbuyer_train.drop(['Unnamed: 0'], axis=1)\n",
    "Xbuyer_test = Xbuyer_test.drop(['Unnamed: 0'], axis=1)"
   ]
  },
  {
   "cell_type": "markdown",
   "metadata": {},
   "source": [
    "Import dataset for Unscaled dataframe"
   ]
  },
  {
   "cell_type": "code",
   "execution_count": 8,
   "metadata": {},
   "outputs": [],
   "source": [
    "yPseller_train = pd.read_csv('yPseller_train.csv')\n",
    "yPseller_test = pd.read_csv('yPseller_test.csv')\n",
    "XPseller_train = pd.read_csv('XPseller_train.csv')\n",
    "XPseller_test = pd.read_csv('XPseller_test.csv')"
   ]
  },
  {
   "cell_type": "code",
   "execution_count": 9,
   "metadata": {},
   "outputs": [
    {
     "data": {
      "text/html": [
       "<div>\n",
       "<style scoped>\n",
       "    .dataframe tbody tr th:only-of-type {\n",
       "        vertical-align: middle;\n",
       "    }\n",
       "\n",
       "    .dataframe tbody tr th {\n",
       "        vertical-align: top;\n",
       "    }\n",
       "\n",
       "    .dataframe thead th {\n",
       "        text-align: right;\n",
       "    }\n",
       "</style>\n",
       "<table border=\"1\" class=\"dataframe\">\n",
       "  <thead>\n",
       "    <tr style=\"text-align: right;\">\n",
       "      <th></th>\n",
       "      <th>Unnamed: 0</th>\n",
       "      <th>productsSold</th>\n",
       "    </tr>\n",
       "  </thead>\n",
       "  <tbody>\n",
       "    <tr>\n",
       "      <td>0</td>\n",
       "      <td>52379</td>\n",
       "      <td>0</td>\n",
       "    </tr>\n",
       "    <tr>\n",
       "      <td>1</td>\n",
       "      <td>38164</td>\n",
       "      <td>0</td>\n",
       "    </tr>\n",
       "    <tr>\n",
       "      <td>2</td>\n",
       "      <td>88130</td>\n",
       "      <td>0</td>\n",
       "    </tr>\n",
       "    <tr>\n",
       "      <td>3</td>\n",
       "      <td>56584</td>\n",
       "      <td>0</td>\n",
       "    </tr>\n",
       "    <tr>\n",
       "      <td>4</td>\n",
       "      <td>85503</td>\n",
       "      <td>0</td>\n",
       "    </tr>\n",
       "  </tbody>\n",
       "</table>\n",
       "</div>"
      ],
      "text/plain": [
       "   Unnamed: 0  productsSold\n",
       "0       52379             0\n",
       "1       38164             0\n",
       "2       88130             0\n",
       "3       56584             0\n",
       "4       85503             0"
      ]
     },
     "execution_count": 9,
     "metadata": {},
     "output_type": "execute_result"
    }
   ],
   "source": [
    "yPseller_train.head()"
   ]
  },
  {
   "cell_type": "code",
   "execution_count": 10,
   "metadata": {},
   "outputs": [],
   "source": [
    "yPseller_train = yPseller_train.drop(['Unnamed: 0'], axis=1)\n",
    "yPseller_test = yPseller_test.drop(['Unnamed: 0'], axis=1)\n",
    "XPseller_train = XPseller_train.drop(['Unnamed: 0'], axis=1)\n",
    "XPseller_test = XPseller_test.drop(['Unnamed: 0'], axis=1)"
   ]
  },
  {
   "cell_type": "code",
   "execution_count": 11,
   "metadata": {},
   "outputs": [],
   "source": [
    "yPbuyer_train = pd.read_csv('yPbuyer_train.csv')\n",
    "yPbuyer_test = pd.read_csv('yPbuyer_test.csv')\n",
    "XPbuyer_train = pd.read_csv('XPbuyer_train.csv')\n",
    "XPbuyer_test = pd.read_csv('XPbuyer_test.csv')"
   ]
  },
  {
   "cell_type": "code",
   "execution_count": 12,
   "metadata": {},
   "outputs": [],
   "source": [
    "yPbuyer_train = yPbuyer_train.drop(['Unnamed: 0'], axis=1)\n",
    "yPbuyer_test = yPbuyer_test.drop(['Unnamed: 0'], axis=1)\n",
    "XPbuyer_train = XPbuyer_train.drop(['Unnamed: 0'], axis=1)\n",
    "XPbuyer_test = XPbuyer_test.drop(['Unnamed: 0'], axis=1)"
   ]
  },
  {
   "cell_type": "markdown",
   "metadata": {},
   "source": [
    "Import main X dataframes"
   ]
  },
  {
   "cell_type": "code",
   "execution_count": 13,
   "metadata": {},
   "outputs": [],
   "source": [
    "Xseller = pd.read_csv('Xseller.csv')\n",
    "Xbuyer = pd.read_csv('Xbuyer.csv')\n",
    "XPseller = pd.read_csv('XPseller.csv')\n",
    "XPbuyer = pd.read_csv('XPbuyer.csv')"
   ]
  },
  {
   "cell_type": "code",
   "execution_count": 14,
   "metadata": {},
   "outputs": [],
   "source": [
    "Xseller = Xseller.drop(['Unnamed: 0'], axis=1)\n",
    "Xbuyer = Xbuyer.drop(['Unnamed: 0'], axis=1)\n",
    "XPseller = XPseller.drop(['Unnamed: 0'], axis=1)\n",
    "XPbuyer = XPbuyer.drop(['Unnamed: 0'], axis=1)"
   ]
  },
  {
   "cell_type": "code",
   "execution_count": 15,
   "metadata": {},
   "outputs": [],
   "source": [
    "yseller = pd.read_csv('yseller.csv', header = None)\n",
    "ybuyer = pd.read_csv('ybuyer.csv',header = None)\n",
    "yPseller = pd.read_csv('yPseller.csv',header = None)\n",
    "yPbuyer = pd.read_csv('yPbuyer.csv',header = None)"
   ]
  },
  {
   "cell_type": "code",
   "execution_count": 16,
   "metadata": {},
   "outputs": [],
   "source": [
    "yseller = yseller.drop([0], axis=1)\n",
    "ybuyer = ybuyer.drop([0], axis=1)\n",
    "yPseller = yPseller.drop([0], axis=1)\n",
    "yPbuyer = yPbuyer.drop([0], axis=1)"
   ]
  },
  {
   "cell_type": "markdown",
   "metadata": {},
   "source": [
    "Feature Selection "
   ]
  },
  {
   "cell_type": "code",
   "execution_count": 17,
   "metadata": {},
   "outputs": [],
   "source": [
    "from sklearn.feature_selection import SelectKBest\n",
    "from sklearn.feature_selection import f_regression\n",
    "from matplotlib import pyplot\n",
    "from sklearn.dummy import DummyRegressor"
   ]
  },
  {
   "cell_type": "markdown",
   "metadata": {},
   "source": [
    "### Using the Dummy Regressor to determine the baseline performance for other models "
   ]
  },
  {
   "cell_type": "code",
   "execution_count": 18,
   "metadata": {},
   "outputs": [
    {
     "name": "stdout",
     "output_type": "stream",
     "text": [
      "MAE: 0.233\n"
     ]
    }
   ],
   "source": [
    " from sklearn.dummy import DummyRegressor\n",
    "\n",
    "# feature selection\n",
    "def select_features(X_train, y_train, X_test):\n",
    "\t# configure to select a subset of features\n",
    "\tnp.seterr(divide='ignore', invalid='ignore')\n",
    "\tfs = SelectKBest(score_func=f_regression, k=10)\n",
    "\t# learn relationship from training data\n",
    "\tfs.fit(Xseller_train, yseller_train.values.ravel())\n",
    "\t# transform train input data\n",
    "\tX_train_fs = fs.transform(Xseller_train)\n",
    "\t# transform test input data\n",
    "\tX_test_fs = fs.transform(Xseller_test)\n",
    "\treturn X_train_fs, X_test_fs, fs\n",
    "\n",
    "# feature selection\n",
    "X_train_fs, X_test_fs, fs = select_features(Xseller_train, yseller_train, Xseller_test)\n",
    "# fit the model\n",
    "dummy_regr = DummyRegressor(strategy=\"mean\")\n",
    "dummy_regr.fit(X_train_fs, yseller_train)\n",
    "# evaluate the model\n",
    "yhat = dummy_regr.predict(X_test_fs)\n",
    "# evaluate predictions\n",
    "mae = mean_absolute_error(yseller_test,yhat)\n",
    "print('MAE: %.3f' % mae)\n"
   ]
  },
  {
   "cell_type": "code",
   "execution_count": 19,
   "metadata": {},
   "outputs": [
    {
     "data": {
      "text/plain": [
       "0.0"
      ]
     },
     "execution_count": 19,
     "metadata": {},
     "output_type": "execute_result"
    }
   ],
   "source": [
    "dummy_regr.score(X_train_fs, yseller_train)"
   ]
  },
  {
   "cell_type": "code",
   "execution_count": 20,
   "metadata": {
    "scrolled": true
   },
   "outputs": [
    {
     "data": {
      "text/plain": [
       "-0.0001326124669798201"
      ]
     },
     "execution_count": 20,
     "metadata": {},
     "output_type": "execute_result"
    }
   ],
   "source": [
    "dummy_regr.score(X_test_fs,yseller_test)"
   ]
  },
  {
   "cell_type": "markdown",
   "metadata": {},
   "source": [
    "#### Multiple Linear Regression for Sellers"
   ]
  },
  {
   "cell_type": "code",
   "execution_count": 21,
   "metadata": {
    "scrolled": false
   },
   "outputs": [
    {
     "name": "stdout",
     "output_type": "stream",
     "text": [
      "MAE: 0.116\n"
     ]
    }
   ],
   "source": [
    "\n",
    "from sklearn.linear_model import LinearRegression\n",
    "from sklearn.metrics import mean_absolute_error\n",
    "\n",
    "# feature selection\n",
    "def select_features(X_train, y_train, X_test):\n",
    "\t# configure to select a subset of features\n",
    "\tnp.seterr(divide='ignore', invalid='ignore')\n",
    "\tfs = SelectKBest(score_func=f_regression, k=100)\n",
    "\t# learn relationship from training data\n",
    "\tfs.fit(Xseller_train, yseller_train.values.ravel())\n",
    "\tcols = fs.get_support(indices=True)\n",
    "    # transform train input data\n",
    "\tX_train_fs = fs.transform(Xseller_train)\n",
    "\tX_train_fs = Xseller_train.iloc[:,cols]\n",
    "    # transform test input data\n",
    "\tX_test_fs = fs.transform(Xseller_test)\n",
    "\tX_test_fs = Xseller_test.iloc[:,cols]\n",
    "\treturn X_train_fs, X_test_fs, fs\n",
    "\n",
    "\n",
    "# feature selection\n",
    "X_train_fs, X_test_fs, fs = select_features(Xseller_train, yseller_train, Xseller_test)\n",
    "# fit the model\n",
    "model = LinearRegression()\n",
    "model.fit(X_train_fs, yseller_train)\n",
    "# evaluate the model\n",
    "yhat = model.predict(X_test_fs)\n",
    "# evaluate predictions\n",
    "mae = mean_absolute_error(yseller_test,yhat)\n",
    "print('MAE: %.3f' % mae)"
   ]
  },
  {
   "cell_type": "code",
   "execution_count": 22,
   "metadata": {},
   "outputs": [
    {
     "data": {
      "text/plain": [
       "0.7943901427212339"
      ]
     },
     "execution_count": 22,
     "metadata": {},
     "output_type": "execute_result"
    }
   ],
   "source": [
    "explained_variance_score(yseller_test,yhat)"
   ]
  },
  {
   "cell_type": "code",
   "execution_count": 23,
   "metadata": {},
   "outputs": [
    {
     "data": {
      "text/plain": [
       "0.8164393893490697"
      ]
     },
     "execution_count": 23,
     "metadata": {},
     "output_type": "execute_result"
    }
   ],
   "source": [
    "model.score(X_train_fs, yseller_train)"
   ]
  },
  {
   "cell_type": "code",
   "execution_count": 24,
   "metadata": {},
   "outputs": [
    {
     "data": {
      "text/plain": [
       "0.7943493501973147"
      ]
     },
     "execution_count": 24,
     "metadata": {},
     "output_type": "execute_result"
    }
   ],
   "source": [
    "model.score(X_test_fs,yseller_test)"
   ]
  },
  {
   "cell_type": "code",
   "execution_count": 25,
   "metadata": {
    "scrolled": true
   },
   "outputs": [
    {
     "data": {
      "text/html": [
       "<div>\n",
       "<style scoped>\n",
       "    .dataframe tbody tr th:only-of-type {\n",
       "        vertical-align: middle;\n",
       "    }\n",
       "\n",
       "    .dataframe tbody tr th {\n",
       "        vertical-align: top;\n",
       "    }\n",
       "\n",
       "    .dataframe thead th {\n",
       "        text-align: right;\n",
       "    }\n",
       "</style>\n",
       "<table border=\"1\" class=\"dataframe\">\n",
       "  <thead>\n",
       "    <tr style=\"text-align: right;\">\n",
       "      <th></th>\n",
       "      <th>Coefficient</th>\n",
       "    </tr>\n",
       "  </thead>\n",
       "  <tbody>\n",
       "    <tr>\n",
       "      <td>civilityTitle_miss</td>\n",
       "      <td>3.131345e+11</td>\n",
       "    </tr>\n",
       "    <tr>\n",
       "      <td>civilityGenderId</td>\n",
       "      <td>1.565673e+11</td>\n",
       "    </tr>\n",
       "    <tr>\n",
       "      <td>civilityTitle_mrs</td>\n",
       "      <td>1.565673e+11</td>\n",
       "    </tr>\n",
       "    <tr>\n",
       "      <td>country_Îles Canaries</td>\n",
       "      <td>1.027179e+00</td>\n",
       "    </tr>\n",
       "    <tr>\n",
       "      <td>ScproductsPassRate</td>\n",
       "      <td>5.853004e-01</td>\n",
       "    </tr>\n",
       "    <tr>\n",
       "      <td>ScproductsListed</td>\n",
       "      <td>2.788944e-01</td>\n",
       "    </tr>\n",
       "    <tr>\n",
       "      <td>country_Bulgarie</td>\n",
       "      <td>2.482394e-01</td>\n",
       "    </tr>\n",
       "    <tr>\n",
       "      <td>country_Croatie</td>\n",
       "      <td>2.072377e-01</td>\n",
       "    </tr>\n",
       "    <tr>\n",
       "      <td>ScSocialNbFollowers</td>\n",
       "      <td>2.034855e-01</td>\n",
       "    </tr>\n",
       "    <tr>\n",
       "      <td>country_Monaco</td>\n",
       "      <td>1.993061e-01</td>\n",
       "    </tr>\n",
       "    <tr>\n",
       "      <td>country_Lettonie</td>\n",
       "      <td>1.907765e-01</td>\n",
       "    </tr>\n",
       "    <tr>\n",
       "      <td>country_Grèce</td>\n",
       "      <td>1.315694e-01</td>\n",
       "    </tr>\n",
       "    <tr>\n",
       "      <td>country_Chypre</td>\n",
       "      <td>1.296782e-01</td>\n",
       "    </tr>\n",
       "    <tr>\n",
       "      <td>country_Luxembourg</td>\n",
       "      <td>1.078535e-01</td>\n",
       "    </tr>\n",
       "    <tr>\n",
       "      <td>hasAnyApp</td>\n",
       "      <td>1.062927e-01</td>\n",
       "    </tr>\n",
       "    <tr>\n",
       "      <td>hasAndroidApp</td>\n",
       "      <td>9.830475e-02</td>\n",
       "    </tr>\n",
       "    <tr>\n",
       "      <td>country_Hongrie</td>\n",
       "      <td>9.682798e-02</td>\n",
       "    </tr>\n",
       "    <tr>\n",
       "      <td>hasProfilePicture</td>\n",
       "      <td>9.529114e-02</td>\n",
       "    </tr>\n",
       "    <tr>\n",
       "      <td>hasIosApp</td>\n",
       "      <td>9.075928e-02</td>\n",
       "    </tr>\n",
       "    <tr>\n",
       "      <td>country_Estonie</td>\n",
       "      <td>7.533629e-02</td>\n",
       "    </tr>\n",
       "  </tbody>\n",
       "</table>\n",
       "</div>"
      ],
      "text/plain": [
       "                        Coefficient\n",
       "civilityTitle_miss     3.131345e+11\n",
       "civilityGenderId       1.565673e+11\n",
       "civilityTitle_mrs      1.565673e+11\n",
       "country_Îles Canaries  1.027179e+00\n",
       "ScproductsPassRate     5.853004e-01\n",
       "ScproductsListed       2.788944e-01\n",
       "country_Bulgarie       2.482394e-01\n",
       "country_Croatie        2.072377e-01\n",
       "ScSocialNbFollowers    2.034855e-01\n",
       "country_Monaco         1.993061e-01\n",
       "country_Lettonie       1.907765e-01\n",
       "country_Grèce          1.315694e-01\n",
       "country_Chypre         1.296782e-01\n",
       "country_Luxembourg     1.078535e-01\n",
       "hasAnyApp              1.062927e-01\n",
       "hasAndroidApp          9.830475e-02\n",
       "country_Hongrie        9.682798e-02\n",
       "hasProfilePicture      9.529114e-02\n",
       "hasIosApp              9.075928e-02\n",
       "country_Estonie        7.533629e-02"
      ]
     },
     "execution_count": 25,
     "metadata": {},
     "output_type": "execute_result"
    }
   ],
   "source": [
    "pd.DataFrame(abs(model.coef_).T, X_train_fs.columns, columns=['Coefficient']).sort_values(by='Coefficient', ascending= False).head(20)"
   ]
  },
  {
   "cell_type": "markdown",
   "metadata": {},
   "source": [
    "The features' ranking is absurd as the first three coefficients displayed had figures that do not support the underlying distribution of the features. For instance, the civilityGenderId feature is a boolean feature before transformation but it gave a coefficient that do not support the expected impact it should have on the dependent variable. As a result, cross validation will be carried out to confirm if the score gotten is right."
   ]
  },
  {
   "cell_type": "code",
   "execution_count": 26,
   "metadata": {},
   "outputs": [
    {
     "data": {
      "text/plain": [
       "array([0.81406202, 0.8388336 , 0.81458892, 0.79794162, 0.80928601])"
      ]
     },
     "execution_count": 26,
     "metadata": {},
     "output_type": "execute_result"
    }
   ],
   "source": [
    "from sklearn.model_selection import RepeatedKFold\n",
    "from sklearn.model_selection import cross_val_score\n",
    "from scipy.stats import sem\n",
    "from sklearn.model_selection import KFold\n",
    "from sklearn.model_selection import GridSearchCV\n",
    "from matplotlib import pyplot\n",
    "\n",
    "lm = LinearRegression()\n",
    "# create a KFold object with 5 splits \n",
    "folds = KFold(n_splits = 5, shuffle = True, random_state = 100)\n",
    "scores = cross_val_score(lm, X_train_fs, yseller_train, scoring='r2', cv=folds)\n",
    "scores "
   ]
  },
  {
   "cell_type": "markdown",
   "metadata": {},
   "source": [
    "The scores gotten from the cross validation process above are in the range of the initial model done for the seller dataframe. To affirm the performance of the linear model, GridsearchCV will be carried out the datset"
   ]
  },
  {
   "cell_type": "markdown",
   "metadata": {},
   "source": [
    "### Using GridSearch on Seller Dataset"
   ]
  },
  {
   "cell_type": "code",
   "execution_count": 27,
   "metadata": {
    "scrolled": true
   },
   "outputs": [
    {
     "name": "stdout",
     "output_type": "stream",
     "text": [
      "Fitting 5 folds for each of 19 candidates, totalling 95 fits\n"
     ]
    },
    {
     "name": "stderr",
     "output_type": "stream",
     "text": [
      "[Parallel(n_jobs=1)]: Using backend SequentialBackend with 1 concurrent workers.\n",
      "[Parallel(n_jobs=1)]: Done  95 out of  95 | elapsed: 10.8min finished\n"
     ]
    },
    {
     "data": {
      "text/plain": [
       "GridSearchCV(cv=KFold(n_splits=5, random_state=100, shuffle=True),\n",
       "             error_score='raise-deprecating',\n",
       "             estimator=RFE(estimator=LinearRegression(copy_X=True,\n",
       "                                                      fit_intercept=True,\n",
       "                                                      n_jobs=None,\n",
       "                                                      normalize=False),\n",
       "                           n_features_to_select=None, step=1, verbose=0),\n",
       "             iid='warn', n_jobs=None,\n",
       "             param_grid=[{'n_features_to_select': [1, 2, 3, 4, 5, 6, 7, 8, 9,\n",
       "                                                   10, 11, 12, 13, 14, 15, 16,\n",
       "                                                   17, 18, 19]}],\n",
       "             pre_dispatch='2*n_jobs', refit=True, return_train_score=True,\n",
       "             scoring='r2', verbose=1)"
      ]
     },
     "execution_count": 27,
     "metadata": {},
     "output_type": "execute_result"
    }
   ],
   "source": [
    "from sklearn.feature_selection import RFE\n",
    "# step-1: create a cross-validation scheme\n",
    "folds = KFold(n_splits = 5, shuffle = True, random_state = 100)\n",
    "\n",
    "# step-2: specify range of hyperparameters to tune\n",
    "hyper_params = [{'n_features_to_select': list(range(1, 20))}]\n",
    "\n",
    "\n",
    "# step-3: perform grid search\n",
    "# 3.1 specify model\n",
    "lm = LinearRegression()\n",
    "lm.fit(X_train_fs, yseller_train.values.ravel())\n",
    "rfe = RFE(lm)             \n",
    "\n",
    "# 3.2 call GridSearchCV()\n",
    "model_cv = GridSearchCV(estimator = rfe, \n",
    "                        param_grid = hyper_params, \n",
    "                        scoring= 'r2', \n",
    "                        cv = folds, \n",
    "                        verbose = 1,\n",
    "                        return_train_score=True)      \n",
    "\n",
    "# fit the model\n",
    "model_cv.fit(X_train_fs, yseller_train.values.ravel())  "
   ]
  },
  {
   "cell_type": "code",
   "execution_count": 28,
   "metadata": {
    "scrolled": true
   },
   "outputs": [
    {
     "data": {
      "text/html": [
       "<div>\n",
       "<style scoped>\n",
       "    .dataframe tbody tr th:only-of-type {\n",
       "        vertical-align: middle;\n",
       "    }\n",
       "\n",
       "    .dataframe tbody tr th {\n",
       "        vertical-align: top;\n",
       "    }\n",
       "\n",
       "    .dataframe thead th {\n",
       "        text-align: right;\n",
       "    }\n",
       "</style>\n",
       "<table border=\"1\" class=\"dataframe\">\n",
       "  <thead>\n",
       "    <tr style=\"text-align: right;\">\n",
       "      <th></th>\n",
       "      <th>mean_fit_time</th>\n",
       "      <th>std_fit_time</th>\n",
       "      <th>mean_score_time</th>\n",
       "      <th>std_score_time</th>\n",
       "      <th>param_n_features_to_select</th>\n",
       "      <th>params</th>\n",
       "      <th>split0_test_score</th>\n",
       "      <th>split1_test_score</th>\n",
       "      <th>split2_test_score</th>\n",
       "      <th>split3_test_score</th>\n",
       "      <th>...</th>\n",
       "      <th>mean_test_score</th>\n",
       "      <th>std_test_score</th>\n",
       "      <th>rank_test_score</th>\n",
       "      <th>split0_train_score</th>\n",
       "      <th>split1_train_score</th>\n",
       "      <th>split2_train_score</th>\n",
       "      <th>split3_train_score</th>\n",
       "      <th>split4_train_score</th>\n",
       "      <th>mean_train_score</th>\n",
       "      <th>std_train_score</th>\n",
       "    </tr>\n",
       "  </thead>\n",
       "  <tbody>\n",
       "    <tr>\n",
       "      <td>0</td>\n",
       "      <td>6.700091</td>\n",
       "      <td>0.084421</td>\n",
       "      <td>0.011116</td>\n",
       "      <td>0.000801</td>\n",
       "      <td>1</td>\n",
       "      <td>{'n_features_to_select': 1}</td>\n",
       "      <td>0.003733</td>\n",
       "      <td>0.008599</td>\n",
       "      <td>0.016468</td>\n",
       "      <td>-0.000168</td>\n",
       "      <td>...</td>\n",
       "      <td>0.007253</td>\n",
       "      <td>0.005556</td>\n",
       "      <td>19</td>\n",
       "      <td>0.010612</td>\n",
       "      <td>0.009372</td>\n",
       "      <td>0.007443</td>\n",
       "      <td>0.000060</td>\n",
       "      <td>0.009615</td>\n",
       "      <td>0.007421</td>\n",
       "      <td>0.003821</td>\n",
       "    </tr>\n",
       "    <tr>\n",
       "      <td>1</td>\n",
       "      <td>6.727513</td>\n",
       "      <td>0.102689</td>\n",
       "      <td>0.010696</td>\n",
       "      <td>0.000119</td>\n",
       "      <td>2</td>\n",
       "      <td>{'n_features_to_select': 2}</td>\n",
       "      <td>0.003716</td>\n",
       "      <td>0.008619</td>\n",
       "      <td>0.016481</td>\n",
       "      <td>0.719100</td>\n",
       "      <td>...</td>\n",
       "      <td>0.151112</td>\n",
       "      <td>0.284027</td>\n",
       "      <td>17</td>\n",
       "      <td>0.010626</td>\n",
       "      <td>0.009373</td>\n",
       "      <td>0.007450</td>\n",
       "      <td>0.728034</td>\n",
       "      <td>0.009626</td>\n",
       "      <td>0.153022</td>\n",
       "      <td>0.287508</td>\n",
       "    </tr>\n",
       "    <tr>\n",
       "      <td>2</td>\n",
       "      <td>6.836311</td>\n",
       "      <td>0.062202</td>\n",
       "      <td>0.006407</td>\n",
       "      <td>0.000128</td>\n",
       "      <td>3</td>\n",
       "      <td>{'n_features_to_select': 3}</td>\n",
       "      <td>0.003715</td>\n",
       "      <td>0.008628</td>\n",
       "      <td>0.016489</td>\n",
       "      <td>0.718625</td>\n",
       "      <td>...</td>\n",
       "      <td>0.151020</td>\n",
       "      <td>0.283835</td>\n",
       "      <td>18</td>\n",
       "      <td>0.010625</td>\n",
       "      <td>0.009373</td>\n",
       "      <td>0.007450</td>\n",
       "      <td>0.728162</td>\n",
       "      <td>0.009625</td>\n",
       "      <td>0.153047</td>\n",
       "      <td>0.287559</td>\n",
       "    </tr>\n",
       "    <tr>\n",
       "      <td>3</td>\n",
       "      <td>6.879653</td>\n",
       "      <td>0.127840</td>\n",
       "      <td>0.006685</td>\n",
       "      <td>0.000310</td>\n",
       "      <td>4</td>\n",
       "      <td>{'n_features_to_select': 4}</td>\n",
       "      <td>0.731596</td>\n",
       "      <td>0.008037</td>\n",
       "      <td>0.016494</td>\n",
       "      <td>0.718413</td>\n",
       "      <td>...</td>\n",
       "      <td>0.296439</td>\n",
       "      <td>0.349966</td>\n",
       "      <td>16</td>\n",
       "      <td>0.726590</td>\n",
       "      <td>0.009509</td>\n",
       "      <td>0.007511</td>\n",
       "      <td>0.728241</td>\n",
       "      <td>0.009690</td>\n",
       "      <td>0.296308</td>\n",
       "      <td>0.351999</td>\n",
       "    </tr>\n",
       "    <tr>\n",
       "      <td>4</td>\n",
       "      <td>6.976182</td>\n",
       "      <td>0.168242</td>\n",
       "      <td>0.007562</td>\n",
       "      <td>0.000129</td>\n",
       "      <td>5</td>\n",
       "      <td>{'n_features_to_select': 5}</td>\n",
       "      <td>0.731295</td>\n",
       "      <td>0.750243</td>\n",
       "      <td>0.720554</td>\n",
       "      <td>0.768286</td>\n",
       "      <td>...</td>\n",
       "      <td>0.736668</td>\n",
       "      <td>0.020172</td>\n",
       "      <td>14</td>\n",
       "      <td>0.726706</td>\n",
       "      <td>0.722033</td>\n",
       "      <td>0.729281</td>\n",
       "      <td>0.798623</td>\n",
       "      <td>0.731892</td>\n",
       "      <td>0.741707</td>\n",
       "      <td>0.028643</td>\n",
       "    </tr>\n",
       "    <tr>\n",
       "      <td>5</td>\n",
       "      <td>6.864935</td>\n",
       "      <td>0.134053</td>\n",
       "      <td>0.008046</td>\n",
       "      <td>0.000299</td>\n",
       "      <td>6</td>\n",
       "      <td>{'n_features_to_select': 6}</td>\n",
       "      <td>0.731146</td>\n",
       "      <td>0.750066</td>\n",
       "      <td>0.720409</td>\n",
       "      <td>0.768234</td>\n",
       "      <td>...</td>\n",
       "      <td>0.736542</td>\n",
       "      <td>0.020188</td>\n",
       "      <td>15</td>\n",
       "      <td>0.726916</td>\n",
       "      <td>0.722239</td>\n",
       "      <td>0.729350</td>\n",
       "      <td>0.798648</td>\n",
       "      <td>0.732093</td>\n",
       "      <td>0.741849</td>\n",
       "      <td>0.028583</td>\n",
       "    </tr>\n",
       "    <tr>\n",
       "      <td>6</td>\n",
       "      <td>6.890843</td>\n",
       "      <td>0.102882</td>\n",
       "      <td>0.008132</td>\n",
       "      <td>0.000240</td>\n",
       "      <td>7</td>\n",
       "      <td>{'n_features_to_select': 7}</td>\n",
       "      <td>0.790715</td>\n",
       "      <td>0.822270</td>\n",
       "      <td>0.794449</td>\n",
       "      <td>0.768152</td>\n",
       "      <td>...</td>\n",
       "      <td>0.792421</td>\n",
       "      <td>0.017446</td>\n",
       "      <td>13</td>\n",
       "      <td>0.794334</td>\n",
       "      <td>0.786372</td>\n",
       "      <td>0.793244</td>\n",
       "      <td>0.798738</td>\n",
       "      <td>0.795517</td>\n",
       "      <td>0.793641</td>\n",
       "      <td>0.004074</td>\n",
       "    </tr>\n",
       "    <tr>\n",
       "      <td>7</td>\n",
       "      <td>6.914836</td>\n",
       "      <td>0.110775</td>\n",
       "      <td>0.008145</td>\n",
       "      <td>0.000062</td>\n",
       "      <td>8</td>\n",
       "      <td>{'n_features_to_select': 8}</td>\n",
       "      <td>0.790697</td>\n",
       "      <td>0.822254</td>\n",
       "      <td>0.794557</td>\n",
       "      <td>0.768140</td>\n",
       "      <td>...</td>\n",
       "      <td>0.796753</td>\n",
       "      <td>0.018109</td>\n",
       "      <td>12</td>\n",
       "      <td>0.794372</td>\n",
       "      <td>0.786409</td>\n",
       "      <td>0.793318</td>\n",
       "      <td>0.798740</td>\n",
       "      <td>0.816082</td>\n",
       "      <td>0.797784</td>\n",
       "      <td>0.009967</td>\n",
       "    </tr>\n",
       "    <tr>\n",
       "      <td>8</td>\n",
       "      <td>6.842920</td>\n",
       "      <td>0.125196</td>\n",
       "      <td>0.008334</td>\n",
       "      <td>0.000083</td>\n",
       "      <td>9</td>\n",
       "      <td>{'n_features_to_select': 9}</td>\n",
       "      <td>0.790788</td>\n",
       "      <td>0.822183</td>\n",
       "      <td>0.794615</td>\n",
       "      <td>0.795813</td>\n",
       "      <td>...</td>\n",
       "      <td>0.802305</td>\n",
       "      <td>0.011515</td>\n",
       "      <td>11</td>\n",
       "      <td>0.794429</td>\n",
       "      <td>0.786503</td>\n",
       "      <td>0.793337</td>\n",
       "      <td>0.818170</td>\n",
       "      <td>0.816097</td>\n",
       "      <td>0.801707</td>\n",
       "      <td>0.012902</td>\n",
       "    </tr>\n",
       "    <tr>\n",
       "      <td>9</td>\n",
       "      <td>6.813324</td>\n",
       "      <td>0.122708</td>\n",
       "      <td>0.008406</td>\n",
       "      <td>0.000095</td>\n",
       "      <td>10</td>\n",
       "      <td>{'n_features_to_select': 10}</td>\n",
       "      <td>0.812372</td>\n",
       "      <td>0.838210</td>\n",
       "      <td>0.794709</td>\n",
       "      <td>0.795859</td>\n",
       "      <td>...</td>\n",
       "      <td>0.809841</td>\n",
       "      <td>0.015741</td>\n",
       "      <td>10</td>\n",
       "      <td>0.814929</td>\n",
       "      <td>0.808441</td>\n",
       "      <td>0.793394</td>\n",
       "      <td>0.818222</td>\n",
       "      <td>0.816122</td>\n",
       "      <td>0.810222</td>\n",
       "      <td>0.009026</td>\n",
       "    </tr>\n",
       "    <tr>\n",
       "      <td>10</td>\n",
       "      <td>6.782066</td>\n",
       "      <td>0.103017</td>\n",
       "      <td>0.008438</td>\n",
       "      <td>0.000042</td>\n",
       "      <td>11</td>\n",
       "      <td>{'n_features_to_select': 11}</td>\n",
       "      <td>0.812397</td>\n",
       "      <td>0.838174</td>\n",
       "      <td>0.812696</td>\n",
       "      <td>0.795838</td>\n",
       "      <td>...</td>\n",
       "      <td>0.813438</td>\n",
       "      <td>0.013798</td>\n",
       "      <td>7</td>\n",
       "      <td>0.814984</td>\n",
       "      <td>0.808509</td>\n",
       "      <td>0.814768</td>\n",
       "      <td>0.818238</td>\n",
       "      <td>0.816131</td>\n",
       "      <td>0.814526</td>\n",
       "      <td>0.003250</td>\n",
       "    </tr>\n",
       "    <tr>\n",
       "      <td>11</td>\n",
       "      <td>7.591711</td>\n",
       "      <td>0.501806</td>\n",
       "      <td>0.009149</td>\n",
       "      <td>0.000202</td>\n",
       "      <td>12</td>\n",
       "      <td>{'n_features_to_select': 12}</td>\n",
       "      <td>0.812362</td>\n",
       "      <td>0.838182</td>\n",
       "      <td>0.812701</td>\n",
       "      <td>0.795830</td>\n",
       "      <td>...</td>\n",
       "      <td>0.813454</td>\n",
       "      <td>0.013795</td>\n",
       "      <td>5</td>\n",
       "      <td>0.815001</td>\n",
       "      <td>0.808524</td>\n",
       "      <td>0.814768</td>\n",
       "      <td>0.818245</td>\n",
       "      <td>0.816151</td>\n",
       "      <td>0.814538</td>\n",
       "      <td>0.003249</td>\n",
       "    </tr>\n",
       "    <tr>\n",
       "      <td>12</td>\n",
       "      <td>6.891487</td>\n",
       "      <td>0.169019</td>\n",
       "      <td>0.008570</td>\n",
       "      <td>0.000115</td>\n",
       "      <td>13</td>\n",
       "      <td>{'n_features_to_select': 13}</td>\n",
       "      <td>0.812341</td>\n",
       "      <td>0.838113</td>\n",
       "      <td>0.812699</td>\n",
       "      <td>0.795825</td>\n",
       "      <td>...</td>\n",
       "      <td>0.813409</td>\n",
       "      <td>0.013782</td>\n",
       "      <td>8</td>\n",
       "      <td>0.815027</td>\n",
       "      <td>0.808535</td>\n",
       "      <td>0.814768</td>\n",
       "      <td>0.818246</td>\n",
       "      <td>0.816157</td>\n",
       "      <td>0.814547</td>\n",
       "      <td>0.003247</td>\n",
       "    </tr>\n",
       "    <tr>\n",
       "      <td>13</td>\n",
       "      <td>6.624942</td>\n",
       "      <td>0.106563</td>\n",
       "      <td>0.008730</td>\n",
       "      <td>0.000095</td>\n",
       "      <td>14</td>\n",
       "      <td>{'n_features_to_select': 14}</td>\n",
       "      <td>0.812253</td>\n",
       "      <td>0.838104</td>\n",
       "      <td>0.812662</td>\n",
       "      <td>0.795815</td>\n",
       "      <td>...</td>\n",
       "      <td>0.813402</td>\n",
       "      <td>0.013774</td>\n",
       "      <td>9</td>\n",
       "      <td>0.815056</td>\n",
       "      <td>0.808540</td>\n",
       "      <td>0.814811</td>\n",
       "      <td>0.818282</td>\n",
       "      <td>0.816186</td>\n",
       "      <td>0.814575</td>\n",
       "      <td>0.003257</td>\n",
       "    </tr>\n",
       "    <tr>\n",
       "      <td>14</td>\n",
       "      <td>6.614839</td>\n",
       "      <td>0.151161</td>\n",
       "      <td>0.008921</td>\n",
       "      <td>0.000104</td>\n",
       "      <td>15</td>\n",
       "      <td>{'n_features_to_select': 15}</td>\n",
       "      <td>0.812254</td>\n",
       "      <td>0.838124</td>\n",
       "      <td>0.812655</td>\n",
       "      <td>0.796105</td>\n",
       "      <td>...</td>\n",
       "      <td>0.813448</td>\n",
       "      <td>0.013714</td>\n",
       "      <td>6</td>\n",
       "      <td>0.815228</td>\n",
       "      <td>0.808569</td>\n",
       "      <td>0.814825</td>\n",
       "      <td>0.818351</td>\n",
       "      <td>0.816379</td>\n",
       "      <td>0.814670</td>\n",
       "      <td>0.003287</td>\n",
       "    </tr>\n",
       "    <tr>\n",
       "      <td>15</td>\n",
       "      <td>6.598205</td>\n",
       "      <td>0.101168</td>\n",
       "      <td>0.008962</td>\n",
       "      <td>0.000058</td>\n",
       "      <td>16</td>\n",
       "      <td>{'n_features_to_select': 16}</td>\n",
       "      <td>0.812286</td>\n",
       "      <td>0.838139</td>\n",
       "      <td>0.812727</td>\n",
       "      <td>0.796118</td>\n",
       "      <td>...</td>\n",
       "      <td>0.813477</td>\n",
       "      <td>0.013713</td>\n",
       "      <td>3</td>\n",
       "      <td>0.815234</td>\n",
       "      <td>0.808578</td>\n",
       "      <td>0.814867</td>\n",
       "      <td>0.818368</td>\n",
       "      <td>0.816387</td>\n",
       "      <td>0.814687</td>\n",
       "      <td>0.003289</td>\n",
       "    </tr>\n",
       "    <tr>\n",
       "      <td>16</td>\n",
       "      <td>6.520995</td>\n",
       "      <td>0.095891</td>\n",
       "      <td>0.009124</td>\n",
       "      <td>0.000093</td>\n",
       "      <td>17</td>\n",
       "      <td>{'n_features_to_select': 17}</td>\n",
       "      <td>0.812262</td>\n",
       "      <td>0.838136</td>\n",
       "      <td>0.812749</td>\n",
       "      <td>0.796116</td>\n",
       "      <td>...</td>\n",
       "      <td>0.813474</td>\n",
       "      <td>0.013714</td>\n",
       "      <td>4</td>\n",
       "      <td>0.815257</td>\n",
       "      <td>0.808579</td>\n",
       "      <td>0.814879</td>\n",
       "      <td>0.818369</td>\n",
       "      <td>0.816390</td>\n",
       "      <td>0.814695</td>\n",
       "      <td>0.003290</td>\n",
       "    </tr>\n",
       "    <tr>\n",
       "      <td>17</td>\n",
       "      <td>6.551358</td>\n",
       "      <td>0.097370</td>\n",
       "      <td>0.009011</td>\n",
       "      <td>0.000130</td>\n",
       "      <td>18</td>\n",
       "      <td>{'n_features_to_select': 18}</td>\n",
       "      <td>0.812263</td>\n",
       "      <td>0.838283</td>\n",
       "      <td>0.812715</td>\n",
       "      <td>0.796113</td>\n",
       "      <td>...</td>\n",
       "      <td>0.813497</td>\n",
       "      <td>0.013768</td>\n",
       "      <td>1</td>\n",
       "      <td>0.815263</td>\n",
       "      <td>0.808716</td>\n",
       "      <td>0.814906</td>\n",
       "      <td>0.818373</td>\n",
       "      <td>0.816390</td>\n",
       "      <td>0.814730</td>\n",
       "      <td>0.003241</td>\n",
       "    </tr>\n",
       "    <tr>\n",
       "      <td>18</td>\n",
       "      <td>6.540214</td>\n",
       "      <td>0.120623</td>\n",
       "      <td>0.009088</td>\n",
       "      <td>0.000190</td>\n",
       "      <td>19</td>\n",
       "      <td>{'n_features_to_select': 19}</td>\n",
       "      <td>0.812255</td>\n",
       "      <td>0.838274</td>\n",
       "      <td>0.812706</td>\n",
       "      <td>0.796112</td>\n",
       "      <td>...</td>\n",
       "      <td>0.813492</td>\n",
       "      <td>0.013764</td>\n",
       "      <td>2</td>\n",
       "      <td>0.815263</td>\n",
       "      <td>0.808719</td>\n",
       "      <td>0.814918</td>\n",
       "      <td>0.818374</td>\n",
       "      <td>0.816397</td>\n",
       "      <td>0.814734</td>\n",
       "      <td>0.003241</td>\n",
       "    </tr>\n",
       "  </tbody>\n",
       "</table>\n",
       "<p>19 rows × 21 columns</p>\n",
       "</div>"
      ],
      "text/plain": [
       "    mean_fit_time  std_fit_time  mean_score_time  std_score_time  \\\n",
       "0        6.700091      0.084421         0.011116        0.000801   \n",
       "1        6.727513      0.102689         0.010696        0.000119   \n",
       "2        6.836311      0.062202         0.006407        0.000128   \n",
       "3        6.879653      0.127840         0.006685        0.000310   \n",
       "4        6.976182      0.168242         0.007562        0.000129   \n",
       "5        6.864935      0.134053         0.008046        0.000299   \n",
       "6        6.890843      0.102882         0.008132        0.000240   \n",
       "7        6.914836      0.110775         0.008145        0.000062   \n",
       "8        6.842920      0.125196         0.008334        0.000083   \n",
       "9        6.813324      0.122708         0.008406        0.000095   \n",
       "10       6.782066      0.103017         0.008438        0.000042   \n",
       "11       7.591711      0.501806         0.009149        0.000202   \n",
       "12       6.891487      0.169019         0.008570        0.000115   \n",
       "13       6.624942      0.106563         0.008730        0.000095   \n",
       "14       6.614839      0.151161         0.008921        0.000104   \n",
       "15       6.598205      0.101168         0.008962        0.000058   \n",
       "16       6.520995      0.095891         0.009124        0.000093   \n",
       "17       6.551358      0.097370         0.009011        0.000130   \n",
       "18       6.540214      0.120623         0.009088        0.000190   \n",
       "\n",
       "   param_n_features_to_select                        params  \\\n",
       "0                           1   {'n_features_to_select': 1}   \n",
       "1                           2   {'n_features_to_select': 2}   \n",
       "2                           3   {'n_features_to_select': 3}   \n",
       "3                           4   {'n_features_to_select': 4}   \n",
       "4                           5   {'n_features_to_select': 5}   \n",
       "5                           6   {'n_features_to_select': 6}   \n",
       "6                           7   {'n_features_to_select': 7}   \n",
       "7                           8   {'n_features_to_select': 8}   \n",
       "8                           9   {'n_features_to_select': 9}   \n",
       "9                          10  {'n_features_to_select': 10}   \n",
       "10                         11  {'n_features_to_select': 11}   \n",
       "11                         12  {'n_features_to_select': 12}   \n",
       "12                         13  {'n_features_to_select': 13}   \n",
       "13                         14  {'n_features_to_select': 14}   \n",
       "14                         15  {'n_features_to_select': 15}   \n",
       "15                         16  {'n_features_to_select': 16}   \n",
       "16                         17  {'n_features_to_select': 17}   \n",
       "17                         18  {'n_features_to_select': 18}   \n",
       "18                         19  {'n_features_to_select': 19}   \n",
       "\n",
       "    split0_test_score  split1_test_score  split2_test_score  \\\n",
       "0            0.003733           0.008599           0.016468   \n",
       "1            0.003716           0.008619           0.016481   \n",
       "2            0.003715           0.008628           0.016489   \n",
       "3            0.731596           0.008037           0.016494   \n",
       "4            0.731295           0.750243           0.720554   \n",
       "5            0.731146           0.750066           0.720409   \n",
       "6            0.790715           0.822270           0.794449   \n",
       "7            0.790697           0.822254           0.794557   \n",
       "8            0.790788           0.822183           0.794615   \n",
       "9            0.812372           0.838210           0.794709   \n",
       "10           0.812397           0.838174           0.812696   \n",
       "11           0.812362           0.838182           0.812701   \n",
       "12           0.812341           0.838113           0.812699   \n",
       "13           0.812253           0.838104           0.812662   \n",
       "14           0.812254           0.838124           0.812655   \n",
       "15           0.812286           0.838139           0.812727   \n",
       "16           0.812262           0.838136           0.812749   \n",
       "17           0.812263           0.838283           0.812715   \n",
       "18           0.812255           0.838274           0.812706   \n",
       "\n",
       "    split3_test_score  ...  mean_test_score  std_test_score  rank_test_score  \\\n",
       "0           -0.000168  ...         0.007253        0.005556               19   \n",
       "1            0.719100  ...         0.151112        0.284027               17   \n",
       "2            0.718625  ...         0.151020        0.283835               18   \n",
       "3            0.718413  ...         0.296439        0.349966               16   \n",
       "4            0.768286  ...         0.736668        0.020172               14   \n",
       "5            0.768234  ...         0.736542        0.020188               15   \n",
       "6            0.768152  ...         0.792421        0.017446               13   \n",
       "7            0.768140  ...         0.796753        0.018109               12   \n",
       "8            0.795813  ...         0.802305        0.011515               11   \n",
       "9            0.795859  ...         0.809841        0.015741               10   \n",
       "10           0.795838  ...         0.813438        0.013798                7   \n",
       "11           0.795830  ...         0.813454        0.013795                5   \n",
       "12           0.795825  ...         0.813409        0.013782                8   \n",
       "13           0.795815  ...         0.813402        0.013774                9   \n",
       "14           0.796105  ...         0.813448        0.013714                6   \n",
       "15           0.796118  ...         0.813477        0.013713                3   \n",
       "16           0.796116  ...         0.813474        0.013714                4   \n",
       "17           0.796113  ...         0.813497        0.013768                1   \n",
       "18           0.796112  ...         0.813492        0.013764                2   \n",
       "\n",
       "    split0_train_score  split1_train_score  split2_train_score  \\\n",
       "0             0.010612            0.009372            0.007443   \n",
       "1             0.010626            0.009373            0.007450   \n",
       "2             0.010625            0.009373            0.007450   \n",
       "3             0.726590            0.009509            0.007511   \n",
       "4             0.726706            0.722033            0.729281   \n",
       "5             0.726916            0.722239            0.729350   \n",
       "6             0.794334            0.786372            0.793244   \n",
       "7             0.794372            0.786409            0.793318   \n",
       "8             0.794429            0.786503            0.793337   \n",
       "9             0.814929            0.808441            0.793394   \n",
       "10            0.814984            0.808509            0.814768   \n",
       "11            0.815001            0.808524            0.814768   \n",
       "12            0.815027            0.808535            0.814768   \n",
       "13            0.815056            0.808540            0.814811   \n",
       "14            0.815228            0.808569            0.814825   \n",
       "15            0.815234            0.808578            0.814867   \n",
       "16            0.815257            0.808579            0.814879   \n",
       "17            0.815263            0.808716            0.814906   \n",
       "18            0.815263            0.808719            0.814918   \n",
       "\n",
       "    split3_train_score  split4_train_score  mean_train_score  std_train_score  \n",
       "0             0.000060            0.009615          0.007421         0.003821  \n",
       "1             0.728034            0.009626          0.153022         0.287508  \n",
       "2             0.728162            0.009625          0.153047         0.287559  \n",
       "3             0.728241            0.009690          0.296308         0.351999  \n",
       "4             0.798623            0.731892          0.741707         0.028643  \n",
       "5             0.798648            0.732093          0.741849         0.028583  \n",
       "6             0.798738            0.795517          0.793641         0.004074  \n",
       "7             0.798740            0.816082          0.797784         0.009967  \n",
       "8             0.818170            0.816097          0.801707         0.012902  \n",
       "9             0.818222            0.816122          0.810222         0.009026  \n",
       "10            0.818238            0.816131          0.814526         0.003250  \n",
       "11            0.818245            0.816151          0.814538         0.003249  \n",
       "12            0.818246            0.816157          0.814547         0.003247  \n",
       "13            0.818282            0.816186          0.814575         0.003257  \n",
       "14            0.818351            0.816379          0.814670         0.003287  \n",
       "15            0.818368            0.816387          0.814687         0.003289  \n",
       "16            0.818369            0.816390          0.814695         0.003290  \n",
       "17            0.818373            0.816390          0.814730         0.003241  \n",
       "18            0.818374            0.816397          0.814734         0.003241  \n",
       "\n",
       "[19 rows x 21 columns]"
      ]
     },
     "execution_count": 28,
     "metadata": {},
     "output_type": "execute_result"
    }
   ],
   "source": [
    "# cv results\n",
    "cv_results = pd.DataFrame(model_cv.cv_results_)\n",
    "cv_results"
   ]
  },
  {
   "cell_type": "markdown",
   "metadata": {},
   "source": [
    "The performance of the gridsearch using the RFE feature selection shows that features above 4 might be too optimistic with performance as perfect scores of 1 was achieved with both train and test datasets. The graph below shows a perfectly fit model at every feature level selected. The optimal number of feature based on the r-square scores is 4. "
   ]
  },
  {
   "cell_type": "code",
   "execution_count": 29,
   "metadata": {
    "scrolled": true
   },
   "outputs": [
    {
     "data": {
      "text/plain": [
       "<matplotlib.legend.Legend at 0x7f9f8d51d390>"
      ]
     },
     "execution_count": 29,
     "metadata": {},
     "output_type": "execute_result"
    },
    {
     "data": {
      "image/png": "[encoded data removed]",
      "text/plain": [
       "<Figure size 1152x432 with 1 Axes>"
      ]
     },
     "metadata": {
      "needs_background": "light"
     },
     "output_type": "display_data"
    }
   ],
   "source": [
    "# plotting cv results\n",
    "plt.figure(figsize=(16,6))\n",
    "\n",
    "plt.plot(cv_results[\"param_n_features_to_select\"], cv_results[\"mean_test_score\"])\n",
    "plt.plot(cv_results[\"param_n_features_to_select\"], cv_results[\"mean_train_score\"])\n",
    "plt.xlabel('number of features')\n",
    "plt.ylabel('r-squared')\n",
    "plt.title(\"Optimal Number of Features\")\n",
    "plt.legend(['test score', 'train score'], loc='upper left')"
   ]
  },
  {
   "cell_type": "markdown",
   "metadata": {},
   "source": [
    "Lasso Regression for the seller dataset will be done to select the features that best impact sales on the C2C platform."
   ]
  },
  {
   "cell_type": "markdown",
   "metadata": {},
   "source": [
    "## Dummy regression for buyer's dataset"
   ]
  },
  {
   "cell_type": "code",
   "execution_count": 30,
   "metadata": {},
   "outputs": [
    {
     "name": "stdout",
     "output_type": "stream",
     "text": [
      "MAE: 0.392\n"
     ]
    }
   ],
   "source": [
    " from sklearn.dummy import DummyRegressor\n",
    "\n",
    "# feature selection\n",
    "def select_features(X_train, y_train, X_test):\n",
    "\t# configure to select a subset of features\n",
    "\tnp.seterr(divide='ignore', invalid='ignore')\n",
    "\tfs = SelectKBest(score_func=f_regression, k=10)\n",
    "\t# learn relationship from training data\n",
    "\tfs.fit(Xbuyer_train, ybuyer_train.values.ravel())\n",
    "\t# transform train input data\n",
    "\tX_train_fs = fs.transform(Xbuyer_train)\n",
    "\t# transform test input data\n",
    "\tX_test_fs = fs.transform(Xbuyer_test)\n",
    "\treturn X_train_fs, X_test_fs, fs\n",
    "\n",
    "# feature selection\n",
    "X_train_fs, X_test_fs, fs = select_features(Xbuyer_train, ybuyer_train, Xbuyer_test)\n",
    "# fit the model\n",
    "dummy_regr1 = DummyRegressor(strategy=\"mean\")\n",
    "dummy_regr1.fit(X_train_fs, ybuyer_train)\n",
    "# evaluate the model\n",
    "yhat = dummy_regr1.predict(X_test_fs)\n",
    "# evaluate predictions\n",
    "mae = mean_absolute_error(ybuyer_test,yhat)\n",
    "print('MAE: %.3f' % mae)\n",
    "\n"
   ]
  },
  {
   "cell_type": "code",
   "execution_count": 31,
   "metadata": {},
   "outputs": [
    {
     "data": {
      "text/plain": [
       "0.0"
      ]
     },
     "execution_count": 31,
     "metadata": {},
     "output_type": "execute_result"
    }
   ],
   "source": [
    "dummy_regr1.score(X_train_fs, ybuyer_train)"
   ]
  },
  {
   "cell_type": "code",
   "execution_count": 32,
   "metadata": {},
   "outputs": [
    {
     "data": {
      "text/plain": [
       "-4.911952073727299e-05"
      ]
     },
     "execution_count": 32,
     "metadata": {},
     "output_type": "execute_result"
    }
   ],
   "source": [
    "dummy_regr1.score(X_test_fs,ybuyer_test)"
   ]
  },
  {
   "cell_type": "markdown",
   "metadata": {},
   "source": [
    "The scores above serve as the baseline scores for the models to be used for the buyer dataset."
   ]
  },
  {
   "cell_type": "markdown",
   "metadata": {},
   "source": [
    "### Multiple Linear Regression for buyers"
   ]
  },
  {
   "cell_type": "code",
   "execution_count": 33,
   "metadata": {},
   "outputs": [
    {
     "name": "stdout",
     "output_type": "stream",
     "text": [
      "MAE: 0.321\n"
     ]
    }
   ],
   "source": [
    "\n",
    "from sklearn.linear_model import LinearRegression\n",
    "from sklearn.metrics import mean_absolute_error\n",
    "\n",
    "# feature selection\n",
    "def select_features(X_train, y_train, X_test):\n",
    "\t# configure to select a subset of features\n",
    "\tnp.seterr(divide='ignore', invalid='ignore')\n",
    "\tfs = SelectKBest(score_func=f_regression, k=100)\n",
    "\t# learn relationship from training data\n",
    "\tfs.fit(Xbuyer_train, ybuyer_train.values.ravel())\n",
    "\tcols = fs.get_support(indices=True)\n",
    "    # transform train input data\n",
    "\tX_train_fs = fs.transform(Xbuyer_train)\n",
    "\tX_train_fs = Xbuyer_train.iloc[:,cols]\n",
    "    # transform test input data\n",
    "\tX_test_fs = fs.transform(Xbuyer_test)\n",
    "\tX_test_fs = Xbuyer_test.iloc[:,cols]\n",
    "\treturn X_train_fs, X_test_fs, fs\n",
    "\n",
    "\n",
    "# feature selection\n",
    "X_train_fs, X_test_fs, fs = select_features(Xbuyer_train, ybuyer_train, Xbuyer_test)\n",
    "# fit the model\n",
    "model1 = LinearRegression()\n",
    "model1.fit(X_train_fs, ybuyer_train)\n",
    "# evaluate the model\n",
    "yhatb = model1.predict(X_test_fs)\n",
    "# evaluate predictions\n",
    "mae = mean_absolute_error(ybuyer_test,yhatb)\n",
    "print('MAE: %.3f' % mae)"
   ]
  },
  {
   "cell_type": "code",
   "execution_count": 34,
   "metadata": {},
   "outputs": [
    {
     "data": {
      "text/plain": [
       "0.34451892209870283"
      ]
     },
     "execution_count": 34,
     "metadata": {},
     "output_type": "execute_result"
    }
   ],
   "source": [
    "explained_variance_score(ybuyer_test,yhatb)"
   ]
  },
  {
   "cell_type": "code",
   "execution_count": 35,
   "metadata": {
    "scrolled": true
   },
   "outputs": [
    {
     "data": {
      "text/plain": [
       "0.32421248139133463"
      ]
     },
     "execution_count": 35,
     "metadata": {},
     "output_type": "execute_result"
    }
   ],
   "source": [
    "model1.score(X_train_fs, ybuyer_train)"
   ]
  },
  {
   "cell_type": "code",
   "execution_count": 36,
   "metadata": {},
   "outputs": [
    {
     "data": {
      "text/plain": [
       "0.34451882193710365"
      ]
     },
     "execution_count": 36,
     "metadata": {},
     "output_type": "execute_result"
    }
   ],
   "source": [
    "model1.score(X_test_fs,ybuyer_test)"
   ]
  },
  {
   "cell_type": "markdown",
   "metadata": {},
   "source": [
    "The linear regression performed better than the baseline model. Out of the 224 features in the buyer dataset, to best 100 were selected for the model."
   ]
  },
  {
   "cell_type": "code",
   "execution_count": 37,
   "metadata": {
    "scrolled": false
   },
   "outputs": [
    {
     "data": {
      "text/html": [
       "<div>\n",
       "<style scoped>\n",
       "    .dataframe tbody tr th:only-of-type {\n",
       "        vertical-align: middle;\n",
       "    }\n",
       "\n",
       "    .dataframe tbody tr th {\n",
       "        vertical-align: top;\n",
       "    }\n",
       "\n",
       "    .dataframe thead th {\n",
       "        text-align: right;\n",
       "    }\n",
       "</style>\n",
       "<table border=\"1\" class=\"dataframe\">\n",
       "  <thead>\n",
       "    <tr style=\"text-align: right;\">\n",
       "      <th></th>\n",
       "      <th>Coefficient</th>\n",
       "    </tr>\n",
       "  </thead>\n",
       "  <tbody>\n",
       "    <tr>\n",
       "      <td>lang_it</td>\n",
       "      <td>9.924039e+11</td>\n",
       "    </tr>\n",
       "    <tr>\n",
       "      <td>lang_de</td>\n",
       "      <td>9.924039e+11</td>\n",
       "    </tr>\n",
       "    <tr>\n",
       "      <td>lang_en</td>\n",
       "      <td>9.924039e+11</td>\n",
       "    </tr>\n",
       "    <tr>\n",
       "      <td>lang_es</td>\n",
       "      <td>9.924039e+11</td>\n",
       "    </tr>\n",
       "    <tr>\n",
       "      <td>lang_fr</td>\n",
       "      <td>9.924039e+11</td>\n",
       "    </tr>\n",
       "    <tr>\n",
       "      <td>civilityGenderId</td>\n",
       "      <td>3.284550e+11</td>\n",
       "    </tr>\n",
       "    <tr>\n",
       "      <td>civilityTitle_mr</td>\n",
       "      <td>3.183609e+11</td>\n",
       "    </tr>\n",
       "    <tr>\n",
       "      <td>gender_M</td>\n",
       "      <td>2.929778e+11</td>\n",
       "    </tr>\n",
       "    <tr>\n",
       "      <td>civilityTitle_mrs</td>\n",
       "      <td>1.888200e+11</td>\n",
       "    </tr>\n",
       "    <tr>\n",
       "      <td>civilityTitle_miss</td>\n",
       "      <td>1.396350e+11</td>\n",
       "    </tr>\n",
       "    <tr>\n",
       "      <td>gender_F</td>\n",
       "      <td>9.406360e+10</td>\n",
       "    </tr>\n",
       "    <tr>\n",
       "      <td>country_Slovénie</td>\n",
       "      <td>4.566024e-01</td>\n",
       "    </tr>\n",
       "    <tr>\n",
       "      <td>country_Macau</td>\n",
       "      <td>4.490963e-01</td>\n",
       "    </tr>\n",
       "    <tr>\n",
       "      <td>hasAnyApp</td>\n",
       "      <td>4.473877e-01</td>\n",
       "    </tr>\n",
       "    <tr>\n",
       "      <td>country_Chypre</td>\n",
       "      <td>4.466540e-01</td>\n",
       "    </tr>\n",
       "    <tr>\n",
       "      <td>hasAndroidApp</td>\n",
       "      <td>4.204979e-01</td>\n",
       "    </tr>\n",
       "    <tr>\n",
       "      <td>country_Luxembourg</td>\n",
       "      <td>3.945788e-01</td>\n",
       "    </tr>\n",
       "    <tr>\n",
       "      <td>hasIosApp</td>\n",
       "      <td>3.556671e-01</td>\n",
       "    </tr>\n",
       "    <tr>\n",
       "      <td>country_Lettonie</td>\n",
       "      <td>3.257750e-01</td>\n",
       "    </tr>\n",
       "    <tr>\n",
       "      <td>country_Hongrie</td>\n",
       "      <td>2.884219e-01</td>\n",
       "    </tr>\n",
       "  </tbody>\n",
       "</table>\n",
       "</div>"
      ],
      "text/plain": [
       "                     Coefficient\n",
       "lang_it             9.924039e+11\n",
       "lang_de             9.924039e+11\n",
       "lang_en             9.924039e+11\n",
       "lang_es             9.924039e+11\n",
       "lang_fr             9.924039e+11\n",
       "civilityGenderId    3.284550e+11\n",
       "civilityTitle_mr    3.183609e+11\n",
       "gender_M            2.929778e+11\n",
       "civilityTitle_mrs   1.888200e+11\n",
       "civilityTitle_miss  1.396350e+11\n",
       "gender_F            9.406360e+10\n",
       "country_Slovénie    4.566024e-01\n",
       "country_Macau       4.490963e-01\n",
       "hasAnyApp           4.473877e-01\n",
       "country_Chypre      4.466540e-01\n",
       "hasAndroidApp       4.204979e-01\n",
       "country_Luxembourg  3.945788e-01\n",
       "hasIosApp           3.556671e-01\n",
       "country_Lettonie    3.257750e-01\n",
       "country_Hongrie     2.884219e-01"
      ]
     },
     "execution_count": 37,
     "metadata": {},
     "output_type": "execute_result"
    }
   ],
   "source": [
    "pd.DataFrame(abs(model1.coef_).T, X_train_fs.columns, columns=['Coefficient']).sort_values(by='Coefficient', ascending= False).head(20)"
   ]
  },
  {
   "cell_type": "markdown",
   "metadata": {},
   "source": [
    "Languages topped important features' raking with respect to determining the features that influnce buyers most on the platform. Other high ranking features are gender, and type of mobile operating system. However, judging by the score of these top ranking features, the coefficient scores came out spurious. These scores cannot be possible as the underlying distribution cannot support the figures generated by the model. As a result, cross validation will be done on the linear model"
   ]
  },
  {
   "cell_type": "code",
   "execution_count": 38,
   "metadata": {},
   "outputs": [
    {
     "data": {
      "text/plain": [
       "array([0.33143564, 0.32234828, 0.30458667, 0.32738389, 0.31916393])"
      ]
     },
     "execution_count": 38,
     "metadata": {},
     "output_type": "execute_result"
    }
   ],
   "source": [
    "from sklearn.model_selection import RepeatedKFold\n",
    "from sklearn.model_selection import cross_val_score\n",
    "from scipy.stats import sem\n",
    "from sklearn.model_selection import KFold\n",
    "from sklearn.model_selection import GridSearchCV\n",
    "from matplotlib import pyplot\n",
    "\n",
    "lm = LinearRegression()\n",
    "# create a KFold object with 5 splits \n",
    "folds = KFold(n_splits = 5, shuffle = True, random_state = 100)\n",
    "scores = cross_val_score(lm, X_train_fs, ybuyer_train, scoring='r2', cv=folds)\n",
    "scores "
   ]
  },
  {
   "cell_type": "markdown",
   "metadata": {},
   "source": [
    "The scores above are very similar to the scores generated from the linear regression above. To further confirm the suitability of the linear regression model for the dataframe, gridsearchcv will be done to view performance of the model with respect to different number of features"
   ]
  },
  {
   "cell_type": "code",
   "execution_count": 39,
   "metadata": {
    "scrolled": true
   },
   "outputs": [
    {
     "name": "stdout",
     "output_type": "stream",
     "text": [
      "Fitting 5 folds for each of 20 candidates, totalling 100 fits\n"
     ]
    },
    {
     "name": "stderr",
     "output_type": "stream",
     "text": [
      "[Parallel(n_jobs=1)]: Using backend SequentialBackend with 1 concurrent workers.\n",
      "[Parallel(n_jobs=1)]: Done 100 out of 100 | elapsed: 11.2min finished\n"
     ]
    },
    {
     "data": {
      "text/plain": [
       "GridSearchCV(cv=KFold(n_splits=5, random_state=100, shuffle=True),\n",
       "             error_score='raise-deprecating',\n",
       "             estimator=RFE(estimator=LinearRegression(copy_X=True,\n",
       "                                                      fit_intercept=True,\n",
       "                                                      n_jobs=None,\n",
       "                                                      normalize=False),\n",
       "                           n_features_to_select=None, step=1, verbose=0),\n",
       "             iid='warn', n_jobs=None,\n",
       "             param_grid=[{'n_features_to_select': [1, 2, 3, 4, 5, 6, 7, 8, 9,\n",
       "                                                   10, 11, 12, 13, 14, 15, 16,\n",
       "                                                   17, 18, 19, 20]}],\n",
       "             pre_dispatch='2*n_jobs', refit=True, return_train_score=True,\n",
       "             scoring='r2', verbose=1)"
      ]
     },
     "execution_count": 39,
     "metadata": {},
     "output_type": "execute_result"
    }
   ],
   "source": [
    "from sklearn.feature_selection import RFE\n",
    "# step-1: create a cross-validation scheme\n",
    "folds = KFold(n_splits = 5, shuffle = True, random_state = 100)\n",
    "\n",
    "# step-2: specify range of hyperparameters to tune\n",
    "hyper_params = [{'n_features_to_select': list(range(1, 21))}]\n",
    "\n",
    "\n",
    "# step-3: perform grid search\n",
    "# 3.1 specify model\n",
    "lm = LinearRegression()\n",
    "lm.fit(X_train_fs, ybuyer_train.values.ravel())\n",
    "rfe = RFE(lm)             \n",
    "\n",
    "# 3.2 call GridSearchCV()\n",
    "model_cv = GridSearchCV(estimator = rfe, \n",
    "                        param_grid = hyper_params, \n",
    "                        scoring= 'r2', \n",
    "                        cv = folds, \n",
    "                        verbose = 1,\n",
    "                        return_train_score=True)      \n",
    "\n",
    "# fit the model\n",
    "model_cv.fit(X_train_fs, ybuyer_train.values.ravel())  "
   ]
  },
  {
   "cell_type": "code",
   "execution_count": 40,
   "metadata": {
    "scrolled": true
   },
   "outputs": [
    {
     "data": {
      "text/html": [
       "<div>\n",
       "<style scoped>\n",
       "    .dataframe tbody tr th:only-of-type {\n",
       "        vertical-align: middle;\n",
       "    }\n",
       "\n",
       "    .dataframe tbody tr th {\n",
       "        vertical-align: top;\n",
       "    }\n",
       "\n",
       "    .dataframe thead th {\n",
       "        text-align: right;\n",
       "    }\n",
       "</style>\n",
       "<table border=\"1\" class=\"dataframe\">\n",
       "  <thead>\n",
       "    <tr style=\"text-align: right;\">\n",
       "      <th></th>\n",
       "      <th>mean_fit_time</th>\n",
       "      <th>std_fit_time</th>\n",
       "      <th>mean_score_time</th>\n",
       "      <th>std_score_time</th>\n",
       "      <th>param_n_features_to_select</th>\n",
       "      <th>params</th>\n",
       "      <th>split0_test_score</th>\n",
       "      <th>split1_test_score</th>\n",
       "      <th>split2_test_score</th>\n",
       "      <th>split3_test_score</th>\n",
       "      <th>...</th>\n",
       "      <th>mean_test_score</th>\n",
       "      <th>std_test_score</th>\n",
       "      <th>rank_test_score</th>\n",
       "      <th>split0_train_score</th>\n",
       "      <th>split1_train_score</th>\n",
       "      <th>split2_train_score</th>\n",
       "      <th>split3_train_score</th>\n",
       "      <th>split4_train_score</th>\n",
       "      <th>mean_train_score</th>\n",
       "      <th>std_train_score</th>\n",
       "    </tr>\n",
       "  </thead>\n",
       "  <tbody>\n",
       "    <tr>\n",
       "      <td>0</td>\n",
       "      <td>6.855041</td>\n",
       "      <td>0.070797</td>\n",
       "      <td>0.011387</td>\n",
       "      <td>0.000975</td>\n",
       "      <td>1</td>\n",
       "      <td>{'n_features_to_select': 1}</td>\n",
       "      <td>0.000594</td>\n",
       "      <td>0.000735</td>\n",
       "      <td>-0.000073</td>\n",
       "      <td>0.000948</td>\n",
       "      <td>...</td>\n",
       "      <td>0.000536</td>\n",
       "      <td>0.000343</td>\n",
       "      <td>20</td>\n",
       "      <td>0.000427</td>\n",
       "      <td>0.000704</td>\n",
       "      <td>0.000388</td>\n",
       "      <td>0.000647</td>\n",
       "      <td>0.000253</td>\n",
       "      <td>0.000484</td>\n",
       "      <td>0.000168</td>\n",
       "    </tr>\n",
       "    <tr>\n",
       "      <td>1</td>\n",
       "      <td>6.734499</td>\n",
       "      <td>0.113150</td>\n",
       "      <td>0.006425</td>\n",
       "      <td>0.000211</td>\n",
       "      <td>2</td>\n",
       "      <td>{'n_features_to_select': 2}</td>\n",
       "      <td>0.000987</td>\n",
       "      <td>0.001315</td>\n",
       "      <td>0.001064</td>\n",
       "      <td>0.000973</td>\n",
       "      <td>...</td>\n",
       "      <td>0.000982</td>\n",
       "      <td>0.000239</td>\n",
       "      <td>18</td>\n",
       "      <td>0.001056</td>\n",
       "      <td>0.000970</td>\n",
       "      <td>0.001028</td>\n",
       "      <td>0.001056</td>\n",
       "      <td>0.001151</td>\n",
       "      <td>0.001052</td>\n",
       "      <td>0.000059</td>\n",
       "    </tr>\n",
       "    <tr>\n",
       "      <td>2</td>\n",
       "      <td>6.842295</td>\n",
       "      <td>0.167401</td>\n",
       "      <td>0.007307</td>\n",
       "      <td>0.000750</td>\n",
       "      <td>3</td>\n",
       "      <td>{'n_features_to_select': 3}</td>\n",
       "      <td>0.000978</td>\n",
       "      <td>0.001333</td>\n",
       "      <td>0.000795</td>\n",
       "      <td>0.000670</td>\n",
       "      <td>...</td>\n",
       "      <td>0.000885</td>\n",
       "      <td>0.000253</td>\n",
       "      <td>19</td>\n",
       "      <td>0.000969</td>\n",
       "      <td>0.000969</td>\n",
       "      <td>0.000979</td>\n",
       "      <td>0.000956</td>\n",
       "      <td>0.001066</td>\n",
       "      <td>0.000988</td>\n",
       "      <td>0.000040</td>\n",
       "    </tr>\n",
       "    <tr>\n",
       "      <td>3</td>\n",
       "      <td>6.754636</td>\n",
       "      <td>0.074212</td>\n",
       "      <td>0.008024</td>\n",
       "      <td>0.000835</td>\n",
       "      <td>4</td>\n",
       "      <td>{'n_features_to_select': 4}</td>\n",
       "      <td>0.000977</td>\n",
       "      <td>0.002058</td>\n",
       "      <td>0.000745</td>\n",
       "      <td>0.000692</td>\n",
       "      <td>...</td>\n",
       "      <td>0.001024</td>\n",
       "      <td>0.000530</td>\n",
       "      <td>17</td>\n",
       "      <td>0.000968</td>\n",
       "      <td>0.002189</td>\n",
       "      <td>0.000938</td>\n",
       "      <td>0.000967</td>\n",
       "      <td>0.001062</td>\n",
       "      <td>0.001225</td>\n",
       "      <td>0.000484</td>\n",
       "    </tr>\n",
       "    <tr>\n",
       "      <td>4</td>\n",
       "      <td>6.702811</td>\n",
       "      <td>0.076136</td>\n",
       "      <td>0.008749</td>\n",
       "      <td>0.000956</td>\n",
       "      <td>5</td>\n",
       "      <td>{'n_features_to_select': 5}</td>\n",
       "      <td>0.000977</td>\n",
       "      <td>0.002212</td>\n",
       "      <td>0.000903</td>\n",
       "      <td>0.000691</td>\n",
       "      <td>...</td>\n",
       "      <td>0.001086</td>\n",
       "      <td>0.000577</td>\n",
       "      <td>15</td>\n",
       "      <td>0.000968</td>\n",
       "      <td>0.002390</td>\n",
       "      <td>0.001050</td>\n",
       "      <td>0.000967</td>\n",
       "      <td>0.001066</td>\n",
       "      <td>0.001288</td>\n",
       "      <td>0.000553</td>\n",
       "    </tr>\n",
       "    <tr>\n",
       "      <td>5</td>\n",
       "      <td>6.678699</td>\n",
       "      <td>0.065486</td>\n",
       "      <td>0.009366</td>\n",
       "      <td>0.000958</td>\n",
       "      <td>6</td>\n",
       "      <td>{'n_features_to_select': 6}</td>\n",
       "      <td>0.000977</td>\n",
       "      <td>0.002194</td>\n",
       "      <td>0.000821</td>\n",
       "      <td>0.000695</td>\n",
       "      <td>...</td>\n",
       "      <td>0.001064</td>\n",
       "      <td>0.000577</td>\n",
       "      <td>16</td>\n",
       "      <td>0.000968</td>\n",
       "      <td>0.002406</td>\n",
       "      <td>0.001146</td>\n",
       "      <td>0.000968</td>\n",
       "      <td>0.001059</td>\n",
       "      <td>0.001309</td>\n",
       "      <td>0.000552</td>\n",
       "    </tr>\n",
       "    <tr>\n",
       "      <td>6</td>\n",
       "      <td>6.725625</td>\n",
       "      <td>0.053206</td>\n",
       "      <td>0.010291</td>\n",
       "      <td>0.001709</td>\n",
       "      <td>7</td>\n",
       "      <td>{'n_features_to_select': 7}</td>\n",
       "      <td>0.002910</td>\n",
       "      <td>0.002201</td>\n",
       "      <td>0.001139</td>\n",
       "      <td>0.000751</td>\n",
       "      <td>...</td>\n",
       "      <td>0.001685</td>\n",
       "      <td>0.000775</td>\n",
       "      <td>14</td>\n",
       "      <td>0.001883</td>\n",
       "      <td>0.002420</td>\n",
       "      <td>0.001426</td>\n",
       "      <td>0.001104</td>\n",
       "      <td>0.002261</td>\n",
       "      <td>0.001819</td>\n",
       "      <td>0.000495</td>\n",
       "    </tr>\n",
       "    <tr>\n",
       "      <td>7</td>\n",
       "      <td>6.758761</td>\n",
       "      <td>0.089487</td>\n",
       "      <td>0.009008</td>\n",
       "      <td>0.000040</td>\n",
       "      <td>8</td>\n",
       "      <td>{'n_features_to_select': 8}</td>\n",
       "      <td>0.003083</td>\n",
       "      <td>0.002199</td>\n",
       "      <td>0.002287</td>\n",
       "      <td>0.000809</td>\n",
       "      <td>...</td>\n",
       "      <td>0.002019</td>\n",
       "      <td>0.000747</td>\n",
       "      <td>13</td>\n",
       "      <td>0.002080</td>\n",
       "      <td>0.002418</td>\n",
       "      <td>0.002208</td>\n",
       "      <td>0.001162</td>\n",
       "      <td>0.002424</td>\n",
       "      <td>0.002059</td>\n",
       "      <td>0.000467</td>\n",
       "    </tr>\n",
       "    <tr>\n",
       "      <td>8</td>\n",
       "      <td>6.703760</td>\n",
       "      <td>0.081229</td>\n",
       "      <td>0.009095</td>\n",
       "      <td>0.000155</td>\n",
       "      <td>9</td>\n",
       "      <td>{'n_features_to_select': 9}</td>\n",
       "      <td>0.003033</td>\n",
       "      <td>0.002201</td>\n",
       "      <td>0.002286</td>\n",
       "      <td>0.001097</td>\n",
       "      <td>...</td>\n",
       "      <td>0.002068</td>\n",
       "      <td>0.000642</td>\n",
       "      <td>12</td>\n",
       "      <td>0.002087</td>\n",
       "      <td>0.002418</td>\n",
       "      <td>0.002210</td>\n",
       "      <td>0.001468</td>\n",
       "      <td>0.002441</td>\n",
       "      <td>0.002125</td>\n",
       "      <td>0.000354</td>\n",
       "    </tr>\n",
       "    <tr>\n",
       "      <td>9</td>\n",
       "      <td>6.746815</td>\n",
       "      <td>0.134029</td>\n",
       "      <td>0.009104</td>\n",
       "      <td>0.000121</td>\n",
       "      <td>10</td>\n",
       "      <td>{'n_features_to_select': 10}</td>\n",
       "      <td>0.003096</td>\n",
       "      <td>0.002199</td>\n",
       "      <td>0.002291</td>\n",
       "      <td>0.001515</td>\n",
       "      <td>...</td>\n",
       "      <td>0.002163</td>\n",
       "      <td>0.000550</td>\n",
       "      <td>10</td>\n",
       "      <td>0.002096</td>\n",
       "      <td>0.002420</td>\n",
       "      <td>0.002209</td>\n",
       "      <td>0.002427</td>\n",
       "      <td>0.002458</td>\n",
       "      <td>0.002322</td>\n",
       "      <td>0.000144</td>\n",
       "    </tr>\n",
       "    <tr>\n",
       "      <td>10</td>\n",
       "      <td>6.745280</td>\n",
       "      <td>0.090219</td>\n",
       "      <td>0.009067</td>\n",
       "      <td>0.000096</td>\n",
       "      <td>11</td>\n",
       "      <td>{'n_features_to_select': 11}</td>\n",
       "      <td>0.003086</td>\n",
       "      <td>0.002195</td>\n",
       "      <td>0.002289</td>\n",
       "      <td>0.001503</td>\n",
       "      <td>...</td>\n",
       "      <td>0.002156</td>\n",
       "      <td>0.000550</td>\n",
       "      <td>11</td>\n",
       "      <td>0.002096</td>\n",
       "      <td>0.002419</td>\n",
       "      <td>0.002208</td>\n",
       "      <td>0.002421</td>\n",
       "      <td>0.002449</td>\n",
       "      <td>0.002319</td>\n",
       "      <td>0.000141</td>\n",
       "    </tr>\n",
       "    <tr>\n",
       "      <td>11</td>\n",
       "      <td>6.834539</td>\n",
       "      <td>0.328741</td>\n",
       "      <td>0.008723</td>\n",
       "      <td>0.001903</td>\n",
       "      <td>12</td>\n",
       "      <td>{'n_features_to_select': 12}</td>\n",
       "      <td>0.001781</td>\n",
       "      <td>0.004278</td>\n",
       "      <td>0.003969</td>\n",
       "      <td>0.003879</td>\n",
       "      <td>...</td>\n",
       "      <td>0.003049</td>\n",
       "      <td>0.001232</td>\n",
       "      <td>9</td>\n",
       "      <td>0.002475</td>\n",
       "      <td>0.004255</td>\n",
       "      <td>0.004171</td>\n",
       "      <td>0.004223</td>\n",
       "      <td>0.002726</td>\n",
       "      <td>0.003570</td>\n",
       "      <td>0.000796</td>\n",
       "    </tr>\n",
       "    <tr>\n",
       "      <td>12</td>\n",
       "      <td>6.724206</td>\n",
       "      <td>0.107586</td>\n",
       "      <td>0.009180</td>\n",
       "      <td>0.000764</td>\n",
       "      <td>13</td>\n",
       "      <td>{'n_features_to_select': 13}</td>\n",
       "      <td>0.001535</td>\n",
       "      <td>0.009690</td>\n",
       "      <td>0.012256</td>\n",
       "      <td>0.012016</td>\n",
       "      <td>...</td>\n",
       "      <td>0.007112</td>\n",
       "      <td>0.005253</td>\n",
       "      <td>8</td>\n",
       "      <td>0.004845</td>\n",
       "      <td>0.012963</td>\n",
       "      <td>0.012135</td>\n",
       "      <td>0.012227</td>\n",
       "      <td>0.003123</td>\n",
       "      <td>0.009059</td>\n",
       "      <td>0.004189</td>\n",
       "    </tr>\n",
       "    <tr>\n",
       "      <td>13</td>\n",
       "      <td>6.655864</td>\n",
       "      <td>0.114296</td>\n",
       "      <td>0.008870</td>\n",
       "      <td>0.000053</td>\n",
       "      <td>14</td>\n",
       "      <td>{'n_features_to_select': 14}</td>\n",
       "      <td>0.010184</td>\n",
       "      <td>0.011407</td>\n",
       "      <td>0.011743</td>\n",
       "      <td>0.013464</td>\n",
       "      <td>...</td>\n",
       "      <td>0.009268</td>\n",
       "      <td>0.004975</td>\n",
       "      <td>7</td>\n",
       "      <td>0.012722</td>\n",
       "      <td>0.015471</td>\n",
       "      <td>0.015170</td>\n",
       "      <td>0.014791</td>\n",
       "      <td>0.003735</td>\n",
       "      <td>0.012378</td>\n",
       "      <td>0.004427</td>\n",
       "    </tr>\n",
       "    <tr>\n",
       "      <td>14</td>\n",
       "      <td>6.655547</td>\n",
       "      <td>0.120135</td>\n",
       "      <td>0.008910</td>\n",
       "      <td>0.000175</td>\n",
       "      <td>15</td>\n",
       "      <td>{'n_features_to_select': 15}</td>\n",
       "      <td>0.008797</td>\n",
       "      <td>0.011403</td>\n",
       "      <td>0.011716</td>\n",
       "      <td>0.012681</td>\n",
       "      <td>...</td>\n",
       "      <td>0.054436</td>\n",
       "      <td>0.086586</td>\n",
       "      <td>5</td>\n",
       "      <td>0.015863</td>\n",
       "      <td>0.015653</td>\n",
       "      <td>0.015358</td>\n",
       "      <td>0.015214</td>\n",
       "      <td>0.231301</td>\n",
       "      <td>0.058678</td>\n",
       "      <td>0.086312</td>\n",
       "    </tr>\n",
       "    <tr>\n",
       "      <td>15</td>\n",
       "      <td>6.680505</td>\n",
       "      <td>0.162825</td>\n",
       "      <td>0.009176</td>\n",
       "      <td>0.000090</td>\n",
       "      <td>16</td>\n",
       "      <td>{'n_features_to_select': 16}</td>\n",
       "      <td>0.007939</td>\n",
       "      <td>0.010853</td>\n",
       "      <td>0.011435</td>\n",
       "      <td>0.012486</td>\n",
       "      <td>...</td>\n",
       "      <td>0.054052</td>\n",
       "      <td>0.086763</td>\n",
       "      <td>6</td>\n",
       "      <td>0.016456</td>\n",
       "      <td>0.016049</td>\n",
       "      <td>0.015595</td>\n",
       "      <td>0.015424</td>\n",
       "      <td>0.231332</td>\n",
       "      <td>0.058971</td>\n",
       "      <td>0.086181</td>\n",
       "    </tr>\n",
       "    <tr>\n",
       "      <td>16</td>\n",
       "      <td>6.621314</td>\n",
       "      <td>0.094254</td>\n",
       "      <td>0.009263</td>\n",
       "      <td>0.000059</td>\n",
       "      <td>17</td>\n",
       "      <td>{'n_features_to_select': 17}</td>\n",
       "      <td>0.238747</td>\n",
       "      <td>0.244133</td>\n",
       "      <td>0.011217</td>\n",
       "      <td>0.241335</td>\n",
       "      <td>...</td>\n",
       "      <td>0.192597</td>\n",
       "      <td>0.090866</td>\n",
       "      <td>4</td>\n",
       "      <td>0.230942</td>\n",
       "      <td>0.229291</td>\n",
       "      <td>0.016102</td>\n",
       "      <td>0.230174</td>\n",
       "      <td>0.231370</td>\n",
       "      <td>0.187576</td>\n",
       "      <td>0.085740</td>\n",
       "    </tr>\n",
       "    <tr>\n",
       "      <td>17</td>\n",
       "      <td>6.559187</td>\n",
       "      <td>0.060254</td>\n",
       "      <td>0.009857</td>\n",
       "      <td>0.001167</td>\n",
       "      <td>18</td>\n",
       "      <td>{'n_features_to_select': 18}</td>\n",
       "      <td>0.238833</td>\n",
       "      <td>0.244085</td>\n",
       "      <td>0.199990</td>\n",
       "      <td>0.241284</td>\n",
       "      <td>...</td>\n",
       "      <td>0.230341</td>\n",
       "      <td>0.016186</td>\n",
       "      <td>3</td>\n",
       "      <td>0.231020</td>\n",
       "      <td>0.229325</td>\n",
       "      <td>0.240856</td>\n",
       "      <td>0.230208</td>\n",
       "      <td>0.231383</td>\n",
       "      <td>0.232558</td>\n",
       "      <td>0.004209</td>\n",
       "    </tr>\n",
       "    <tr>\n",
       "      <td>18</td>\n",
       "      <td>6.581761</td>\n",
       "      <td>0.079949</td>\n",
       "      <td>0.009843</td>\n",
       "      <td>0.000887</td>\n",
       "      <td>19</td>\n",
       "      <td>{'n_features_to_select': 19}</td>\n",
       "      <td>0.239023</td>\n",
       "      <td>0.244597</td>\n",
       "      <td>0.199936</td>\n",
       "      <td>0.241241</td>\n",
       "      <td>...</td>\n",
       "      <td>0.230468</td>\n",
       "      <td>0.016307</td>\n",
       "      <td>2</td>\n",
       "      <td>0.231052</td>\n",
       "      <td>0.229457</td>\n",
       "      <td>0.240890</td>\n",
       "      <td>0.230245</td>\n",
       "      <td>0.231391</td>\n",
       "      <td>0.232607</td>\n",
       "      <td>0.004195</td>\n",
       "    </tr>\n",
       "    <tr>\n",
       "      <td>19</td>\n",
       "      <td>6.544887</td>\n",
       "      <td>0.126499</td>\n",
       "      <td>0.009246</td>\n",
       "      <td>0.000127</td>\n",
       "      <td>20</td>\n",
       "      <td>{'n_features_to_select': 20}</td>\n",
       "      <td>0.238660</td>\n",
       "      <td>0.244599</td>\n",
       "      <td>0.199920</td>\n",
       "      <td>0.241214</td>\n",
       "      <td>...</td>\n",
       "      <td>0.239872</td>\n",
       "      <td>0.023890</td>\n",
       "      <td>1</td>\n",
       "      <td>0.231201</td>\n",
       "      <td>0.229470</td>\n",
       "      <td>0.240908</td>\n",
       "      <td>0.230288</td>\n",
       "      <td>0.285196</td>\n",
       "      <td>0.243413</td>\n",
       "      <td>0.021297</td>\n",
       "    </tr>\n",
       "  </tbody>\n",
       "</table>\n",
       "<p>20 rows × 21 columns</p>\n",
       "</div>"
      ],
      "text/plain": [
       "    mean_fit_time  std_fit_time  mean_score_time  std_score_time  \\\n",
       "0        6.855041      0.070797         0.011387        0.000975   \n",
       "1        6.734499      0.113150         0.006425        0.000211   \n",
       "2        6.842295      0.167401         0.007307        0.000750   \n",
       "3        6.754636      0.074212         0.008024        0.000835   \n",
       "4        6.702811      0.076136         0.008749        0.000956   \n",
       "5        6.678699      0.065486         0.009366        0.000958   \n",
       "6        6.725625      0.053206         0.010291        0.001709   \n",
       "7        6.758761      0.089487         0.009008        0.000040   \n",
       "8        6.703760      0.081229         0.009095        0.000155   \n",
       "9        6.746815      0.134029         0.009104        0.000121   \n",
       "10       6.745280      0.090219         0.009067        0.000096   \n",
       "11       6.834539      0.328741         0.008723        0.001903   \n",
       "12       6.724206      0.107586         0.009180        0.000764   \n",
       "13       6.655864      0.114296         0.008870        0.000053   \n",
       "14       6.655547      0.120135         0.008910        0.000175   \n",
       "15       6.680505      0.162825         0.009176        0.000090   \n",
       "16       6.621314      0.094254         0.009263        0.000059   \n",
       "17       6.559187      0.060254         0.009857        0.001167   \n",
       "18       6.581761      0.079949         0.009843        0.000887   \n",
       "19       6.544887      0.126499         0.009246        0.000127   \n",
       "\n",
       "   param_n_features_to_select                        params  \\\n",
       "0                           1   {'n_features_to_select': 1}   \n",
       "1                           2   {'n_features_to_select': 2}   \n",
       "2                           3   {'n_features_to_select': 3}   \n",
       "3                           4   {'n_features_to_select': 4}   \n",
       "4                           5   {'n_features_to_select': 5}   \n",
       "5                           6   {'n_features_to_select': 6}   \n",
       "6                           7   {'n_features_to_select': 7}   \n",
       "7                           8   {'n_features_to_select': 8}   \n",
       "8                           9   {'n_features_to_select': 9}   \n",
       "9                          10  {'n_features_to_select': 10}   \n",
       "10                         11  {'n_features_to_select': 11}   \n",
       "11                         12  {'n_features_to_select': 12}   \n",
       "12                         13  {'n_features_to_select': 13}   \n",
       "13                         14  {'n_features_to_select': 14}   \n",
       "14                         15  {'n_features_to_select': 15}   \n",
       "15                         16  {'n_features_to_select': 16}   \n",
       "16                         17  {'n_features_to_select': 17}   \n",
       "17                         18  {'n_features_to_select': 18}   \n",
       "18                         19  {'n_features_to_select': 19}   \n",
       "19                         20  {'n_features_to_select': 20}   \n",
       "\n",
       "    split0_test_score  split1_test_score  split2_test_score  \\\n",
       "0            0.000594           0.000735          -0.000073   \n",
       "1            0.000987           0.001315           0.001064   \n",
       "2            0.000978           0.001333           0.000795   \n",
       "3            0.000977           0.002058           0.000745   \n",
       "4            0.000977           0.002212           0.000903   \n",
       "5            0.000977           0.002194           0.000821   \n",
       "6            0.002910           0.002201           0.001139   \n",
       "7            0.003083           0.002199           0.002287   \n",
       "8            0.003033           0.002201           0.002286   \n",
       "9            0.003096           0.002199           0.002291   \n",
       "10           0.003086           0.002195           0.002289   \n",
       "11           0.001781           0.004278           0.003969   \n",
       "12           0.001535           0.009690           0.012256   \n",
       "13           0.010184           0.011407           0.011743   \n",
       "14           0.008797           0.011403           0.011716   \n",
       "15           0.007939           0.010853           0.011435   \n",
       "16           0.238747           0.244133           0.011217   \n",
       "17           0.238833           0.244085           0.199990   \n",
       "18           0.239023           0.244597           0.199936   \n",
       "19           0.238660           0.244599           0.199920   \n",
       "\n",
       "    split3_test_score  ...  mean_test_score  std_test_score  rank_test_score  \\\n",
       "0            0.000948  ...         0.000536        0.000343               20   \n",
       "1            0.000973  ...         0.000982        0.000239               18   \n",
       "2            0.000670  ...         0.000885        0.000253               19   \n",
       "3            0.000692  ...         0.001024        0.000530               17   \n",
       "4            0.000691  ...         0.001086        0.000577               15   \n",
       "5            0.000695  ...         0.001064        0.000577               16   \n",
       "6            0.000751  ...         0.001685        0.000775               14   \n",
       "7            0.000809  ...         0.002019        0.000747               13   \n",
       "8            0.001097  ...         0.002068        0.000642               12   \n",
       "9            0.001515  ...         0.002163        0.000550               10   \n",
       "10           0.001503  ...         0.002156        0.000550               11   \n",
       "11           0.003879  ...         0.003049        0.001232                9   \n",
       "12           0.012016  ...         0.007112        0.005253                8   \n",
       "13           0.013464  ...         0.009268        0.004975                7   \n",
       "14           0.012681  ...         0.054436        0.086586                5   \n",
       "15           0.012486  ...         0.054052        0.086763                6   \n",
       "16           0.241335  ...         0.192597        0.090866                4   \n",
       "17           0.241284  ...         0.230341        0.016186                3   \n",
       "18           0.241241  ...         0.230468        0.016307                2   \n",
       "19           0.241214  ...         0.239872        0.023890                1   \n",
       "\n",
       "    split0_train_score  split1_train_score  split2_train_score  \\\n",
       "0             0.000427            0.000704            0.000388   \n",
       "1             0.001056            0.000970            0.001028   \n",
       "2             0.000969            0.000969            0.000979   \n",
       "3             0.000968            0.002189            0.000938   \n",
       "4             0.000968            0.002390            0.001050   \n",
       "5             0.000968            0.002406            0.001146   \n",
       "6             0.001883            0.002420            0.001426   \n",
       "7             0.002080            0.002418            0.002208   \n",
       "8             0.002087            0.002418            0.002210   \n",
       "9             0.002096            0.002420            0.002209   \n",
       "10            0.002096            0.002419            0.002208   \n",
       "11            0.002475            0.004255            0.004171   \n",
       "12            0.004845            0.012963            0.012135   \n",
       "13            0.012722            0.015471            0.015170   \n",
       "14            0.015863            0.015653            0.015358   \n",
       "15            0.016456            0.016049            0.015595   \n",
       "16            0.230942            0.229291            0.016102   \n",
       "17            0.231020            0.229325            0.240856   \n",
       "18            0.231052            0.229457            0.240890   \n",
       "19            0.231201            0.229470            0.240908   \n",
       "\n",
       "    split3_train_score  split4_train_score  mean_train_score  std_train_score  \n",
       "0             0.000647            0.000253          0.000484         0.000168  \n",
       "1             0.001056            0.001151          0.001052         0.000059  \n",
       "2             0.000956            0.001066          0.000988         0.000040  \n",
       "3             0.000967            0.001062          0.001225         0.000484  \n",
       "4             0.000967            0.001066          0.001288         0.000553  \n",
       "5             0.000968            0.001059          0.001309         0.000552  \n",
       "6             0.001104            0.002261          0.001819         0.000495  \n",
       "7             0.001162            0.002424          0.002059         0.000467  \n",
       "8             0.001468            0.002441          0.002125         0.000354  \n",
       "9             0.002427            0.002458          0.002322         0.000144  \n",
       "10            0.002421            0.002449          0.002319         0.000141  \n",
       "11            0.004223            0.002726          0.003570         0.000796  \n",
       "12            0.012227            0.003123          0.009059         0.004189  \n",
       "13            0.014791            0.003735          0.012378         0.004427  \n",
       "14            0.015214            0.231301          0.058678         0.086312  \n",
       "15            0.015424            0.231332          0.058971         0.086181  \n",
       "16            0.230174            0.231370          0.187576         0.085740  \n",
       "17            0.230208            0.231383          0.232558         0.004209  \n",
       "18            0.230245            0.231391          0.232607         0.004195  \n",
       "19            0.230288            0.285196          0.243413         0.021297  \n",
       "\n",
       "[20 rows x 21 columns]"
      ]
     },
     "execution_count": 40,
     "metadata": {},
     "output_type": "execute_result"
    }
   ],
   "source": [
    "# cv results\n",
    "cv_results = pd.DataFrame(model_cv.cv_results_)\n",
    "cv_results"
   ]
  },
  {
   "cell_type": "markdown",
   "metadata": {},
   "source": [
    "Contrary to the scores generated by the linear model with and without cross_validation, the gridsearch scores performed worse. An obvious trend is that both the train and test scores increased with increasing number of features. Although, this is expected to be the case and the best score was notched with 20 features selected. Perhaps, the score could reach that gotten from the linear model above but it will be a trade off with time as the total taken to complete 100 iterations was 2.5hrs"
   ]
  },
  {
   "cell_type": "code",
   "execution_count": 41,
   "metadata": {},
   "outputs": [
    {
     "data": {
      "text/plain": [
       "<matplotlib.legend.Legend at 0x7f9f8d969210>"
      ]
     },
     "execution_count": 41,
     "metadata": {},
     "output_type": "execute_result"
    },
    {
     "data": {
      "image/png": "[encoded data removed]",
      "text/plain": [
       "<Figure size 1152x432 with 1 Axes>"
      ]
     },
     "metadata": {
      "needs_background": "light"
     },
     "output_type": "display_data"
    }
   ],
   "source": [
    "# plotting cv results\n",
    "plt.figure(figsize=(16,6))\n",
    "\n",
    "plt.plot(cv_results[\"param_n_features_to_select\"], cv_results[\"mean_test_score\"])\n",
    "plt.plot(cv_results[\"param_n_features_to_select\"], cv_results[\"mean_train_score\"])\n",
    "plt.xlabel('number of features')\n",
    "plt.ylabel('r-squared')\n",
    "plt.title(\"Optimal Number of Features\")\n",
    "plt.legend(['test score', 'train score'], loc='upper left')"
   ]
  },
  {
   "cell_type": "markdown",
   "metadata": {},
   "source": [
    "## Using Lasso Regression for Sellers"
   ]
  },
  {
   "cell_type": "code",
   "execution_count": 42,
   "metadata": {},
   "outputs": [],
   "source": [
    "from sklearn.linear_model import Lasso"
   ]
  },
  {
   "cell_type": "code",
   "execution_count": 43,
   "metadata": {},
   "outputs": [
    {
     "data": {
      "text/plain": [
       "Lasso(alpha=0.5, copy_X=True, fit_intercept=True, max_iter=1000,\n",
       "      normalize=False, positive=False, precompute=False, random_state=None,\n",
       "      selection='cyclic', tol=0.0001, warm_start=False)"
      ]
     },
     "execution_count": 43,
     "metadata": {},
     "output_type": "execute_result"
    }
   ],
   "source": [
    "reg = Lasso(alpha=0.5)\n",
    "reg.fit(Xseller_train, yseller_train)"
   ]
  },
  {
   "cell_type": "code",
   "execution_count": 44,
   "metadata": {},
   "outputs": [
    {
     "data": {
      "text/plain": [
       "51.00300952798034"
      ]
     },
     "execution_count": 44,
     "metadata": {},
     "output_type": "execute_result"
    }
   ],
   "source": [
    "reg.score(Xseller_train, yseller_train)*100"
   ]
  },
  {
   "cell_type": "code",
   "execution_count": 45,
   "metadata": {},
   "outputs": [
    {
     "data": {
      "text/plain": [
       "53.06857269959675"
      ]
     },
     "execution_count": 45,
     "metadata": {},
     "output_type": "execute_result"
    }
   ],
   "source": [
    "reg.score(Xseller_test, yseller_test)*100"
   ]
  },
  {
   "cell_type": "markdown",
   "metadata": {},
   "source": [
    "With alpha set at 0.5, the Lasso regression performs worse than linear regression. Lambda will be varied to get the best alpha for the lasso regression model"
   ]
  },
  {
   "cell_type": "code",
   "execution_count": 46,
   "metadata": {},
   "outputs": [],
   "source": [
    "lambdas = (0.001, 0.01, 0.1, 0.5, 1, 2, 10)\n",
    "l_num = 7\n",
    "pred_num = Xseller.shape[1]\n",
    "\n",
    "# prepare data for enumerate\n",
    "coeff_a = np.zeros((l_num, pred_num))\n",
    "train_r_squared = np.zeros(l_num)\n",
    "test_r_squared = np.zeros(l_num)"
   ]
  },
  {
   "cell_type": "code",
   "execution_count": 47,
   "metadata": {},
   "outputs": [],
   "source": [
    "# enumerate through lambdas with index and i\n",
    "for ind, i in enumerate(lambdas):    \n",
    "    reg = Lasso(alpha = i)\n",
    "    reg.fit(Xseller_train, yseller_train)\n",
    "\n",
    "    coeff_a[ind,:] = reg.coef_\n",
    "    train_r_squared[ind] = reg.score(Xseller_train, yseller_train)\n",
    "    test_r_squared[ind] = reg.score(Xseller_test, yseller_test)"
   ]
  },
  {
   "cell_type": "code",
   "execution_count": 48,
   "metadata": {},
   "outputs": [
    {
     "data": {
      "image/png": "[encoded data removed]",
      "text/plain": [
       "<Figure size 1296x576 with 1 Axes>"
      ]
     },
     "metadata": {
      "needs_background": "light"
     },
     "output_type": "display_data"
    }
   ],
   "source": [
    "# Plotting\n",
    "plt.figure(figsize=(18, 8))\n",
    "plt.plot(train_r_squared, 'bo-', label=r'$R^2$ Training set', color=\"darkblue\", alpha=0.6, linewidth=3)\n",
    "plt.plot(test_r_squared, 'bo-', label=r'$R^2$ Test set', color=\"darkred\", alpha=0.6, linewidth=3)\n",
    "plt.xlabel('Lamda index'); plt.ylabel(r'$R^2$')\n",
    "plt.xlim(0, 6)\n",
    "plt.title(r'Evaluate lasso regression with lamdas: 0 = 0.001, 1= 0.01, 2 = 0.1, 3 = 0.5, 4= 1, 5= 2, 6 = 10')\n",
    "plt.legend(loc='best')\n",
    "plt.grid()"
   ]
  },
  {
   "cell_type": "code",
   "execution_count": 49,
   "metadata": {
    "scrolled": true
   },
   "outputs": [
    {
     "data": {
      "text/plain": [
       "R_squared    79.598508\n",
       "lambda        0.010000\n",
       "Name: 1, dtype: float64"
      ]
     },
     "execution_count": 49,
     "metadata": {},
     "output_type": "execute_result"
    }
   ],
   "source": [
    "df_lam = pd.DataFrame(test_r_squared*100, columns=['R_squared'])\n",
    "df_lam['lambda'] = (lambdas)\n",
    "# returns the index of the row where column has maximum value.\n",
    "df_lam.loc[df_lam['R_squared'].idxmax()]"
   ]
  },
  {
   "cell_type": "markdown",
   "metadata": {},
   "source": [
    "At alpha of 0.01, the model scored better than 0.5 and the scores came close to that gotten when 4 features were selected using GridSearchCV with linear regression model"
   ]
  },
  {
   "cell_type": "code",
   "execution_count": 50,
   "metadata": {},
   "outputs": [
    {
     "data": {
      "text/html": [
       "<div>\n",
       "<style scoped>\n",
       "    .dataframe tbody tr th:only-of-type {\n",
       "        vertical-align: middle;\n",
       "    }\n",
       "\n",
       "    .dataframe tbody tr th {\n",
       "        vertical-align: top;\n",
       "    }\n",
       "\n",
       "    .dataframe thead th {\n",
       "        text-align: right;\n",
       "    }\n",
       "</style>\n",
       "<table border=\"1\" class=\"dataframe\">\n",
       "  <thead>\n",
       "    <tr style=\"text-align: right;\">\n",
       "      <th></th>\n",
       "      <th>Coefficient</th>\n",
       "    </tr>\n",
       "  </thead>\n",
       "  <tbody>\n",
       "    <tr>\n",
       "      <td>ScproductsPassRate</td>\n",
       "      <td>0.584807</td>\n",
       "    </tr>\n",
       "    <tr>\n",
       "      <td>ScproductsListed</td>\n",
       "      <td>0.279057</td>\n",
       "    </tr>\n",
       "    <tr>\n",
       "      <td>ScSocialNbFollowers</td>\n",
       "      <td>0.178960</td>\n",
       "    </tr>\n",
       "    <tr>\n",
       "      <td>ScdaysSinceLastLogin</td>\n",
       "      <td>0.007862</td>\n",
       "    </tr>\n",
       "    <tr>\n",
       "      <td>ScsocialProductsLiked</td>\n",
       "      <td>0.007760</td>\n",
       "    </tr>\n",
       "    <tr>\n",
       "      <td>ScproductsWished</td>\n",
       "      <td>0.007479</td>\n",
       "    </tr>\n",
       "    <tr>\n",
       "      <td>ScsocialNbFollows</td>\n",
       "      <td>0.003936</td>\n",
       "    </tr>\n",
       "    <tr>\n",
       "      <td>ScproductsBought</td>\n",
       "      <td>0.001035</td>\n",
       "    </tr>\n",
       "    <tr>\n",
       "      <td>civilityGenderId</td>\n",
       "      <td>0.000000</td>\n",
       "    </tr>\n",
       "    <tr>\n",
       "      <td>country_Portugal</td>\n",
       "      <td>0.000000</td>\n",
       "    </tr>\n",
       "  </tbody>\n",
       "</table>\n",
       "</div>"
      ],
      "text/plain": [
       "                       Coefficient\n",
       "ScproductsPassRate        0.584807\n",
       "ScproductsListed          0.279057\n",
       "ScSocialNbFollowers       0.178960\n",
       "ScdaysSinceLastLogin      0.007862\n",
       "ScsocialProductsLiked     0.007760\n",
       "ScproductsWished          0.007479\n",
       "ScsocialNbFollows         0.003936\n",
       "ScproductsBought          0.001035\n",
       "civilityGenderId          0.000000\n",
       "country_Portugal          0.000000"
      ]
     },
     "execution_count": 50,
     "metadata": {},
     "output_type": "execute_result"
    }
   ],
   "source": [
    "columns = Xseller_train.columns\n",
    "# Coefficients of best model\n",
    "reg_best = Lasso(alpha = 0.01)\n",
    "reg_best.fit(Xseller_train, yseller_train)\n",
    "pd.DataFrame(abs(reg_best.coef_), Xseller_train.columns, columns=['Coefficient']).sort_values(by='Coefficient', ascending= False).head(10)"
   ]
  },
  {
   "cell_type": "code",
   "execution_count": 51,
   "metadata": {},
   "outputs": [
    {
     "data": {
      "text/plain": [
       "0.17540501993357652"
      ]
     },
     "execution_count": 51,
     "metadata": {},
     "output_type": "execute_result"
    }
   ],
   "source": [
    "from sklearn.metrics import mean_squared_error\n",
    "mean_squared_error(yseller_test, reg_best.predict(Xseller_test))"
   ]
  },
  {
   "cell_type": "code",
   "execution_count": 52,
   "metadata": {},
   "outputs": [],
   "source": [
    "l_min = 0.001\n",
    "l_max = 0.5\n",
    "l_num = 20\n",
    "lambdas = np.linspace(l_min,l_max, l_num)\n",
    "\n",
    "train_r_squared = np.zeros(l_num)\n",
    "test_r_squared = np.zeros(l_num)\n",
    "\n",
    "pred_num = Xseller.shape[1]\n",
    "coeff_a = np.zeros((l_num, pred_num))"
   ]
  },
  {
   "cell_type": "code",
   "execution_count": 53,
   "metadata": {},
   "outputs": [],
   "source": [
    "from sklearn.model_selection import cross_val_score\n",
    "\n",
    "for ind, i in enumerate(lambdas):    \n",
    "    reg = Lasso(alpha = i)\n",
    "    reg.fit(Xseller_train, yseller_train)\n",
    "    results = cross_val_score(reg, Xseller, yseller, cv=5, scoring=\"r2\")\n",
    "\n",
    "    train_r_squared[ind] = reg.score(Xseller_train, yseller_train)    \n",
    "    test_r_squared[ind] = reg.score(Xseller_test, yseller_test)"
   ]
  },
  {
   "cell_type": "code",
   "execution_count": 54,
   "metadata": {},
   "outputs": [
    {
     "data": {
      "image/png": "[encoded data removed]",
      "text/plain": [
       "<Figure size 1296x576 with 1 Axes>"
      ]
     },
     "metadata": {
      "needs_background": "light"
     },
     "output_type": "display_data"
    }
   ],
   "source": [
    "# Plotting\n",
    "plt.figure(figsize=(18, 8))\n",
    "plt.plot(train_r_squared, 'bo-', label=r'$R^2$ Training set', color=\"darkblue\", alpha=0.6, linewidth=3)\n",
    "plt.plot(test_r_squared, 'bo-', label=r'$R^2$ Test set', color=\"darkred\", alpha=0.6, linewidth=3)\n",
    "plt.xlabel('Lamda value'); plt.ylabel(r'$R^2$')\n",
    "plt.xlim(0, 19)\n",
    "plt.title(r'Evaluate 5-fold cv with different lamdas')\n",
    "plt.legend(loc='best')\n",
    "plt.grid()"
   ]
  },
  {
   "cell_type": "code",
   "execution_count": 55,
   "metadata": {},
   "outputs": [
    {
     "data": {
      "text/plain": [
       "R_squared    79.726225\n",
       "lambda        0.053526\n",
       "Name: 2, dtype: float64"
      ]
     },
     "execution_count": 55,
     "metadata": {},
     "output_type": "execute_result"
    }
   ],
   "source": [
    "df_lam = pd.DataFrame(test_r_squared*100, columns=['R_squared'])\n",
    "df_lam['lambda'] = (lambdas)\n",
    "# returns the index of the row where column has maximum value.\n",
    "df_lam.loc[df_lam['R_squared'].idxmax()]"
   ]
  },
  {
   "cell_type": "code",
   "execution_count": 56,
   "metadata": {},
   "outputs": [
    {
     "data": {
      "text/plain": [
       "Lasso(alpha=0.05, copy_X=True, fit_intercept=True, max_iter=1000,\n",
       "      normalize=False, positive=False, precompute=False, random_state=None,\n",
       "      selection='cyclic', tol=0.0001, warm_start=False)"
      ]
     },
     "execution_count": 56,
     "metadata": {},
     "output_type": "execute_result"
    }
   ],
   "source": [
    "# Best Model\n",
    "reg_best = Lasso(alpha = 0.05)\n",
    "reg_best.fit(Xseller_train, yseller_train)"
   ]
  },
  {
   "cell_type": "code",
   "execution_count": 57,
   "metadata": {},
   "outputs": [
    {
     "data": {
      "text/plain": [
       "0.17423834682862116"
      ]
     },
     "execution_count": 57,
     "metadata": {},
     "output_type": "execute_result"
    }
   ],
   "source": [
    "from sklearn.metrics import mean_squared_error\n",
    "\n",
    "mean_squared_error(yseller_test, reg_best.predict(Xseller_test))"
   ]
  },
  {
   "cell_type": "code",
   "execution_count": 58,
   "metadata": {},
   "outputs": [
    {
     "data": {
      "text/plain": [
       "81.07393187540852"
      ]
     },
     "execution_count": 58,
     "metadata": {},
     "output_type": "execute_result"
    }
   ],
   "source": [
    "reg_best.score(Xseller_train, yseller_train) * 100"
   ]
  },
  {
   "cell_type": "code",
   "execution_count": 59,
   "metadata": {
    "scrolled": true
   },
   "outputs": [
    {
     "data": {
      "text/plain": [
       "79.73420449153453"
      ]
     },
     "execution_count": 59,
     "metadata": {},
     "output_type": "execute_result"
    }
   ],
   "source": [
    "reg_best.score(Xseller_test, yseller_test)*100"
   ]
  },
  {
   "cell_type": "markdown",
   "metadata": {},
   "source": [
    "The scores for both train and test datasets for sellers are equal to those gotten from Linear regression model. The performance above was gotten after cross_validation was done on the dataset using Lasso Regression and the best lambda for R_squared was selected to be 0.0535"
   ]
  },
  {
   "cell_type": "code",
   "execution_count": 60,
   "metadata": {
    "scrolled": true
   },
   "outputs": [
    {
     "data": {
      "text/html": [
       "<div>\n",
       "<style scoped>\n",
       "    .dataframe tbody tr th:only-of-type {\n",
       "        vertical-align: middle;\n",
       "    }\n",
       "\n",
       "    .dataframe tbody tr th {\n",
       "        vertical-align: top;\n",
       "    }\n",
       "\n",
       "    .dataframe thead th {\n",
       "        text-align: right;\n",
       "    }\n",
       "</style>\n",
       "<table border=\"1\" class=\"dataframe\">\n",
       "  <thead>\n",
       "    <tr style=\"text-align: right;\">\n",
       "      <th></th>\n",
       "      <th>Coefficient</th>\n",
       "    </tr>\n",
       "  </thead>\n",
       "  <tbody>\n",
       "    <tr>\n",
       "      <td>ScproductsPassRate</td>\n",
       "      <td>0.568701</td>\n",
       "    </tr>\n",
       "    <tr>\n",
       "      <td>ScproductsListed</td>\n",
       "      <td>0.264111</td>\n",
       "    </tr>\n",
       "    <tr>\n",
       "      <td>ScSocialNbFollowers</td>\n",
       "      <td>0.150374</td>\n",
       "    </tr>\n",
       "    <tr>\n",
       "      <td>civilityGenderId</td>\n",
       "      <td>0.000000</td>\n",
       "    </tr>\n",
       "    <tr>\n",
       "      <td>country_Rwanda</td>\n",
       "      <td>0.000000</td>\n",
       "    </tr>\n",
       "    <tr>\n",
       "      <td>country_Pays-Bas</td>\n",
       "      <td>0.000000</td>\n",
       "    </tr>\n",
       "    <tr>\n",
       "      <td>country_Philippines</td>\n",
       "      <td>0.000000</td>\n",
       "    </tr>\n",
       "    <tr>\n",
       "      <td>country_Pologne</td>\n",
       "      <td>0.000000</td>\n",
       "    </tr>\n",
       "    <tr>\n",
       "      <td>country_Polynésie Française</td>\n",
       "      <td>0.000000</td>\n",
       "    </tr>\n",
       "    <tr>\n",
       "      <td>country_Portugal</td>\n",
       "      <td>0.000000</td>\n",
       "    </tr>\n",
       "  </tbody>\n",
       "</table>\n",
       "</div>"
      ],
      "text/plain": [
       "                             Coefficient\n",
       "ScproductsPassRate              0.568701\n",
       "ScproductsListed                0.264111\n",
       "ScSocialNbFollowers             0.150374\n",
       "civilityGenderId                0.000000\n",
       "country_Rwanda                  0.000000\n",
       "country_Pays-Bas                0.000000\n",
       "country_Philippines             0.000000\n",
       "country_Pologne                 0.000000\n",
       "country_Polynésie Française     0.000000\n",
       "country_Portugal                0.000000"
      ]
     },
     "execution_count": 60,
     "metadata": {},
     "output_type": "execute_result"
    }
   ],
   "source": [
    "pd.DataFrame(abs(reg_best.coef_), Xseller_train.columns, columns=['Coefficient']).sort_values(by='Coefficient', ascending= False).head(10)"
   ]
  },
  {
   "cell_type": "markdown",
   "metadata": {},
   "source": [
    "For both seller models, the Lasso regression results will be used. The linear regression model had good R-squared scores but the coefficients generated for the top 3 features were absurdly hgih. The grid search results for the seller dataframe looked too optimistic as the perfect scores of 1 were scored for variables greater than 4. For features lower than lower than 5, the best most reasonable scores were attained when 4 features were selected. The scores for the train dataset was 80.2% while the test score was 80.1%  On the flip side, lasso regression for the seller dataframe had good  r-squre scores for both train and test datasets. 81% score was attained for train dataset using CV and 79.7% for test score with alpha at 0.05. \n",
    "\n",
    "Using the 3 best features from Lasso regression, productsPassRate had coefficient of 0.569, productsListed had a score of 0.26411 and socialNbFollowers was 0.1503. Because of the Lasso regression's inner workings of reducing features that do not contribute much to the performance of the dependent variable, the other features selected from the original 224 features were reduced to 0. \n",
    "\n",
    "As a result, a seller has more chance of getting products sold with higher product pass rate. Also, the higher the number of products listed by sellers, the greater the chance of making sales on the platform. Finally, due to the platform being structured as a social e-commerce one where users can follow each other, the more users follow an individual categorized as seller, the better it is for such individual to make sales on the platform."
   ]
  },
  {
   "cell_type": "markdown",
   "metadata": {},
   "source": [
    "## Lasso Regression on Buyer Dataset"
   ]
  },
  {
   "cell_type": "code",
   "execution_count": 61,
   "metadata": {
    "scrolled": true
   },
   "outputs": [
    {
     "data": {
      "text/plain": [
       "Lasso(alpha=0.01, copy_X=True, fit_intercept=True, max_iter=1000,\n",
       "      normalize=False, positive=False, precompute=False, random_state=None,\n",
       "      selection='cyclic', tol=0.0001, warm_start=False)"
      ]
     },
     "execution_count": 61,
     "metadata": {},
     "output_type": "execute_result"
    }
   ],
   "source": [
    "regb = Lasso(alpha=0.01)\n",
    "regb.fit(Xbuyer_train, ybuyer_train)"
   ]
  },
  {
   "cell_type": "markdown",
   "metadata": {},
   "source": [
    "alpha 0.5 gave poor R-square scores for bothtrain and test dataset. It was adjusted to 0.01 and better score was gotten"
   ]
  },
  {
   "cell_type": "code",
   "execution_count": 62,
   "metadata": {},
   "outputs": [
    {
     "data": {
      "text/plain": [
       "31.89612419473775"
      ]
     },
     "execution_count": 62,
     "metadata": {},
     "output_type": "execute_result"
    }
   ],
   "source": [
    "regb.score(Xbuyer_train, ybuyer_train)*100"
   ]
  },
  {
   "cell_type": "code",
   "execution_count": 63,
   "metadata": {
    "scrolled": true
   },
   "outputs": [
    {
     "data": {
      "text/plain": [
       "34.03659082358275"
      ]
     },
     "execution_count": 63,
     "metadata": {},
     "output_type": "execute_result"
    }
   ],
   "source": [
    "regb.score(Xbuyer_test, ybuyer_test)*100"
   ]
  },
  {
   "cell_type": "markdown",
   "metadata": {},
   "source": [
    "The R-square for both train and test datasets above came out similar to the origial one from the linear regression above. To determine if better performance can be gotten from Lasso regression, lambda will be varied."
   ]
  },
  {
   "cell_type": "code",
   "execution_count": 64,
   "metadata": {},
   "outputs": [],
   "source": [
    "lambdas = (0.001, 0.01, 0.1, 0.5, 1, 2, 10)\n",
    "l_num = 7\n",
    "pred_num = Xseller.shape[1]\n",
    "\n",
    "# prepare data for enumerate\n",
    "coeff_b = np.zeros((l_num, pred_num))\n",
    "train_r_squaredb = np.zeros(l_num)\n",
    "test_r_squaredb = np.zeros(l_num)"
   ]
  },
  {
   "cell_type": "code",
   "execution_count": 65,
   "metadata": {},
   "outputs": [],
   "source": [
    "# enumerate through lambdas with index and i\n",
    "for ind, i in enumerate(lambdas):    \n",
    "    regb = Lasso(alpha = i)\n",
    "    regb.fit(Xseller_train, yseller_train)\n",
    "\n",
    "    coeff_b[ind,:] = regb.coef_\n",
    "    train_r_squaredb[ind] = regb.score(Xseller_train, yseller_train)\n",
    "    test_r_squaredb[ind] = regb.score(Xseller_test, yseller_test)"
   ]
  },
  {
   "cell_type": "code",
   "execution_count": 66,
   "metadata": {},
   "outputs": [
    {
     "data": {
      "image/png": "[encoded data removed]",
      "text/plain": [
       "<Figure size 1296x576 with 1 Axes>"
      ]
     },
     "metadata": {
      "needs_background": "light"
     },
     "output_type": "display_data"
    }
   ],
   "source": [
    "# Plotting\n",
    "plt.figure(figsize=(18, 8))\n",
    "plt.plot(train_r_squared, 'bo-', label=r'$R^2$ Training set', color=\"darkblue\", alpha=0.6, linewidth=3)\n",
    "plt.plot(test_r_squared, 'bo-', label=r'$R^2$ Test set', color=\"darkred\", alpha=0.6, linewidth=3)\n",
    "plt.xlabel('Lamda index'); plt.ylabel(r'$R^2$')\n",
    "plt.xlim(0, 6)\n",
    "plt.title(r'Evaluate lasso regression with lamdas: 0 = 0.001, 1= 0.01, 2 = 0.1, 3 = 0.5, 4= 1, 5= 2, 6 = 10')\n",
    "plt.legend(loc='best')\n",
    "plt.grid()"
   ]
  },
  {
   "cell_type": "code",
   "execution_count": 67,
   "metadata": {
    "scrolled": true
   },
   "outputs": [
    {
     "data": {
      "text/plain": [
       "R_squared    79.598508\n",
       "lambda        0.010000\n",
       "Name: 1, dtype: float64"
      ]
     },
     "execution_count": 67,
     "metadata": {},
     "output_type": "execute_result"
    }
   ],
   "source": [
    "df_lam = pd.DataFrame(test_r_squaredb*100, columns=['R_squared'])\n",
    "df_lam['lambda'] = (lambdas)\n",
    "# returns the index of the row where column has maximum value.\n",
    "df_lam.loc[df_lam['R_squared'].idxmax()]"
   ]
  },
  {
   "cell_type": "markdown",
   "metadata": {},
   "source": [
    "At lambda 0.01, a better R_squared of 79.6% was gotten. This is obiviously better than the score from linear regression."
   ]
  },
  {
   "cell_type": "code",
   "execution_count": 68,
   "metadata": {
    "scrolled": true
   },
   "outputs": [
    {
     "data": {
      "text/html": [
       "<div>\n",
       "<style scoped>\n",
       "    .dataframe tbody tr th:only-of-type {\n",
       "        vertical-align: middle;\n",
       "    }\n",
       "\n",
       "    .dataframe tbody tr th {\n",
       "        vertical-align: top;\n",
       "    }\n",
       "\n",
       "    .dataframe thead th {\n",
       "        text-align: right;\n",
       "    }\n",
       "</style>\n",
       "<table border=\"1\" class=\"dataframe\">\n",
       "  <thead>\n",
       "    <tr style=\"text-align: right;\">\n",
       "      <th></th>\n",
       "      <th>Coefficient</th>\n",
       "    </tr>\n",
       "  </thead>\n",
       "  <tbody>\n",
       "    <tr>\n",
       "      <td>ScproductsWished</td>\n",
       "      <td>0.279322</td>\n",
       "    </tr>\n",
       "    <tr>\n",
       "      <td>ScSocialNbFollowers</td>\n",
       "      <td>0.190072</td>\n",
       "    </tr>\n",
       "    <tr>\n",
       "      <td>ScdaysSinceLastLogin</td>\n",
       "      <td>0.181460</td>\n",
       "    </tr>\n",
       "    <tr>\n",
       "      <td>ScsocialProductsLiked</td>\n",
       "      <td>0.090362</td>\n",
       "    </tr>\n",
       "    <tr>\n",
       "      <td>civilityGenderId</td>\n",
       "      <td>0.044107</td>\n",
       "    </tr>\n",
       "    <tr>\n",
       "      <td>ScproductsListed</td>\n",
       "      <td>0.035308</td>\n",
       "    </tr>\n",
       "    <tr>\n",
       "      <td>ScproductsSold</td>\n",
       "      <td>0.019976</td>\n",
       "    </tr>\n",
       "    <tr>\n",
       "      <td>hasAnyApp</td>\n",
       "      <td>0.011291</td>\n",
       "    </tr>\n",
       "    <tr>\n",
       "      <td>ScsocialNbFollows</td>\n",
       "      <td>0.007979</td>\n",
       "    </tr>\n",
       "    <tr>\n",
       "      <td>hasIosApp</td>\n",
       "      <td>0.000646</td>\n",
       "    </tr>\n",
       "    <tr>\n",
       "      <td>country_Russie</td>\n",
       "      <td>0.000000</td>\n",
       "    </tr>\n",
       "    <tr>\n",
       "      <td>country_Paraguay</td>\n",
       "      <td>0.000000</td>\n",
       "    </tr>\n",
       "    <tr>\n",
       "      <td>country_Pays-Bas</td>\n",
       "      <td>0.000000</td>\n",
       "    </tr>\n",
       "    <tr>\n",
       "      <td>country_Philippines</td>\n",
       "      <td>0.000000</td>\n",
       "    </tr>\n",
       "    <tr>\n",
       "      <td>country_Pologne</td>\n",
       "      <td>0.000000</td>\n",
       "    </tr>\n",
       "    <tr>\n",
       "      <td>country_Polynésie Française</td>\n",
       "      <td>0.000000</td>\n",
       "    </tr>\n",
       "    <tr>\n",
       "      <td>country_Portugal</td>\n",
       "      <td>0.000000</td>\n",
       "    </tr>\n",
       "    <tr>\n",
       "      <td>country_Puerto Rico</td>\n",
       "      <td>0.000000</td>\n",
       "    </tr>\n",
       "    <tr>\n",
       "      <td>country_Pérou</td>\n",
       "      <td>0.000000</td>\n",
       "    </tr>\n",
       "    <tr>\n",
       "      <td>country_Qatar</td>\n",
       "      <td>0.000000</td>\n",
       "    </tr>\n",
       "  </tbody>\n",
       "</table>\n",
       "</div>"
      ],
      "text/plain": [
       "                             Coefficient\n",
       "ScproductsWished                0.279322\n",
       "ScSocialNbFollowers             0.190072\n",
       "ScdaysSinceLastLogin            0.181460\n",
       "ScsocialProductsLiked           0.090362\n",
       "civilityGenderId                0.044107\n",
       "ScproductsListed                0.035308\n",
       "ScproductsSold                  0.019976\n",
       "hasAnyApp                       0.011291\n",
       "ScsocialNbFollows               0.007979\n",
       "hasIosApp                       0.000646\n",
       "country_Russie                  0.000000\n",
       "country_Paraguay                0.000000\n",
       "country_Pays-Bas                0.000000\n",
       "country_Philippines             0.000000\n",
       "country_Pologne                 0.000000\n",
       "country_Polynésie Française     0.000000\n",
       "country_Portugal                0.000000\n",
       "country_Puerto Rico             0.000000\n",
       "country_Pérou                   0.000000\n",
       "country_Qatar                   0.000000"
      ]
     },
     "execution_count": 68,
     "metadata": {},
     "output_type": "execute_result"
    }
   ],
   "source": [
    "columns = Xbuyer_train.columns\n",
    "# Coefficients of best model\n",
    "reg_bestb = Lasso(alpha = 0.01)\n",
    "reg_bestb.fit(Xbuyer_train, ybuyer_train)\n",
    "pd.DataFrame(abs(reg_bestb.coef_), Xbuyer_train.columns, columns=['Coefficient']).sort_values(by='Coefficient', ascending= False).head(20)"
   ]
  },
  {
   "cell_type": "markdown",
   "metadata": {},
   "source": [
    "Ten coefficients were selected from 224 to impact buyers' behaviors on the C2C platform. If a buyer marks a listed product of a seller as product wish, the buyer might eventually purchase such product.The other features to make the top 5 list are number of followers, last log in time (how frequent a buyer is on the platform), products liked, and gender. Some features peculiar to sellers came out important also. Products listed and products sold. As seen below, the mean error is low which shows that there is no much difference between the predicted values and the original test set."
   ]
  },
  {
   "cell_type": "code",
   "execution_count": 69,
   "metadata": {
    "scrolled": true
   },
   "outputs": [
    {
     "data": {
      "text/plain": [
       "0.6971675895376435"
      ]
     },
     "execution_count": 69,
     "metadata": {},
     "output_type": "execute_result"
    }
   ],
   "source": [
    "from sklearn.metrics import mean_squared_error\n",
    "mean_squared_error(ybuyer_test, reg_bestb.predict(Xbuyer_test))"
   ]
  },
  {
   "cell_type": "markdown",
   "metadata": {},
   "source": [
    "The affirm the perfomance of the Lasso regression above, cross_validation will be done at different lambda marks and best lambda will be used to get the best scores and the best features"
   ]
  },
  {
   "cell_type": "code",
   "execution_count": 70,
   "metadata": {},
   "outputs": [],
   "source": [
    "l_min = 0.001\n",
    "l_max = 0.5\n",
    "l_num = 20\n",
    "lambdas = np.linspace(l_min,l_max, l_num)\n",
    "\n",
    "train_r_squaredb = np.zeros(l_num)\n",
    "test_r_squaredb = np.zeros(l_num)\n",
    "\n",
    "pred_numb = Xbuyer.shape[1]\n",
    "coeff_b = np.zeros((l_num, pred_numb))"
   ]
  },
  {
   "cell_type": "code",
   "execution_count": 71,
   "metadata": {},
   "outputs": [],
   "source": [
    "from sklearn.model_selection import cross_val_score\n",
    "\n",
    "for ind, i in enumerate(lambdas):    \n",
    "    regb = Lasso(alpha = i)\n",
    "    regb.fit(Xbuyer_train, ybuyer_train)\n",
    "    results = cross_val_score(regb, Xbuyer, ybuyer, cv=5, scoring=\"r2\")\n",
    "\n",
    "    train_r_squaredb[ind] = regb.score(Xbuyer_train, ybuyer_train)    \n",
    "    test_r_squaredb[ind] = regb.score(Xbuyer_test, ybuyer_test)"
   ]
  },
  {
   "cell_type": "code",
   "execution_count": 72,
   "metadata": {},
   "outputs": [
    {
     "data": {
      "image/png": "[encoded data removed]",
      "text/plain": [
       "<Figure size 1296x576 with 1 Axes>"
      ]
     },
     "metadata": {
      "needs_background": "light"
     },
     "output_type": "display_data"
    }
   ],
   "source": [
    "# Plotting\n",
    "plt.figure(figsize=(18, 8))\n",
    "plt.plot(train_r_squaredb, 'bo-', label=r'$R^2$ Training set', color=\"darkblue\", alpha=0.6, linewidth=3)\n",
    "plt.plot(test_r_squaredb, 'bo-', label=r'$R^2$ Test set', color=\"darkred\", alpha=0.6, linewidth=3)\n",
    "plt.xlabel('Lamda value'); plt.ylabel(r'$R^2$')\n",
    "plt.xlim(0, 19)\n",
    "plt.title(r'Evaluate 5-fold cv with different lamdas')\n",
    "plt.legend(loc='best')\n",
    "plt.grid()"
   ]
  },
  {
   "cell_type": "code",
   "execution_count": 73,
   "metadata": {
    "scrolled": true
   },
   "outputs": [
    {
     "data": {
      "text/plain": [
       "R_squared    34.402929\n",
       "lambda        0.001000\n",
       "Name: 0, dtype: float64"
      ]
     },
     "execution_count": 73,
     "metadata": {},
     "output_type": "execute_result"
    }
   ],
   "source": [
    "df_lam = pd.DataFrame(test_r_squaredb*100, columns=['R_squared'])\n",
    "df_lam['lambda'] = (lambdas)\n",
    "# returns the index of the row where column has maximum value.\n",
    "df_lam.loc[df_lam['R_squared'].idxmax()]"
   ]
  },
  {
   "cell_type": "markdown",
   "metadata": {},
   "source": [
    "At 0.001, the R-square of 34.4% came out similar to the score from linear regression "
   ]
  },
  {
   "cell_type": "code",
   "execution_count": 74,
   "metadata": {},
   "outputs": [
    {
     "data": {
      "text/plain": [
       "Lasso(alpha=0.001, copy_X=True, fit_intercept=True, max_iter=1000,\n",
       "      normalize=False, positive=False, precompute=False, random_state=None,\n",
       "      selection='cyclic', tol=0.0001, warm_start=False)"
      ]
     },
     "execution_count": 74,
     "metadata": {},
     "output_type": "execute_result"
    }
   ],
   "source": [
    "# Best Model\n",
    "reg_bestb = Lasso(alpha = 0.001)\n",
    "reg_bestb.fit(Xbuyer_train, ybuyer_train)"
   ]
  },
  {
   "cell_type": "code",
   "execution_count": 75,
   "metadata": {},
   "outputs": [
    {
     "data": {
      "text/plain": [
       "0.6932957626448616"
      ]
     },
     "execution_count": 75,
     "metadata": {},
     "output_type": "execute_result"
    }
   ],
   "source": [
    "from sklearn.metrics import mean_squared_error\n",
    "\n",
    "mean_squared_error(ybuyer_test, reg_bestb.predict(Xbuyer_test))"
   ]
  },
  {
   "cell_type": "code",
   "execution_count": 76,
   "metadata": {},
   "outputs": [
    {
     "data": {
      "text/plain": [
       "32.24327525306004"
      ]
     },
     "execution_count": 76,
     "metadata": {},
     "output_type": "execute_result"
    }
   ],
   "source": [
    "reg_bestb.score(Xbuyer_train, ybuyer_train) * 100"
   ]
  },
  {
   "cell_type": "code",
   "execution_count": 77,
   "metadata": {},
   "outputs": [
    {
     "data": {
      "text/plain": [
       "34.402928710514935"
      ]
     },
     "execution_count": 77,
     "metadata": {},
     "output_type": "execute_result"
    }
   ],
   "source": [
    "reg_bestb.score(Xbuyer_test, ybuyer_test)*100"
   ]
  },
  {
   "cell_type": "code",
   "execution_count": 81,
   "metadata": {
    "scrolled": true
   },
   "outputs": [
    {
     "data": {
      "text/html": [
       "<div>\n",
       "<style scoped>\n",
       "    .dataframe tbody tr th:only-of-type {\n",
       "        vertical-align: middle;\n",
       "    }\n",
       "\n",
       "    .dataframe tbody tr th {\n",
       "        vertical-align: top;\n",
       "    }\n",
       "\n",
       "    .dataframe thead th {\n",
       "        text-align: right;\n",
       "    }\n",
       "</style>\n",
       "<table border=\"1\" class=\"dataframe\">\n",
       "  <thead>\n",
       "    <tr style=\"text-align: right;\">\n",
       "      <th></th>\n",
       "      <th>Coefficient</th>\n",
       "    </tr>\n",
       "  </thead>\n",
       "  <tbody>\n",
       "    <tr>\n",
       "      <td>ScproductsWished</td>\n",
       "      <td>0.276850</td>\n",
       "    </tr>\n",
       "    <tr>\n",
       "      <td>ScSocialNbFollowers</td>\n",
       "      <td>0.212661</td>\n",
       "    </tr>\n",
       "    <tr>\n",
       "      <td>ScdaysSinceLastLogin</td>\n",
       "      <td>0.194245</td>\n",
       "    </tr>\n",
       "    <tr>\n",
       "      <td>ScsocialProductsLiked</td>\n",
       "      <td>0.097570</td>\n",
       "    </tr>\n",
       "    <tr>\n",
       "      <td>ScproductsSold</td>\n",
       "      <td>0.045731</td>\n",
       "    </tr>\n",
       "    <tr>\n",
       "      <td>ScproductsListed</td>\n",
       "      <td>0.045138</td>\n",
       "    </tr>\n",
       "    <tr>\n",
       "      <td>civilityGenderId</td>\n",
       "      <td>0.042661</td>\n",
       "    </tr>\n",
       "    <tr>\n",
       "      <td>hasIosApp</td>\n",
       "      <td>0.021687</td>\n",
       "    </tr>\n",
       "    <tr>\n",
       "      <td>country_Allemagne</td>\n",
       "      <td>0.013740</td>\n",
       "    </tr>\n",
       "    <tr>\n",
       "      <td>ScsocialNbFollows</td>\n",
       "      <td>0.013010</td>\n",
       "    </tr>\n",
       "    <tr>\n",
       "      <td>hasAnyApp</td>\n",
       "      <td>0.012558</td>\n",
       "    </tr>\n",
       "    <tr>\n",
       "      <td>country_Royaume-Uni</td>\n",
       "      <td>0.011051</td>\n",
       "    </tr>\n",
       "    <tr>\n",
       "      <td>ScproductsPassRate</td>\n",
       "      <td>0.009598</td>\n",
       "    </tr>\n",
       "    <tr>\n",
       "      <td>lang_it</td>\n",
       "      <td>0.008046</td>\n",
       "    </tr>\n",
       "    <tr>\n",
       "      <td>Scseniority</td>\n",
       "      <td>0.007278</td>\n",
       "    </tr>\n",
       "    <tr>\n",
       "      <td>country_Italie</td>\n",
       "      <td>0.006553</td>\n",
       "    </tr>\n",
       "    <tr>\n",
       "      <td>hasProfilePicture</td>\n",
       "      <td>0.005341</td>\n",
       "    </tr>\n",
       "    <tr>\n",
       "      <td>lang_fr</td>\n",
       "      <td>0.004136</td>\n",
       "    </tr>\n",
       "    <tr>\n",
       "      <td>country_Pays-Bas</td>\n",
       "      <td>0.002472</td>\n",
       "    </tr>\n",
       "    <tr>\n",
       "      <td>country_Etats-Unis</td>\n",
       "      <td>0.002347</td>\n",
       "    </tr>\n",
       "    <tr>\n",
       "      <td>lang_de</td>\n",
       "      <td>0.001394</td>\n",
       "    </tr>\n",
       "    <tr>\n",
       "      <td>country_Hong Kong</td>\n",
       "      <td>0.000574</td>\n",
       "    </tr>\n",
       "    <tr>\n",
       "      <td>country_Canada</td>\n",
       "      <td>0.000472</td>\n",
       "    </tr>\n",
       "    <tr>\n",
       "      <td>country_Antilles néerlandaises</td>\n",
       "      <td>0.000000</td>\n",
       "    </tr>\n",
       "    <tr>\n",
       "      <td>country_République tchèque</td>\n",
       "      <td>0.000000</td>\n",
       "    </tr>\n",
       "    <tr>\n",
       "      <td>country_République centrafricaine</td>\n",
       "      <td>0.000000</td>\n",
       "    </tr>\n",
       "    <tr>\n",
       "      <td>country_République dominicaine</td>\n",
       "      <td>0.000000</td>\n",
       "    </tr>\n",
       "    <tr>\n",
       "      <td>country_Saint Kitts et Nevis</td>\n",
       "      <td>0.000000</td>\n",
       "    </tr>\n",
       "    <tr>\n",
       "      <td>country_Rwanda</td>\n",
       "      <td>0.000000</td>\n",
       "    </tr>\n",
       "    <tr>\n",
       "      <td>country_Russie</td>\n",
       "      <td>0.000000</td>\n",
       "    </tr>\n",
       "    <tr>\n",
       "      <td>country_Antarctique</td>\n",
       "      <td>0.000000</td>\n",
       "    </tr>\n",
       "    <tr>\n",
       "      <td>country_Réunion</td>\n",
       "      <td>0.000000</td>\n",
       "    </tr>\n",
       "    <tr>\n",
       "      <td>country_Samoa</td>\n",
       "      <td>0.000000</td>\n",
       "    </tr>\n",
       "    <tr>\n",
       "      <td>country_Saint Vincent et les Grenadines</td>\n",
       "      <td>0.000000</td>\n",
       "    </tr>\n",
       "    <tr>\n",
       "      <td>country_Sainte Lucie</td>\n",
       "      <td>0.000000</td>\n",
       "    </tr>\n",
       "    <tr>\n",
       "      <td>country_Qatar</td>\n",
       "      <td>0.000000</td>\n",
       "    </tr>\n",
       "    <tr>\n",
       "      <td>country_Samoa américaines</td>\n",
       "      <td>0.000000</td>\n",
       "    </tr>\n",
       "    <tr>\n",
       "      <td>country_Serbie</td>\n",
       "      <td>0.000000</td>\n",
       "    </tr>\n",
       "    <tr>\n",
       "      <td>country_Singapour</td>\n",
       "      <td>0.000000</td>\n",
       "    </tr>\n",
       "    <tr>\n",
       "      <td>country_Slovaquie</td>\n",
       "      <td>0.000000</td>\n",
       "    </tr>\n",
       "  </tbody>\n",
       "</table>\n",
       "</div>"
      ],
      "text/plain": [
       "                                         Coefficient\n",
       "ScproductsWished                            0.276850\n",
       "ScSocialNbFollowers                         0.212661\n",
       "ScdaysSinceLastLogin                        0.194245\n",
       "ScsocialProductsLiked                       0.097570\n",
       "ScproductsSold                              0.045731\n",
       "ScproductsListed                            0.045138\n",
       "civilityGenderId                            0.042661\n",
       "hasIosApp                                   0.021687\n",
       "country_Allemagne                           0.013740\n",
       "ScsocialNbFollows                           0.013010\n",
       "hasAnyApp                                   0.012558\n",
       "country_Royaume-Uni                         0.011051\n",
       "ScproductsPassRate                          0.009598\n",
       "lang_it                                     0.008046\n",
       "Scseniority                                 0.007278\n",
       "country_Italie                              0.006553\n",
       "hasProfilePicture                           0.005341\n",
       "lang_fr                                     0.004136\n",
       "country_Pays-Bas                            0.002472\n",
       "country_Etats-Unis                          0.002347\n",
       "lang_de                                     0.001394\n",
       "country_Hong Kong                           0.000574\n",
       "country_Canada                              0.000472\n",
       "country_Antilles néerlandaises              0.000000\n",
       "country_République tchèque                  0.000000\n",
       "country_République centrafricaine           0.000000\n",
       "country_République dominicaine              0.000000\n",
       "country_Saint Kitts et Nevis                0.000000\n",
       "country_Rwanda                              0.000000\n",
       "country_Russie                              0.000000\n",
       "country_Antarctique                         0.000000\n",
       "country_Réunion                             0.000000\n",
       "country_Samoa                               0.000000\n",
       "country_Saint Vincent et les Grenadines     0.000000\n",
       "country_Sainte Lucie                        0.000000\n",
       "country_Qatar                               0.000000\n",
       "country_Samoa américaines                   0.000000\n",
       "country_Serbie                              0.000000\n",
       "country_Singapour                           0.000000\n",
       "country_Slovaquie                           0.000000"
      ]
     },
     "execution_count": 81,
     "metadata": {},
     "output_type": "execute_result"
    }
   ],
   "source": [
    "pd.DataFrame((abs(reg_bestb.coef_)*(Xbuyer_train.std())), Xbuyer_train.columns, columns=['Coefficient']).sort_values(by='Coefficient', ascending= False).head(40)"
   ]
  },
  {
   "cell_type": "markdown",
   "metadata": {},
   "source": [
    "For the buyer models, the Lasso regression results will be used. The linear regression model had similar R-squared scores but the coefficients generated for the top 10 features were absurdly hgih. The grid search results for the buyer dataframe performed with increasing number of features. The best score was gotten when 20 features were selected. The train score of 24.3% and test score of 24% scored way lower than the scores at gotten from Lasso regression. Lasso regression for the buyer dataframe had r-square scores similar to the original buyer linear regression for both train and test datasets . 32.24% score was attained for train dataset using CV and 34.4% for test score with alpha at 0.001. \n",
    "\n",
    "Using the 3 best features from Lasso regression, productsWished had coefficient of 0.277, social number of followers had a score of 0.213 and days since last log in was 0.194. Because of the Lasso regression's inner workings of reducing features that do not contribute much to the performance of the dependent variable, the other features 201 selected from the original 224 features were reduced to 0. \n",
    "\n",
    "As a result, a buyer will likely buy products he has selected as wished products and the freuency of buyer on the platform will contribute to buying products also. Since it is a C2C platform, sellers that a using the application often also are likely to buy products on the platform."
   ]
  },
  {
   "cell_type": "markdown",
   "metadata": {},
   "source": [
    "## HYPOTHESIS TESTING FOR TOP FEATURES FOR BOTH SELLER AND BUYER"
   ]
  },
  {
   "cell_type": "markdown",
   "metadata": {},
   "source": [
    "### SELLERS' TEST"
   ]
  },
  {
   "cell_type": "markdown",
   "metadata": {},
   "source": [
    "Using Spearman's correlation ranking for the top three features for the seller's model\n",
    "\n",
    "Assumptions\n",
    "\n",
    "* Observations in each sample are independent and identically distributed (iid).\n",
    "* Observations in each sample can be ranked.\n",
    "\n",
    "Interpretation\n",
    "\n",
    "H0: the two samples are independent.\n",
    "H1: there is a dependency between the samples."
   ]
  },
  {
   "cell_type": "code",
   "execution_count": 86,
   "metadata": {},
   "outputs": [
    {
     "name": "stdout",
     "output_type": "stream",
     "text": [
      "stat=0.681, p=0.000\n",
      "Probably dependent\n"
     ]
    }
   ],
   "source": [
    "from scipy.stats import spearmanr\n",
    "data1 = Xseller_train['ScproductsPassRate']\n",
    "data2 = yseller_train\n",
    "stat, p = spearmanr(data1, data2)\n",
    "print('stat=%.3f, p=%.3f' % (stat, p))\n",
    "if p > 0.05:\n",
    "\tprint('Probably independent')\n",
    "else:\n",
    "\tprint('Probably dependent')"
   ]
  },
  {
   "cell_type": "code",
   "execution_count": 87,
   "metadata": {},
   "outputs": [
    {
     "name": "stdout",
     "output_type": "stream",
     "text": [
      "stat=0.557, p=0.000\n",
      "Probably dependent\n"
     ]
    }
   ],
   "source": [
    "from scipy.stats import spearmanr\n",
    "data1 = Xseller_train['ScproductsListed']\n",
    "data2 = yseller_train\n",
    "stat, p = spearmanr(data1, data2)\n",
    "print('stat=%.3f, p=%.3f' % (stat, p))\n",
    "if p > 0.05:\n",
    "\tprint('Probably independent')\n",
    "else:\n",
    "\tprint('Probably dependent')"
   ]
  },
  {
   "cell_type": "code",
   "execution_count": 88,
   "metadata": {},
   "outputs": [
    {
     "name": "stdout",
     "output_type": "stream",
     "text": [
      "stat=0.325, p=0.000\n",
      "Probably dependent\n"
     ]
    }
   ],
   "source": [
    "from scipy.stats import spearmanr\n",
    "data1 = Xseller_train['ScSocialNbFollowers']\n",
    "data2 = yseller_train\n",
    "stat, p = spearmanr(data1, data2)\n",
    "print('stat=%.3f, p=%.3f' % (stat, p))\n",
    "if p > 0.05:\n",
    "\tprint('Probably independent')\n",
    "else:\n",
    "\tprint('Probably dependent')"
   ]
  },
  {
   "cell_type": "markdown",
   "metadata": {},
   "source": [
    "The three features (productsPassRate, productsListed & SocialNbFollowers) have been confirmed to have relationships with number of sales generated on the platform."
   ]
  },
  {
   "cell_type": "markdown",
   "metadata": {},
   "source": [
    "## BUYER'S TEST"
   ]
  },
  {
   "cell_type": "markdown",
   "metadata": {},
   "source": [
    "Spearman's correlation rankling will also be used for this hypothesis testing."
   ]
  },
  {
   "cell_type": "code",
   "execution_count": 89,
   "metadata": {},
   "outputs": [
    {
     "name": "stdout",
     "output_type": "stream",
     "text": [
      "stat=0.343, p=0.000\n",
      "Probably dependent\n"
     ]
    }
   ],
   "source": [
    "from scipy.stats import spearmanr\n",
    "data1 = Xbuyer_train['ScproductsWished']\n",
    "data2 = ybuyer_train\n",
    "stat, p = spearmanr(data1, data2)\n",
    "print('stat=%.3f, p=%.3f' % (stat, p))\n",
    "if p > 0.05:\n",
    "\tprint('Probably independent')\n",
    "else:\n",
    "\tprint('Probably dependent')"
   ]
  },
  {
   "cell_type": "code",
   "execution_count": 90,
   "metadata": {},
   "outputs": [
    {
     "name": "stdout",
     "output_type": "stream",
     "text": [
      "stat=0.303, p=0.000\n",
      "Probably dependent\n"
     ]
    }
   ],
   "source": [
    "from scipy.stats import spearmanr\n",
    "data1 = Xbuyer_train['ScSocialNbFollowers']\n",
    "data2 = ybuyer_train\n",
    "stat, p = spearmanr(data1, data2)\n",
    "print('stat=%.3f, p=%.3f' % (stat, p))\n",
    "if p > 0.05:\n",
    "\tprint('Probably independent')\n",
    "else:\n",
    "\tprint('Probably dependent')"
   ]
  },
  {
   "cell_type": "code",
   "execution_count": 91,
   "metadata": {},
   "outputs": [
    {
     "name": "stdout",
     "output_type": "stream",
     "text": [
      "stat=-0.261, p=0.000\n",
      "Probably dependent\n"
     ]
    }
   ],
   "source": [
    "from scipy.stats import spearmanr\n",
    "data1 = Xbuyer_train['ScdaysSinceLastLogin']\n",
    "data2 = ybuyer_train\n",
    "stat, p = spearmanr(data1, data2)\n",
    "print('stat=%.3f, p=%.3f' % (stat, p))\n",
    "if p > 0.05:\n",
    "\tprint('Probably independent')\n",
    "else:\n",
    "\tprint('Probably dependent')"
   ]
  },
  {
   "cell_type": "markdown",
   "metadata": {},
   "source": [
    "The three features (productsWished, daysSinceLastLogin & SocialNbFollowers) have been confirmed to have relationships with predicting if a user can will buy on the platform or not."
   ]
  },
  {
   "cell_type": "code",
   "execution_count": null,
   "metadata": {},
   "outputs": [],
   "source": []
  }
 ],
 "metadata": {
  "kernelspec": {
   "display_name": "Python 3",
   "language": "python",
   "name": "python3"
  },
  "language_info": {
   "codemirror_mode": {
    "name": "ipython",
    "version": 3
   },
   "file_extension": ".py",
   "mimetype": "text/x-python",
   "name": "python",
   "nbconvert_exporter": "python",
   "pygments_lexer": "ipython3",
   "version": "3.7.4"
  }
 },
 "nbformat": 4,
 "nbformat_minor": 2
}
